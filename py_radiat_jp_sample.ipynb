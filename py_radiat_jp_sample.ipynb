{
  "nbformat": 4,
  "nbformat_minor": 0,
  "metadata": {
    "colab": {
      "name": "py_radiat_jp_sample.ipynb",
      "provenance": [],
      "collapsed_sections": [],
      "toc_visible": true,
      "authorship_tag": "ABX9TyO+G7EF4d/sB91/HBFA65eV",
      "include_colab_link": true
    },
    "kernelspec": {
      "name": "python3",
      "display_name": "Python 3"
    }
  },
  "cells": [
    {
      "cell_type": "markdown",
      "metadata": {
        "id": "view-in-github",
        "colab_type": "text"
      },
      "source": [
        "<a href=\"https://colab.research.google.com/github/jangcom/radiat_sci/blob/main/py_radiat_jp_sample.ipynb\" target=\"_parent\"><img src=\"https://colab.research.google.com/assets/colab-badge.svg\" alt=\"Open In Colab\"/></a>"
      ]
    },
    {
      "cell_type": "markdown",
      "metadata": {
        "id": "z43bFrPxww9u"
      },
      "source": [
        "---\n",
        "\n",
        "# Pythonで学ぶ放射線科学（サンプル資料）\n",
        "\n",
        "張宰雄（ジャン・ジェウン）\n",
        "\n",
        "- 更新：2020年10月\n",
        "- 作成：2020年09月\n",
        "\n",
        "---"
      ]
    },
    {
      "cell_type": "markdown",
      "metadata": {
        "id": "KvftBr5QBO6B"
      },
      "source": [
        "## 目次\n",
        "\n",
        "1. [はじめに](#はじめに)\n",
        "1. [放射線とは](#放射線とは)\n",
        "1. [預託実効線量](#預託実効線量)\n",
        "1. [放射平衡](#放射平衡)\n",
        "1. [効率曲線](#効率曲線)\n",
        "1. [おわりに](#おわりに)"
      ]
    },
    {
      "cell_type": "markdown",
      "metadata": {
        "id": "_25RaMeFBR2W"
      },
      "source": [
        "## はじめに\n",
        "\n",
        "本ノートブックは、「Pythonで学ぶ放射線科学」のサンプル資料である。本資料で取り上げる例題は、筆者の仮定に基づき作成したものである。"
      ]
    },
    {
      "cell_type": "markdown",
      "metadata": {
        "id": "rgIuwqAKtlpY"
      },
      "source": [
        "### Pythonとは"
      ]
    },
    {
      "cell_type": "markdown",
      "metadata": {
        "id": "S0jyY2Q2uFdS"
      },
      "source": [
        "![python_logo](https://www.python.org/static/community_logos/python-logo.png)\n",
        "\n",
        "- [世界ユーザ数第1位](http://pypl.github.io/PYPL.html)：どこでも通用する\n",
        "- <ins>無料</ins>\n",
        "- <ins>面白い</ins>\n",
        "- 読みやすい（お互いのコードを理解しやすい）\n",
        "- 計算から結果の処理・グラフ作成まで、1か所で実装できる"
      ]
    },
    {
      "cell_type": "markdown",
      "metadata": {
        "id": "ppJV5kBttnVY"
      },
      "source": [
        "### Preamble"
      ]
    },
    {
      "cell_type": "code",
      "metadata": {
        "id": "M5J8LZkMwQjE"
      },
      "source": [
        "import re\n",
        "import numpy as np\n",
        "import scipy.integrate as integrate\n",
        "from scipy.optimize import curve_fit\n",
        "import pandas as pd\n",
        "import matplotlib.pyplot as plt\n",
        "from matplotlib.patches import Polygon\n",
        "from matplotlib.ticker import ScalarFormatter\n",
        "from IPython.display import set_matplotlib_formats\n",
        "from graphviz import Digraph"
      ],
      "execution_count": null,
      "outputs": []
    },
    {
      "cell_type": "code",
      "metadata": {
        "id": "0KKwscJh1S0G"
      },
      "source": [
        "# MPL\n",
        "set_matplotlib_formats('svg')\n",
        "plt.style.use('ggplot')\n",
        "clrs = {\n",
        "    'plot_lc': 'mediumblue',\n",
        "    'poly_ec': 'black',\n",
        "    'poly_fc': 'lightcoral',\n",
        "    'arr': 'mediumblue',\n",
        "}"
      ],
      "execution_count": null,
      "outputs": []
    },
    {
      "cell_type": "code",
      "metadata": {
        "id": "-Em9XcOvRKdS"
      },
      "source": [
        "def decay(a0, dec_const, t):\n",
        "    \"\"\"Return a NumPy array of decay data\"\"\"\n",
        "    return a0 * np.exp(-dec_const * t)"
      ],
      "execution_count": null,
      "outputs": []
    },
    {
      "cell_type": "code",
      "metadata": {
        "id": "H97-osfXbm-N"
      },
      "source": [
        "def get_daughter_act(a10, lambda1, lambda2, b, t,\n",
        "                     a20=0):\n",
        "    \"\"\"Return daughter activity.\"\"\"\n",
        "    part1 = lambda2 / (lambda2 - lambda1)\n",
        "    part2 = a10 * (np.exp(-lambda1 * t) - np.exp(-lambda2 * t))\n",
        "    part3 = a20 * np.exp(-lambda2 * t)\n",
        "    return b * part1 * part2 + part3"
      ],
      "execution_count": null,
      "outputs": []
    },
    {
      "cell_type": "code",
      "metadata": {
        "id": "7yY40bRAwoGF"
      },
      "source": [
        "def plt_act(ax, xdata, ydata,\n",
        "            is_set_xlim=False, xmin=None, xmax=None,\n",
        "            is_set_ylim=False, ymin=None, ymax=None,\n",
        "            xlab='Elapsed time $t$ (y)',\n",
        "            ylab=r'Effective dose rate $\\dot{E}(t)$ (' + u'\\u03bc' + 'Sv/y)',\n",
        "            lab=r'$\\dot{E}(t)$',\n",
        "            lc=clrs['plot_lc'], ls='-', zorder=4):\n",
        "    \"\"\"Plot activity against elapsed time.\"\"\"\n",
        "    # Ticks\n",
        "    ax.set_xlim(0, 60)\n",
        "    if is_set_xlim:\n",
        "        ax.set_xlim(xmin, xmax)\n",
        "    if is_set_ylim:\n",
        "        ax.set_ylim(ymin, ymax)\n",
        "    ax.set_xlabel(xlab)\n",
        "    ax.set_ylabel(ylab)\n",
        "    # Plotting\n",
        "    ax.plot(xdata, ydata, label=lab, color=lc, ls=ls, zorder=zorder)"
      ],
      "execution_count": null,
      "outputs": []
    },
    {
      "cell_type": "code",
      "metadata": {
        "id": "pT6jau6ZGfX6"
      },
      "source": [
        "def ge_eff(x, a, b, c):\n",
        "    \"\"\"Ge detector efficiency\"\"\"\n",
        "    return np.exp(a + b*np.log(x) + c*np.log(x)**2)"
      ],
      "execution_count": null,
      "outputs": []
    },
    {
      "cell_type": "markdown",
      "metadata": {
        "id": "C9SnUkH73i3S"
      },
      "source": [
        "## 放射線とは"
      ]
    },
    {
      "cell_type": "markdown",
      "metadata": {
        "id": "gGOVSZqkzakS"
      },
      "source": [
        "### 放射能と放射線\n",
        "\n",
        "- 放射能：放射線を出す能力\n",
        "- 放射線：運動エネルギーをもって空間を進行する粒子線及び電磁波\n",
        "  - 粒子線の例：α線、陽子線\n",
        "  - 電磁波の例：赤外線、可視光線、紫外線、X線、γ線\n",
        "\n",
        "出典：[エネ百科「原子力・エネルギー図面集」](https://www.ene100.jp/zumen)\n",
        "\n",
        "![預託線量の概念図](https://www.ene100.jp/www/wp-content/uploads/zumen/6-1-1.jpg)\n",
        "\n"
      ]
    },
    {
      "cell_type": "markdown",
      "metadata": {
        "id": "VlH5dYzRiI9V"
      },
      "source": [
        "### 放射線の利用\n",
        "\n",
        "- 病気の診断：レントゲン検査、X線CT検査、PET検査など\n",
        "- 病気の治療：がんの放射線治療、甲状腺亢進症の治療など\n",
        "\n",
        "出典：[エネ百科「原子力・エネルギー図面集」](https://www.ene100.jp/zumen)\n",
        "\n",
        "![預託線量の概念図](https://www.ene100.jp/www/wp-content/uploads/zumen/6-2-5.jpg)"
      ]
    },
    {
      "cell_type": "markdown",
      "metadata": {
        "id": "DJmuwQH1A1nH"
      },
      "source": [
        "## 預託実効線量"
      ]
    },
    {
      "cell_type": "markdown",
      "metadata": {
        "id": "z2IgdIQeCBBH"
      },
      "source": [
        "【例題】\n",
        "20歳の放射線業務従事者が液体状の$^{90}$Srを取扱い中、一部を経口摂取してしまった。ホールボディカウンターを用いて摂取量を測定し、実効線量係数を用いて換算した結果、実効線量率は10nSv/hであることが分かった。預託実効線量はいくらか。ただし、$^{90}$Srの生物学的半減期は45年だと仮定する。"
      ]
    },
    {
      "cell_type": "markdown",
      "metadata": {
        "id": "HvyuYyzJ6aPc"
      },
      "source": [
        "### 手計算で積分する"
      ]
    },
    {
      "cell_type": "markdown",
      "metadata": {
        "id": "jrN3Sbvsvl59"
      },
      "source": [
        "まず、年単位で積分を行うため、10nSv/hを年間実効線量率に変換する。"
      ]
    },
    {
      "cell_type": "markdown",
      "metadata": {
        "id": "5OLcDppSvsek"
      },
      "source": [
        "$\\frac{10\\,\\mathrm{nSv}}{\\mathrm{h}}\n",
        " \\times \\frac{24\\,\\mathrm{h}}{\\mathrm{d}}\n",
        " \\times \\frac{365\\,\\mathrm{d}}{\\mathrm{y}}$\n",
        "\n",
        "この式をPythonコマンドで表して実行すると、次の通りである。"
      ]
    },
    {
      "cell_type": "code",
      "metadata": {
        "id": "O6ecC8Gpw0UH",
        "outputId": "8eceb4a0-248c-4dd6-c377-2e7a14a10136",
        "colab": {
          "base_uri": "https://localhost:8080/",
          "height": 51
        }
      },
      "source": [
        "eff_dose_rate_t0 = 10  # nSv/h\n",
        "eff_dose_rate_t0 *= 24 * 365\n",
        "print('実効線量率：{:,} nSv/y、又は'.format(eff_dose_rate_t0))\n",
        "print('実効線量率：{:.1f} uSv/y'.format(eff_dose_rate_t0 * 1e-3))"
      ],
      "execution_count": null,
      "outputs": [
        {
          "output_type": "stream",
          "text": [
            "実効線量率：87,600 nSv/y、又は\n",
            "実効線量率：87.6 uSv/y\n"
          ],
          "name": "stdout"
        }
      ]
    },
    {
      "cell_type": "markdown",
      "metadata": {
        "id": "RB9xSA4XzBYt"
      },
      "source": [
        "実効線量率$\\dot{E}(t)$は、体内の放射性同位元素が時間$t$とともに指数関数的に減衰することから、次の式で\n",
        "表すことができる。"
      ]
    },
    {
      "cell_type": "markdown",
      "metadata": {
        "id": "wwxfAnE8zIVt"
      },
      "source": [
        "$\\dot{E}(t) = \\dot{E}(0) \\exp(-\\lambda_{\\mathrm{eff}} t)$\n",
        " \n",
        "ここで、$\\lambda_{\\mathrm{eff}}$は次の式で表される実効（有効）壊変定数である。\n",
        "\n",
        "$\\lambda_{\\mathrm{eff}} = \\lambda_{\\mathrm{phy}} + \\lambda_{\\mathrm{bio}}$\n",
        "\n",
        "$\\lambda_{\\mathrm{phy}}$は$^{90}$Srの物理学的半減期$T_{\\mathrm{phy}}=$28.79年を、$\\lambda_{\\mathrm{bio}}$は例題より与えられた$T_{\\mathrm{bio}}=$45年を用い、次の式で計算できる。\n",
        "\n",
        "$\\lambda = \\frac{\\ln(2)}{T}$\n",
        "\n",
        "これは、式$A(t) = A(0) \\exp(-\\lambda t)$を\n",
        "$\\frac{A(t)}{A(0)} = \\exp(-\\lambda t)$に書き直し、\n",
        "放射能$A(t)$が初期放射能$A(0)$の半分になる時刻$t_{1/2}$を$T$と表現した式である。すなわち、\n",
        "\n",
        "$\\begin{align}\n",
        "  \\frac{1}{2} &= \\exp(-\\lambda T) \\\\\n",
        "  -\\ln(2) &= -\\lambda T \\\\\n",
        "  \\therefore \\lambda &= \\frac{\\ln(2)}{T}\n",
        "\\end{align}$\n",
        "\n",
        "から得られた式である。"
      ]
    },
    {
      "cell_type": "markdown",
      "metadata": {
        "id": "B91pKPbekuur"
      },
      "source": [
        "計算結果、"
      ]
    },
    {
      "cell_type": "code",
      "metadata": {
        "id": "cwNfDLnUEsnx",
        "outputId": "bde0696c-f85d-47eb-a3e8-2300cb939136",
        "colab": {
          "base_uri": "https://localhost:8080/",
          "height": 51
        }
      },
      "source": [
        "sr90_half_life_phy = 28.79  # 年\n",
        "sr90_dec_const_phy = np.log(2) / sr90_half_life_phy\n",
        "print('Sr-90の物理学的半減期：{:.1f}年'.format(sr90_half_life_phy))\n",
        "print('Sr-90の物理学的壊変定数：{:.4f}/年'.format(sr90_dec_const_phy))"
      ],
      "execution_count": null,
      "outputs": [
        {
          "output_type": "stream",
          "text": [
            "Sr-90の物理学的半減期：28.8年\n",
            "Sr-90の物理学的壊変定数：0.0241/年\n"
          ],
          "name": "stdout"
        }
      ]
    },
    {
      "cell_type": "code",
      "metadata": {
        "id": "d8iVQkfx1TCd",
        "outputId": "bc88aa85-70a9-4b05-eb8f-c7cf0dc300f4",
        "colab": {
          "base_uri": "https://localhost:8080/",
          "height": 51
        }
      },
      "source": [
        "sr90_half_life_bio = 45  # 年\n",
        "sr90_dec_const_bio = np.log(2) / sr90_half_life_bio\n",
        "print('Sr-90の生物学的半減期：{:.1f}年'.format(sr90_half_life_bio))\n",
        "print('Sr-90の生物学的壊変定数：{:.4f}/年'.format(sr90_dec_const_bio))"
      ],
      "execution_count": null,
      "outputs": [
        {
          "output_type": "stream",
          "text": [
            "Sr-90の生物学的半減期：45.0年\n",
            "Sr-90の生物学的壊変定数：0.0154/年\n"
          ],
          "name": "stdout"
        }
      ]
    },
    {
      "cell_type": "code",
      "metadata": {
        "id": "96FDbp2F0xOO",
        "outputId": "859c5b50-73e9-4bb8-f6be-3c54e1a881bd",
        "colab": {
          "base_uri": "https://localhost:8080/",
          "height": 51
        }
      },
      "source": [
        "sr90_dec_const_eff = sr90_dec_const_phy + sr90_dec_const_bio\n",
        "sr90_half_life_eff = np.log(2) / sr90_dec_const_eff\n",
        "print('Sr-90の実効半減期：{:.1f}年'.format(sr90_half_life_eff))\n",
        "print('Sr-90の実効壊変定数：{:.4f}/年'.format(sr90_dec_const_eff))"
      ],
      "execution_count": null,
      "outputs": [
        {
          "output_type": "stream",
          "text": [
            "Sr-90の実効半減期：17.6年\n",
            "Sr-90の実効壊変定数：0.0395/年\n"
          ],
          "name": "stdout"
        }
      ]
    },
    {
      "cell_type": "markdown",
      "metadata": {
        "id": "_BKQCYHIFPr3"
      },
      "source": [
        "が得られる。"
      ]
    },
    {
      "cell_type": "markdown",
      "metadata": {
        "id": "7VEBZtv-FOHo"
      },
      "source": [
        "次に、実効線量率を時間の関数としてデータ化する。"
      ]
    },
    {
      "cell_type": "code",
      "metadata": {
        "id": "nUiJRAuMxl46",
        "outputId": "dabf3f0d-62ac-4dad-b919-2d5f7e9d8ee6",
        "colab": {
          "base_uri": "https://localhost:8080/",
          "height": 440
        }
      },
      "source": [
        "t = np.arange(76)  # 表示する経過時間：0年から75年まで\n",
        "eff_dose_rate = decay(eff_dose_rate_t0, sr90_dec_const_eff, t)\n",
        "df = pd.DataFrame({'時間[年]': t,\n",
        "                   '実効線量率[nSv/y]': eff_dose_rate,\n",
        "                   '実効線量率[uSv/y]': eff_dose_rate * 1e-3})\n",
        "df"
      ],
      "execution_count": null,
      "outputs": [
        {
          "output_type": "execute_result",
          "data": {
            "text/html": [
              "<div>\n",
              "<style scoped>\n",
              "    .dataframe tbody tr th:only-of-type {\n",
              "        vertical-align: middle;\n",
              "    }\n",
              "\n",
              "    .dataframe tbody tr th {\n",
              "        vertical-align: top;\n",
              "    }\n",
              "\n",
              "    .dataframe thead th {\n",
              "        text-align: right;\n",
              "    }\n",
              "</style>\n",
              "<table border=\"1\" class=\"dataframe\">\n",
              "  <thead>\n",
              "    <tr style=\"text-align: right;\">\n",
              "      <th></th>\n",
              "      <th>時間[年]</th>\n",
              "      <th>実効線量率[nSv/y]</th>\n",
              "      <th>実効線量率[uSv/y]</th>\n",
              "    </tr>\n",
              "  </thead>\n",
              "  <tbody>\n",
              "    <tr>\n",
              "      <th>0</th>\n",
              "      <td>0</td>\n",
              "      <td>87600.000000</td>\n",
              "      <td>87.600000</td>\n",
              "    </tr>\n",
              "    <tr>\n",
              "      <th>1</th>\n",
              "      <td>1</td>\n",
              "      <td>84208.996061</td>\n",
              "      <td>84.208996</td>\n",
              "    </tr>\n",
              "    <tr>\n",
              "      <th>2</th>\n",
              "      <td>2</td>\n",
              "      <td>80949.258191</td>\n",
              "      <td>80.949258</td>\n",
              "    </tr>\n",
              "    <tr>\n",
              "      <th>3</th>\n",
              "      <td>3</td>\n",
              "      <td>77815.705070</td>\n",
              "      <td>77.815705</td>\n",
              "    </tr>\n",
              "    <tr>\n",
              "      <th>4</th>\n",
              "      <td>4</td>\n",
              "      <td>74803.452074</td>\n",
              "      <td>74.803452</td>\n",
              "    </tr>\n",
              "    <tr>\n",
              "      <th>...</th>\n",
              "      <td>...</td>\n",
              "      <td>...</td>\n",
              "      <td>...</td>\n",
              "    </tr>\n",
              "    <tr>\n",
              "      <th>71</th>\n",
              "      <td>71</td>\n",
              "      <td>5310.865940</td>\n",
              "      <td>5.310866</td>\n",
              "    </tr>\n",
              "    <tr>\n",
              "      <th>72</th>\n",
              "      <td>72</td>\n",
              "      <td>5105.281838</td>\n",
              "      <td>5.105282</td>\n",
              "    </tr>\n",
              "    <tr>\n",
              "      <th>73</th>\n",
              "      <td>73</td>\n",
              "      <td>4907.655916</td>\n",
              "      <td>4.907656</td>\n",
              "    </tr>\n",
              "    <tr>\n",
              "      <th>74</th>\n",
              "      <td>74</td>\n",
              "      <td>4717.680110</td>\n",
              "      <td>4.717680</td>\n",
              "    </tr>\n",
              "    <tr>\n",
              "      <th>75</th>\n",
              "      <td>75</td>\n",
              "      <td>4535.058286</td>\n",
              "      <td>4.535058</td>\n",
              "    </tr>\n",
              "  </tbody>\n",
              "</table>\n",
              "<p>76 rows × 3 columns</p>\n",
              "</div>"
            ],
            "text/plain": [
              "    時間[年]  実効線量率[nSv/y]  実効線量率[uSv/y]\n",
              "0       0  87600.000000     87.600000\n",
              "1       1  84208.996061     84.208996\n",
              "2       2  80949.258191     80.949258\n",
              "3       3  77815.705070     77.815705\n",
              "4       4  74803.452074     74.803452\n",
              "..    ...           ...           ...\n",
              "71     71   5310.865940      5.310866\n",
              "72     72   5105.281838      5.105282\n",
              "73     73   4907.655916      4.907656\n",
              "74     74   4717.680110      4.717680\n",
              "75     75   4535.058286      4.535058\n",
              "\n",
              "[76 rows x 3 columns]"
            ]
          },
          "metadata": {
            "tags": []
          },
          "execution_count": 10
        }
      ]
    },
    {
      "cell_type": "markdown",
      "metadata": {
        "id": "h97BHdxpy6As"
      },
      "source": [
        "続いて、以下の式を用いて預託実効線量を計算する。\n",
        "\n",
        "$E(\\tau) = \\int_{t_{0}}^{t_{0} + \\tau} \\dot{E}(t) \\mathrm{d}t$\n",
        "\n",
        "成人の場合、摂取時から50年間の実効線量率を積算した値を、当該年度の実効線量とする。したがって、区間[0,50]で定積分を行う。"
      ]
    },
    {
      "cell_type": "markdown",
      "metadata": {
        "id": "4ZeQYay93yHG"
      },
      "source": [
        "積分結果\n",
        "\n",
        "$$\n",
        "\\begin{align}\n",
        "  E(50)\n",
        "  &= \\int_{0}^{50}\n",
        "    [\\dot{E}(0) \\exp(-\\lambda_{\\mathrm{eff}} t)]\n",
        "  \\mathrm{d}t \\\\\n",
        "  &= -\\frac{\\dot{E}(0)}{\\lambda_{\\mathrm{eff}}}\n",
        "  [\\exp(-\\lambda_{\\mathrm{eff}} t)]_{0}^{50} \\\\\n",
        "  &= \\frac{\\dot{E}(0)}{\\lambda_{\\mathrm{eff}}}\n",
        "  [\\exp(-\\lambda_{\\mathrm{eff}} t)]_{50}^{0}\n",
        "\\end{align}\n",
        "$$"
      ]
    },
    {
      "cell_type": "markdown",
      "metadata": {
        "id": "9gXkZJ1EIrh4"
      },
      "source": [
        "積分結果の演算を行う。"
      ]
    },
    {
      "cell_type": "code",
      "metadata": {
        "id": "hCs1UfP367y0",
        "outputId": "764ba6ad-773a-402f-fec4-cdd1741cfbcc",
        "colab": {
          "base_uri": "https://localhost:8080/",
          "height": 51
        }
      },
      "source": [
        "e0 = df.loc[0, '実効線量率[nSv/y]']\n",
        "t0 = 0\n",
        "tau1 = 50\n",
        "committed_eff_dose_in_nSv = (e0 / sr90_dec_const_eff\n",
        "                             * (1 - np.exp(-sr90_dec_const_eff * tau1)))\n",
        "committed_eff_dose_in_uSv = committed_eff_dose_in_nSv*1e-3\n",
        "committed_eff_dose_in_mSv = committed_eff_dose_in_nSv*1e-6\n",
        "print('預託実効線量：{:,.1f} nSv、又は'.format(committed_eff_dose_in_nSv))\n",
        "print('預託実効線量：{:,.1f} mSv'.format(committed_eff_dose_in_mSv))"
      ],
      "execution_count": null,
      "outputs": [
        {
          "output_type": "stream",
          "text": [
            "預託実効線量：1,910,672.1 nSv、又は\n",
            "預託実効線量：1.9 mSv\n"
          ],
          "name": "stdout"
        }
      ]
    },
    {
      "cell_type": "markdown",
      "metadata": {
        "id": "ca-iDAU98cIw"
      },
      "source": [
        "計算結果をグラフで表す。"
      ]
    },
    {
      "cell_type": "code",
      "metadata": {
        "id": "37MSV1Swx1rf",
        "outputId": "25ae9a44-a3bd-44bf-9144-7aea6eb268e8",
        "colab": {
          "base_uri": "https://localhost:8080/",
          "height": 441
        }
      },
      "source": [
        "fig, axs = plt.subplots(nrows=1, ncols=2, figsize=(9, 4))\n",
        "poly_attrs = {\n",
        "    'alpha': 0.75,\n",
        "    'ec': clrs['poly_ec'],\n",
        "    'fc': clrs['poly_fc'],\n",
        "    'hatch': '||',\n",
        "    'ls': '--',\n",
        "    'lw': 1.25,\n",
        "    'zorder': 3,\n",
        "}\n",
        "arr_props = {\n",
        "    'arrowstyle': '-|>',\n",
        "    'color': clrs['arr'],\n",
        "    'shrinkA': 0,\n",
        "    'shrinkB': 0,\n",
        "}\n",
        "\n",
        "#\n",
        "# サブプロット1\n",
        "#\n",
        "it1 = np.linspace(t0, tau1)\n",
        "ie1 = decay(eff_dose_rate_t0*1e-3,  # nSv/y -> uSv/y\n",
        "            sr90_dec_const_eff, it1)\n",
        "verts1 = [(t0, 0), *zip(it1, ie1), (tau1, 0)]  # 多角形の頂点（x,y）のリスト\n",
        "\n",
        "# Area Under the Curveを表示\n",
        "poly1 = Polygon(verts1, **poly_attrs)\n",
        "axs[0].add_patch(poly1)\n",
        "lab = (r'$\\int_{0}^{50}'\n",
        "       + r'\\dot{E}(t)\\mathrm{d}t$'\n",
        "       + ' = {:.1f} mSv'.format(committed_eff_dose_in_mSv))\n",
        "axs[0].annotate(lab,\n",
        "                xy=(20, 30), xytext=(20, 60), textcoords='offset points',\n",
        "                arrowprops=arr_props,\n",
        "                va='center', fontsize=12)\n",
        "\n",
        "# プロットする\n",
        "plt_act(axs[0], t, eff_dose_rate*1e-3,  # nSv/y -> uSv/y\n",
        "        is_set_ylim=True, ymin=0, ymax=100)\n",
        "axs[0].legend()\n",
        "\n",
        "#\n",
        "# サブプロット2\n",
        "#\n",
        "tau2 = 1  # 1年まで積分\n",
        "it2 = np.linspace(t0, tau2, num=2)\n",
        "ie2 = np.repeat(committed_eff_dose_in_uSv, 2)\n",
        "verts2 = [(t0, 0), *zip(it2, ie2), (tau2, 0)]  # 多角形の頂点（x,y）のリスト\n",
        "\n",
        "# Area Under the Curveを表示\n",
        "poly2 = Polygon(verts2, **poly_attrs)\n",
        "axs[1].add_patch(poly2)\n",
        "axs[1].annotate(lab,\n",
        "                xy=(tau2, 950), xytext=(30, 0), textcoords='offset points',\n",
        "                arrowprops=arr_props,\n",
        "                va='center', fontsize=12)\n",
        "axs[1].annotate('1 y',\n",
        "                xy=(tau2, 0), xytext=(30, 30), textcoords='offset points',\n",
        "                arrowprops=arr_props,\n",
        "                va='center', fontsize=12)\n",
        "\n",
        "# プロットする\n",
        "plt_act(axs[1], t, eff_dose_rate*1e-3,  # nSv/y -> uSv/y\n",
        "        is_set_ylim=True, ymin=0, ymax=2.0e3)\n",
        "axs[1].legend()\n",
        "\n",
        "# ポスト処理\n",
        "fig.suptitle('Calculation of committed effective dose',\n",
        "             y=1.05, fontsize=12)\n",
        "fig.tight_layout()"
      ],
      "execution_count": null,
      "outputs": [
        {
          "output_type": "display_data",
          "data": {
            "text/plain": [
              "<Figure size 648x288 with 2 Axes>"
            ],
            "image/svg+xml": "<?xml version=\"1.0\" encoding=\"utf-8\" standalone=\"no\"?>\n<!DOCTYPE svg PUBLIC \"-//W3C//DTD SVG 1.1//EN\"\n  \"http://www.w3.org/Graphics/SVG/1.1/DTD/svg11.dtd\">\n<!-- Created with matplotlib (https://matplotlib.org/) -->\n<svg height=\"300.318125pt\" version=\"1.1\" viewBox=\"0 0 636.818125 300.318125\" width=\"636.818125pt\" xmlns=\"http://www.w3.org/2000/svg\" xmlns:xlink=\"http://www.w3.org/1999/xlink\">\n <defs>\n  <style type=\"text/css\">\n*{stroke-linecap:butt;stroke-linejoin:round;}\n  </style>\n </defs>\n <g id=\"figure_1\">\n  <g id=\"patch_1\">\n   <path d=\"M -0 300.318125 \nL 636.818125 300.318125 \nL 636.818125 0 \nL -0 0 \nz\n\" style=\"fill:#ffffff;\"/>\n  </g>\n  <g id=\"axes_1\">\n   <g id=\"patch_2\">\n    <path d=\"M 52.5275 260.8 \nL 301.405625 260.8 \nL 301.405625 36.4 \nL 52.5275 36.4 \nz\n\" style=\"fill:#e5e5e5;\"/>\n   </g>\n   <g id=\"matplotlib.axis_1\">\n    <g id=\"xtick_1\">\n     <g id=\"line2d_1\">\n      <path clip-path=\"url(#p3861eb27ac)\" d=\"M 52.5275 260.8 \nL 52.5275 36.4 \n\" style=\"fill:none;stroke:#ffffff;stroke-linecap:square;stroke-width:0.8;\"/>\n     </g>\n     <g id=\"line2d_2\">\n      <defs>\n       <path d=\"M 0 0 \nL 0 3.5 \n\" id=\"mdba81f13b4\" style=\"stroke:#555555;stroke-width:0.8;\"/>\n      </defs>\n      <g>\n       <use style=\"fill:#555555;stroke:#555555;stroke-width:0.8;\" x=\"52.5275\" xlink:href=\"#mdba81f13b4\" y=\"260.8\"/>\n      </g>\n     </g>\n     <g id=\"text_1\">\n      <!-- 0 -->\n      <defs>\n       <path d=\"M 31.78125 66.40625 \nQ 24.171875 66.40625 20.328125 58.90625 \nQ 16.5 51.421875 16.5 36.375 \nQ 16.5 21.390625 20.328125 13.890625 \nQ 24.171875 6.390625 31.78125 6.390625 \nQ 39.453125 6.390625 43.28125 13.890625 \nQ 47.125 21.390625 47.125 36.375 \nQ 47.125 51.421875 43.28125 58.90625 \nQ 39.453125 66.40625 31.78125 66.40625 \nz\nM 31.78125 74.21875 \nQ 44.046875 74.21875 50.515625 64.515625 \nQ 56.984375 54.828125 56.984375 36.375 \nQ 56.984375 17.96875 50.515625 8.265625 \nQ 44.046875 -1.421875 31.78125 -1.421875 \nQ 19.53125 -1.421875 13.0625 8.265625 \nQ 6.59375 17.96875 6.59375 36.375 \nQ 6.59375 54.828125 13.0625 64.515625 \nQ 19.53125 74.21875 31.78125 74.21875 \nz\n\" id=\"DejaVuSans-48\"/>\n      </defs>\n      <g style=\"fill:#555555;\" transform=\"translate(49.34625 275.398438)scale(0.1 -0.1)\">\n       <use xlink:href=\"#DejaVuSans-48\"/>\n      </g>\n     </g>\n    </g>\n    <g id=\"xtick_2\">\n     <g id=\"line2d_3\">\n      <path clip-path=\"url(#p3861eb27ac)\" d=\"M 94.007187 260.8 \nL 94.007187 36.4 \n\" style=\"fill:none;stroke:#ffffff;stroke-linecap:square;stroke-width:0.8;\"/>\n     </g>\n     <g id=\"line2d_4\">\n      <g>\n       <use style=\"fill:#555555;stroke:#555555;stroke-width:0.8;\" x=\"94.007187\" xlink:href=\"#mdba81f13b4\" y=\"260.8\"/>\n      </g>\n     </g>\n     <g id=\"text_2\">\n      <!-- 10 -->\n      <defs>\n       <path d=\"M 12.40625 8.296875 \nL 28.515625 8.296875 \nL 28.515625 63.921875 \nL 10.984375 60.40625 \nL 10.984375 69.390625 \nL 28.421875 72.90625 \nL 38.28125 72.90625 \nL 38.28125 8.296875 \nL 54.390625 8.296875 \nL 54.390625 0 \nL 12.40625 0 \nz\n\" id=\"DejaVuSans-49\"/>\n      </defs>\n      <g style=\"fill:#555555;\" transform=\"translate(87.644687 275.398438)scale(0.1 -0.1)\">\n       <use xlink:href=\"#DejaVuSans-49\"/>\n       <use x=\"63.623047\" xlink:href=\"#DejaVuSans-48\"/>\n      </g>\n     </g>\n    </g>\n    <g id=\"xtick_3\">\n     <g id=\"line2d_5\">\n      <path clip-path=\"url(#p3861eb27ac)\" d=\"M 135.486875 260.8 \nL 135.486875 36.4 \n\" style=\"fill:none;stroke:#ffffff;stroke-linecap:square;stroke-width:0.8;\"/>\n     </g>\n     <g id=\"line2d_6\">\n      <g>\n       <use style=\"fill:#555555;stroke:#555555;stroke-width:0.8;\" x=\"135.486875\" xlink:href=\"#mdba81f13b4\" y=\"260.8\"/>\n      </g>\n     </g>\n     <g id=\"text_3\">\n      <!-- 20 -->\n      <defs>\n       <path d=\"M 19.1875 8.296875 \nL 53.609375 8.296875 \nL 53.609375 0 \nL 7.328125 0 \nL 7.328125 8.296875 \nQ 12.9375 14.109375 22.625 23.890625 \nQ 32.328125 33.6875 34.8125 36.53125 \nQ 39.546875 41.84375 41.421875 45.53125 \nQ 43.3125 49.21875 43.3125 52.78125 \nQ 43.3125 58.59375 39.234375 62.25 \nQ 35.15625 65.921875 28.609375 65.921875 \nQ 23.96875 65.921875 18.8125 64.3125 \nQ 13.671875 62.703125 7.8125 59.421875 \nL 7.8125 69.390625 \nQ 13.765625 71.78125 18.9375 73 \nQ 24.125 74.21875 28.421875 74.21875 \nQ 39.75 74.21875 46.484375 68.546875 \nQ 53.21875 62.890625 53.21875 53.421875 \nQ 53.21875 48.921875 51.53125 44.890625 \nQ 49.859375 40.875 45.40625 35.40625 \nQ 44.1875 33.984375 37.640625 27.21875 \nQ 31.109375 20.453125 19.1875 8.296875 \nz\n\" id=\"DejaVuSans-50\"/>\n      </defs>\n      <g style=\"fill:#555555;\" transform=\"translate(129.124375 275.398438)scale(0.1 -0.1)\">\n       <use xlink:href=\"#DejaVuSans-50\"/>\n       <use x=\"63.623047\" xlink:href=\"#DejaVuSans-48\"/>\n      </g>\n     </g>\n    </g>\n    <g id=\"xtick_4\">\n     <g id=\"line2d_7\">\n      <path clip-path=\"url(#p3861eb27ac)\" d=\"M 176.966562 260.8 \nL 176.966562 36.4 \n\" style=\"fill:none;stroke:#ffffff;stroke-linecap:square;stroke-width:0.8;\"/>\n     </g>\n     <g id=\"line2d_8\">\n      <g>\n       <use style=\"fill:#555555;stroke:#555555;stroke-width:0.8;\" x=\"176.966562\" xlink:href=\"#mdba81f13b4\" y=\"260.8\"/>\n      </g>\n     </g>\n     <g id=\"text_4\">\n      <!-- 30 -->\n      <defs>\n       <path d=\"M 40.578125 39.3125 \nQ 47.65625 37.796875 51.625 33 \nQ 55.609375 28.21875 55.609375 21.1875 \nQ 55.609375 10.40625 48.1875 4.484375 \nQ 40.765625 -1.421875 27.09375 -1.421875 \nQ 22.515625 -1.421875 17.65625 -0.515625 \nQ 12.796875 0.390625 7.625 2.203125 \nL 7.625 11.71875 \nQ 11.71875 9.328125 16.59375 8.109375 \nQ 21.484375 6.890625 26.8125 6.890625 \nQ 36.078125 6.890625 40.9375 10.546875 \nQ 45.796875 14.203125 45.796875 21.1875 \nQ 45.796875 27.640625 41.28125 31.265625 \nQ 36.765625 34.90625 28.71875 34.90625 \nL 20.21875 34.90625 \nL 20.21875 43.015625 \nL 29.109375 43.015625 \nQ 36.375 43.015625 40.234375 45.921875 \nQ 44.09375 48.828125 44.09375 54.296875 \nQ 44.09375 59.90625 40.109375 62.90625 \nQ 36.140625 65.921875 28.71875 65.921875 \nQ 24.65625 65.921875 20.015625 65.03125 \nQ 15.375 64.15625 9.8125 62.3125 \nL 9.8125 71.09375 \nQ 15.4375 72.65625 20.34375 73.4375 \nQ 25.25 74.21875 29.59375 74.21875 \nQ 40.828125 74.21875 47.359375 69.109375 \nQ 53.90625 64.015625 53.90625 55.328125 \nQ 53.90625 49.265625 50.4375 45.09375 \nQ 46.96875 40.921875 40.578125 39.3125 \nz\n\" id=\"DejaVuSans-51\"/>\n      </defs>\n      <g style=\"fill:#555555;\" transform=\"translate(170.604062 275.398438)scale(0.1 -0.1)\">\n       <use xlink:href=\"#DejaVuSans-51\"/>\n       <use x=\"63.623047\" xlink:href=\"#DejaVuSans-48\"/>\n      </g>\n     </g>\n    </g>\n    <g id=\"xtick_5\">\n     <g id=\"line2d_9\">\n      <path clip-path=\"url(#p3861eb27ac)\" d=\"M 218.44625 260.8 \nL 218.44625 36.4 \n\" style=\"fill:none;stroke:#ffffff;stroke-linecap:square;stroke-width:0.8;\"/>\n     </g>\n     <g id=\"line2d_10\">\n      <g>\n       <use style=\"fill:#555555;stroke:#555555;stroke-width:0.8;\" x=\"218.44625\" xlink:href=\"#mdba81f13b4\" y=\"260.8\"/>\n      </g>\n     </g>\n     <g id=\"text_5\">\n      <!-- 40 -->\n      <defs>\n       <path d=\"M 37.796875 64.3125 \nL 12.890625 25.390625 \nL 37.796875 25.390625 \nz\nM 35.203125 72.90625 \nL 47.609375 72.90625 \nL 47.609375 25.390625 \nL 58.015625 25.390625 \nL 58.015625 17.1875 \nL 47.609375 17.1875 \nL 47.609375 0 \nL 37.796875 0 \nL 37.796875 17.1875 \nL 4.890625 17.1875 \nL 4.890625 26.703125 \nz\n\" id=\"DejaVuSans-52\"/>\n      </defs>\n      <g style=\"fill:#555555;\" transform=\"translate(212.08375 275.398438)scale(0.1 -0.1)\">\n       <use xlink:href=\"#DejaVuSans-52\"/>\n       <use x=\"63.623047\" xlink:href=\"#DejaVuSans-48\"/>\n      </g>\n     </g>\n    </g>\n    <g id=\"xtick_6\">\n     <g id=\"line2d_11\">\n      <path clip-path=\"url(#p3861eb27ac)\" d=\"M 259.925937 260.8 \nL 259.925937 36.4 \n\" style=\"fill:none;stroke:#ffffff;stroke-linecap:square;stroke-width:0.8;\"/>\n     </g>\n     <g id=\"line2d_12\">\n      <g>\n       <use style=\"fill:#555555;stroke:#555555;stroke-width:0.8;\" x=\"259.925937\" xlink:href=\"#mdba81f13b4\" y=\"260.8\"/>\n      </g>\n     </g>\n     <g id=\"text_6\">\n      <!-- 50 -->\n      <defs>\n       <path d=\"M 10.796875 72.90625 \nL 49.515625 72.90625 \nL 49.515625 64.59375 \nL 19.828125 64.59375 \nL 19.828125 46.734375 \nQ 21.96875 47.46875 24.109375 47.828125 \nQ 26.265625 48.1875 28.421875 48.1875 \nQ 40.625 48.1875 47.75 41.5 \nQ 54.890625 34.8125 54.890625 23.390625 \nQ 54.890625 11.625 47.5625 5.09375 \nQ 40.234375 -1.421875 26.90625 -1.421875 \nQ 22.3125 -1.421875 17.546875 -0.640625 \nQ 12.796875 0.140625 7.71875 1.703125 \nL 7.71875 11.625 \nQ 12.109375 9.234375 16.796875 8.0625 \nQ 21.484375 6.890625 26.703125 6.890625 \nQ 35.15625 6.890625 40.078125 11.328125 \nQ 45.015625 15.765625 45.015625 23.390625 \nQ 45.015625 31 40.078125 35.4375 \nQ 35.15625 39.890625 26.703125 39.890625 \nQ 22.75 39.890625 18.8125 39.015625 \nQ 14.890625 38.140625 10.796875 36.28125 \nz\n\" id=\"DejaVuSans-53\"/>\n      </defs>\n      <g style=\"fill:#555555;\" transform=\"translate(253.563437 275.398438)scale(0.1 -0.1)\">\n       <use xlink:href=\"#DejaVuSans-53\"/>\n       <use x=\"63.623047\" xlink:href=\"#DejaVuSans-48\"/>\n      </g>\n     </g>\n    </g>\n    <g id=\"xtick_7\">\n     <g id=\"line2d_13\">\n      <path clip-path=\"url(#p3861eb27ac)\" d=\"M 301.405625 260.8 \nL 301.405625 36.4 \n\" style=\"fill:none;stroke:#ffffff;stroke-linecap:square;stroke-width:0.8;\"/>\n     </g>\n     <g id=\"line2d_14\">\n      <g>\n       <use style=\"fill:#555555;stroke:#555555;stroke-width:0.8;\" x=\"301.405625\" xlink:href=\"#mdba81f13b4\" y=\"260.8\"/>\n      </g>\n     </g>\n     <g id=\"text_7\">\n      <!-- 60 -->\n      <defs>\n       <path d=\"M 33.015625 40.375 \nQ 26.375 40.375 22.484375 35.828125 \nQ 18.609375 31.296875 18.609375 23.390625 \nQ 18.609375 15.53125 22.484375 10.953125 \nQ 26.375 6.390625 33.015625 6.390625 \nQ 39.65625 6.390625 43.53125 10.953125 \nQ 47.40625 15.53125 47.40625 23.390625 \nQ 47.40625 31.296875 43.53125 35.828125 \nQ 39.65625 40.375 33.015625 40.375 \nz\nM 52.59375 71.296875 \nL 52.59375 62.3125 \nQ 48.875 64.0625 45.09375 64.984375 \nQ 41.3125 65.921875 37.59375 65.921875 \nQ 27.828125 65.921875 22.671875 59.328125 \nQ 17.53125 52.734375 16.796875 39.40625 \nQ 19.671875 43.65625 24.015625 45.921875 \nQ 28.375 48.1875 33.59375 48.1875 \nQ 44.578125 48.1875 50.953125 41.515625 \nQ 57.328125 34.859375 57.328125 23.390625 \nQ 57.328125 12.15625 50.6875 5.359375 \nQ 44.046875 -1.421875 33.015625 -1.421875 \nQ 20.359375 -1.421875 13.671875 8.265625 \nQ 6.984375 17.96875 6.984375 36.375 \nQ 6.984375 53.65625 15.1875 63.9375 \nQ 23.390625 74.21875 37.203125 74.21875 \nQ 40.921875 74.21875 44.703125 73.484375 \nQ 48.484375 72.75 52.59375 71.296875 \nz\n\" id=\"DejaVuSans-54\"/>\n      </defs>\n      <g style=\"fill:#555555;\" transform=\"translate(295.043125 275.398438)scale(0.1 -0.1)\">\n       <use xlink:href=\"#DejaVuSans-54\"/>\n       <use x=\"63.623047\" xlink:href=\"#DejaVuSans-48\"/>\n      </g>\n     </g>\n    </g>\n    <g id=\"text_8\">\n     <!-- Elapsed time $t$ (y) -->\n     <defs>\n      <path d=\"M 9.8125 72.90625 \nL 55.90625 72.90625 \nL 55.90625 64.59375 \nL 19.671875 64.59375 \nL 19.671875 43.015625 \nL 54.390625 43.015625 \nL 54.390625 34.71875 \nL 19.671875 34.71875 \nL 19.671875 8.296875 \nL 56.78125 8.296875 \nL 56.78125 0 \nL 9.8125 0 \nz\n\" id=\"DejaVuSans-69\"/>\n      <path d=\"M 9.421875 75.984375 \nL 18.40625 75.984375 \nL 18.40625 0 \nL 9.421875 0 \nz\n\" id=\"DejaVuSans-108\"/>\n      <path d=\"M 34.28125 27.484375 \nQ 23.390625 27.484375 19.1875 25 \nQ 14.984375 22.515625 14.984375 16.5 \nQ 14.984375 11.71875 18.140625 8.90625 \nQ 21.296875 6.109375 26.703125 6.109375 \nQ 34.1875 6.109375 38.703125 11.40625 \nQ 43.21875 16.703125 43.21875 25.484375 \nL 43.21875 27.484375 \nz\nM 52.203125 31.203125 \nL 52.203125 0 \nL 43.21875 0 \nL 43.21875 8.296875 \nQ 40.140625 3.328125 35.546875 0.953125 \nQ 30.953125 -1.421875 24.3125 -1.421875 \nQ 15.921875 -1.421875 10.953125 3.296875 \nQ 6 8.015625 6 15.921875 \nQ 6 25.140625 12.171875 29.828125 \nQ 18.359375 34.515625 30.609375 34.515625 \nL 43.21875 34.515625 \nL 43.21875 35.40625 \nQ 43.21875 41.609375 39.140625 45 \nQ 35.0625 48.390625 27.6875 48.390625 \nQ 23 48.390625 18.546875 47.265625 \nQ 14.109375 46.140625 10.015625 43.890625 \nL 10.015625 52.203125 \nQ 14.9375 54.109375 19.578125 55.046875 \nQ 24.21875 56 28.609375 56 \nQ 40.484375 56 46.34375 49.84375 \nQ 52.203125 43.703125 52.203125 31.203125 \nz\n\" id=\"DejaVuSans-97\"/>\n      <path d=\"M 18.109375 8.203125 \nL 18.109375 -20.796875 \nL 9.078125 -20.796875 \nL 9.078125 54.6875 \nL 18.109375 54.6875 \nL 18.109375 46.390625 \nQ 20.953125 51.265625 25.265625 53.625 \nQ 29.59375 56 35.59375 56 \nQ 45.5625 56 51.78125 48.09375 \nQ 58.015625 40.1875 58.015625 27.296875 \nQ 58.015625 14.40625 51.78125 6.484375 \nQ 45.5625 -1.421875 35.59375 -1.421875 \nQ 29.59375 -1.421875 25.265625 0.953125 \nQ 20.953125 3.328125 18.109375 8.203125 \nz\nM 48.6875 27.296875 \nQ 48.6875 37.203125 44.609375 42.84375 \nQ 40.53125 48.484375 33.40625 48.484375 \nQ 26.265625 48.484375 22.1875 42.84375 \nQ 18.109375 37.203125 18.109375 27.296875 \nQ 18.109375 17.390625 22.1875 11.75 \nQ 26.265625 6.109375 33.40625 6.109375 \nQ 40.53125 6.109375 44.609375 11.75 \nQ 48.6875 17.390625 48.6875 27.296875 \nz\n\" id=\"DejaVuSans-112\"/>\n      <path d=\"M 44.28125 53.078125 \nL 44.28125 44.578125 \nQ 40.484375 46.53125 36.375 47.5 \nQ 32.28125 48.484375 27.875 48.484375 \nQ 21.1875 48.484375 17.84375 46.4375 \nQ 14.5 44.390625 14.5 40.28125 \nQ 14.5 37.15625 16.890625 35.375 \nQ 19.28125 33.59375 26.515625 31.984375 \nL 29.59375 31.296875 \nQ 39.15625 29.25 43.1875 25.515625 \nQ 47.21875 21.78125 47.21875 15.09375 \nQ 47.21875 7.46875 41.1875 3.015625 \nQ 35.15625 -1.421875 24.609375 -1.421875 \nQ 20.21875 -1.421875 15.453125 -0.5625 \nQ 10.6875 0.296875 5.421875 2 \nL 5.421875 11.28125 \nQ 10.40625 8.6875 15.234375 7.390625 \nQ 20.0625 6.109375 24.8125 6.109375 \nQ 31.15625 6.109375 34.5625 8.28125 \nQ 37.984375 10.453125 37.984375 14.40625 \nQ 37.984375 18.0625 35.515625 20.015625 \nQ 33.0625 21.96875 24.703125 23.78125 \nL 21.578125 24.515625 \nQ 13.234375 26.265625 9.515625 29.90625 \nQ 5.8125 33.546875 5.8125 39.890625 \nQ 5.8125 47.609375 11.28125 51.796875 \nQ 16.75 56 26.8125 56 \nQ 31.78125 56 36.171875 55.265625 \nQ 40.578125 54.546875 44.28125 53.078125 \nz\n\" id=\"DejaVuSans-115\"/>\n      <path d=\"M 56.203125 29.59375 \nL 56.203125 25.203125 \nL 14.890625 25.203125 \nQ 15.484375 15.921875 20.484375 11.0625 \nQ 25.484375 6.203125 34.421875 6.203125 \nQ 39.59375 6.203125 44.453125 7.46875 \nQ 49.3125 8.734375 54.109375 11.28125 \nL 54.109375 2.78125 \nQ 49.265625 0.734375 44.1875 -0.34375 \nQ 39.109375 -1.421875 33.890625 -1.421875 \nQ 20.796875 -1.421875 13.15625 6.1875 \nQ 5.515625 13.8125 5.515625 26.8125 \nQ 5.515625 40.234375 12.765625 48.109375 \nQ 20.015625 56 32.328125 56 \nQ 43.359375 56 49.78125 48.890625 \nQ 56.203125 41.796875 56.203125 29.59375 \nz\nM 47.21875 32.234375 \nQ 47.125 39.59375 43.09375 43.984375 \nQ 39.0625 48.390625 32.421875 48.390625 \nQ 24.90625 48.390625 20.390625 44.140625 \nQ 15.875 39.890625 15.1875 32.171875 \nz\n\" id=\"DejaVuSans-101\"/>\n      <path d=\"M 45.40625 46.390625 \nL 45.40625 75.984375 \nL 54.390625 75.984375 \nL 54.390625 0 \nL 45.40625 0 \nL 45.40625 8.203125 \nQ 42.578125 3.328125 38.25 0.953125 \nQ 33.9375 -1.421875 27.875 -1.421875 \nQ 17.96875 -1.421875 11.734375 6.484375 \nQ 5.515625 14.40625 5.515625 27.296875 \nQ 5.515625 40.1875 11.734375 48.09375 \nQ 17.96875 56 27.875 56 \nQ 33.9375 56 38.25 53.625 \nQ 42.578125 51.265625 45.40625 46.390625 \nz\nM 14.796875 27.296875 \nQ 14.796875 17.390625 18.875 11.75 \nQ 22.953125 6.109375 30.078125 6.109375 \nQ 37.203125 6.109375 41.296875 11.75 \nQ 45.40625 17.390625 45.40625 27.296875 \nQ 45.40625 37.203125 41.296875 42.84375 \nQ 37.203125 48.484375 30.078125 48.484375 \nQ 22.953125 48.484375 18.875 42.84375 \nQ 14.796875 37.203125 14.796875 27.296875 \nz\n\" id=\"DejaVuSans-100\"/>\n      <path id=\"DejaVuSans-32\"/>\n      <path d=\"M 18.3125 70.21875 \nL 18.3125 54.6875 \nL 36.8125 54.6875 \nL 36.8125 47.703125 \nL 18.3125 47.703125 \nL 18.3125 18.015625 \nQ 18.3125 11.328125 20.140625 9.421875 \nQ 21.96875 7.515625 27.59375 7.515625 \nL 36.8125 7.515625 \nL 36.8125 0 \nL 27.59375 0 \nQ 17.1875 0 13.234375 3.875 \nQ 9.28125 7.765625 9.28125 18.015625 \nL 9.28125 47.703125 \nL 2.6875 47.703125 \nL 2.6875 54.6875 \nL 9.28125 54.6875 \nL 9.28125 70.21875 \nz\n\" id=\"DejaVuSans-116\"/>\n      <path d=\"M 9.421875 54.6875 \nL 18.40625 54.6875 \nL 18.40625 0 \nL 9.421875 0 \nz\nM 9.421875 75.984375 \nL 18.40625 75.984375 \nL 18.40625 64.59375 \nL 9.421875 64.59375 \nz\n\" id=\"DejaVuSans-105\"/>\n      <path d=\"M 52 44.1875 \nQ 55.375 50.25 60.0625 53.125 \nQ 64.75 56 71.09375 56 \nQ 79.640625 56 84.28125 50.015625 \nQ 88.921875 44.046875 88.921875 33.015625 \nL 88.921875 0 \nL 79.890625 0 \nL 79.890625 32.71875 \nQ 79.890625 40.578125 77.09375 44.375 \nQ 74.3125 48.1875 68.609375 48.1875 \nQ 61.625 48.1875 57.5625 43.546875 \nQ 53.515625 38.921875 53.515625 30.90625 \nL 53.515625 0 \nL 44.484375 0 \nL 44.484375 32.71875 \nQ 44.484375 40.625 41.703125 44.40625 \nQ 38.921875 48.1875 33.109375 48.1875 \nQ 26.21875 48.1875 22.15625 43.53125 \nQ 18.109375 38.875 18.109375 30.90625 \nL 18.109375 0 \nL 9.078125 0 \nL 9.078125 54.6875 \nL 18.109375 54.6875 \nL 18.109375 46.1875 \nQ 21.1875 51.21875 25.484375 53.609375 \nQ 29.78125 56 35.6875 56 \nQ 41.65625 56 45.828125 52.96875 \nQ 50 49.953125 52 44.1875 \nz\n\" id=\"DejaVuSans-109\"/>\n      <path d=\"M 42.28125 54.6875 \nL 40.921875 47.703125 \nL 23 47.703125 \nL 17.1875 18.015625 \nQ 16.890625 16.359375 16.75 15.234375 \nQ 16.609375 14.109375 16.609375 13.484375 \nQ 16.609375 10.359375 18.484375 8.9375 \nQ 20.359375 7.515625 24.515625 7.515625 \nL 33.59375 7.515625 \nL 32.078125 0 \nL 23.484375 0 \nQ 15.484375 0 11.546875 3.125 \nQ 7.625 6.25 7.625 12.59375 \nQ 7.625 13.71875 7.765625 15.0625 \nQ 7.90625 16.40625 8.203125 18.015625 \nL 14.015625 47.703125 \nL 6.390625 47.703125 \nL 7.8125 54.6875 \nL 15.28125 54.6875 \nL 18.3125 70.21875 \nL 27.296875 70.21875 \nL 24.3125 54.6875 \nz\n\" id=\"DejaVuSans-Oblique-116\"/>\n      <path d=\"M 31 75.875 \nQ 24.46875 64.65625 21.28125 53.65625 \nQ 18.109375 42.671875 18.109375 31.390625 \nQ 18.109375 20.125 21.3125 9.0625 \nQ 24.515625 -2 31 -13.1875 \nL 23.1875 -13.1875 \nQ 15.875 -1.703125 12.234375 9.375 \nQ 8.59375 20.453125 8.59375 31.390625 \nQ 8.59375 42.28125 12.203125 53.3125 \nQ 15.828125 64.359375 23.1875 75.875 \nz\n\" id=\"DejaVuSans-40\"/>\n      <path d=\"M 32.171875 -5.078125 \nQ 28.375 -14.84375 24.75 -17.8125 \nQ 21.140625 -20.796875 15.09375 -20.796875 \nL 7.90625 -20.796875 \nL 7.90625 -13.28125 \nL 13.1875 -13.28125 \nQ 16.890625 -13.28125 18.9375 -11.515625 \nQ 21 -9.765625 23.484375 -3.21875 \nL 25.09375 0.875 \nL 2.984375 54.6875 \nL 12.5 54.6875 \nL 29.59375 11.921875 \nL 46.6875 54.6875 \nL 56.203125 54.6875 \nz\n\" id=\"DejaVuSans-121\"/>\n      <path d=\"M 8.015625 75.875 \nL 15.828125 75.875 \nQ 23.140625 64.359375 26.78125 53.3125 \nQ 30.421875 42.28125 30.421875 31.390625 \nQ 30.421875 20.453125 26.78125 9.375 \nQ 23.140625 -1.703125 15.828125 -13.1875 \nL 8.015625 -13.1875 \nQ 14.5 -2 17.703125 9.0625 \nQ 20.90625 20.125 20.90625 31.390625 \nQ 20.90625 42.671875 17.703125 53.65625 \nQ 14.5 64.65625 8.015625 75.875 \nz\n\" id=\"DejaVuSans-41\"/>\n     </defs>\n     <g style=\"fill:#555555;\" transform=\"translate(123.506562 290.598125)scale(0.12 -0.12)\">\n      <use transform=\"translate(0 0.015625)\" xlink:href=\"#DejaVuSans-69\"/>\n      <use transform=\"translate(63.183594 0.015625)\" xlink:href=\"#DejaVuSans-108\"/>\n      <use transform=\"translate(90.966797 0.015625)\" xlink:href=\"#DejaVuSans-97\"/>\n      <use transform=\"translate(152.246094 0.015625)\" xlink:href=\"#DejaVuSans-112\"/>\n      <use transform=\"translate(215.722656 0.015625)\" xlink:href=\"#DejaVuSans-115\"/>\n      <use transform=\"translate(267.822266 0.015625)\" xlink:href=\"#DejaVuSans-101\"/>\n      <use transform=\"translate(329.345703 0.015625)\" xlink:href=\"#DejaVuSans-100\"/>\n      <use transform=\"translate(392.822266 0.015625)\" xlink:href=\"#DejaVuSans-32\"/>\n      <use transform=\"translate(424.609375 0.015625)\" xlink:href=\"#DejaVuSans-116\"/>\n      <use transform=\"translate(463.818359 0.015625)\" xlink:href=\"#DejaVuSans-105\"/>\n      <use transform=\"translate(491.601562 0.015625)\" xlink:href=\"#DejaVuSans-109\"/>\n      <use transform=\"translate(589.013672 0.015625)\" xlink:href=\"#DejaVuSans-101\"/>\n      <use transform=\"translate(650.537109 0.015625)\" xlink:href=\"#DejaVuSans-32\"/>\n      <use transform=\"translate(682.324219 0.015625)\" xlink:href=\"#DejaVuSans-Oblique-116\"/>\n      <use transform=\"translate(721.533203 0.015625)\" xlink:href=\"#DejaVuSans-32\"/>\n      <use transform=\"translate(753.320312 0.015625)\" xlink:href=\"#DejaVuSans-40\"/>\n      <use transform=\"translate(792.333984 0.015625)\" xlink:href=\"#DejaVuSans-121\"/>\n      <use transform=\"translate(851.513672 0.015625)\" xlink:href=\"#DejaVuSans-41\"/>\n     </g>\n    </g>\n   </g>\n   <g id=\"matplotlib.axis_2\">\n    <g id=\"ytick_1\">\n     <g id=\"line2d_15\">\n      <path clip-path=\"url(#p3861eb27ac)\" d=\"M 52.5275 260.8 \nL 301.405625 260.8 \n\" style=\"fill:none;stroke:#ffffff;stroke-linecap:square;stroke-width:0.8;\"/>\n     </g>\n     <g id=\"line2d_16\">\n      <defs>\n       <path d=\"M 0 0 \nL -3.5 0 \n\" id=\"m3e7f523734\" style=\"stroke:#555555;stroke-width:0.8;\"/>\n      </defs>\n      <g>\n       <use style=\"fill:#555555;stroke:#555555;stroke-width:0.8;\" x=\"52.5275\" xlink:href=\"#m3e7f523734\" y=\"260.8\"/>\n      </g>\n     </g>\n     <g id=\"text_9\">\n      <!-- 0 -->\n      <g style=\"fill:#555555;\" transform=\"translate(39.165 264.599219)scale(0.1 -0.1)\">\n       <use xlink:href=\"#DejaVuSans-48\"/>\n      </g>\n     </g>\n    </g>\n    <g id=\"ytick_2\">\n     <g id=\"line2d_17\">\n      <path clip-path=\"url(#p3861eb27ac)\" d=\"M 52.5275 215.92 \nL 301.405625 215.92 \n\" style=\"fill:none;stroke:#ffffff;stroke-linecap:square;stroke-width:0.8;\"/>\n     </g>\n     <g id=\"line2d_18\">\n      <g>\n       <use style=\"fill:#555555;stroke:#555555;stroke-width:0.8;\" x=\"52.5275\" xlink:href=\"#m3e7f523734\" y=\"215.92\"/>\n      </g>\n     </g>\n     <g id=\"text_10\">\n      <!-- 20 -->\n      <g style=\"fill:#555555;\" transform=\"translate(32.8025 219.719219)scale(0.1 -0.1)\">\n       <use xlink:href=\"#DejaVuSans-50\"/>\n       <use x=\"63.623047\" xlink:href=\"#DejaVuSans-48\"/>\n      </g>\n     </g>\n    </g>\n    <g id=\"ytick_3\">\n     <g id=\"line2d_19\">\n      <path clip-path=\"url(#p3861eb27ac)\" d=\"M 52.5275 171.04 \nL 301.405625 171.04 \n\" style=\"fill:none;stroke:#ffffff;stroke-linecap:square;stroke-width:0.8;\"/>\n     </g>\n     <g id=\"line2d_20\">\n      <g>\n       <use style=\"fill:#555555;stroke:#555555;stroke-width:0.8;\" x=\"52.5275\" xlink:href=\"#m3e7f523734\" y=\"171.04\"/>\n      </g>\n     </g>\n     <g id=\"text_11\">\n      <!-- 40 -->\n      <g style=\"fill:#555555;\" transform=\"translate(32.8025 174.839219)scale(0.1 -0.1)\">\n       <use xlink:href=\"#DejaVuSans-52\"/>\n       <use x=\"63.623047\" xlink:href=\"#DejaVuSans-48\"/>\n      </g>\n     </g>\n    </g>\n    <g id=\"ytick_4\">\n     <g id=\"line2d_21\">\n      <path clip-path=\"url(#p3861eb27ac)\" d=\"M 52.5275 126.16 \nL 301.405625 126.16 \n\" style=\"fill:none;stroke:#ffffff;stroke-linecap:square;stroke-width:0.8;\"/>\n     </g>\n     <g id=\"line2d_22\">\n      <g>\n       <use style=\"fill:#555555;stroke:#555555;stroke-width:0.8;\" x=\"52.5275\" xlink:href=\"#m3e7f523734\" y=\"126.16\"/>\n      </g>\n     </g>\n     <g id=\"text_12\">\n      <!-- 60 -->\n      <g style=\"fill:#555555;\" transform=\"translate(32.8025 129.959219)scale(0.1 -0.1)\">\n       <use xlink:href=\"#DejaVuSans-54\"/>\n       <use x=\"63.623047\" xlink:href=\"#DejaVuSans-48\"/>\n      </g>\n     </g>\n    </g>\n    <g id=\"ytick_5\">\n     <g id=\"line2d_23\">\n      <path clip-path=\"url(#p3861eb27ac)\" d=\"M 52.5275 81.28 \nL 301.405625 81.28 \n\" style=\"fill:none;stroke:#ffffff;stroke-linecap:square;stroke-width:0.8;\"/>\n     </g>\n     <g id=\"line2d_24\">\n      <g>\n       <use style=\"fill:#555555;stroke:#555555;stroke-width:0.8;\" x=\"52.5275\" xlink:href=\"#m3e7f523734\" y=\"81.28\"/>\n      </g>\n     </g>\n     <g id=\"text_13\">\n      <!-- 80 -->\n      <defs>\n       <path d=\"M 31.78125 34.625 \nQ 24.75 34.625 20.71875 30.859375 \nQ 16.703125 27.09375 16.703125 20.515625 \nQ 16.703125 13.921875 20.71875 10.15625 \nQ 24.75 6.390625 31.78125 6.390625 \nQ 38.8125 6.390625 42.859375 10.171875 \nQ 46.921875 13.96875 46.921875 20.515625 \nQ 46.921875 27.09375 42.890625 30.859375 \nQ 38.875 34.625 31.78125 34.625 \nz\nM 21.921875 38.8125 \nQ 15.578125 40.375 12.03125 44.71875 \nQ 8.5 49.078125 8.5 55.328125 \nQ 8.5 64.0625 14.71875 69.140625 \nQ 20.953125 74.21875 31.78125 74.21875 \nQ 42.671875 74.21875 48.875 69.140625 \nQ 55.078125 64.0625 55.078125 55.328125 \nQ 55.078125 49.078125 51.53125 44.71875 \nQ 48 40.375 41.703125 38.8125 \nQ 48.828125 37.15625 52.796875 32.3125 \nQ 56.78125 27.484375 56.78125 20.515625 \nQ 56.78125 9.90625 50.3125 4.234375 \nQ 43.84375 -1.421875 31.78125 -1.421875 \nQ 19.734375 -1.421875 13.25 4.234375 \nQ 6.78125 9.90625 6.78125 20.515625 \nQ 6.78125 27.484375 10.78125 32.3125 \nQ 14.796875 37.15625 21.921875 38.8125 \nz\nM 18.3125 54.390625 \nQ 18.3125 48.734375 21.84375 45.5625 \nQ 25.390625 42.390625 31.78125 42.390625 \nQ 38.140625 42.390625 41.71875 45.5625 \nQ 45.3125 48.734375 45.3125 54.390625 \nQ 45.3125 60.0625 41.71875 63.234375 \nQ 38.140625 66.40625 31.78125 66.40625 \nQ 25.390625 66.40625 21.84375 63.234375 \nQ 18.3125 60.0625 18.3125 54.390625 \nz\n\" id=\"DejaVuSans-56\"/>\n      </defs>\n      <g style=\"fill:#555555;\" transform=\"translate(32.8025 85.079219)scale(0.1 -0.1)\">\n       <use xlink:href=\"#DejaVuSans-56\"/>\n       <use x=\"63.623047\" xlink:href=\"#DejaVuSans-48\"/>\n      </g>\n     </g>\n    </g>\n    <g id=\"ytick_6\">\n     <g id=\"line2d_25\">\n      <path clip-path=\"url(#p3861eb27ac)\" d=\"M 52.5275 36.4 \nL 301.405625 36.4 \n\" style=\"fill:none;stroke:#ffffff;stroke-linecap:square;stroke-width:0.8;\"/>\n     </g>\n     <g id=\"line2d_26\">\n      <g>\n       <use style=\"fill:#555555;stroke:#555555;stroke-width:0.8;\" x=\"52.5275\" xlink:href=\"#m3e7f523734\" y=\"36.4\"/>\n      </g>\n     </g>\n     <g id=\"text_14\">\n      <!-- 100 -->\n      <g style=\"fill:#555555;\" transform=\"translate(26.44 40.199219)scale(0.1 -0.1)\">\n       <use xlink:href=\"#DejaVuSans-49\"/>\n       <use x=\"63.623047\" xlink:href=\"#DejaVuSans-48\"/>\n       <use x=\"127.246094\" xlink:href=\"#DejaVuSans-48\"/>\n      </g>\n     </g>\n    </g>\n    <g id=\"text_15\">\n     <!-- Effective dose rate $\\dot{E}(t)$ (μSv/y) -->\n     <defs>\n      <path d=\"M 37.109375 75.984375 \nL 37.109375 68.5 \nL 28.515625 68.5 \nQ 23.6875 68.5 21.796875 66.546875 \nQ 19.921875 64.59375 19.921875 59.515625 \nL 19.921875 54.6875 \nL 34.71875 54.6875 \nL 34.71875 47.703125 \nL 19.921875 47.703125 \nL 19.921875 0 \nL 10.890625 0 \nL 10.890625 47.703125 \nL 2.296875 47.703125 \nL 2.296875 54.6875 \nL 10.890625 54.6875 \nL 10.890625 58.5 \nQ 10.890625 67.625 15.140625 71.796875 \nQ 19.390625 75.984375 28.609375 75.984375 \nz\n\" id=\"DejaVuSans-102\"/>\n      <path d=\"M 48.78125 52.59375 \nL 48.78125 44.1875 \nQ 44.96875 46.296875 41.140625 47.34375 \nQ 37.3125 48.390625 33.40625 48.390625 \nQ 24.65625 48.390625 19.8125 42.84375 \nQ 14.984375 37.3125 14.984375 27.296875 \nQ 14.984375 17.28125 19.8125 11.734375 \nQ 24.65625 6.203125 33.40625 6.203125 \nQ 37.3125 6.203125 41.140625 7.25 \nQ 44.96875 8.296875 48.78125 10.40625 \nL 48.78125 2.09375 \nQ 45.015625 0.34375 40.984375 -0.53125 \nQ 36.96875 -1.421875 32.421875 -1.421875 \nQ 20.0625 -1.421875 12.78125 6.34375 \nQ 5.515625 14.109375 5.515625 27.296875 \nQ 5.515625 40.671875 12.859375 48.328125 \nQ 20.21875 56 33.015625 56 \nQ 37.15625 56 41.109375 55.140625 \nQ 45.0625 54.296875 48.78125 52.59375 \nz\n\" id=\"DejaVuSans-99\"/>\n      <path d=\"M 2.984375 54.6875 \nL 12.5 54.6875 \nL 29.59375 8.796875 \nL 46.6875 54.6875 \nL 56.203125 54.6875 \nL 35.6875 0 \nL 23.484375 0 \nz\n\" id=\"DejaVuSans-118\"/>\n      <path d=\"M 30.609375 48.390625 \nQ 23.390625 48.390625 19.1875 42.75 \nQ 14.984375 37.109375 14.984375 27.296875 \nQ 14.984375 17.484375 19.15625 11.84375 \nQ 23.34375 6.203125 30.609375 6.203125 \nQ 37.796875 6.203125 41.984375 11.859375 \nQ 46.1875 17.53125 46.1875 27.296875 \nQ 46.1875 37.015625 41.984375 42.703125 \nQ 37.796875 48.390625 30.609375 48.390625 \nz\nM 30.609375 56 \nQ 42.328125 56 49.015625 48.375 \nQ 55.71875 40.765625 55.71875 27.296875 \nQ 55.71875 13.875 49.015625 6.21875 \nQ 42.328125 -1.421875 30.609375 -1.421875 \nQ 18.84375 -1.421875 12.171875 6.21875 \nQ 5.515625 13.875 5.515625 27.296875 \nQ 5.515625 40.765625 12.171875 48.375 \nQ 18.84375 56 30.609375 56 \nz\n\" id=\"DejaVuSans-111\"/>\n      <path d=\"M 41.109375 46.296875 \nQ 39.59375 47.171875 37.8125 47.578125 \nQ 36.03125 48 33.890625 48 \nQ 26.265625 48 22.1875 43.046875 \nQ 18.109375 38.09375 18.109375 28.8125 \nL 18.109375 0 \nL 9.078125 0 \nL 9.078125 54.6875 \nL 18.109375 54.6875 \nL 18.109375 46.1875 \nQ 20.953125 51.171875 25.484375 53.578125 \nQ 30.03125 56 36.53125 56 \nQ 37.453125 56 38.578125 55.875 \nQ 39.703125 55.765625 41.0625 55.515625 \nz\n\" id=\"DejaVuSans-114\"/>\n      <path d=\"M -29.59375 75.984375 \nL -20.609375 75.984375 \nL -20.609375 64.59375 \nL -29.59375 64.59375 \nz\nM -25 56 \nz\n\" id=\"DejaVuSans-775\"/>\n      <path d=\"M 16.890625 72.90625 \nL 62.984375 72.90625 \nL 61.375 64.59375 \nL 25.09375 64.59375 \nL 20.90625 43.015625 \nL 55.71875 43.015625 \nL 54.109375 34.71875 \nL 19.28125 34.71875 \nL 14.203125 8.296875 \nL 51.3125 8.296875 \nL 49.703125 0 \nL 2.6875 0 \nz\n\" id=\"DejaVuSans-Oblique-69\"/>\n      <path d=\"M 8.5 -20.796875 \nL 8.5 54.6875 \nL 17.484375 54.6875 \nL 17.484375 20.703125 \nQ 17.484375 13.625 20.84375 10 \nQ 24.21875 6.390625 30.8125 6.390625 \nQ 38.03125 6.390625 41.671875 10.484375 \nQ 45.3125 14.59375 45.3125 22.796875 \nL 45.3125 54.6875 \nL 54.296875 54.6875 \nL 54.296875 12.59375 \nQ 54.296875 9.671875 55.140625 8.28125 \nQ 56 6.890625 57.8125 6.890625 \nQ 58.25 6.890625 59.03125 7.15625 \nQ 59.8125 7.421875 61.1875 8.015625 \nL 61.1875 0.78125 \nQ 59.1875 -0.34375 57.390625 -0.875 \nQ 55.609375 -1.421875 53.90625 -1.421875 \nQ 50.53125 -1.421875 48.53125 0.484375 \nQ 46.53125 2.390625 45.796875 6.296875 \nQ 43.359375 2.4375 39.8125 0.5 \nQ 36.28125 -1.421875 31.5 -1.421875 \nQ 26.515625 -1.421875 23.015625 0.484375 \nQ 19.53125 2.390625 17.484375 6.203125 \nL 17.484375 -20.796875 \nz\n\" id=\"DejaVuSans-956\"/>\n      <path d=\"M 53.515625 70.515625 \nL 53.515625 60.890625 \nQ 47.90625 63.578125 42.921875 64.890625 \nQ 37.9375 66.21875 33.296875 66.21875 \nQ 25.25 66.21875 20.875 63.09375 \nQ 16.5 59.96875 16.5 54.203125 \nQ 16.5 49.359375 19.40625 46.890625 \nQ 22.3125 44.4375 30.421875 42.921875 \nL 36.375 41.703125 \nQ 47.40625 39.59375 52.65625 34.296875 \nQ 57.90625 29 57.90625 20.125 \nQ 57.90625 9.515625 50.796875 4.046875 \nQ 43.703125 -1.421875 29.984375 -1.421875 \nQ 24.8125 -1.421875 18.96875 -0.25 \nQ 13.140625 0.921875 6.890625 3.21875 \nL 6.890625 13.375 \nQ 12.890625 10.015625 18.65625 8.296875 \nQ 24.421875 6.59375 29.984375 6.59375 \nQ 38.421875 6.59375 43.015625 9.90625 \nQ 47.609375 13.234375 47.609375 19.390625 \nQ 47.609375 24.75 44.3125 27.78125 \nQ 41.015625 30.8125 33.5 32.328125 \nL 27.484375 33.5 \nQ 16.453125 35.6875 11.515625 40.375 \nQ 6.59375 45.0625 6.59375 53.421875 \nQ 6.59375 63.09375 13.40625 68.65625 \nQ 20.21875 74.21875 32.171875 74.21875 \nQ 37.3125 74.21875 42.625 73.28125 \nQ 47.953125 72.359375 53.515625 70.515625 \nz\n\" id=\"DejaVuSans-83\"/>\n      <path d=\"M 25.390625 72.90625 \nL 33.6875 72.90625 \nL 8.296875 -9.28125 \nL 0 -9.28125 \nz\n\" id=\"DejaVuSans-47\"/>\n     </defs>\n     <g style=\"fill:#555555;\" transform=\"translate(19.92 241.24)rotate(-90)scale(0.12 -0.12)\">\n      <use transform=\"translate(0 0.609375)\" xlink:href=\"#DejaVuSans-69\"/>\n      <use transform=\"translate(63.183594 0.609375)\" xlink:href=\"#DejaVuSans-102\"/>\n      <use transform=\"translate(98.388672 0.609375)\" xlink:href=\"#DejaVuSans-102\"/>\n      <use transform=\"translate(133.59375 0.609375)\" xlink:href=\"#DejaVuSans-101\"/>\n      <use transform=\"translate(195.117188 0.609375)\" xlink:href=\"#DejaVuSans-99\"/>\n      <use transform=\"translate(250.097656 0.609375)\" xlink:href=\"#DejaVuSans-116\"/>\n      <use transform=\"translate(289.306641 0.609375)\" xlink:href=\"#DejaVuSans-105\"/>\n      <use transform=\"translate(317.089844 0.609375)\" xlink:href=\"#DejaVuSans-118\"/>\n      <use transform=\"translate(376.269531 0.609375)\" xlink:href=\"#DejaVuSans-101\"/>\n      <use transform=\"translate(437.792969 0.609375)\" xlink:href=\"#DejaVuSans-32\"/>\n      <use transform=\"translate(469.580078 0.609375)\" xlink:href=\"#DejaVuSans-100\"/>\n      <use transform=\"translate(533.056641 0.609375)\" xlink:href=\"#DejaVuSans-111\"/>\n      <use transform=\"translate(594.238281 0.609375)\" xlink:href=\"#DejaVuSans-115\"/>\n      <use transform=\"translate(646.337891 0.609375)\" xlink:href=\"#DejaVuSans-101\"/>\n      <use transform=\"translate(707.861328 0.609375)\" xlink:href=\"#DejaVuSans-32\"/>\n      <use transform=\"translate(739.648438 0.609375)\" xlink:href=\"#DejaVuSans-114\"/>\n      <use transform=\"translate(780.761719 0.609375)\" xlink:href=\"#DejaVuSans-97\"/>\n      <use transform=\"translate(842.041016 0.609375)\" xlink:href=\"#DejaVuSans-116\"/>\n      <use transform=\"translate(881.25 0.609375)\" xlink:href=\"#DejaVuSans-101\"/>\n      <use transform=\"translate(942.773438 0.609375)\" xlink:href=\"#DejaVuSans-32\"/>\n      <use transform=\"translate(1038.950195 30.015625)\" xlink:href=\"#DejaVuSans-775\"/>\n      <use transform=\"translate(974.560547 0.609375)\" xlink:href=\"#DejaVuSans-Oblique-69\"/>\n      <use transform=\"translate(1037.744141 0.609375)\" xlink:href=\"#DejaVuSans-40\"/>\n      <use transform=\"translate(1076.757812 0.609375)\" xlink:href=\"#DejaVuSans-Oblique-116\"/>\n      <use transform=\"translate(1115.966797 0.609375)\" xlink:href=\"#DejaVuSans-41\"/>\n      <use transform=\"translate(1154.980469 0.609375)\" xlink:href=\"#DejaVuSans-32\"/>\n      <use transform=\"translate(1186.767578 0.609375)\" xlink:href=\"#DejaVuSans-40\"/>\n      <use transform=\"translate(1225.78125 0.609375)\" xlink:href=\"#DejaVuSans-956\"/>\n      <use transform=\"translate(1289.404297 0.609375)\" xlink:href=\"#DejaVuSans-83\"/>\n      <use transform=\"translate(1352.880859 0.609375)\" xlink:href=\"#DejaVuSans-118\"/>\n      <use transform=\"translate(1412.060547 0.609375)\" xlink:href=\"#DejaVuSans-47\"/>\n      <use transform=\"translate(1445.751953 0.609375)\" xlink:href=\"#DejaVuSans-121\"/>\n      <use transform=\"translate(1504.931641 0.609375)\" xlink:href=\"#DejaVuSans-41\"/>\n     </g>\n    </g>\n   </g>\n   <g id=\"patch_3\">\n    <path d=\"M 52.5275 260.8 \nL 52.5275 36.4 \n\" style=\"fill:none;stroke:#ffffff;stroke-linecap:square;stroke-linejoin:miter;\"/>\n   </g>\n   <g id=\"patch_4\">\n    <path d=\"M 301.405625 260.8 \nL 301.405625 36.4 \n\" style=\"fill:none;stroke:#ffffff;stroke-linecap:square;stroke-linejoin:miter;\"/>\n   </g>\n   <g id=\"patch_5\">\n    <path d=\"M 52.5275 260.8 \nL 301.405625 260.8 \n\" style=\"fill:none;stroke:#ffffff;stroke-linecap:square;stroke-linejoin:miter;\"/>\n   </g>\n   <g id=\"patch_6\">\n    <path d=\"M 52.5275 36.4 \nL 301.405625 36.4 \n\" style=\"fill:none;stroke:#ffffff;stroke-linecap:square;stroke-linejoin:miter;\"/>\n   </g>\n   <g id=\"patch_7\">\n    <path clip-path=\"url(#p3861eb27ac)\" d=\"M 52.5275 260.8 \nL 52.5275 64.2256 \nL 56.760121 71.9872 \nL 60.992742 79.442339 \nL 65.225364 86.603118 \nL 69.457985 93.481158 \nL 73.690606 100.087623 \nL 77.923227 106.433237 \nL 82.155848 112.528299 \nL 86.388469 118.382702 \nL 90.621091 124.005947 \nL 94.853712 129.407163 \nL 99.086333 134.595116 \nL 103.318954 139.578226 \nL 107.551575 144.364582 \nL 111.784196 148.961951 \nL 116.016818 153.377797 \nL 120.249439 157.619286 \nL 124.48206 161.693304 \nL 128.714681 165.606461 \nL 132.947302 169.36511 \nL 137.179923 172.975352 \nL 141.412545 176.443046 \nL 145.645166 179.77382 \nL 149.877787 182.973081 \nL 154.110408 186.046022 \nL 158.343029 188.997629 \nL 162.575651 191.832695 \nL 166.808272 194.55582 \nL 171.040893 197.171424 \nL 175.273514 199.683753 \nL 179.506135 202.096885 \nL 183.738756 204.414735 \nL 187.971378 206.641068 \nL 192.203999 208.779494 \nL 196.43662 210.833487 \nL 200.669241 212.806379 \nL 204.901862 214.701373 \nL 209.134483 216.521545 \nL 213.367105 218.269848 \nL 217.599726 219.949121 \nL 221.832347 221.562089 \nL 226.064968 223.11137 \nL 230.297589 224.599479 \nL 234.53021 226.02883 \nL 238.762832 227.401745 \nL 242.995453 228.720452 \nL 247.228074 229.98709 \nL 251.460695 231.203716 \nL 255.693316 232.372304 \nL 259.925937 233.494751 \nL 259.925937 260.8 \nz\n\" style=\"fill:url(#h4814d83648);opacity:0.75;stroke:#000000;stroke-dasharray:4.625,2;stroke-dashoffset:0;stroke-linejoin:miter;stroke-width:1.25;\"/>\n   </g>\n   <g id=\"patch_8\">\n    <path d=\"M 198.377816 146.940083 \nQ 166.932346 170.210042 135.936234 193.14747 \n\" style=\"fill:none;stroke:#0000cd;stroke-linecap:round;stroke-width:0.5;\"/>\n    <path d=\"M 141.222293 192.22141 \nL 135.936234 193.14747 \nL 138.367022 188.362987 \nL 141.222293 192.22141 \nz\n\" style=\"fill:#0000cd;stroke:#0000cd;stroke-linecap:round;stroke-width:0.5;\"/>\n   </g>\n   <g id=\"text_16\">\n    <!-- $\\int_{0}^{50}\\dot{E}(t)\\mathrm{d}t$ = 1.9 mSv -->\n    <defs>\n     <path d=\"M 33.34375 86.328125 \nQ 33.9375 97.859375 39.5 102.4375 \nQ 45.0625 107.03125 50.28125 107.03125 \nQ 55.515625 107.03125 59.890625 102.734375 \nQ 64.265625 98.4375 65.625 88.71875 \nL 55.375 87.703125 \nQ 54.203125 96.6875 50.296875 96.6875 \nQ 45.40625 96.6875 44.828125 84.578125 \nL 40.328125 -9.328125 \nQ 39.796875 -20.84375 34.171875 -25.4375 \nQ 28.5625 -30.03125 23.390625 -30.03125 \nQ 18.171875 -30.03125 13.796875 -25.734375 \nQ 9.421875 -21.4375 8.0625 -11.71875 \nL 18.3125 -10.6875 \nQ 19.484375 -19.671875 23.390625 -19.671875 \nQ 28.265625 -19.671875 28.859375 -7.625 \nz\n\" id=\"DejaVuSansDisplay-8747\"/>\n     <path d=\"M 10.59375 45.40625 \nL 73.1875 45.40625 \nL 73.1875 37.203125 \nL 10.59375 37.203125 \nz\nM 10.59375 25.484375 \nL 73.1875 25.484375 \nL 73.1875 17.1875 \nL 10.59375 17.1875 \nz\n\" id=\"DejaVuSans-61\"/>\n     <path d=\"M 10.6875 12.40625 \nL 21 12.40625 \nL 21 0 \nL 10.6875 0 \nz\n\" id=\"DejaVuSans-46\"/>\n     <path d=\"M 10.984375 1.515625 \nL 10.984375 10.5 \nQ 14.703125 8.734375 18.5 7.8125 \nQ 22.3125 6.890625 25.984375 6.890625 \nQ 35.75 6.890625 40.890625 13.453125 \nQ 46.046875 20.015625 46.78125 33.40625 \nQ 43.953125 29.203125 39.59375 26.953125 \nQ 35.25 24.703125 29.984375 24.703125 \nQ 19.046875 24.703125 12.671875 31.3125 \nQ 6.296875 37.9375 6.296875 49.421875 \nQ 6.296875 60.640625 12.9375 67.421875 \nQ 19.578125 74.21875 30.609375 74.21875 \nQ 43.265625 74.21875 49.921875 64.515625 \nQ 56.59375 54.828125 56.59375 36.375 \nQ 56.59375 19.140625 48.40625 8.859375 \nQ 40.234375 -1.421875 26.421875 -1.421875 \nQ 22.703125 -1.421875 18.890625 -0.6875 \nQ 15.09375 0.046875 10.984375 1.515625 \nz\nM 30.609375 32.421875 \nQ 37.25 32.421875 41.125 36.953125 \nQ 45.015625 41.5 45.015625 49.421875 \nQ 45.015625 57.28125 41.125 61.84375 \nQ 37.25 66.40625 30.609375 66.40625 \nQ 23.96875 66.40625 20.09375 61.84375 \nQ 16.21875 57.28125 16.21875 49.421875 \nQ 16.21875 41.5 20.09375 36.953125 \nQ 23.96875 32.421875 30.609375 32.421875 \nz\n\" id=\"DejaVuSans-57\"/>\n    </defs>\n    <g transform=\"translate(155.486875 138.58)scale(0.12 -0.12)\">\n     <use transform=\"translate(0 0.890625)\" xlink:href=\"#DejaVuSansDisplay-8747\"/>\n     <use transform=\"translate(86.744141 86.046875)scale(0.7)\" xlink:href=\"#DejaVuSans-53\"/>\n     <use transform=\"translate(131.280273 86.046875)scale(0.7)\" xlink:href=\"#DejaVuSans-48\"/>\n     <use transform=\"translate(71.759766 -51.015625)scale(0.7)\" xlink:href=\"#DejaVuSans-48\"/>\n     <use transform=\"translate(240.206055 30.296875)\" xlink:href=\"#DejaVuSans-775\"/>\n     <use transform=\"translate(175.816406 0.890625)\" xlink:href=\"#DejaVuSans-Oblique-69\"/>\n     <use transform=\"translate(239 0.890625)\" xlink:href=\"#DejaVuSans-40\"/>\n     <use transform=\"translate(278.013672 0.890625)\" xlink:href=\"#DejaVuSans-Oblique-116\"/>\n     <use transform=\"translate(317.222656 0.890625)\" xlink:href=\"#DejaVuSans-41\"/>\n     <use transform=\"translate(356.236328 0.890625)\" xlink:href=\"#DejaVuSans-100\"/>\n     <use transform=\"translate(419.712891 0.890625)\" xlink:href=\"#DejaVuSans-Oblique-116\"/>\n     <use transform=\"translate(458.921875 0.890625)\" xlink:href=\"#DejaVuSans-32\"/>\n     <use transform=\"translate(490.708984 0.890625)\" xlink:href=\"#DejaVuSans-61\"/>\n     <use transform=\"translate(574.498047 0.890625)\" xlink:href=\"#DejaVuSans-32\"/>\n     <use transform=\"translate(606.285156 0.890625)\" xlink:href=\"#DejaVuSans-49\"/>\n     <use transform=\"translate(669.908203 0.890625)\" xlink:href=\"#DejaVuSans-46\"/>\n     <use transform=\"translate(701.695312 0.890625)\" xlink:href=\"#DejaVuSans-57\"/>\n     <use transform=\"translate(765.318359 0.890625)\" xlink:href=\"#DejaVuSans-32\"/>\n     <use transform=\"translate(797.105469 0.890625)\" xlink:href=\"#DejaVuSans-109\"/>\n     <use transform=\"translate(894.517578 0.890625)\" xlink:href=\"#DejaVuSans-83\"/>\n     <use transform=\"translate(957.994141 0.890625)\" xlink:href=\"#DejaVuSans-118\"/>\n    </g>\n   </g>\n   <g id=\"line2d_27\">\n    <path clip-path=\"url(#p3861eb27ac)\" d=\"M 52.5275 64.2256 \nL 56.675469 71.835013 \nL 60.823437 79.149865 \nL 64.971406 86.181558 \nL 69.119375 92.941054 \nL 73.267344 99.438889 \nL 77.415312 105.685192 \nL 81.563281 111.6897 \nL 85.71125 117.461773 \nL 89.859219 123.010409 \nL 94.007187 128.344257 \nL 98.155156 133.47163 \nL 102.303125 138.400523 \nL 106.451094 143.138618 \nL 110.599062 147.693301 \nL 114.747031 152.071671 \nL 118.895 156.280555 \nL 123.042969 160.326512 \nL 127.190937 164.21585 \nL 131.338906 167.954631 \nL 135.486875 171.548684 \nL 139.634844 175.00361 \nL 143.782812 178.324796 \nL 147.930781 181.517419 \nL 152.07875 184.586455 \nL 156.226719 187.536688 \nL 160.374687 190.372717 \nL 164.522656 193.098964 \nL 168.670625 195.719677 \nL 172.818594 198.238942 \nL 176.966562 200.660687 \nL 181.114531 202.988685 \nL 185.2625 205.226566 \nL 189.410469 207.377819 \nL 193.558437 209.445796 \nL 197.706406 211.433722 \nL 201.854375 213.344695 \nL 206.002344 215.181694 \nL 210.150312 216.947583 \nL 214.298281 218.645114 \nL 218.44625 220.276934 \nL 222.594219 221.845585 \nL 226.742187 223.353514 \nL 230.890156 224.803071 \nL 235.038125 226.196515 \nL 239.186094 227.536019 \nL 243.334062 228.823671 \nL 247.482031 230.061478 \nL 251.63 231.251369 \nL 255.777969 232.395199 \nL 259.925937 233.494751 \nL 264.073906 234.55174 \nL 268.221875 235.567812 \nL 272.369844 236.544553 \nL 276.517812 237.483483 \nL 280.665781 238.386068 \nL 284.81375 239.253713 \nL 288.961719 240.087772 \nL 293.109687 240.889544 \nL 297.257656 241.66028 \nL 301.405625 242.40118 \nL 305.553594 243.1134 \nL 309.701562 243.79805 \nL 313.849531 244.456197 \nL 317.9975 245.088867 \nL 322.145469 245.697046 \nL 326.293437 246.281683 \nL 330.441406 246.843688 \nL 334.589375 247.383938 \nL 338.737344 247.903275 \nL 342.885312 248.402509 \nL 347.033281 248.882417 \nL 351.18125 249.343748 \nL 355.329219 249.78722 \nL 359.477187 250.213526 \nL 363.625156 250.623329 \n\" style=\"fill:none;stroke:#0000cd;stroke-linecap:square;stroke-width:1.5;\"/>\n   </g>\n   <g id=\"legend_1\">\n    <g id=\"patch_9\">\n     <path d=\"M 244.305625 61.4 \nL 294.405625 61.4 \nQ 296.405625 61.4 296.405625 59.4 \nL 296.405625 43.4 \nQ 296.405625 41.4 294.405625 41.4 \nL 244.305625 41.4 \nQ 242.305625 41.4 242.305625 43.4 \nL 242.305625 59.4 \nQ 242.305625 61.4 244.305625 61.4 \nz\n\" style=\"fill:#e5e5e5;opacity:0.8;stroke:#cccccc;stroke-linejoin:miter;stroke-width:0.5;\"/>\n    </g>\n    <g id=\"line2d_28\">\n     <path d=\"M 246.305625 51.820312 \nL 266.305625 51.820312 \n\" style=\"fill:none;stroke:#0000cd;stroke-linecap:square;stroke-width:1.5;\"/>\n    </g>\n    <g id=\"line2d_29\"/>\n    <g id=\"text_17\">\n     <!-- $\\dot{E}(t)$ -->\n     <g transform=\"translate(274.305625 55.320312)scale(0.1 -0.1)\">\n      <use transform=\"translate(64.389648 30.015625)\" xlink:href=\"#DejaVuSans-775\"/>\n      <use transform=\"translate(0 0.609375)\" xlink:href=\"#DejaVuSans-Oblique-69\"/>\n      <use transform=\"translate(63.183594 0.609375)\" xlink:href=\"#DejaVuSans-40\"/>\n      <use transform=\"translate(102.197266 0.609375)\" xlink:href=\"#DejaVuSans-Oblique-116\"/>\n      <use transform=\"translate(141.40625 0.609375)\" xlink:href=\"#DejaVuSans-41\"/>\n     </g>\n    </g>\n   </g>\n  </g>\n  <g id=\"axes_2\">\n   <g id=\"patch_10\">\n    <path d=\"M 374.3775 260.8 \nL 623.255625 260.8 \nL 623.255625 36.4 \nL 374.3775 36.4 \nz\n\" style=\"fill:#e5e5e5;\"/>\n   </g>\n   <g id=\"matplotlib.axis_3\">\n    <g id=\"xtick_8\">\n     <g id=\"line2d_30\">\n      <path clip-path=\"url(#pd8ef293506)\" d=\"M 374.3775 260.8 \nL 374.3775 36.4 \n\" style=\"fill:none;stroke:#ffffff;stroke-linecap:square;stroke-width:0.8;\"/>\n     </g>\n     <g id=\"line2d_31\">\n      <g>\n       <use style=\"fill:#555555;stroke:#555555;stroke-width:0.8;\" x=\"374.3775\" xlink:href=\"#mdba81f13b4\" y=\"260.8\"/>\n      </g>\n     </g>\n     <g id=\"text_18\">\n      <!-- 0 -->\n      <g style=\"fill:#555555;\" transform=\"translate(371.19625 275.398438)scale(0.1 -0.1)\">\n       <use xlink:href=\"#DejaVuSans-48\"/>\n      </g>\n     </g>\n    </g>\n    <g id=\"xtick_9\">\n     <g id=\"line2d_32\">\n      <path clip-path=\"url(#pd8ef293506)\" d=\"M 415.857187 260.8 \nL 415.857187 36.4 \n\" style=\"fill:none;stroke:#ffffff;stroke-linecap:square;stroke-width:0.8;\"/>\n     </g>\n     <g id=\"line2d_33\">\n      <g>\n       <use style=\"fill:#555555;stroke:#555555;stroke-width:0.8;\" x=\"415.857187\" xlink:href=\"#mdba81f13b4\" y=\"260.8\"/>\n      </g>\n     </g>\n     <g id=\"text_19\">\n      <!-- 10 -->\n      <g style=\"fill:#555555;\" transform=\"translate(409.494687 275.398438)scale(0.1 -0.1)\">\n       <use xlink:href=\"#DejaVuSans-49\"/>\n       <use x=\"63.623047\" xlink:href=\"#DejaVuSans-48\"/>\n      </g>\n     </g>\n    </g>\n    <g id=\"xtick_10\">\n     <g id=\"line2d_34\">\n      <path clip-path=\"url(#pd8ef293506)\" d=\"M 457.336875 260.8 \nL 457.336875 36.4 \n\" style=\"fill:none;stroke:#ffffff;stroke-linecap:square;stroke-width:0.8;\"/>\n     </g>\n     <g id=\"line2d_35\">\n      <g>\n       <use style=\"fill:#555555;stroke:#555555;stroke-width:0.8;\" x=\"457.336875\" xlink:href=\"#mdba81f13b4\" y=\"260.8\"/>\n      </g>\n     </g>\n     <g id=\"text_20\">\n      <!-- 20 -->\n      <g style=\"fill:#555555;\" transform=\"translate(450.974375 275.398438)scale(0.1 -0.1)\">\n       <use xlink:href=\"#DejaVuSans-50\"/>\n       <use x=\"63.623047\" xlink:href=\"#DejaVuSans-48\"/>\n      </g>\n     </g>\n    </g>\n    <g id=\"xtick_11\">\n     <g id=\"line2d_36\">\n      <path clip-path=\"url(#pd8ef293506)\" d=\"M 498.816562 260.8 \nL 498.816562 36.4 \n\" style=\"fill:none;stroke:#ffffff;stroke-linecap:square;stroke-width:0.8;\"/>\n     </g>\n     <g id=\"line2d_37\">\n      <g>\n       <use style=\"fill:#555555;stroke:#555555;stroke-width:0.8;\" x=\"498.816562\" xlink:href=\"#mdba81f13b4\" y=\"260.8\"/>\n      </g>\n     </g>\n     <g id=\"text_21\">\n      <!-- 30 -->\n      <g style=\"fill:#555555;\" transform=\"translate(492.454062 275.398438)scale(0.1 -0.1)\">\n       <use xlink:href=\"#DejaVuSans-51\"/>\n       <use x=\"63.623047\" xlink:href=\"#DejaVuSans-48\"/>\n      </g>\n     </g>\n    </g>\n    <g id=\"xtick_12\">\n     <g id=\"line2d_38\">\n      <path clip-path=\"url(#pd8ef293506)\" d=\"M 540.29625 260.8 \nL 540.29625 36.4 \n\" style=\"fill:none;stroke:#ffffff;stroke-linecap:square;stroke-width:0.8;\"/>\n     </g>\n     <g id=\"line2d_39\">\n      <g>\n       <use style=\"fill:#555555;stroke:#555555;stroke-width:0.8;\" x=\"540.29625\" xlink:href=\"#mdba81f13b4\" y=\"260.8\"/>\n      </g>\n     </g>\n     <g id=\"text_22\">\n      <!-- 40 -->\n      <g style=\"fill:#555555;\" transform=\"translate(533.93375 275.398438)scale(0.1 -0.1)\">\n       <use xlink:href=\"#DejaVuSans-52\"/>\n       <use x=\"63.623047\" xlink:href=\"#DejaVuSans-48\"/>\n      </g>\n     </g>\n    </g>\n    <g id=\"xtick_13\">\n     <g id=\"line2d_40\">\n      <path clip-path=\"url(#pd8ef293506)\" d=\"M 581.775937 260.8 \nL 581.775937 36.4 \n\" style=\"fill:none;stroke:#ffffff;stroke-linecap:square;stroke-width:0.8;\"/>\n     </g>\n     <g id=\"line2d_41\">\n      <g>\n       <use style=\"fill:#555555;stroke:#555555;stroke-width:0.8;\" x=\"581.775937\" xlink:href=\"#mdba81f13b4\" y=\"260.8\"/>\n      </g>\n     </g>\n     <g id=\"text_23\">\n      <!-- 50 -->\n      <g style=\"fill:#555555;\" transform=\"translate(575.413437 275.398438)scale(0.1 -0.1)\">\n       <use xlink:href=\"#DejaVuSans-53\"/>\n       <use x=\"63.623047\" xlink:href=\"#DejaVuSans-48\"/>\n      </g>\n     </g>\n    </g>\n    <g id=\"xtick_14\">\n     <g id=\"line2d_42\">\n      <path clip-path=\"url(#pd8ef293506)\" d=\"M 623.255625 260.8 \nL 623.255625 36.4 \n\" style=\"fill:none;stroke:#ffffff;stroke-linecap:square;stroke-width:0.8;\"/>\n     </g>\n     <g id=\"line2d_43\">\n      <g>\n       <use style=\"fill:#555555;stroke:#555555;stroke-width:0.8;\" x=\"623.255625\" xlink:href=\"#mdba81f13b4\" y=\"260.8\"/>\n      </g>\n     </g>\n     <g id=\"text_24\">\n      <!-- 60 -->\n      <g style=\"fill:#555555;\" transform=\"translate(616.893125 275.398438)scale(0.1 -0.1)\">\n       <use xlink:href=\"#DejaVuSans-54\"/>\n       <use x=\"63.623047\" xlink:href=\"#DejaVuSans-48\"/>\n      </g>\n     </g>\n    </g>\n    <g id=\"text_25\">\n     <!-- Elapsed time $t$ (y) -->\n     <g style=\"fill:#555555;\" transform=\"translate(445.356562 290.598125)scale(0.12 -0.12)\">\n      <use transform=\"translate(0 0.015625)\" xlink:href=\"#DejaVuSans-69\"/>\n      <use transform=\"translate(63.183594 0.015625)\" xlink:href=\"#DejaVuSans-108\"/>\n      <use transform=\"translate(90.966797 0.015625)\" xlink:href=\"#DejaVuSans-97\"/>\n      <use transform=\"translate(152.246094 0.015625)\" xlink:href=\"#DejaVuSans-112\"/>\n      <use transform=\"translate(215.722656 0.015625)\" xlink:href=\"#DejaVuSans-115\"/>\n      <use transform=\"translate(267.822266 0.015625)\" xlink:href=\"#DejaVuSans-101\"/>\n      <use transform=\"translate(329.345703 0.015625)\" xlink:href=\"#DejaVuSans-100\"/>\n      <use transform=\"translate(392.822266 0.015625)\" xlink:href=\"#DejaVuSans-32\"/>\n      <use transform=\"translate(424.609375 0.015625)\" xlink:href=\"#DejaVuSans-116\"/>\n      <use transform=\"translate(463.818359 0.015625)\" xlink:href=\"#DejaVuSans-105\"/>\n      <use transform=\"translate(491.601562 0.015625)\" xlink:href=\"#DejaVuSans-109\"/>\n      <use transform=\"translate(589.013672 0.015625)\" xlink:href=\"#DejaVuSans-101\"/>\n      <use transform=\"translate(650.537109 0.015625)\" xlink:href=\"#DejaVuSans-32\"/>\n      <use transform=\"translate(682.324219 0.015625)\" xlink:href=\"#DejaVuSans-Oblique-116\"/>\n      <use transform=\"translate(721.533203 0.015625)\" xlink:href=\"#DejaVuSans-32\"/>\n      <use transform=\"translate(753.320312 0.015625)\" xlink:href=\"#DejaVuSans-40\"/>\n      <use transform=\"translate(792.333984 0.015625)\" xlink:href=\"#DejaVuSans-121\"/>\n      <use transform=\"translate(851.513672 0.015625)\" xlink:href=\"#DejaVuSans-41\"/>\n     </g>\n    </g>\n   </g>\n   <g id=\"matplotlib.axis_4\">\n    <g id=\"ytick_7\">\n     <g id=\"line2d_44\">\n      <path clip-path=\"url(#pd8ef293506)\" d=\"M 374.3775 260.8 \nL 623.255625 260.8 \n\" style=\"fill:none;stroke:#ffffff;stroke-linecap:square;stroke-width:0.8;\"/>\n     </g>\n     <g id=\"line2d_45\">\n      <g>\n       <use style=\"fill:#555555;stroke:#555555;stroke-width:0.8;\" x=\"374.3775\" xlink:href=\"#m3e7f523734\" y=\"260.8\"/>\n      </g>\n     </g>\n     <g id=\"text_26\">\n      <!-- 0 -->\n      <g style=\"fill:#555555;\" transform=\"translate(361.015 264.599219)scale(0.1 -0.1)\">\n       <use xlink:href=\"#DejaVuSans-48\"/>\n      </g>\n     </g>\n    </g>\n    <g id=\"ytick_8\">\n     <g id=\"line2d_46\">\n      <path clip-path=\"url(#pd8ef293506)\" d=\"M 374.3775 232.75 \nL 623.255625 232.75 \n\" style=\"fill:none;stroke:#ffffff;stroke-linecap:square;stroke-width:0.8;\"/>\n     </g>\n     <g id=\"line2d_47\">\n      <g>\n       <use style=\"fill:#555555;stroke:#555555;stroke-width:0.8;\" x=\"374.3775\" xlink:href=\"#m3e7f523734\" y=\"232.75\"/>\n      </g>\n     </g>\n     <g id=\"text_27\">\n      <!-- 250 -->\n      <g style=\"fill:#555555;\" transform=\"translate(348.29 236.549219)scale(0.1 -0.1)\">\n       <use xlink:href=\"#DejaVuSans-50\"/>\n       <use x=\"63.623047\" xlink:href=\"#DejaVuSans-53\"/>\n       <use x=\"127.246094\" xlink:href=\"#DejaVuSans-48\"/>\n      </g>\n     </g>\n    </g>\n    <g id=\"ytick_9\">\n     <g id=\"line2d_48\">\n      <path clip-path=\"url(#pd8ef293506)\" d=\"M 374.3775 204.7 \nL 623.255625 204.7 \n\" style=\"fill:none;stroke:#ffffff;stroke-linecap:square;stroke-width:0.8;\"/>\n     </g>\n     <g id=\"line2d_49\">\n      <g>\n       <use style=\"fill:#555555;stroke:#555555;stroke-width:0.8;\" x=\"374.3775\" xlink:href=\"#m3e7f523734\" y=\"204.7\"/>\n      </g>\n     </g>\n     <g id=\"text_28\">\n      <!-- 500 -->\n      <g style=\"fill:#555555;\" transform=\"translate(348.29 208.499219)scale(0.1 -0.1)\">\n       <use xlink:href=\"#DejaVuSans-53\"/>\n       <use x=\"63.623047\" xlink:href=\"#DejaVuSans-48\"/>\n       <use x=\"127.246094\" xlink:href=\"#DejaVuSans-48\"/>\n      </g>\n     </g>\n    </g>\n    <g id=\"ytick_10\">\n     <g id=\"line2d_50\">\n      <path clip-path=\"url(#pd8ef293506)\" d=\"M 374.3775 176.65 \nL 623.255625 176.65 \n\" style=\"fill:none;stroke:#ffffff;stroke-linecap:square;stroke-width:0.8;\"/>\n     </g>\n     <g id=\"line2d_51\">\n      <g>\n       <use style=\"fill:#555555;stroke:#555555;stroke-width:0.8;\" x=\"374.3775\" xlink:href=\"#m3e7f523734\" y=\"176.65\"/>\n      </g>\n     </g>\n     <g id=\"text_29\">\n      <!-- 750 -->\n      <defs>\n       <path d=\"M 8.203125 72.90625 \nL 55.078125 72.90625 \nL 55.078125 68.703125 \nL 28.609375 0 \nL 18.3125 0 \nL 43.21875 64.59375 \nL 8.203125 64.59375 \nz\n\" id=\"DejaVuSans-55\"/>\n      </defs>\n      <g style=\"fill:#555555;\" transform=\"translate(348.29 180.449219)scale(0.1 -0.1)\">\n       <use xlink:href=\"#DejaVuSans-55\"/>\n       <use x=\"63.623047\" xlink:href=\"#DejaVuSans-53\"/>\n       <use x=\"127.246094\" xlink:href=\"#DejaVuSans-48\"/>\n      </g>\n     </g>\n    </g>\n    <g id=\"ytick_11\">\n     <g id=\"line2d_52\">\n      <path clip-path=\"url(#pd8ef293506)\" d=\"M 374.3775 148.6 \nL 623.255625 148.6 \n\" style=\"fill:none;stroke:#ffffff;stroke-linecap:square;stroke-width:0.8;\"/>\n     </g>\n     <g id=\"line2d_53\">\n      <g>\n       <use style=\"fill:#555555;stroke:#555555;stroke-width:0.8;\" x=\"374.3775\" xlink:href=\"#m3e7f523734\" y=\"148.6\"/>\n      </g>\n     </g>\n     <g id=\"text_30\">\n      <!-- 1000 -->\n      <g style=\"fill:#555555;\" transform=\"translate(341.9275 152.399219)scale(0.1 -0.1)\">\n       <use xlink:href=\"#DejaVuSans-49\"/>\n       <use x=\"63.623047\" xlink:href=\"#DejaVuSans-48\"/>\n       <use x=\"127.246094\" xlink:href=\"#DejaVuSans-48\"/>\n       <use x=\"190.869141\" xlink:href=\"#DejaVuSans-48\"/>\n      </g>\n     </g>\n    </g>\n    <g id=\"ytick_12\">\n     <g id=\"line2d_54\">\n      <path clip-path=\"url(#pd8ef293506)\" d=\"M 374.3775 120.55 \nL 623.255625 120.55 \n\" style=\"fill:none;stroke:#ffffff;stroke-linecap:square;stroke-width:0.8;\"/>\n     </g>\n     <g id=\"line2d_55\">\n      <g>\n       <use style=\"fill:#555555;stroke:#555555;stroke-width:0.8;\" x=\"374.3775\" xlink:href=\"#m3e7f523734\" y=\"120.55\"/>\n      </g>\n     </g>\n     <g id=\"text_31\">\n      <!-- 1250 -->\n      <g style=\"fill:#555555;\" transform=\"translate(341.9275 124.349219)scale(0.1 -0.1)\">\n       <use xlink:href=\"#DejaVuSans-49\"/>\n       <use x=\"63.623047\" xlink:href=\"#DejaVuSans-50\"/>\n       <use x=\"127.246094\" xlink:href=\"#DejaVuSans-53\"/>\n       <use x=\"190.869141\" xlink:href=\"#DejaVuSans-48\"/>\n      </g>\n     </g>\n    </g>\n    <g id=\"ytick_13\">\n     <g id=\"line2d_56\">\n      <path clip-path=\"url(#pd8ef293506)\" d=\"M 374.3775 92.5 \nL 623.255625 92.5 \n\" style=\"fill:none;stroke:#ffffff;stroke-linecap:square;stroke-width:0.8;\"/>\n     </g>\n     <g id=\"line2d_57\">\n      <g>\n       <use style=\"fill:#555555;stroke:#555555;stroke-width:0.8;\" x=\"374.3775\" xlink:href=\"#m3e7f523734\" y=\"92.5\"/>\n      </g>\n     </g>\n     <g id=\"text_32\">\n      <!-- 1500 -->\n      <g style=\"fill:#555555;\" transform=\"translate(341.9275 96.299219)scale(0.1 -0.1)\">\n       <use xlink:href=\"#DejaVuSans-49\"/>\n       <use x=\"63.623047\" xlink:href=\"#DejaVuSans-53\"/>\n       <use x=\"127.246094\" xlink:href=\"#DejaVuSans-48\"/>\n       <use x=\"190.869141\" xlink:href=\"#DejaVuSans-48\"/>\n      </g>\n     </g>\n    </g>\n    <g id=\"ytick_14\">\n     <g id=\"line2d_58\">\n      <path clip-path=\"url(#pd8ef293506)\" d=\"M 374.3775 64.45 \nL 623.255625 64.45 \n\" style=\"fill:none;stroke:#ffffff;stroke-linecap:square;stroke-width:0.8;\"/>\n     </g>\n     <g id=\"line2d_59\">\n      <g>\n       <use style=\"fill:#555555;stroke:#555555;stroke-width:0.8;\" x=\"374.3775\" xlink:href=\"#m3e7f523734\" y=\"64.45\"/>\n      </g>\n     </g>\n     <g id=\"text_33\">\n      <!-- 1750 -->\n      <g style=\"fill:#555555;\" transform=\"translate(341.9275 68.249219)scale(0.1 -0.1)\">\n       <use xlink:href=\"#DejaVuSans-49\"/>\n       <use x=\"63.623047\" xlink:href=\"#DejaVuSans-55\"/>\n       <use x=\"127.246094\" xlink:href=\"#DejaVuSans-53\"/>\n       <use x=\"190.869141\" xlink:href=\"#DejaVuSans-48\"/>\n      </g>\n     </g>\n    </g>\n    <g id=\"ytick_15\">\n     <g id=\"line2d_60\">\n      <path clip-path=\"url(#pd8ef293506)\" d=\"M 374.3775 36.4 \nL 623.255625 36.4 \n\" style=\"fill:none;stroke:#ffffff;stroke-linecap:square;stroke-width:0.8;\"/>\n     </g>\n     <g id=\"line2d_61\">\n      <g>\n       <use style=\"fill:#555555;stroke:#555555;stroke-width:0.8;\" x=\"374.3775\" xlink:href=\"#m3e7f523734\" y=\"36.4\"/>\n      </g>\n     </g>\n     <g id=\"text_34\">\n      <!-- 2000 -->\n      <g style=\"fill:#555555;\" transform=\"translate(341.9275 40.199219)scale(0.1 -0.1)\">\n       <use xlink:href=\"#DejaVuSans-50\"/>\n       <use x=\"63.623047\" xlink:href=\"#DejaVuSans-48\"/>\n       <use x=\"127.246094\" xlink:href=\"#DejaVuSans-48\"/>\n       <use x=\"190.869141\" xlink:href=\"#DejaVuSans-48\"/>\n      </g>\n     </g>\n    </g>\n    <g id=\"text_35\">\n     <!-- Effective dose rate $\\dot{E}(t)$ (μSv/y) -->\n     <g style=\"fill:#555555;\" transform=\"translate(335.4075 241.24)rotate(-90)scale(0.12 -0.12)\">\n      <use transform=\"translate(0 0.609375)\" xlink:href=\"#DejaVuSans-69\"/>\n      <use transform=\"translate(63.183594 0.609375)\" xlink:href=\"#DejaVuSans-102\"/>\n      <use transform=\"translate(98.388672 0.609375)\" xlink:href=\"#DejaVuSans-102\"/>\n      <use transform=\"translate(133.59375 0.609375)\" xlink:href=\"#DejaVuSans-101\"/>\n      <use transform=\"translate(195.117188 0.609375)\" xlink:href=\"#DejaVuSans-99\"/>\n      <use transform=\"translate(250.097656 0.609375)\" xlink:href=\"#DejaVuSans-116\"/>\n      <use transform=\"translate(289.306641 0.609375)\" xlink:href=\"#DejaVuSans-105\"/>\n      <use transform=\"translate(317.089844 0.609375)\" xlink:href=\"#DejaVuSans-118\"/>\n      <use transform=\"translate(376.269531 0.609375)\" xlink:href=\"#DejaVuSans-101\"/>\n      <use transform=\"translate(437.792969 0.609375)\" xlink:href=\"#DejaVuSans-32\"/>\n      <use transform=\"translate(469.580078 0.609375)\" xlink:href=\"#DejaVuSans-100\"/>\n      <use transform=\"translate(533.056641 0.609375)\" xlink:href=\"#DejaVuSans-111\"/>\n      <use transform=\"translate(594.238281 0.609375)\" xlink:href=\"#DejaVuSans-115\"/>\n      <use transform=\"translate(646.337891 0.609375)\" xlink:href=\"#DejaVuSans-101\"/>\n      <use transform=\"translate(707.861328 0.609375)\" xlink:href=\"#DejaVuSans-32\"/>\n      <use transform=\"translate(739.648438 0.609375)\" xlink:href=\"#DejaVuSans-114\"/>\n      <use transform=\"translate(780.761719 0.609375)\" xlink:href=\"#DejaVuSans-97\"/>\n      <use transform=\"translate(842.041016 0.609375)\" xlink:href=\"#DejaVuSans-116\"/>\n      <use transform=\"translate(881.25 0.609375)\" xlink:href=\"#DejaVuSans-101\"/>\n      <use transform=\"translate(942.773438 0.609375)\" xlink:href=\"#DejaVuSans-32\"/>\n      <use transform=\"translate(1038.950195 30.015625)\" xlink:href=\"#DejaVuSans-775\"/>\n      <use transform=\"translate(974.560547 0.609375)\" xlink:href=\"#DejaVuSans-Oblique-69\"/>\n      <use transform=\"translate(1037.744141 0.609375)\" xlink:href=\"#DejaVuSans-40\"/>\n      <use transform=\"translate(1076.757812 0.609375)\" xlink:href=\"#DejaVuSans-Oblique-116\"/>\n      <use transform=\"translate(1115.966797 0.609375)\" xlink:href=\"#DejaVuSans-41\"/>\n      <use transform=\"translate(1154.980469 0.609375)\" xlink:href=\"#DejaVuSans-32\"/>\n      <use transform=\"translate(1186.767578 0.609375)\" xlink:href=\"#DejaVuSans-40\"/>\n      <use transform=\"translate(1225.78125 0.609375)\" xlink:href=\"#DejaVuSans-956\"/>\n      <use transform=\"translate(1289.404297 0.609375)\" xlink:href=\"#DejaVuSans-83\"/>\n      <use transform=\"translate(1352.880859 0.609375)\" xlink:href=\"#DejaVuSans-118\"/>\n      <use transform=\"translate(1412.060547 0.609375)\" xlink:href=\"#DejaVuSans-47\"/>\n      <use transform=\"translate(1445.751953 0.609375)\" xlink:href=\"#DejaVuSans-121\"/>\n      <use transform=\"translate(1504.931641 0.609375)\" xlink:href=\"#DejaVuSans-41\"/>\n     </g>\n    </g>\n   </g>\n   <g id=\"patch_11\">\n    <path d=\"M 374.3775 260.8 \nL 374.3775 36.4 \n\" style=\"fill:none;stroke:#ffffff;stroke-linecap:square;stroke-linejoin:miter;\"/>\n   </g>\n   <g id=\"patch_12\">\n    <path d=\"M 623.255625 260.8 \nL 623.255625 36.4 \n\" style=\"fill:none;stroke:#ffffff;stroke-linecap:square;stroke-linejoin:miter;\"/>\n   </g>\n   <g id=\"patch_13\">\n    <path d=\"M 374.3775 260.8 \nL 623.255625 260.8 \n\" style=\"fill:none;stroke:#ffffff;stroke-linecap:square;stroke-linejoin:miter;\"/>\n   </g>\n   <g id=\"patch_14\">\n    <path d=\"M 374.3775 36.4 \nL 623.255625 36.4 \n\" style=\"fill:none;stroke:#ffffff;stroke-linecap:square;stroke-linejoin:miter;\"/>\n   </g>\n   <g id=\"patch_15\">\n    <path clip-path=\"url(#pd8ef293506)\" d=\"M 374.3775 260.8 \nL 374.3775 46.422586 \nL 378.525469 46.422586 \nL 378.525469 260.8 \nz\n\" style=\"fill:url(#h4814d83648);opacity:0.75;stroke:#000000;stroke-dasharray:4.625,2;stroke-dashoffset:0;stroke-linejoin:miter;stroke-width:1.25;\"/>\n   </g>\n   <g id=\"patch_16\">\n    <path d=\"M 406.523785 154.21 \nQ 392.524627 154.21 379.084486 154.21 \n\" style=\"fill:none;stroke:#0000cd;stroke-linecap:round;stroke-width:0.5;\"/>\n    <path d=\"M 383.884486 156.61 \nL 379.084486 154.21 \nL 383.884486 151.81 \nL 383.884486 156.61 \nz\n\" style=\"fill:#0000cd;stroke:#0000cd;stroke-linecap:round;stroke-width:0.5;\"/>\n   </g>\n   <g id=\"text_36\">\n    <!-- $\\int_{0}^{50}\\dot{E}(t)\\mathrm{d}t$ = 1.9 mSv -->\n    <g transform=\"translate(408.525469 159.31)scale(0.12 -0.12)\">\n     <use transform=\"translate(0 0.890625)\" xlink:href=\"#DejaVuSansDisplay-8747\"/>\n     <use transform=\"translate(86.744141 86.046875)scale(0.7)\" xlink:href=\"#DejaVuSans-53\"/>\n     <use transform=\"translate(131.280273 86.046875)scale(0.7)\" xlink:href=\"#DejaVuSans-48\"/>\n     <use transform=\"translate(71.759766 -51.015625)scale(0.7)\" xlink:href=\"#DejaVuSans-48\"/>\n     <use transform=\"translate(240.206055 30.296875)\" xlink:href=\"#DejaVuSans-775\"/>\n     <use transform=\"translate(175.816406 0.890625)\" xlink:href=\"#DejaVuSans-Oblique-69\"/>\n     <use transform=\"translate(239 0.890625)\" xlink:href=\"#DejaVuSans-40\"/>\n     <use transform=\"translate(278.013672 0.890625)\" xlink:href=\"#DejaVuSans-Oblique-116\"/>\n     <use transform=\"translate(317.222656 0.890625)\" xlink:href=\"#DejaVuSans-41\"/>\n     <use transform=\"translate(356.236328 0.890625)\" xlink:href=\"#DejaVuSans-100\"/>\n     <use transform=\"translate(419.712891 0.890625)\" xlink:href=\"#DejaVuSans-Oblique-116\"/>\n     <use transform=\"translate(458.921875 0.890625)\" xlink:href=\"#DejaVuSans-32\"/>\n     <use transform=\"translate(490.708984 0.890625)\" xlink:href=\"#DejaVuSans-61\"/>\n     <use transform=\"translate(574.498047 0.890625)\" xlink:href=\"#DejaVuSans-32\"/>\n     <use transform=\"translate(606.285156 0.890625)\" xlink:href=\"#DejaVuSans-49\"/>\n     <use transform=\"translate(669.908203 0.890625)\" xlink:href=\"#DejaVuSans-46\"/>\n     <use transform=\"translate(701.695312 0.890625)\" xlink:href=\"#DejaVuSans-57\"/>\n     <use transform=\"translate(765.318359 0.890625)\" xlink:href=\"#DejaVuSans-32\"/>\n     <use transform=\"translate(797.105469 0.890625)\" xlink:href=\"#DejaVuSans-109\"/>\n     <use transform=\"translate(894.517578 0.890625)\" xlink:href=\"#DejaVuSans-83\"/>\n     <use transform=\"translate(957.994141 0.890625)\" xlink:href=\"#DejaVuSans-118\"/>\n    </g>\n   </g>\n   <g id=\"patch_17\">\n    <path d=\"M 407.581856 238.605786 \nQ 393.053662 249.702893 378.969715 260.46067 \n\" style=\"fill:none;stroke:#0000cd;stroke-linecap:round;stroke-width:0.5;\"/>\n    <path d=\"M 384.241069 259.454274 \nL 378.969715 260.46067 \nL 381.327411 255.63975 \nL 384.241069 259.454274 \nz\n\" style=\"fill:#0000cd;stroke:#0000cd;stroke-linecap:round;stroke-width:0.5;\"/>\n   </g>\n   <g id=\"text_37\">\n    <!-- 1 y -->\n    <g transform=\"translate(408.525469 234.11125)scale(0.12 -0.12)\">\n     <use xlink:href=\"#DejaVuSans-49\"/>\n     <use x=\"63.623047\" xlink:href=\"#DejaVuSans-32\"/>\n     <use x=\"95.410156\" xlink:href=\"#DejaVuSans-121\"/>\n    </g>\n   </g>\n   <g id=\"line2d_62\">\n    <path clip-path=\"url(#pd8ef293506)\" d=\"M 374.3775 250.97128 \nL 378.525469 251.351751 \nL 382.673437 251.717493 \nL 386.821406 252.069078 \nL 390.969375 252.407053 \nL 395.117344 252.731944 \nL 399.265312 253.04426 \nL 403.413281 253.344485 \nL 407.56125 253.633089 \nL 411.709219 253.91052 \nL 415.857187 254.177213 \nL 420.005156 254.433582 \nL 424.153125 254.680026 \nL 428.301094 254.916931 \nL 432.449062 255.144665 \nL 436.597031 255.363584 \nL 440.745 255.574028 \nL 444.892969 255.776326 \nL 449.040937 255.970792 \nL 453.188906 256.157732 \nL 457.336875 256.337434 \nL 461.484844 256.510181 \nL 465.632812 256.67624 \nL 469.780781 256.835871 \nL 473.92875 256.989323 \nL 478.076719 257.136834 \nL 482.224687 257.278636 \nL 486.372656 257.414948 \nL 490.520625 257.545984 \nL 494.668594 257.671947 \nL 498.816562 257.793034 \nL 502.964531 257.909434 \nL 507.1125 258.021328 \nL 511.260469 258.128891 \nL 515.408437 258.23229 \nL 519.556406 258.331686 \nL 523.704375 258.427235 \nL 527.852344 258.519085 \nL 532.000312 258.607379 \nL 536.148281 258.692256 \nL 540.29625 258.773847 \nL 544.444219 258.852279 \nL 548.592187 258.927676 \nL 552.740156 259.000154 \nL 556.888125 259.069826 \nL 561.036094 259.136801 \nL 565.184062 259.201184 \nL 569.332031 259.263074 \nL 573.48 259.322568 \nL 577.627969 259.37976 \nL 581.775937 259.434738 \nL 585.923906 259.487587 \nL 590.071875 259.538391 \nL 594.219844 259.587228 \nL 598.367812 259.634174 \nL 602.515781 259.679303 \nL 606.66375 259.722686 \nL 610.811719 259.764389 \nL 614.959687 259.804477 \nL 619.107656 259.843014 \nL 623.255625 259.880059 \nL 627.403594 259.91567 \nL 631.551562 259.949902 \nL 635.699531 259.98281 \nL 637.818125 259.998967 \n\" style=\"fill:none;stroke:#0000cd;stroke-linecap:square;stroke-width:1.5;\"/>\n   </g>\n   <g id=\"legend_2\">\n    <g id=\"patch_18\">\n     <path d=\"M 566.155625 61.4 \nL 616.255625 61.4 \nQ 618.255625 61.4 618.255625 59.4 \nL 618.255625 43.4 \nQ 618.255625 41.4 616.255625 41.4 \nL 566.155625 41.4 \nQ 564.155625 41.4 564.155625 43.4 \nL 564.155625 59.4 \nQ 564.155625 61.4 566.155625 61.4 \nz\n\" style=\"fill:#e5e5e5;opacity:0.8;stroke:#cccccc;stroke-linejoin:miter;stroke-width:0.5;\"/>\n    </g>\n    <g id=\"line2d_63\">\n     <path d=\"M 568.155625 51.820312 \nL 588.155625 51.820312 \n\" style=\"fill:none;stroke:#0000cd;stroke-linecap:square;stroke-width:1.5;\"/>\n    </g>\n    <g id=\"line2d_64\"/>\n    <g id=\"text_38\">\n     <!-- $\\dot{E}(t)$ -->\n     <g transform=\"translate(596.155625 55.320312)scale(0.1 -0.1)\">\n      <use transform=\"translate(64.389648 30.015625)\" xlink:href=\"#DejaVuSans-775\"/>\n      <use transform=\"translate(0 0.609375)\" xlink:href=\"#DejaVuSans-Oblique-69\"/>\n      <use transform=\"translate(63.183594 0.609375)\" xlink:href=\"#DejaVuSans-40\"/>\n      <use transform=\"translate(102.197266 0.609375)\" xlink:href=\"#DejaVuSans-Oblique-116\"/>\n      <use transform=\"translate(141.40625 0.609375)\" xlink:href=\"#DejaVuSans-41\"/>\n     </g>\n    </g>\n   </g>\n  </g>\n  <g id=\"text_39\">\n   <!-- Calculation of committed effective dose -->\n   <defs>\n    <path d=\"M 64.40625 67.28125 \nL 64.40625 56.890625 \nQ 59.421875 61.53125 53.78125 63.8125 \nQ 48.140625 66.109375 41.796875 66.109375 \nQ 29.296875 66.109375 22.65625 58.46875 \nQ 16.015625 50.828125 16.015625 36.375 \nQ 16.015625 21.96875 22.65625 14.328125 \nQ 29.296875 6.6875 41.796875 6.6875 \nQ 48.140625 6.6875 53.78125 8.984375 \nQ 59.421875 11.28125 64.40625 15.921875 \nL 64.40625 5.609375 \nQ 59.234375 2.09375 53.4375 0.328125 \nQ 47.65625 -1.421875 41.21875 -1.421875 \nQ 24.65625 -1.421875 15.125 8.703125 \nQ 5.609375 18.84375 5.609375 36.375 \nQ 5.609375 53.953125 15.125 64.078125 \nQ 24.65625 74.21875 41.21875 74.21875 \nQ 47.75 74.21875 53.53125 72.484375 \nQ 59.328125 70.75 64.40625 67.28125 \nz\n\" id=\"DejaVuSans-67\"/>\n    <path d=\"M 8.5 21.578125 \nL 8.5 54.6875 \nL 17.484375 54.6875 \nL 17.484375 21.921875 \nQ 17.484375 14.15625 20.5 10.265625 \nQ 23.53125 6.390625 29.59375 6.390625 \nQ 36.859375 6.390625 41.078125 11.03125 \nQ 45.3125 15.671875 45.3125 23.6875 \nL 45.3125 54.6875 \nL 54.296875 54.6875 \nL 54.296875 0 \nL 45.3125 0 \nL 45.3125 8.40625 \nQ 42.046875 3.421875 37.71875 1 \nQ 33.40625 -1.421875 27.6875 -1.421875 \nQ 18.265625 -1.421875 13.375 4.4375 \nQ 8.5 10.296875 8.5 21.578125 \nz\nM 31.109375 56 \nz\n\" id=\"DejaVuSans-117\"/>\n    <path d=\"M 54.890625 33.015625 \nL 54.890625 0 \nL 45.90625 0 \nL 45.90625 32.71875 \nQ 45.90625 40.484375 42.875 44.328125 \nQ 39.84375 48.1875 33.796875 48.1875 \nQ 26.515625 48.1875 22.3125 43.546875 \nQ 18.109375 38.921875 18.109375 30.90625 \nL 18.109375 0 \nL 9.078125 0 \nL 9.078125 54.6875 \nL 18.109375 54.6875 \nL 18.109375 46.1875 \nQ 21.34375 51.125 25.703125 53.5625 \nQ 30.078125 56 35.796875 56 \nQ 45.21875 56 50.046875 50.171875 \nQ 54.890625 44.34375 54.890625 33.015625 \nz\n\" id=\"DejaVuSans-110\"/>\n   </defs>\n   <g transform=\"translate(196.487187 16.318125)scale(0.12 -0.12)\">\n    <use xlink:href=\"#DejaVuSans-67\"/>\n    <use x=\"69.824219\" xlink:href=\"#DejaVuSans-97\"/>\n    <use x=\"131.103516\" xlink:href=\"#DejaVuSans-108\"/>\n    <use x=\"158.886719\" xlink:href=\"#DejaVuSans-99\"/>\n    <use x=\"213.867188\" xlink:href=\"#DejaVuSans-117\"/>\n    <use x=\"277.246094\" xlink:href=\"#DejaVuSans-108\"/>\n    <use x=\"305.029297\" xlink:href=\"#DejaVuSans-97\"/>\n    <use x=\"366.308594\" xlink:href=\"#DejaVuSans-116\"/>\n    <use x=\"405.517578\" xlink:href=\"#DejaVuSans-105\"/>\n    <use x=\"433.300781\" xlink:href=\"#DejaVuSans-111\"/>\n    <use x=\"494.482422\" xlink:href=\"#DejaVuSans-110\"/>\n    <use x=\"557.861328\" xlink:href=\"#DejaVuSans-32\"/>\n    <use x=\"589.648438\" xlink:href=\"#DejaVuSans-111\"/>\n    <use x=\"650.830078\" xlink:href=\"#DejaVuSans-102\"/>\n    <use x=\"686.035156\" xlink:href=\"#DejaVuSans-32\"/>\n    <use x=\"717.822266\" xlink:href=\"#DejaVuSans-99\"/>\n    <use x=\"772.802734\" xlink:href=\"#DejaVuSans-111\"/>\n    <use x=\"833.984375\" xlink:href=\"#DejaVuSans-109\"/>\n    <use x=\"931.396484\" xlink:href=\"#DejaVuSans-109\"/>\n    <use x=\"1028.808594\" xlink:href=\"#DejaVuSans-105\"/>\n    <use x=\"1056.591797\" xlink:href=\"#DejaVuSans-116\"/>\n    <use x=\"1095.800781\" xlink:href=\"#DejaVuSans-116\"/>\n    <use x=\"1135.009766\" xlink:href=\"#DejaVuSans-101\"/>\n    <use x=\"1196.533203\" xlink:href=\"#DejaVuSans-100\"/>\n    <use x=\"1260.009766\" xlink:href=\"#DejaVuSans-32\"/>\n    <use x=\"1291.796875\" xlink:href=\"#DejaVuSans-101\"/>\n    <use x=\"1353.320312\" xlink:href=\"#DejaVuSans-102\"/>\n    <use x=\"1388.525391\" xlink:href=\"#DejaVuSans-102\"/>\n    <use x=\"1423.730469\" xlink:href=\"#DejaVuSans-101\"/>\n    <use x=\"1485.253906\" xlink:href=\"#DejaVuSans-99\"/>\n    <use x=\"1540.234375\" xlink:href=\"#DejaVuSans-116\"/>\n    <use x=\"1579.443359\" xlink:href=\"#DejaVuSans-105\"/>\n    <use x=\"1607.226562\" xlink:href=\"#DejaVuSans-118\"/>\n    <use x=\"1666.40625\" xlink:href=\"#DejaVuSans-101\"/>\n    <use x=\"1727.929688\" xlink:href=\"#DejaVuSans-32\"/>\n    <use x=\"1759.716797\" xlink:href=\"#DejaVuSans-100\"/>\n    <use x=\"1823.193359\" xlink:href=\"#DejaVuSans-111\"/>\n    <use x=\"1884.375\" xlink:href=\"#DejaVuSans-115\"/>\n    <use x=\"1936.474609\" xlink:href=\"#DejaVuSans-101\"/>\n   </g>\n  </g>\n </g>\n <defs>\n  <clipPath id=\"p3861eb27ac\">\n   <rect height=\"224.4\" width=\"248.878125\" x=\"52.5275\" y=\"36.4\"/>\n  </clipPath>\n  <clipPath id=\"pd8ef293506\">\n   <rect height=\"224.4\" width=\"248.878125\" x=\"374.3775\" y=\"36.4\"/>\n  </clipPath>\n </defs>\n <defs>\n  <pattern height=\"72\" id=\"h4814d83648\" patternUnits=\"userSpaceOnUse\" width=\"72\" x=\"0\" y=\"0\">\n   <rect fill=\"#f08080\" height=\"73\" width=\"73\" x=\"0\" y=\"0\"/>\n   <path d=\"M 3 72 \nL 3 0 \nM 9 72 \nL 9 0 \nM 15 72 \nL 15 0 \nM 21 72 \nL 21 0 \nM 27 72 \nL 27 0 \nM 33 72 \nL 33 0 \nM 39 72 \nL 39 0 \nM 45 72 \nL 45 0 \nM 51 72 \nL 51 0 \nM 57 72 \nL 57 0 \nM 63 72 \nL 63 0 \nM 69 72 \nL 69 0 \n\" style=\"fill:#000000;stroke:#000000;stroke-linecap:butt;stroke-linejoin:miter;stroke-width:1.0;\"/>\n  </pattern>\n </defs>\n</svg>\n"
          },
          "metadata": {
            "tags": []
          }
        }
      ]
    },
    {
      "cell_type": "markdown",
      "metadata": {
        "id": "C3uwunv1RrHV"
      },
      "source": [
        "赤色で塗りつぶした領域が、本例題で求めた預託実効線量を示す。"
      ]
    },
    {
      "cell_type": "markdown",
      "metadata": {
        "id": "VAa53ZtFzp__"
      },
      "source": [
        "概念図との比較\n",
        "\n",
        "本資料で作成したグラフの理解を深めるために、概念図を示す。ただし、下記について注意する。\n",
        "\n",
        "- 下の概念図ではy軸ラベルが「線量」となっているが、正確には「線量率」である。\n",
        "- また、右側のグラフは、「0\\~1年」、「1\\~50年」の間の間隔をみると分かるように、x軸のスケールが正しくない。\n",
        "\n",
        "出典：[エネ百科「原子力・エネルギー図面集」](https://www.ene100.jp/zumen)\n",
        "\n",
        "![預託線量の概念図](https://www.ene100.jp/www/wp-content/uploads/zumen/6-3-9.jpg)"
      ]
    },
    {
      "cell_type": "markdown",
      "metadata": {
        "id": "76xSJ-7MfAzB"
      },
      "source": [
        "最後に、例題では「摂取量を測定し実効線量係数を用いて換算した結果、実効線量率は10nSv/hだった」と述べており、摂取量と実効線量係数の値は明らかになっていない。そこで、摂取量が740MBqだったと仮定すると、成人の経口摂取による$^{90}$Srの実効線量係数は"
      ]
    },
    {
      "cell_type": "code",
      "metadata": {
        "id": "jTk5fjZChq5D",
        "outputId": "63a8688d-3577-462c-cb6a-cb6b56539ec6",
        "colab": {
          "base_uri": "https://localhost:8080/",
          "height": 34
        }
      },
      "source": [
        "sr90_intake = 7.4e8  # Bq\n",
        "eff_dose_conv_coeff = committed_eff_dose_in_mSv / sr90_intake\n",
        "print('実効線量係数: {:.1e} mSv/Bq'.format(eff_dose_conv_coeff))"
      ],
      "execution_count": null,
      "outputs": [
        {
          "output_type": "stream",
          "text": [
            "実効線量係数: 2.6e-09 mSv/Bq\n"
          ],
          "name": "stdout"
        }
      ]
    },
    {
      "cell_type": "markdown",
      "metadata": {
        "id": "2xV5kz2ti4zD"
      },
      "source": [
        "である。"
      ]
    },
    {
      "cell_type": "markdown",
      "metadata": {
        "id": "59vc85h76qLr"
      },
      "source": [
        "### SciPyを用いて積分する\n",
        "\n",
        "- [SciPy](https://docs.scipy.org/doc/scipy/reference/index.html)とは、科学計算で必要な様々な関数・パッケージを提供するPythonライブラリである。\n",
        "- 以下で、SciPyのサブパッケージ「[scipy.integrate](https://docs.scipy.org/doc/scipy/reference/tutorial/integrate.html)」を用いて実効線量率の定積分を行ってみる。"
      ]
    },
    {
      "cell_type": "code",
      "metadata": {
        "id": "5FAl-xQ66piw",
        "outputId": "2ebf8d07-b042-4730-c5e9-49dab201ceed",
        "colab": {
          "base_uri": "https://localhost:8080/",
          "height": 51
        }
      },
      "source": [
        "integrand = lambda t: eff_dose_rate_t0 * np.exp(-sr90_dec_const_eff * t)\n",
        "scipy_result = integrate.quad(integrand, t0, t0 + tau1)\n",
        "print('預託実効線量：{:,.1f} nSv、又は'.format(scipy_result[0]))\n",
        "print('預託実効線量：{:,.1f} mSv'.format(scipy_result[0] * 1e-6))"
      ],
      "execution_count": null,
      "outputs": [
        {
          "output_type": "stream",
          "text": [
            "預託実効線量：1,910,672.1 nSv、又は\n",
            "預託実効線量：1.9 mSv\n"
          ],
          "name": "stdout"
        }
      ]
    },
    {
      "cell_type": "markdown",
      "metadata": {
        "id": "sQEjEkAD7QzC"
      },
      "source": [
        "[手計算で求めた積分結果](#手計算で積分する)と全く同じ結果が得られることが分かる。\n",
        "\n",
        "- このようなパッケージは非常に便利であるが、入力したコマンドが正しくなくても結果は出るため、式を理解していない場合には誤った計算になる可能性がある。\n",
        "- 従って、なるべく手計算で計算を行い、確認のためパッケージを利用することが望ましい。"
      ]
    },
    {
      "cell_type": "markdown",
      "metadata": {
        "id": "UFIeifb6SxoP"
      },
      "source": [
        "### まとめ\n",
        "\n",
        "本例題での計算過程をまとめると下記の通りである。"
      ]
    },
    {
      "cell_type": "code",
      "metadata": {
        "id": "dzmF0Hy_SzzE",
        "outputId": "6130a6b9-2845-41c8-c346-44aa3357cc43",
        "colab": {
          "base_uri": "https://localhost:8080/",
          "height": 393
        }
      },
      "source": [
        "g = Digraph()\n",
        "g.attr('node', shape='record')\n",
        "\n",
        "# 手計算\n",
        "g.node('h1', '手計算',\n",
        "       style='filled', fillcolor='indianred', fontcolor='white')\n",
        "g.node('h2', '実効壊変定数を計算',\n",
        "       style='filled', fillcolor='khaki1')\n",
        "g.node('h3', '実効線量率を摂取後経過時間に対して定積分')\n",
        "g.node('h4', 'Pythonを用いて、積分で得られた式を演算')\n",
        "g.edge('h1', 'h2', dir='none')\n",
        "g.edges([('h2', 'h3'),\n",
        "         ('h3', 'h4')])\n",
        "\n",
        "# SciPyを用いた計算\n",
        "g.node('s1', 'SciPyを用いた計算',\n",
        "       style='filled', fillcolor='royalblue1', fontcolor='white')\n",
        "g.node('s2', '実効壊変定数を計算',\n",
        "       style='filled', fillcolor='khaki1')\n",
        "g.node('s3', 'Pythonを用いて、実効線量率を摂取後経過時間に対して定積分')\n",
        "g.edge('s1', 's2', dir='none')\n",
        "g.edge('s2', 's3')\n",
        "\n",
        "# Rank constraints\n",
        "with g.subgraph() as s:\n",
        "    s.attr(rank='same')\n",
        "    s.node('h1')\n",
        "    s.node('s1')\n",
        "with g.subgraph() as s:\n",
        "    s.attr(rank='same')\n",
        "    s.node('h2')\n",
        "    s.node('s2')\n",
        "with g.subgraph() as s:\n",
        "    s.attr(rank='same')\n",
        "    s.node('h4')\n",
        "    s.node('s3')\n",
        "\n",
        "# Show on Colab\n",
        "g"
      ],
      "execution_count": null,
      "outputs": [
        {
          "output_type": "execute_result",
          "data": {
            "text/plain": [
              "<graphviz.dot.Digraph at 0x7fc931d89a90>"
            ],
            "image/svg+xml": "<?xml version=\"1.0\" encoding=\"UTF-8\" standalone=\"no\"?>\n<!DOCTYPE svg PUBLIC \"-//W3C//DTD SVG 1.1//EN\"\n \"http://www.w3.org/Graphics/SVG/1.1/DTD/svg11.dtd\">\n<!-- Generated by graphviz version 2.40.1 (20161225.0304)\n -->\n<!-- Title: %3 Pages: 1 -->\n<svg width=\"736pt\" height=\"264pt\"\n viewBox=\"0.00 0.00 735.50 264.00\" xmlns=\"http://www.w3.org/2000/svg\" xmlns:xlink=\"http://www.w3.org/1999/xlink\">\n<g id=\"graph0\" class=\"graph\" transform=\"scale(1 1) rotate(0) translate(4 260)\">\n<title>%3</title>\n<polygon fill=\"#ffffff\" stroke=\"transparent\" points=\"-4,4 -4,-260 731.5,-260 731.5,4 -4,4\"/>\n<!-- h1 -->\n<g id=\"node1\" class=\"node\">\n<title>h1</title>\n<polygon fill=\"#cd5c5c\" stroke=\"#000000\" points=\"121.5,-219.5 121.5,-255.5 180.5,-255.5 180.5,-219.5 121.5,-219.5\"/>\n<text text-anchor=\"middle\" x=\"151\" y=\"-233.8\" font-family=\"Times,serif\" font-size=\"14.00\" fill=\"#ffffff\">手計算</text>\n</g>\n<!-- h2 -->\n<g id=\"node2\" class=\"node\">\n<title>h2</title>\n<polygon fill=\"#fff68f\" stroke=\"#000000\" points=\"78.5,-146.5 78.5,-182.5 223.5,-182.5 223.5,-146.5 78.5,-146.5\"/>\n<text text-anchor=\"middle\" x=\"151\" y=\"-160.8\" font-family=\"Times,serif\" font-size=\"14.00\" fill=\"#000000\">実効壊変定数を計算</text>\n</g>\n<!-- h1&#45;&gt;h2 -->\n<g id=\"edge1\" class=\"edge\">\n<title>h1&#45;&gt;h2</title>\n<path fill=\"none\" stroke=\"#000000\" d=\"M151,-219.4551C151,-208.2241 151,-193.8298 151,-182.5904\"/>\n</g>\n<!-- h3 -->\n<g id=\"node3\" class=\"node\">\n<title>h3</title>\n<polygon fill=\"none\" stroke=\"#000000\" points=\"0,-73.5 0,-109.5 302,-109.5 302,-73.5 0,-73.5\"/>\n<text text-anchor=\"middle\" x=\"151\" y=\"-87.8\" font-family=\"Times,serif\" font-size=\"14.00\" fill=\"#000000\">実効線量率を摂取後経過時間に対して定積分</text>\n</g>\n<!-- h2&#45;&gt;h3 -->\n<g id=\"edge2\" class=\"edge\">\n<title>h2&#45;&gt;h3</title>\n<path fill=\"none\" stroke=\"#000000\" d=\"M151,-146.4551C151,-138.3828 151,-128.6764 151,-119.6817\"/>\n<polygon fill=\"#000000\" stroke=\"#000000\" points=\"154.5001,-119.5903 151,-109.5904 147.5001,-119.5904 154.5001,-119.5903\"/>\n</g>\n<!-- h4 -->\n<g id=\"node4\" class=\"node\">\n<title>h4</title>\n<polygon fill=\"none\" stroke=\"#000000\" points=\"7.5,-.5 7.5,-36.5 294.5,-36.5 294.5,-.5 7.5,-.5\"/>\n<text text-anchor=\"middle\" x=\"151\" y=\"-14.8\" font-family=\"Times,serif\" font-size=\"14.00\" fill=\"#000000\">Pythonを用いて、積分で得られた式を演算</text>\n</g>\n<!-- h3&#45;&gt;h4 -->\n<g id=\"edge3\" class=\"edge\">\n<title>h3&#45;&gt;h4</title>\n<path fill=\"none\" stroke=\"#000000\" d=\"M151,-73.4551C151,-65.3828 151,-55.6764 151,-46.6817\"/>\n<polygon fill=\"#000000\" stroke=\"#000000\" points=\"154.5001,-46.5903 151,-36.5904 147.5001,-46.5904 154.5001,-46.5903\"/>\n</g>\n<!-- s1 -->\n<g id=\"node5\" class=\"node\">\n<title>s1</title>\n<polygon fill=\"#4876ff\" stroke=\"#000000\" points=\"452,-219.5 452,-255.5 588,-255.5 588,-219.5 452,-219.5\"/>\n<text text-anchor=\"middle\" x=\"520\" y=\"-233.8\" font-family=\"Times,serif\" font-size=\"14.00\" fill=\"#ffffff\">SciPyを用いた計算</text>\n</g>\n<!-- s2 -->\n<g id=\"node6\" class=\"node\">\n<title>s2</title>\n<polygon fill=\"#fff68f\" stroke=\"#000000\" points=\"447.5,-146.5 447.5,-182.5 592.5,-182.5 592.5,-146.5 447.5,-146.5\"/>\n<text text-anchor=\"middle\" x=\"520\" y=\"-160.8\" font-family=\"Times,serif\" font-size=\"14.00\" fill=\"#000000\">実効壊変定数を計算</text>\n</g>\n<!-- s1&#45;&gt;s2 -->\n<g id=\"edge4\" class=\"edge\">\n<title>s1&#45;&gt;s2</title>\n<path fill=\"none\" stroke=\"#000000\" d=\"M520,-219.4551C520,-208.2241 520,-193.8298 520,-182.5904\"/>\n</g>\n<!-- s3 -->\n<g id=\"node7\" class=\"node\">\n<title>s3</title>\n<polygon fill=\"none\" stroke=\"#000000\" points=\"312.5,-.5 312.5,-36.5 727.5,-36.5 727.5,-.5 312.5,-.5\"/>\n<text text-anchor=\"middle\" x=\"520\" y=\"-14.8\" font-family=\"Times,serif\" font-size=\"14.00\" fill=\"#000000\">Pythonを用いて、実効線量率を摂取後経過時間に対して定積分</text>\n</g>\n<!-- s2&#45;&gt;s3 -->\n<g id=\"edge5\" class=\"edge\">\n<title>s2&#45;&gt;s3</title>\n<path fill=\"none\" stroke=\"#000000\" d=\"M520,-146.3042C520,-121.3868 520,-76.3938 520,-46.9877\"/>\n<polygon fill=\"#000000\" stroke=\"#000000\" points=\"523.5001,-46.9251 520,-36.9251 516.5001,-46.9251 523.5001,-46.9251\"/>\n</g>\n</g>\n</svg>\n"
          },
          "metadata": {
            "tags": []
          },
          "execution_count": 15
        }
      ]
    },
    {
      "cell_type": "markdown",
      "metadata": {
        "id": "M8JcC7-sTLsR"
      },
      "source": [
        "いずれのステップも、時間の単位に注意する必要がある。"
      ]
    },
    {
      "cell_type": "markdown",
      "metadata": {
        "id": "VsN-dqTOAfhz"
      },
      "source": [
        "## 放射平衡"
      ]
    },
    {
      "cell_type": "markdown",
      "metadata": {
        "id": "ymOVR3vwfk4Y"
      },
      "source": [
        "### 過渡平衡"
      ]
    },
    {
      "cell_type": "markdown",
      "metadata": {
        "id": "LWKRsRup5WkA"
      },
      "source": [
        "過渡平衡とは、娘核種の壊変定数$\\lambda_{2}$が親核種の壊変定数$\\lambda_{1}$より高く、平衡が成り立てる十分な時間が経過したとき成立される平衡状態をいう。すなわち、\n",
        "\n",
        "$\\lambda_{1} < \\lambda_{2}$\n",
        "\n",
        "の関係を持つ親核種と娘核種の間に過渡平衡が成り立てる。その理由を下記に述べる。"
      ]
    },
    {
      "cell_type": "markdown",
      "metadata": {
        "id": "G3XqKR3SdpMe"
      },
      "source": [
        "親核種とその娘核種の時間経過に伴う原子数$N$は、それぞれ\n",
        "\n",
        "$\\begin{align}\n",
        "  \\frac{\\textrm{d}N_{1}}{\\textrm{d}t} &= -\\lambda_{1} N_{1} \\\\\n",
        "  \\frac{\\textrm{d}N_{2}}{\\textrm{d}t} &= \\lambda_{1} N_{1} -\\lambda_{2} N_{2}\n",
        "\\end{align}$\n",
        "\n",
        "で表される（[Bateman方程式](https://en.wikipedia.org/wiki/Bateman_equation#:~:text=In%20nuclear%20physics%2C%20the%20Bateman,by%20Harry%20Bateman%20in%201910.)）。\n",
        "\n",
        "上記の微分方程式を連立して解くと、親核種とその娘核種のそれぞれの放射能式が得られる。本資料では[連立微分方程式を解く過程](https://journals.aps.org/prab/abstract/10.1103/PhysRevAccelBeams.20.104701)は省略し、結果のみを示す。結果は下記の通りである。"
      ]
    },
    {
      "cell_type": "markdown",
      "metadata": {
        "id": "9l_cTWChcZdo"
      },
      "source": [
        "$\\begin{align}\n",
        "  A_{1}(t) &= A_{1}(0) \\exp(-\\lambda_{1} t) \\\\\n",
        "  A_{2}(t) &= B \\left\\{\n",
        "    \\frac{\\lambda_{2}}\n",
        "         {\\lambda_{2} - \\lambda_{1}}\n",
        "    A_{1}(0)\n",
        "    \\left[\n",
        "      \\exp(-\\lambda_{1} t) - \\exp(-\\lambda_{2} t)\n",
        "    \\right]\n",
        "    \\right\\} + A_{2}(0) \\exp(-\\lambda_{2} t)\n",
        "\\end{align}$\n",
        "\n",
        "ここで、$B$は核種$1$が$2$に壊変する確率「branching ratio」を示す。"
      ]
    },
    {
      "cell_type": "markdown",
      "metadata": {
        "id": "oRE2G1hZqPOt"
      },
      "source": [
        "上記で述べたように、過渡平衡条件は\n",
        "\n",
        "$\\lambda_{1} < \\lambda_{2}$\n",
        "\n",
        "である。従って、$A_{2}(t)$の式で次の関係が成立する。\n",
        "\n",
        "$\\exp(-\\lambda_{2} t) \\to 0$、ただし、$\\exp(-\\lambda_{1} t) \\neq 0$\n",
        "\n",
        "そのため、$A_{2}(t)$の式は\n",
        "\\begin{equation}\n",
        "  A_{2}(t)\n",
        "  \\approx B\n",
        "  \\frac{\\lambda_{2}}\n",
        "       {\\lambda_{2} - \\lambda_{1}}\n",
        "  A_{1}(t)\n",
        "  + A_{2}(0) \\exp(-\\lambda_{2} t)\n",
        "\\end{equation}\n",
        "に近似できる。また、通常$A_{2}(0) = 0$であるため、$A_{2}(t)$は\n",
        "\\begin{equation}\n",
        "  A_{2}(t)\n",
        "  \\approx B\n",
        "  \\frac{\\lambda_{2}}\n",
        "       {\\lambda_{2} - \\lambda_{1}}\n",
        "  A_{1}(t)\n",
        "\\end{equation}\n",
        "に表すことができ、これを書き直すと、\n",
        "\\begin{equation}\n",
        "  \\frac{A_{2}(t)}{A_{1}(t)}\n",
        "  \\approx B\n",
        "  \\frac{\\lambda_{2}}\n",
        "       {\\lambda_{2} - \\lambda_{1}}\n",
        "\\end{equation}\n",
        "になる。\n",
        "\n",
        "ただし、上記の近似式は$\\exp(-\\lambda_{2} t) \\to 0$になる時刻$t$で成り立つことに注意。\n",
        "\n",
        "まとめると、$\\exp(-\\lambda_{2} t) \\to 0$になるような十分な時間が経ったとき、娘核種と親核種の間には過渡平衡が成立し、その放射能の比は$B \\frac{\\lambda_{2}}{\\lambda_{2} - \\lambda_{1}}$になる。"
      ]
    },
    {
      "cell_type": "markdown",
      "metadata": {
        "id": "5-mVX4mespAY"
      },
      "source": [
        "---"
      ]
    },
    {
      "cell_type": "markdown",
      "metadata": {
        "id": "9u119J1ND2Wb"
      },
      "source": [
        "以下、過渡平衡の実例を用いてグラフを作成してみる。"
      ]
    },
    {
      "cell_type": "markdown",
      "metadata": {
        "id": "ssMBNZa_oiV4"
      },
      "source": [
        "核医学で多く利用される$^{99\\textrm{m}}$Tcは、その親核種である$^{99}$Moと過渡平衡を成立する。関連する壊変は下記の通りである。"
      ]
    },
    {
      "cell_type": "markdown",
      "metadata": {
        "id": "4Unj8jz-okQw"
      },
      "source": [
        "$^{99}$Mo\n",
        "$\\xrightarrow[65.94\\,\\mathrm{h}]{\\beta^{-}}$\n",
        "$^{99\\mathrm{m}}$Tc\n",
        "$\\xrightarrow[6\\,\\mathrm{h}]{\\mathrm{IT}}$\n",
        "$^{99}$Tc\n",
        "$\\xrightarrow[2.1\\times10^{5}\\,\\mathrm{y}]{\\beta^{-}}$\n",
        "$^{99}$Ru"
      ]
    },
    {
      "cell_type": "markdown",
      "metadata": {
        "id": "5Xk3zJz3pXUP"
      },
      "source": [
        "[預託実効線量](#預託実効線量)で述べたように、$\\lambda$は半減期$T$と$\\lambda = \\frac{\\ln(2)}{T}$の関係を持つ。したがって、$^{99}$Moと$^{99\\textrm{m}}$Tcの半減期及び壊変定数はそれぞれ"
      ]
    },
    {
      "cell_type": "code",
      "metadata": {
        "id": "HEoEcHLeTeDk",
        "outputId": "44eacc9b-59e6-4c03-ffe4-d895d6a54021",
        "colab": {
          "base_uri": "https://localhost:8080/",
          "height": 71
        }
      },
      "source": [
        "mo99_half_life_phy = 65.94  # 時間\n",
        "mo99_dec_const_phy = np.log(2) / mo99_half_life_phy\n",
        "print('Mo-99の（物理学的）半減期：{:.2f}時間'.format(mo99_half_life_phy))\n",
        "print('Mo-99の（物理学的）壊変定数：{:.4f}/時間'.format(mo99_dec_const_phy))"
      ],
      "execution_count": null,
      "outputs": [
        {
          "output_type": "stream",
          "text": [
            "Mo-99の（物理学的）半減期：65.94時間\n",
            "Mo-99の（物理学的）壊変定数：0.0105/時間\n"
          ],
          "name": "stdout"
        }
      ]
    },
    {
      "cell_type": "code",
      "metadata": {
        "id": "3bDaNIQ5iGpS",
        "outputId": "a5d7cb7d-ed6b-45dc-816b-081d122061d5",
        "colab": {
          "base_uri": "https://localhost:8080/",
          "height": 71
        }
      },
      "source": [
        "tc99m_half_life_phy = 6.01  # 時間\n",
        "tc99m_dec_const_phy = np.log(2) / tc99m_half_life_phy\n",
        "print('Mo-99の（物理学的）半減期：{:.2f}時間'.format(tc99m_half_life_phy))\n",
        "print('Mo-99の（物理学的）壊変定数：{:.4f}/時間'.format(tc99m_dec_const_phy))"
      ],
      "execution_count": null,
      "outputs": [
        {
          "output_type": "stream",
          "text": [
            "Mo-99の（物理学的）半減期：6.01時間\n",
            "Mo-99の（物理学的）壊変定数：0.1153/時間\n"
          ],
          "name": "stdout"
        }
      ]
    },
    {
      "cell_type": "markdown",
      "metadata": {
        "id": "wjDMfZ7EJdsq"
      },
      "source": [
        "である。"
      ]
    },
    {
      "cell_type": "markdown",
      "metadata": {
        "id": "a70W9MkYid_J"
      },
      "source": [
        "また、$^{99}$Moの$^{99\\mathrm{m}}$Tcへのbranching ratioは$B \\approx 0.875$である。したがって、過渡平衡は$^{99\\mathrm{m}}$Tcと$^{99}$Moの放射能比が"
      ]
    },
    {
      "cell_type": "code",
      "metadata": {
        "id": "KeXCpmyFzZNL",
        "outputId": "5486e3b4-f049-4e66-c01f-7f537a3fa666",
        "colab": {
          "base_uri": "https://localhost:8080/",
          "height": 34
        }
      },
      "source": [
        "b = 0.875\n",
        "tr_equil = b * tc99m_dec_const_phy / (tc99m_dec_const_phy - mo99_dec_const_phy)\n",
        "print('{:.4f}'.format(tr_equil))"
      ],
      "execution_count": null,
      "outputs": [
        {
          "output_type": "stream",
          "text": [
            "0.9627\n"
          ],
          "name": "stdout"
        }
      ]
    },
    {
      "cell_type": "markdown",
      "metadata": {
        "id": "5iU8tzRy0QLQ"
      },
      "source": [
        "になる時刻$t$に成り立つ。また、この$t$で$\\exp(-\\lambda_{2} t) \\to 0$になる。"
      ]
    },
    {
      "cell_type": "markdown",
      "metadata": {
        "id": "voFZkYVvzCmN"
      },
      "source": [
        "今、$t = 0$での初期放射能$A_{1}(0) = 100$ MBq、$A_{2}(0) = 0$ MBqを仮定し、$A_{1}(t)$と$A_{2}(t)$を計算すると以下の通りである。"
      ]
    },
    {
      "cell_type": "code",
      "metadata": {
        "id": "v7usJOFMjP69",
        "outputId": "5afb84fa-8ec9-4205-c6c5-0ad0a23529b1",
        "colab": {
          "base_uri": "https://localhost:8080/",
          "height": 1000
        }
      },
      "source": [
        "t = np.arange(101)  # 0~100時間\n",
        "\n",
        "a10 = 100  # MBq\n",
        "a20 = 0\n",
        "\n",
        "a1 = decay(a10, mo99_dec_const_phy, t)\n",
        "a2 = get_daughter_act(a10, mo99_dec_const_phy, tc99m_dec_const_phy, b, t)\n",
        "a2_over_a1 = a2 / a1\n",
        "lambda2_exp_dec = np.exp(-tc99m_dec_const_phy * t)\n",
        "\n",
        "df = pd.DataFrame({'時間[時間]': t,\n",
        "                   'Mo-99放射能[MBq]': a1,\n",
        "                   'Tc-99m放射能[MBq]': a2,\n",
        "                   'Tc-99m放射能 / Mo-99放射能': a2_over_a1,\n",
        "                   'exp(-lambda_{2} * t)': lambda2_exp_dec})\n",
        "df.head(60)"
      ],
      "execution_count": null,
      "outputs": [
        {
          "output_type": "execute_result",
          "data": {
            "text/html": [
              "<div>\n",
              "<style scoped>\n",
              "    .dataframe tbody tr th:only-of-type {\n",
              "        vertical-align: middle;\n",
              "    }\n",
              "\n",
              "    .dataframe tbody tr th {\n",
              "        vertical-align: top;\n",
              "    }\n",
              "\n",
              "    .dataframe thead th {\n",
              "        text-align: right;\n",
              "    }\n",
              "</style>\n",
              "<table border=\"1\" class=\"dataframe\">\n",
              "  <thead>\n",
              "    <tr style=\"text-align: right;\">\n",
              "      <th></th>\n",
              "      <th>時間[時間]</th>\n",
              "      <th>Mo-99放射能[MBq]</th>\n",
              "      <th>Tc-99m放射能[MBq]</th>\n",
              "      <th>Tc-99m放射能 / Mo-99放射能</th>\n",
              "      <th>exp(-lambda_{2} * t)</th>\n",
              "    </tr>\n",
              "  </thead>\n",
              "  <tbody>\n",
              "    <tr>\n",
              "      <th>0</th>\n",
              "      <td>0</td>\n",
              "      <td>100.000000</td>\n",
              "      <td>0.000000</td>\n",
              "      <td>0.000000</td>\n",
              "      <td>1.000000</td>\n",
              "    </tr>\n",
              "    <tr>\n",
              "      <th>1</th>\n",
              "      <td>1</td>\n",
              "      <td>98.954327</td>\n",
              "      <td>9.480498</td>\n",
              "      <td>0.095807</td>\n",
              "      <td>0.891070</td>\n",
              "    </tr>\n",
              "    <tr>\n",
              "      <th>2</th>\n",
              "      <td>2</td>\n",
              "      <td>97.919588</td>\n",
              "      <td>17.829150</td>\n",
              "      <td>0.182080</td>\n",
              "      <td>0.794006</td>\n",
              "    </tr>\n",
              "    <tr>\n",
              "      <th>3</th>\n",
              "      <td>3</td>\n",
              "      <td>96.895669</td>\n",
              "      <td>25.170285</td>\n",
              "      <td>0.259767</td>\n",
              "      <td>0.707515</td>\n",
              "    </tr>\n",
              "    <tr>\n",
              "      <th>4</th>\n",
              "      <td>4</td>\n",
              "      <td>95.882458</td>\n",
              "      <td>31.614677</td>\n",
              "      <td>0.329723</td>\n",
              "      <td>0.630445</td>\n",
              "    </tr>\n",
              "    <tr>\n",
              "      <th>5</th>\n",
              "      <td>5</td>\n",
              "      <td>94.879841</td>\n",
              "      <td>37.261024</td>\n",
              "      <td>0.392718</td>\n",
              "      <td>0.561771</td>\n",
              "    </tr>\n",
              "    <tr>\n",
              "      <th>6</th>\n",
              "      <td>6</td>\n",
              "      <td>93.887708</td>\n",
              "      <td>42.197262</td>\n",
              "      <td>0.449444</td>\n",
              "      <td>0.500577</td>\n",
              "    </tr>\n",
              "    <tr>\n",
              "      <th>7</th>\n",
              "      <td>7</td>\n",
              "      <td>92.905949</td>\n",
              "      <td>46.501736</td>\n",
              "      <td>0.500525</td>\n",
              "      <td>0.446049</td>\n",
              "    </tr>\n",
              "    <tr>\n",
              "      <th>8</th>\n",
              "      <td>8</td>\n",
              "      <td>91.934457</td>\n",
              "      <td>50.244247</td>\n",
              "      <td>0.546522</td>\n",
              "      <td>0.397461</td>\n",
              "    </tr>\n",
              "    <tr>\n",
              "      <th>9</th>\n",
              "      <td>9</td>\n",
              "      <td>90.973123</td>\n",
              "      <td>53.486985</td>\n",
              "      <td>0.587943</td>\n",
              "      <td>0.354166</td>\n",
              "    </tr>\n",
              "    <tr>\n",
              "      <th>10</th>\n",
              "      <td>10</td>\n",
              "      <td>90.021841</td>\n",
              "      <td>56.285352</td>\n",
              "      <td>0.625241</td>\n",
              "      <td>0.315586</td>\n",
              "    </tr>\n",
              "    <tr>\n",
              "      <th>11</th>\n",
              "      <td>11</td>\n",
              "      <td>89.080507</td>\n",
              "      <td>58.688706</td>\n",
              "      <td>0.658828</td>\n",
              "      <td>0.281209</td>\n",
              "    </tr>\n",
              "    <tr>\n",
              "      <th>12</th>\n",
              "      <td>12</td>\n",
              "      <td>88.149017</td>\n",
              "      <td>60.741020</td>\n",
              "      <td>0.689072</td>\n",
              "      <td>0.250577</td>\n",
              "    </tr>\n",
              "    <tr>\n",
              "      <th>13</th>\n",
              "      <td>13</td>\n",
              "      <td>87.227266</td>\n",
              "      <td>62.481466</td>\n",
              "      <td>0.716307</td>\n",
              "      <td>0.223282</td>\n",
              "    </tr>\n",
              "    <tr>\n",
              "      <th>14</th>\n",
              "      <td>14</td>\n",
              "      <td>86.315154</td>\n",
              "      <td>63.944938</td>\n",
              "      <td>0.740831</td>\n",
              "      <td>0.198960</td>\n",
              "    </tr>\n",
              "    <tr>\n",
              "      <th>15</th>\n",
              "      <td>15</td>\n",
              "      <td>85.412580</td>\n",
              "      <td>65.162521</td>\n",
              "      <td>0.762915</td>\n",
              "      <td>0.177287</td>\n",
              "    </tr>\n",
              "    <tr>\n",
              "      <th>16</th>\n",
              "      <td>16</td>\n",
              "      <td>84.519443</td>\n",
              "      <td>66.161904</td>\n",
              "      <td>0.782801</td>\n",
              "      <td>0.157975</td>\n",
              "    </tr>\n",
              "    <tr>\n",
              "      <th>17</th>\n",
              "      <td>17</td>\n",
              "      <td>83.635646</td>\n",
              "      <td>66.967751</td>\n",
              "      <td>0.800708</td>\n",
              "      <td>0.140767</td>\n",
              "    </tr>\n",
              "    <tr>\n",
              "      <th>18</th>\n",
              "      <td>18</td>\n",
              "      <td>82.761091</td>\n",
              "      <td>67.602029</td>\n",
              "      <td>0.816833</td>\n",
              "      <td>0.125433</td>\n",
              "    </tr>\n",
              "    <tr>\n",
              "      <th>19</th>\n",
              "      <td>19</td>\n",
              "      <td>81.895681</td>\n",
              "      <td>68.084302</td>\n",
              "      <td>0.831354</td>\n",
              "      <td>0.111770</td>\n",
              "    </tr>\n",
              "    <tr>\n",
              "      <th>20</th>\n",
              "      <td>20</td>\n",
              "      <td>81.039319</td>\n",
              "      <td>68.431996</td>\n",
              "      <td>0.844430</td>\n",
              "      <td>0.099595</td>\n",
              "    </tr>\n",
              "    <tr>\n",
              "      <th>21</th>\n",
              "      <td>21</td>\n",
              "      <td>80.191913</td>\n",
              "      <td>68.660629</td>\n",
              "      <td>0.856204</td>\n",
              "      <td>0.088746</td>\n",
              "    </tr>\n",
              "    <tr>\n",
              "      <th>22</th>\n",
              "      <td>22</td>\n",
              "      <td>79.353368</td>\n",
              "      <td>68.784018</td>\n",
              "      <td>0.866807</td>\n",
              "      <td>0.079079</td>\n",
              "    </tr>\n",
              "    <tr>\n",
              "      <th>23</th>\n",
              "      <td>23</td>\n",
              "      <td>78.523591</td>\n",
              "      <td>68.814468</td>\n",
              "      <td>0.876354</td>\n",
              "      <td>0.070465</td>\n",
              "    </tr>\n",
              "    <tr>\n",
              "      <th>24</th>\n",
              "      <td>24</td>\n",
              "      <td>77.702491</td>\n",
              "      <td>68.762935</td>\n",
              "      <td>0.884951</td>\n",
              "      <td>0.062789</td>\n",
              "    </tr>\n",
              "    <tr>\n",
              "      <th>25</th>\n",
              "      <td>25</td>\n",
              "      <td>76.889977</td>\n",
              "      <td>68.639170</td>\n",
              "      <td>0.892693</td>\n",
              "      <td>0.055949</td>\n",
              "    </tr>\n",
              "    <tr>\n",
              "      <th>26</th>\n",
              "      <td>26</td>\n",
              "      <td>76.085959</td>\n",
              "      <td>68.451857</td>\n",
              "      <td>0.899665</td>\n",
              "      <td>0.049855</td>\n",
              "    </tr>\n",
              "    <tr>\n",
              "      <th>27</th>\n",
              "      <td>27</td>\n",
              "      <td>75.290349</td>\n",
              "      <td>68.208723</td>\n",
              "      <td>0.905942</td>\n",
              "      <td>0.044424</td>\n",
              "    </tr>\n",
              "    <tr>\n",
              "      <th>28</th>\n",
              "      <td>28</td>\n",
              "      <td>74.503058</td>\n",
              "      <td>67.916645</td>\n",
              "      <td>0.911595</td>\n",
              "      <td>0.039585</td>\n",
              "    </tr>\n",
              "    <tr>\n",
              "      <th>29</th>\n",
              "      <td>29</td>\n",
              "      <td>73.724000</td>\n",
              "      <td>67.581745</td>\n",
              "      <td>0.916686</td>\n",
              "      <td>0.035273</td>\n",
              "    </tr>\n",
              "    <tr>\n",
              "      <th>30</th>\n",
              "      <td>30</td>\n",
              "      <td>72.953088</td>\n",
              "      <td>67.209467</td>\n",
              "      <td>0.921270</td>\n",
              "      <td>0.031431</td>\n",
              "    </tr>\n",
              "    <tr>\n",
              "      <th>31</th>\n",
              "      <td>31</td>\n",
              "      <td>72.190237</td>\n",
              "      <td>66.804654</td>\n",
              "      <td>0.925397</td>\n",
              "      <td>0.028007</td>\n",
              "    </tr>\n",
              "    <tr>\n",
              "      <th>32</th>\n",
              "      <td>32</td>\n",
              "      <td>71.435363</td>\n",
              "      <td>66.371616</td>\n",
              "      <td>0.929114</td>\n",
              "      <td>0.024956</td>\n",
              "    </tr>\n",
              "    <tr>\n",
              "      <th>33</th>\n",
              "      <td>33</td>\n",
              "      <td>70.688383</td>\n",
              "      <td>65.914183</td>\n",
              "      <td>0.932461</td>\n",
              "      <td>0.022238</td>\n",
              "    </tr>\n",
              "    <tr>\n",
              "      <th>34</th>\n",
              "      <td>34</td>\n",
              "      <td>69.949213</td>\n",
              "      <td>65.435761</td>\n",
              "      <td>0.935475</td>\n",
              "      <td>0.019815</td>\n",
              "    </tr>\n",
              "    <tr>\n",
              "      <th>35</th>\n",
              "      <td>35</td>\n",
              "      <td>69.217773</td>\n",
              "      <td>64.939376</td>\n",
              "      <td>0.938189</td>\n",
              "      <td>0.017657</td>\n",
              "    </tr>\n",
              "    <tr>\n",
              "      <th>36</th>\n",
              "      <td>36</td>\n",
              "      <td>68.493982</td>\n",
              "      <td>64.427718</td>\n",
              "      <td>0.940633</td>\n",
              "      <td>0.015733</td>\n",
              "    </tr>\n",
              "    <tr>\n",
              "      <th>37</th>\n",
              "      <td>37</td>\n",
              "      <td>67.777759</td>\n",
              "      <td>63.903176</td>\n",
              "      <td>0.942834</td>\n",
              "      <td>0.014020</td>\n",
              "    </tr>\n",
              "    <tr>\n",
              "      <th>38</th>\n",
              "      <td>38</td>\n",
              "      <td>67.069025</td>\n",
              "      <td>63.367871</td>\n",
              "      <td>0.944816</td>\n",
              "      <td>0.012492</td>\n",
              "    </tr>\n",
              "    <tr>\n",
              "      <th>39</th>\n",
              "      <td>39</td>\n",
              "      <td>66.367702</td>\n",
              "      <td>62.823686</td>\n",
              "      <td>0.946600</td>\n",
              "      <td>0.011132</td>\n",
              "    </tr>\n",
              "    <tr>\n",
              "      <th>40</th>\n",
              "      <td>40</td>\n",
              "      <td>65.673713</td>\n",
              "      <td>62.272289</td>\n",
              "      <td>0.948207</td>\n",
              "      <td>0.009919</td>\n",
              "    </tr>\n",
              "    <tr>\n",
              "      <th>41</th>\n",
              "      <td>41</td>\n",
              "      <td>64.986981</td>\n",
              "      <td>61.715163</td>\n",
              "      <td>0.949654</td>\n",
              "      <td>0.008839</td>\n",
              "    </tr>\n",
              "    <tr>\n",
              "      <th>42</th>\n",
              "      <td>42</td>\n",
              "      <td>64.307429</td>\n",
              "      <td>61.153618</td>\n",
              "      <td>0.950957</td>\n",
              "      <td>0.007876</td>\n",
              "    </tr>\n",
              "    <tr>\n",
              "      <th>43</th>\n",
              "      <td>43</td>\n",
              "      <td>63.634984</td>\n",
              "      <td>60.588818</td>\n",
              "      <td>0.952131</td>\n",
              "      <td>0.007018</td>\n",
              "    </tr>\n",
              "    <tr>\n",
              "      <th>44</th>\n",
              "      <td>44</td>\n",
              "      <td>62.969570</td>\n",
              "      <td>60.021791</td>\n",
              "      <td>0.953187</td>\n",
              "      <td>0.006253</td>\n",
              "    </tr>\n",
              "    <tr>\n",
              "      <th>45</th>\n",
              "      <td>45</td>\n",
              "      <td>62.311114</td>\n",
              "      <td>59.453445</td>\n",
              "      <td>0.954139</td>\n",
              "      <td>0.005572</td>\n",
              "    </tr>\n",
              "    <tr>\n",
              "      <th>46</th>\n",
              "      <td>46</td>\n",
              "      <td>61.659544</td>\n",
              "      <td>58.884584</td>\n",
              "      <td>0.954995</td>\n",
              "      <td>0.004965</td>\n",
              "    </tr>\n",
              "    <tr>\n",
              "      <th>47</th>\n",
              "      <td>47</td>\n",
              "      <td>61.014786</td>\n",
              "      <td>58.315917</td>\n",
              "      <td>0.955767</td>\n",
              "      <td>0.004424</td>\n",
              "    </tr>\n",
              "    <tr>\n",
              "      <th>48</th>\n",
              "      <td>48</td>\n",
              "      <td>60.376771</td>\n",
              "      <td>57.748069</td>\n",
              "      <td>0.956462</td>\n",
              "      <td>0.003942</td>\n",
              "    </tr>\n",
              "    <tr>\n",
              "      <th>49</th>\n",
              "      <td>49</td>\n",
              "      <td>59.745428</td>\n",
              "      <td>57.181589</td>\n",
              "      <td>0.957087</td>\n",
              "      <td>0.003513</td>\n",
              "    </tr>\n",
              "    <tr>\n",
              "      <th>50</th>\n",
              "      <td>50</td>\n",
              "      <td>59.120686</td>\n",
              "      <td>56.616962</td>\n",
              "      <td>0.957651</td>\n",
              "      <td>0.003130</td>\n",
              "    </tr>\n",
              "    <tr>\n",
              "      <th>51</th>\n",
              "      <td>51</td>\n",
              "      <td>58.502477</td>\n",
              "      <td>56.054611</td>\n",
              "      <td>0.958158</td>\n",
              "      <td>0.002789</td>\n",
              "    </tr>\n",
              "    <tr>\n",
              "      <th>52</th>\n",
              "      <td>52</td>\n",
              "      <td>57.890732</td>\n",
              "      <td>55.494907</td>\n",
              "      <td>0.958615</td>\n",
              "      <td>0.002486</td>\n",
              "    </tr>\n",
              "    <tr>\n",
              "      <th>53</th>\n",
              "      <td>53</td>\n",
              "      <td>57.285384</td>\n",
              "      <td>54.938176</td>\n",
              "      <td>0.959026</td>\n",
              "      <td>0.002215</td>\n",
              "    </tr>\n",
              "    <tr>\n",
              "      <th>54</th>\n",
              "      <td>54</td>\n",
              "      <td>56.686367</td>\n",
              "      <td>54.384699</td>\n",
              "      <td>0.959396</td>\n",
              "      <td>0.001974</td>\n",
              "    </tr>\n",
              "    <tr>\n",
              "      <th>55</th>\n",
              "      <td>55</td>\n",
              "      <td>56.093612</td>\n",
              "      <td>53.834723</td>\n",
              "      <td>0.959730</td>\n",
              "      <td>0.001759</td>\n",
              "    </tr>\n",
              "    <tr>\n",
              "      <th>56</th>\n",
              "      <td>56</td>\n",
              "      <td>55.507057</td>\n",
              "      <td>53.288459</td>\n",
              "      <td>0.960030</td>\n",
              "      <td>0.001567</td>\n",
              "    </tr>\n",
              "    <tr>\n",
              "      <th>57</th>\n",
              "      <td>57</td>\n",
              "      <td>54.926634</td>\n",
              "      <td>52.746092</td>\n",
              "      <td>0.960301</td>\n",
              "      <td>0.001396</td>\n",
              "    </tr>\n",
              "    <tr>\n",
              "      <th>58</th>\n",
              "      <td>58</td>\n",
              "      <td>54.352281</td>\n",
              "      <td>52.207778</td>\n",
              "      <td>0.960544</td>\n",
              "      <td>0.001244</td>\n",
              "    </tr>\n",
              "    <tr>\n",
              "      <th>59</th>\n",
              "      <td>59</td>\n",
              "      <td>53.783934</td>\n",
              "      <td>51.673650</td>\n",
              "      <td>0.960764</td>\n",
              "      <td>0.001109</td>\n",
              "    </tr>\n",
              "  </tbody>\n",
              "</table>\n",
              "</div>"
            ],
            "text/plain": [
              "    時間[時間]  Mo-99放射能[MBq]  ...  Tc-99m放射能 / Mo-99放射能  exp(-lambda_{2} * t)\n",
              "0        0     100.000000  ...              0.000000              1.000000\n",
              "1        1      98.954327  ...              0.095807              0.891070\n",
              "2        2      97.919588  ...              0.182080              0.794006\n",
              "3        3      96.895669  ...              0.259767              0.707515\n",
              "4        4      95.882458  ...              0.329723              0.630445\n",
              "5        5      94.879841  ...              0.392718              0.561771\n",
              "6        6      93.887708  ...              0.449444              0.500577\n",
              "7        7      92.905949  ...              0.500525              0.446049\n",
              "8        8      91.934457  ...              0.546522              0.397461\n",
              "9        9      90.973123  ...              0.587943              0.354166\n",
              "10      10      90.021841  ...              0.625241              0.315586\n",
              "11      11      89.080507  ...              0.658828              0.281209\n",
              "12      12      88.149017  ...              0.689072              0.250577\n",
              "13      13      87.227266  ...              0.716307              0.223282\n",
              "14      14      86.315154  ...              0.740831              0.198960\n",
              "15      15      85.412580  ...              0.762915              0.177287\n",
              "16      16      84.519443  ...              0.782801              0.157975\n",
              "17      17      83.635646  ...              0.800708              0.140767\n",
              "18      18      82.761091  ...              0.816833              0.125433\n",
              "19      19      81.895681  ...              0.831354              0.111770\n",
              "20      20      81.039319  ...              0.844430              0.099595\n",
              "21      21      80.191913  ...              0.856204              0.088746\n",
              "22      22      79.353368  ...              0.866807              0.079079\n",
              "23      23      78.523591  ...              0.876354              0.070465\n",
              "24      24      77.702491  ...              0.884951              0.062789\n",
              "25      25      76.889977  ...              0.892693              0.055949\n",
              "26      26      76.085959  ...              0.899665              0.049855\n",
              "27      27      75.290349  ...              0.905942              0.044424\n",
              "28      28      74.503058  ...              0.911595              0.039585\n",
              "29      29      73.724000  ...              0.916686              0.035273\n",
              "30      30      72.953088  ...              0.921270              0.031431\n",
              "31      31      72.190237  ...              0.925397              0.028007\n",
              "32      32      71.435363  ...              0.929114              0.024956\n",
              "33      33      70.688383  ...              0.932461              0.022238\n",
              "34      34      69.949213  ...              0.935475              0.019815\n",
              "35      35      69.217773  ...              0.938189              0.017657\n",
              "36      36      68.493982  ...              0.940633              0.015733\n",
              "37      37      67.777759  ...              0.942834              0.014020\n",
              "38      38      67.069025  ...              0.944816              0.012492\n",
              "39      39      66.367702  ...              0.946600              0.011132\n",
              "40      40      65.673713  ...              0.948207              0.009919\n",
              "41      41      64.986981  ...              0.949654              0.008839\n",
              "42      42      64.307429  ...              0.950957              0.007876\n",
              "43      43      63.634984  ...              0.952131              0.007018\n",
              "44      44      62.969570  ...              0.953187              0.006253\n",
              "45      45      62.311114  ...              0.954139              0.005572\n",
              "46      46      61.659544  ...              0.954995              0.004965\n",
              "47      47      61.014786  ...              0.955767              0.004424\n",
              "48      48      60.376771  ...              0.956462              0.003942\n",
              "49      49      59.745428  ...              0.957087              0.003513\n",
              "50      50      59.120686  ...              0.957651              0.003130\n",
              "51      51      58.502477  ...              0.958158              0.002789\n",
              "52      52      57.890732  ...              0.958615              0.002486\n",
              "53      53      57.285384  ...              0.959026              0.002215\n",
              "54      54      56.686367  ...              0.959396              0.001974\n",
              "55      55      56.093612  ...              0.959730              0.001759\n",
              "56      56      55.507057  ...              0.960030              0.001567\n",
              "57      57      54.926634  ...              0.960301              0.001396\n",
              "58      58      54.352281  ...              0.960544              0.001244\n",
              "59      59      53.783934  ...              0.960764              0.001109\n",
              "\n",
              "[60 rows x 5 columns]"
            ]
          },
          "metadata": {
            "tags": []
          },
          "execution_count": 19
        }
      ]
    },
    {
      "cell_type": "markdown",
      "metadata": {
        "id": "2XfI2rbY3JZE"
      },
      "source": [
        "$t \\approx 24$時間から徐々に過渡平衡に収束することが分かる。"
      ]
    },
    {
      "cell_type": "markdown",
      "metadata": {
        "id": "k_Dp8FBlKcWJ"
      },
      "source": [
        "上記の計算結果をグラフで表示する。"
      ]
    },
    {
      "cell_type": "code",
      "metadata": {
        "id": "KiJclvtyk2Y6",
        "outputId": "e366f917-5a5d-474a-bf23-21a9450783ee",
        "colab": {
          "base_uri": "https://localhost:8080/",
          "height": 413
        }
      },
      "source": [
        "fig, ax = plt.subplots()\n",
        "xlab = 'Elapsed time (h)'\n",
        "ylab = r'Activity (MBq)'\n",
        "ylab2 = 'Ratio or exp()'\n",
        "\n",
        "# プロッティング\n",
        "plt_act(ax, t, a1,\n",
        "        is_set_xlim=True, xmin=0, xmax=100,\n",
        "        is_set_ylim=True, ymin=0, ymax=120,\n",
        "        xlab=xlab, ylab=ylab, lab=r'$^{99}$Mo activity')\n",
        "plt_act(ax, t, a2,\n",
        "        is_set_xlim=True, xmin=0, xmax=100,\n",
        "        is_set_ylim=True, ymin=0, ymax=120,\n",
        "        xlab=xlab, ylab=ylab, lab=r'$^{99\\mathrm{m}}$Tc activity',\n",
        "        lc='red')\n",
        "ax.legend(loc='lower right')\n",
        "ax2 = ax.twinx()\n",
        "plt_act(ax2, t, a2_over_a1,\n",
        "        is_set_xlim=True, xmin=0, xmax=100,\n",
        "        is_set_ylim=True, ymin=0, ymax=1.2,\n",
        "        xlab=xlab, ylab=ylab2,\n",
        "        lab=r'Ratio between $^{99\\mathrm{m}}$Tc and $^{99}$Mo activities',\n",
        "        lc='black', ls='--')\n",
        "plt_act(ax2, t, lambda2_exp_dec,\n",
        "        is_set_xlim=True, xmin=0, xmax=100,\n",
        "        is_set_ylim=True, ymin=0, ymax=1.2,\n",
        "        xlab=xlab, ylab=ylab2, lab=r'$\\exp(-\\lambda_{\\mathrm{Tc-99m}} t)$',\n",
        "        lc='black', ls='dotted')\n",
        "ax2.legend()\n",
        "\n",
        "# ポスト処理\n",
        "fig.tight_layout()"
      ],
      "execution_count": null,
      "outputs": [
        {
          "output_type": "display_data",
          "data": {
            "text/plain": [
              "<Figure size 432x288 with 2 Axes>"
            ],
            "image/svg+xml": "<?xml version=\"1.0\" encoding=\"utf-8\" standalone=\"no\"?>\n<!DOCTYPE svg PUBLIC \"-//W3C//DTD SVG 1.1//EN\"\n  \"http://www.w3.org/Graphics/SVG/1.1/DTD/svg11.dtd\">\n<!-- Created with matplotlib (https://matplotlib.org/) -->\n<svg height=\"278.891094pt\" version=\"1.1\" viewBox=\"0 0 422.018125 278.891094\" width=\"422.018125pt\" xmlns=\"http://www.w3.org/2000/svg\" xmlns:xlink=\"http://www.w3.org/1999/xlink\">\n <defs>\n  <style type=\"text/css\">\n*{stroke-linecap:butt;stroke-linejoin:round;}\n  </style>\n </defs>\n <g id=\"figure_1\">\n  <g id=\"patch_1\">\n   <path d=\"M 0 278.891094 \nL 422.018125 278.891094 \nL 422.018125 0 \nL 0 0 \nz\n\" style=\"fill:#ffffff;\"/>\n  </g>\n  <g id=\"axes_1\">\n   <g id=\"patch_2\">\n    <path d=\"M 48.90125 239.399219 \nL 376.30125 239.399219 \nL 376.30125 10.999219 \nL 48.90125 10.999219 \nz\n\" style=\"fill:#e5e5e5;\"/>\n   </g>\n   <g id=\"matplotlib.axis_1\">\n    <g id=\"xtick_1\">\n     <g id=\"line2d_1\">\n      <path clip-path=\"url(#p4dee05cdd4)\" d=\"M 48.90125 239.399219 \nL 48.90125 10.999219 \n\" style=\"fill:none;stroke:#ffffff;stroke-linecap:square;stroke-width:0.8;\"/>\n     </g>\n     <g id=\"line2d_2\">\n      <defs>\n       <path d=\"M 0 0 \nL 0 3.5 \n\" id=\"mdbaf0c6de9\" style=\"stroke:#555555;stroke-width:0.8;\"/>\n      </defs>\n      <g>\n       <use style=\"fill:#555555;stroke:#555555;stroke-width:0.8;\" x=\"48.90125\" xlink:href=\"#mdbaf0c6de9\" y=\"239.399219\"/>\n      </g>\n     </g>\n     <g id=\"text_1\">\n      <!-- 0 -->\n      <defs>\n       <path d=\"M 31.78125 66.40625 \nQ 24.171875 66.40625 20.328125 58.90625 \nQ 16.5 51.421875 16.5 36.375 \nQ 16.5 21.390625 20.328125 13.890625 \nQ 24.171875 6.390625 31.78125 6.390625 \nQ 39.453125 6.390625 43.28125 13.890625 \nQ 47.125 21.390625 47.125 36.375 \nQ 47.125 51.421875 43.28125 58.90625 \nQ 39.453125 66.40625 31.78125 66.40625 \nz\nM 31.78125 74.21875 \nQ 44.046875 74.21875 50.515625 64.515625 \nQ 56.984375 54.828125 56.984375 36.375 \nQ 56.984375 17.96875 50.515625 8.265625 \nQ 44.046875 -1.421875 31.78125 -1.421875 \nQ 19.53125 -1.421875 13.0625 8.265625 \nQ 6.59375 17.96875 6.59375 36.375 \nQ 6.59375 54.828125 13.0625 64.515625 \nQ 19.53125 74.21875 31.78125 74.21875 \nz\n\" id=\"DejaVuSans-48\"/>\n      </defs>\n      <g style=\"fill:#555555;\" transform=\"translate(45.72 253.997656)scale(0.1 -0.1)\">\n       <use xlink:href=\"#DejaVuSans-48\"/>\n      </g>\n     </g>\n    </g>\n    <g id=\"xtick_2\">\n     <g id=\"line2d_3\">\n      <path clip-path=\"url(#p4dee05cdd4)\" d=\"M 114.38125 239.399219 \nL 114.38125 10.999219 \n\" style=\"fill:none;stroke:#ffffff;stroke-linecap:square;stroke-width:0.8;\"/>\n     </g>\n     <g id=\"line2d_4\">\n      <g>\n       <use style=\"fill:#555555;stroke:#555555;stroke-width:0.8;\" x=\"114.38125\" xlink:href=\"#mdbaf0c6de9\" y=\"239.399219\"/>\n      </g>\n     </g>\n     <g id=\"text_2\">\n      <!-- 20 -->\n      <defs>\n       <path d=\"M 19.1875 8.296875 \nL 53.609375 8.296875 \nL 53.609375 0 \nL 7.328125 0 \nL 7.328125 8.296875 \nQ 12.9375 14.109375 22.625 23.890625 \nQ 32.328125 33.6875 34.8125 36.53125 \nQ 39.546875 41.84375 41.421875 45.53125 \nQ 43.3125 49.21875 43.3125 52.78125 \nQ 43.3125 58.59375 39.234375 62.25 \nQ 35.15625 65.921875 28.609375 65.921875 \nQ 23.96875 65.921875 18.8125 64.3125 \nQ 13.671875 62.703125 7.8125 59.421875 \nL 7.8125 69.390625 \nQ 13.765625 71.78125 18.9375 73 \nQ 24.125 74.21875 28.421875 74.21875 \nQ 39.75 74.21875 46.484375 68.546875 \nQ 53.21875 62.890625 53.21875 53.421875 \nQ 53.21875 48.921875 51.53125 44.890625 \nQ 49.859375 40.875 45.40625 35.40625 \nQ 44.1875 33.984375 37.640625 27.21875 \nQ 31.109375 20.453125 19.1875 8.296875 \nz\n\" id=\"DejaVuSans-50\"/>\n      </defs>\n      <g style=\"fill:#555555;\" transform=\"translate(108.01875 253.997656)scale(0.1 -0.1)\">\n       <use xlink:href=\"#DejaVuSans-50\"/>\n       <use x=\"63.623047\" xlink:href=\"#DejaVuSans-48\"/>\n      </g>\n     </g>\n    </g>\n    <g id=\"xtick_3\">\n     <g id=\"line2d_5\">\n      <path clip-path=\"url(#p4dee05cdd4)\" d=\"M 179.86125 239.399219 \nL 179.86125 10.999219 \n\" style=\"fill:none;stroke:#ffffff;stroke-linecap:square;stroke-width:0.8;\"/>\n     </g>\n     <g id=\"line2d_6\">\n      <g>\n       <use style=\"fill:#555555;stroke:#555555;stroke-width:0.8;\" x=\"179.86125\" xlink:href=\"#mdbaf0c6de9\" y=\"239.399219\"/>\n      </g>\n     </g>\n     <g id=\"text_3\">\n      <!-- 40 -->\n      <defs>\n       <path d=\"M 37.796875 64.3125 \nL 12.890625 25.390625 \nL 37.796875 25.390625 \nz\nM 35.203125 72.90625 \nL 47.609375 72.90625 \nL 47.609375 25.390625 \nL 58.015625 25.390625 \nL 58.015625 17.1875 \nL 47.609375 17.1875 \nL 47.609375 0 \nL 37.796875 0 \nL 37.796875 17.1875 \nL 4.890625 17.1875 \nL 4.890625 26.703125 \nz\n\" id=\"DejaVuSans-52\"/>\n      </defs>\n      <g style=\"fill:#555555;\" transform=\"translate(173.49875 253.997656)scale(0.1 -0.1)\">\n       <use xlink:href=\"#DejaVuSans-52\"/>\n       <use x=\"63.623047\" xlink:href=\"#DejaVuSans-48\"/>\n      </g>\n     </g>\n    </g>\n    <g id=\"xtick_4\">\n     <g id=\"line2d_7\">\n      <path clip-path=\"url(#p4dee05cdd4)\" d=\"M 245.34125 239.399219 \nL 245.34125 10.999219 \n\" style=\"fill:none;stroke:#ffffff;stroke-linecap:square;stroke-width:0.8;\"/>\n     </g>\n     <g id=\"line2d_8\">\n      <g>\n       <use style=\"fill:#555555;stroke:#555555;stroke-width:0.8;\" x=\"245.34125\" xlink:href=\"#mdbaf0c6de9\" y=\"239.399219\"/>\n      </g>\n     </g>\n     <g id=\"text_4\">\n      <!-- 60 -->\n      <defs>\n       <path d=\"M 33.015625 40.375 \nQ 26.375 40.375 22.484375 35.828125 \nQ 18.609375 31.296875 18.609375 23.390625 \nQ 18.609375 15.53125 22.484375 10.953125 \nQ 26.375 6.390625 33.015625 6.390625 \nQ 39.65625 6.390625 43.53125 10.953125 \nQ 47.40625 15.53125 47.40625 23.390625 \nQ 47.40625 31.296875 43.53125 35.828125 \nQ 39.65625 40.375 33.015625 40.375 \nz\nM 52.59375 71.296875 \nL 52.59375 62.3125 \nQ 48.875 64.0625 45.09375 64.984375 \nQ 41.3125 65.921875 37.59375 65.921875 \nQ 27.828125 65.921875 22.671875 59.328125 \nQ 17.53125 52.734375 16.796875 39.40625 \nQ 19.671875 43.65625 24.015625 45.921875 \nQ 28.375 48.1875 33.59375 48.1875 \nQ 44.578125 48.1875 50.953125 41.515625 \nQ 57.328125 34.859375 57.328125 23.390625 \nQ 57.328125 12.15625 50.6875 5.359375 \nQ 44.046875 -1.421875 33.015625 -1.421875 \nQ 20.359375 -1.421875 13.671875 8.265625 \nQ 6.984375 17.96875 6.984375 36.375 \nQ 6.984375 53.65625 15.1875 63.9375 \nQ 23.390625 74.21875 37.203125 74.21875 \nQ 40.921875 74.21875 44.703125 73.484375 \nQ 48.484375 72.75 52.59375 71.296875 \nz\n\" id=\"DejaVuSans-54\"/>\n      </defs>\n      <g style=\"fill:#555555;\" transform=\"translate(238.97875 253.997656)scale(0.1 -0.1)\">\n       <use xlink:href=\"#DejaVuSans-54\"/>\n       <use x=\"63.623047\" xlink:href=\"#DejaVuSans-48\"/>\n      </g>\n     </g>\n    </g>\n    <g id=\"xtick_5\">\n     <g id=\"line2d_9\">\n      <path clip-path=\"url(#p4dee05cdd4)\" d=\"M 310.82125 239.399219 \nL 310.82125 10.999219 \n\" style=\"fill:none;stroke:#ffffff;stroke-linecap:square;stroke-width:0.8;\"/>\n     </g>\n     <g id=\"line2d_10\">\n      <g>\n       <use style=\"fill:#555555;stroke:#555555;stroke-width:0.8;\" x=\"310.82125\" xlink:href=\"#mdbaf0c6de9\" y=\"239.399219\"/>\n      </g>\n     </g>\n     <g id=\"text_5\">\n      <!-- 80 -->\n      <defs>\n       <path d=\"M 31.78125 34.625 \nQ 24.75 34.625 20.71875 30.859375 \nQ 16.703125 27.09375 16.703125 20.515625 \nQ 16.703125 13.921875 20.71875 10.15625 \nQ 24.75 6.390625 31.78125 6.390625 \nQ 38.8125 6.390625 42.859375 10.171875 \nQ 46.921875 13.96875 46.921875 20.515625 \nQ 46.921875 27.09375 42.890625 30.859375 \nQ 38.875 34.625 31.78125 34.625 \nz\nM 21.921875 38.8125 \nQ 15.578125 40.375 12.03125 44.71875 \nQ 8.5 49.078125 8.5 55.328125 \nQ 8.5 64.0625 14.71875 69.140625 \nQ 20.953125 74.21875 31.78125 74.21875 \nQ 42.671875 74.21875 48.875 69.140625 \nQ 55.078125 64.0625 55.078125 55.328125 \nQ 55.078125 49.078125 51.53125 44.71875 \nQ 48 40.375 41.703125 38.8125 \nQ 48.828125 37.15625 52.796875 32.3125 \nQ 56.78125 27.484375 56.78125 20.515625 \nQ 56.78125 9.90625 50.3125 4.234375 \nQ 43.84375 -1.421875 31.78125 -1.421875 \nQ 19.734375 -1.421875 13.25 4.234375 \nQ 6.78125 9.90625 6.78125 20.515625 \nQ 6.78125 27.484375 10.78125 32.3125 \nQ 14.796875 37.15625 21.921875 38.8125 \nz\nM 18.3125 54.390625 \nQ 18.3125 48.734375 21.84375 45.5625 \nQ 25.390625 42.390625 31.78125 42.390625 \nQ 38.140625 42.390625 41.71875 45.5625 \nQ 45.3125 48.734375 45.3125 54.390625 \nQ 45.3125 60.0625 41.71875 63.234375 \nQ 38.140625 66.40625 31.78125 66.40625 \nQ 25.390625 66.40625 21.84375 63.234375 \nQ 18.3125 60.0625 18.3125 54.390625 \nz\n\" id=\"DejaVuSans-56\"/>\n      </defs>\n      <g style=\"fill:#555555;\" transform=\"translate(304.45875 253.997656)scale(0.1 -0.1)\">\n       <use xlink:href=\"#DejaVuSans-56\"/>\n       <use x=\"63.623047\" xlink:href=\"#DejaVuSans-48\"/>\n      </g>\n     </g>\n    </g>\n    <g id=\"xtick_6\">\n     <g id=\"line2d_11\">\n      <path clip-path=\"url(#p4dee05cdd4)\" d=\"M 376.30125 239.399219 \nL 376.30125 10.999219 \n\" style=\"fill:none;stroke:#ffffff;stroke-linecap:square;stroke-width:0.8;\"/>\n     </g>\n     <g id=\"line2d_12\">\n      <g>\n       <use style=\"fill:#555555;stroke:#555555;stroke-width:0.8;\" x=\"376.30125\" xlink:href=\"#mdbaf0c6de9\" y=\"239.399219\"/>\n      </g>\n     </g>\n     <g id=\"text_6\">\n      <!-- 100 -->\n      <defs>\n       <path d=\"M 12.40625 8.296875 \nL 28.515625 8.296875 \nL 28.515625 63.921875 \nL 10.984375 60.40625 \nL 10.984375 69.390625 \nL 28.421875 72.90625 \nL 38.28125 72.90625 \nL 38.28125 8.296875 \nL 54.390625 8.296875 \nL 54.390625 0 \nL 12.40625 0 \nz\n\" id=\"DejaVuSans-49\"/>\n      </defs>\n      <g style=\"fill:#555555;\" transform=\"translate(366.7575 253.997656)scale(0.1 -0.1)\">\n       <use xlink:href=\"#DejaVuSans-49\"/>\n       <use x=\"63.623047\" xlink:href=\"#DejaVuSans-48\"/>\n       <use x=\"127.246094\" xlink:href=\"#DejaVuSans-48\"/>\n      </g>\n     </g>\n    </g>\n    <g id=\"text_7\">\n     <!-- Elapsed time (h) -->\n     <defs>\n      <path d=\"M 9.8125 72.90625 \nL 55.90625 72.90625 \nL 55.90625 64.59375 \nL 19.671875 64.59375 \nL 19.671875 43.015625 \nL 54.390625 43.015625 \nL 54.390625 34.71875 \nL 19.671875 34.71875 \nL 19.671875 8.296875 \nL 56.78125 8.296875 \nL 56.78125 0 \nL 9.8125 0 \nz\n\" id=\"DejaVuSans-69\"/>\n      <path d=\"M 9.421875 75.984375 \nL 18.40625 75.984375 \nL 18.40625 0 \nL 9.421875 0 \nz\n\" id=\"DejaVuSans-108\"/>\n      <path d=\"M 34.28125 27.484375 \nQ 23.390625 27.484375 19.1875 25 \nQ 14.984375 22.515625 14.984375 16.5 \nQ 14.984375 11.71875 18.140625 8.90625 \nQ 21.296875 6.109375 26.703125 6.109375 \nQ 34.1875 6.109375 38.703125 11.40625 \nQ 43.21875 16.703125 43.21875 25.484375 \nL 43.21875 27.484375 \nz\nM 52.203125 31.203125 \nL 52.203125 0 \nL 43.21875 0 \nL 43.21875 8.296875 \nQ 40.140625 3.328125 35.546875 0.953125 \nQ 30.953125 -1.421875 24.3125 -1.421875 \nQ 15.921875 -1.421875 10.953125 3.296875 \nQ 6 8.015625 6 15.921875 \nQ 6 25.140625 12.171875 29.828125 \nQ 18.359375 34.515625 30.609375 34.515625 \nL 43.21875 34.515625 \nL 43.21875 35.40625 \nQ 43.21875 41.609375 39.140625 45 \nQ 35.0625 48.390625 27.6875 48.390625 \nQ 23 48.390625 18.546875 47.265625 \nQ 14.109375 46.140625 10.015625 43.890625 \nL 10.015625 52.203125 \nQ 14.9375 54.109375 19.578125 55.046875 \nQ 24.21875 56 28.609375 56 \nQ 40.484375 56 46.34375 49.84375 \nQ 52.203125 43.703125 52.203125 31.203125 \nz\n\" id=\"DejaVuSans-97\"/>\n      <path d=\"M 18.109375 8.203125 \nL 18.109375 -20.796875 \nL 9.078125 -20.796875 \nL 9.078125 54.6875 \nL 18.109375 54.6875 \nL 18.109375 46.390625 \nQ 20.953125 51.265625 25.265625 53.625 \nQ 29.59375 56 35.59375 56 \nQ 45.5625 56 51.78125 48.09375 \nQ 58.015625 40.1875 58.015625 27.296875 \nQ 58.015625 14.40625 51.78125 6.484375 \nQ 45.5625 -1.421875 35.59375 -1.421875 \nQ 29.59375 -1.421875 25.265625 0.953125 \nQ 20.953125 3.328125 18.109375 8.203125 \nz\nM 48.6875 27.296875 \nQ 48.6875 37.203125 44.609375 42.84375 \nQ 40.53125 48.484375 33.40625 48.484375 \nQ 26.265625 48.484375 22.1875 42.84375 \nQ 18.109375 37.203125 18.109375 27.296875 \nQ 18.109375 17.390625 22.1875 11.75 \nQ 26.265625 6.109375 33.40625 6.109375 \nQ 40.53125 6.109375 44.609375 11.75 \nQ 48.6875 17.390625 48.6875 27.296875 \nz\n\" id=\"DejaVuSans-112\"/>\n      <path d=\"M 44.28125 53.078125 \nL 44.28125 44.578125 \nQ 40.484375 46.53125 36.375 47.5 \nQ 32.28125 48.484375 27.875 48.484375 \nQ 21.1875 48.484375 17.84375 46.4375 \nQ 14.5 44.390625 14.5 40.28125 \nQ 14.5 37.15625 16.890625 35.375 \nQ 19.28125 33.59375 26.515625 31.984375 \nL 29.59375 31.296875 \nQ 39.15625 29.25 43.1875 25.515625 \nQ 47.21875 21.78125 47.21875 15.09375 \nQ 47.21875 7.46875 41.1875 3.015625 \nQ 35.15625 -1.421875 24.609375 -1.421875 \nQ 20.21875 -1.421875 15.453125 -0.5625 \nQ 10.6875 0.296875 5.421875 2 \nL 5.421875 11.28125 \nQ 10.40625 8.6875 15.234375 7.390625 \nQ 20.0625 6.109375 24.8125 6.109375 \nQ 31.15625 6.109375 34.5625 8.28125 \nQ 37.984375 10.453125 37.984375 14.40625 \nQ 37.984375 18.0625 35.515625 20.015625 \nQ 33.0625 21.96875 24.703125 23.78125 \nL 21.578125 24.515625 \nQ 13.234375 26.265625 9.515625 29.90625 \nQ 5.8125 33.546875 5.8125 39.890625 \nQ 5.8125 47.609375 11.28125 51.796875 \nQ 16.75 56 26.8125 56 \nQ 31.78125 56 36.171875 55.265625 \nQ 40.578125 54.546875 44.28125 53.078125 \nz\n\" id=\"DejaVuSans-115\"/>\n      <path d=\"M 56.203125 29.59375 \nL 56.203125 25.203125 \nL 14.890625 25.203125 \nQ 15.484375 15.921875 20.484375 11.0625 \nQ 25.484375 6.203125 34.421875 6.203125 \nQ 39.59375 6.203125 44.453125 7.46875 \nQ 49.3125 8.734375 54.109375 11.28125 \nL 54.109375 2.78125 \nQ 49.265625 0.734375 44.1875 -0.34375 \nQ 39.109375 -1.421875 33.890625 -1.421875 \nQ 20.796875 -1.421875 13.15625 6.1875 \nQ 5.515625 13.8125 5.515625 26.8125 \nQ 5.515625 40.234375 12.765625 48.109375 \nQ 20.015625 56 32.328125 56 \nQ 43.359375 56 49.78125 48.890625 \nQ 56.203125 41.796875 56.203125 29.59375 \nz\nM 47.21875 32.234375 \nQ 47.125 39.59375 43.09375 43.984375 \nQ 39.0625 48.390625 32.421875 48.390625 \nQ 24.90625 48.390625 20.390625 44.140625 \nQ 15.875 39.890625 15.1875 32.171875 \nz\n\" id=\"DejaVuSans-101\"/>\n      <path d=\"M 45.40625 46.390625 \nL 45.40625 75.984375 \nL 54.390625 75.984375 \nL 54.390625 0 \nL 45.40625 0 \nL 45.40625 8.203125 \nQ 42.578125 3.328125 38.25 0.953125 \nQ 33.9375 -1.421875 27.875 -1.421875 \nQ 17.96875 -1.421875 11.734375 6.484375 \nQ 5.515625 14.40625 5.515625 27.296875 \nQ 5.515625 40.1875 11.734375 48.09375 \nQ 17.96875 56 27.875 56 \nQ 33.9375 56 38.25 53.625 \nQ 42.578125 51.265625 45.40625 46.390625 \nz\nM 14.796875 27.296875 \nQ 14.796875 17.390625 18.875 11.75 \nQ 22.953125 6.109375 30.078125 6.109375 \nQ 37.203125 6.109375 41.296875 11.75 \nQ 45.40625 17.390625 45.40625 27.296875 \nQ 45.40625 37.203125 41.296875 42.84375 \nQ 37.203125 48.484375 30.078125 48.484375 \nQ 22.953125 48.484375 18.875 42.84375 \nQ 14.796875 37.203125 14.796875 27.296875 \nz\n\" id=\"DejaVuSans-100\"/>\n      <path id=\"DejaVuSans-32\"/>\n      <path d=\"M 18.3125 70.21875 \nL 18.3125 54.6875 \nL 36.8125 54.6875 \nL 36.8125 47.703125 \nL 18.3125 47.703125 \nL 18.3125 18.015625 \nQ 18.3125 11.328125 20.140625 9.421875 \nQ 21.96875 7.515625 27.59375 7.515625 \nL 36.8125 7.515625 \nL 36.8125 0 \nL 27.59375 0 \nQ 17.1875 0 13.234375 3.875 \nQ 9.28125 7.765625 9.28125 18.015625 \nL 9.28125 47.703125 \nL 2.6875 47.703125 \nL 2.6875 54.6875 \nL 9.28125 54.6875 \nL 9.28125 70.21875 \nz\n\" id=\"DejaVuSans-116\"/>\n      <path d=\"M 9.421875 54.6875 \nL 18.40625 54.6875 \nL 18.40625 0 \nL 9.421875 0 \nz\nM 9.421875 75.984375 \nL 18.40625 75.984375 \nL 18.40625 64.59375 \nL 9.421875 64.59375 \nz\n\" id=\"DejaVuSans-105\"/>\n      <path d=\"M 52 44.1875 \nQ 55.375 50.25 60.0625 53.125 \nQ 64.75 56 71.09375 56 \nQ 79.640625 56 84.28125 50.015625 \nQ 88.921875 44.046875 88.921875 33.015625 \nL 88.921875 0 \nL 79.890625 0 \nL 79.890625 32.71875 \nQ 79.890625 40.578125 77.09375 44.375 \nQ 74.3125 48.1875 68.609375 48.1875 \nQ 61.625 48.1875 57.5625 43.546875 \nQ 53.515625 38.921875 53.515625 30.90625 \nL 53.515625 0 \nL 44.484375 0 \nL 44.484375 32.71875 \nQ 44.484375 40.625 41.703125 44.40625 \nQ 38.921875 48.1875 33.109375 48.1875 \nQ 26.21875 48.1875 22.15625 43.53125 \nQ 18.109375 38.875 18.109375 30.90625 \nL 18.109375 0 \nL 9.078125 0 \nL 9.078125 54.6875 \nL 18.109375 54.6875 \nL 18.109375 46.1875 \nQ 21.1875 51.21875 25.484375 53.609375 \nQ 29.78125 56 35.6875 56 \nQ 41.65625 56 45.828125 52.96875 \nQ 50 49.953125 52 44.1875 \nz\n\" id=\"DejaVuSans-109\"/>\n      <path d=\"M 31 75.875 \nQ 24.46875 64.65625 21.28125 53.65625 \nQ 18.109375 42.671875 18.109375 31.390625 \nQ 18.109375 20.125 21.3125 9.0625 \nQ 24.515625 -2 31 -13.1875 \nL 23.1875 -13.1875 \nQ 15.875 -1.703125 12.234375 9.375 \nQ 8.59375 20.453125 8.59375 31.390625 \nQ 8.59375 42.28125 12.203125 53.3125 \nQ 15.828125 64.359375 23.1875 75.875 \nz\n\" id=\"DejaVuSans-40\"/>\n      <path d=\"M 54.890625 33.015625 \nL 54.890625 0 \nL 45.90625 0 \nL 45.90625 32.71875 \nQ 45.90625 40.484375 42.875 44.328125 \nQ 39.84375 48.1875 33.796875 48.1875 \nQ 26.515625 48.1875 22.3125 43.546875 \nQ 18.109375 38.921875 18.109375 30.90625 \nL 18.109375 0 \nL 9.078125 0 \nL 9.078125 75.984375 \nL 18.109375 75.984375 \nL 18.109375 46.1875 \nQ 21.34375 51.125 25.703125 53.5625 \nQ 30.078125 56 35.796875 56 \nQ 45.21875 56 50.046875 50.171875 \nQ 54.890625 44.34375 54.890625 33.015625 \nz\n\" id=\"DejaVuSans-104\"/>\n      <path d=\"M 8.015625 75.875 \nL 15.828125 75.875 \nQ 23.140625 64.359375 26.78125 53.3125 \nQ 30.421875 42.28125 30.421875 31.390625 \nQ 30.421875 20.453125 26.78125 9.375 \nQ 23.140625 -1.703125 15.828125 -13.1875 \nL 8.015625 -13.1875 \nQ 14.5 -2 17.703125 9.0625 \nQ 20.90625 20.125 20.90625 31.390625 \nQ 20.90625 42.671875 17.703125 53.65625 \nQ 14.5 64.65625 8.015625 75.875 \nz\n\" id=\"DejaVuSans-41\"/>\n     </defs>\n     <g style=\"fill:#555555;\" transform=\"translate(163.177188 269.195469)scale(0.12 -0.12)\">\n      <use xlink:href=\"#DejaVuSans-69\"/>\n      <use x=\"63.183594\" xlink:href=\"#DejaVuSans-108\"/>\n      <use x=\"90.966797\" xlink:href=\"#DejaVuSans-97\"/>\n      <use x=\"152.246094\" xlink:href=\"#DejaVuSans-112\"/>\n      <use x=\"215.722656\" xlink:href=\"#DejaVuSans-115\"/>\n      <use x=\"267.822266\" xlink:href=\"#DejaVuSans-101\"/>\n      <use x=\"329.345703\" xlink:href=\"#DejaVuSans-100\"/>\n      <use x=\"392.822266\" xlink:href=\"#DejaVuSans-32\"/>\n      <use x=\"424.609375\" xlink:href=\"#DejaVuSans-116\"/>\n      <use x=\"463.818359\" xlink:href=\"#DejaVuSans-105\"/>\n      <use x=\"491.601562\" xlink:href=\"#DejaVuSans-109\"/>\n      <use x=\"589.013672\" xlink:href=\"#DejaVuSans-101\"/>\n      <use x=\"650.537109\" xlink:href=\"#DejaVuSans-32\"/>\n      <use x=\"682.324219\" xlink:href=\"#DejaVuSans-40\"/>\n      <use x=\"721.337891\" xlink:href=\"#DejaVuSans-104\"/>\n      <use x=\"784.716797\" xlink:href=\"#DejaVuSans-41\"/>\n     </g>\n    </g>\n   </g>\n   <g id=\"matplotlib.axis_2\">\n    <g id=\"ytick_1\">\n     <g id=\"line2d_13\">\n      <path clip-path=\"url(#p4dee05cdd4)\" d=\"M 48.90125 239.399219 \nL 376.30125 239.399219 \n\" style=\"fill:none;stroke:#ffffff;stroke-linecap:square;stroke-width:0.8;\"/>\n     </g>\n     <g id=\"line2d_14\">\n      <defs>\n       <path d=\"M 0 0 \nL -3.5 0 \n\" id=\"m560ffbd4db\" style=\"stroke:#555555;stroke-width:0.8;\"/>\n      </defs>\n      <g>\n       <use style=\"fill:#555555;stroke:#555555;stroke-width:0.8;\" x=\"48.90125\" xlink:href=\"#m560ffbd4db\" y=\"239.399219\"/>\n      </g>\n     </g>\n     <g id=\"text_8\">\n      <!-- 0 -->\n      <g style=\"fill:#555555;\" transform=\"translate(35.53875 243.198437)scale(0.1 -0.1)\">\n       <use xlink:href=\"#DejaVuSans-48\"/>\n      </g>\n     </g>\n    </g>\n    <g id=\"ytick_2\">\n     <g id=\"line2d_15\">\n      <path clip-path=\"url(#p4dee05cdd4)\" d=\"M 48.90125 201.332552 \nL 376.30125 201.332552 \n\" style=\"fill:none;stroke:#ffffff;stroke-linecap:square;stroke-width:0.8;\"/>\n     </g>\n     <g id=\"line2d_16\">\n      <g>\n       <use style=\"fill:#555555;stroke:#555555;stroke-width:0.8;\" x=\"48.90125\" xlink:href=\"#m560ffbd4db\" y=\"201.332552\"/>\n      </g>\n     </g>\n     <g id=\"text_9\">\n      <!-- 20 -->\n      <g style=\"fill:#555555;\" transform=\"translate(29.17625 205.131771)scale(0.1 -0.1)\">\n       <use xlink:href=\"#DejaVuSans-50\"/>\n       <use x=\"63.623047\" xlink:href=\"#DejaVuSans-48\"/>\n      </g>\n     </g>\n    </g>\n    <g id=\"ytick_3\">\n     <g id=\"line2d_17\">\n      <path clip-path=\"url(#p4dee05cdd4)\" d=\"M 48.90125 163.265885 \nL 376.30125 163.265885 \n\" style=\"fill:none;stroke:#ffffff;stroke-linecap:square;stroke-width:0.8;\"/>\n     </g>\n     <g id=\"line2d_18\">\n      <g>\n       <use style=\"fill:#555555;stroke:#555555;stroke-width:0.8;\" x=\"48.90125\" xlink:href=\"#m560ffbd4db\" y=\"163.265885\"/>\n      </g>\n     </g>\n     <g id=\"text_10\">\n      <!-- 40 -->\n      <g style=\"fill:#555555;\" transform=\"translate(29.17625 167.065104)scale(0.1 -0.1)\">\n       <use xlink:href=\"#DejaVuSans-52\"/>\n       <use x=\"63.623047\" xlink:href=\"#DejaVuSans-48\"/>\n      </g>\n     </g>\n    </g>\n    <g id=\"ytick_4\">\n     <g id=\"line2d_19\">\n      <path clip-path=\"url(#p4dee05cdd4)\" d=\"M 48.90125 125.199219 \nL 376.30125 125.199219 \n\" style=\"fill:none;stroke:#ffffff;stroke-linecap:square;stroke-width:0.8;\"/>\n     </g>\n     <g id=\"line2d_20\">\n      <g>\n       <use style=\"fill:#555555;stroke:#555555;stroke-width:0.8;\" x=\"48.90125\" xlink:href=\"#m560ffbd4db\" y=\"125.199219\"/>\n      </g>\n     </g>\n     <g id=\"text_11\">\n      <!-- 60 -->\n      <g style=\"fill:#555555;\" transform=\"translate(29.17625 128.998438)scale(0.1 -0.1)\">\n       <use xlink:href=\"#DejaVuSans-54\"/>\n       <use x=\"63.623047\" xlink:href=\"#DejaVuSans-48\"/>\n      </g>\n     </g>\n    </g>\n    <g id=\"ytick_5\">\n     <g id=\"line2d_21\">\n      <path clip-path=\"url(#p4dee05cdd4)\" d=\"M 48.90125 87.132552 \nL 376.30125 87.132552 \n\" style=\"fill:none;stroke:#ffffff;stroke-linecap:square;stroke-width:0.8;\"/>\n     </g>\n     <g id=\"line2d_22\">\n      <g>\n       <use style=\"fill:#555555;stroke:#555555;stroke-width:0.8;\" x=\"48.90125\" xlink:href=\"#m560ffbd4db\" y=\"87.132552\"/>\n      </g>\n     </g>\n     <g id=\"text_12\">\n      <!-- 80 -->\n      <g style=\"fill:#555555;\" transform=\"translate(29.17625 90.931771)scale(0.1 -0.1)\">\n       <use xlink:href=\"#DejaVuSans-56\"/>\n       <use x=\"63.623047\" xlink:href=\"#DejaVuSans-48\"/>\n      </g>\n     </g>\n    </g>\n    <g id=\"ytick_6\">\n     <g id=\"line2d_23\">\n      <path clip-path=\"url(#p4dee05cdd4)\" d=\"M 48.90125 49.065885 \nL 376.30125 49.065885 \n\" style=\"fill:none;stroke:#ffffff;stroke-linecap:square;stroke-width:0.8;\"/>\n     </g>\n     <g id=\"line2d_24\">\n      <g>\n       <use style=\"fill:#555555;stroke:#555555;stroke-width:0.8;\" x=\"48.90125\" xlink:href=\"#m560ffbd4db\" y=\"49.065885\"/>\n      </g>\n     </g>\n     <g id=\"text_13\">\n      <!-- 100 -->\n      <g style=\"fill:#555555;\" transform=\"translate(22.81375 52.865104)scale(0.1 -0.1)\">\n       <use xlink:href=\"#DejaVuSans-49\"/>\n       <use x=\"63.623047\" xlink:href=\"#DejaVuSans-48\"/>\n       <use x=\"127.246094\" xlink:href=\"#DejaVuSans-48\"/>\n      </g>\n     </g>\n    </g>\n    <g id=\"ytick_7\">\n     <g id=\"line2d_25\">\n      <path clip-path=\"url(#p4dee05cdd4)\" d=\"M 48.90125 10.999219 \nL 376.30125 10.999219 \n\" style=\"fill:none;stroke:#ffffff;stroke-linecap:square;stroke-width:0.8;\"/>\n     </g>\n     <g id=\"line2d_26\">\n      <g>\n       <use style=\"fill:#555555;stroke:#555555;stroke-width:0.8;\" x=\"48.90125\" xlink:href=\"#m560ffbd4db\" y=\"10.999219\"/>\n      </g>\n     </g>\n     <g id=\"text_14\">\n      <!-- 120 -->\n      <g style=\"fill:#555555;\" transform=\"translate(22.81375 14.798438)scale(0.1 -0.1)\">\n       <use xlink:href=\"#DejaVuSans-49\"/>\n       <use x=\"63.623047\" xlink:href=\"#DejaVuSans-50\"/>\n       <use x=\"127.246094\" xlink:href=\"#DejaVuSans-48\"/>\n      </g>\n     </g>\n    </g>\n    <g id=\"text_15\">\n     <!-- Activity (MBq) -->\n     <defs>\n      <path d=\"M 34.1875 63.1875 \nL 20.796875 26.90625 \nL 47.609375 26.90625 \nz\nM 28.609375 72.90625 \nL 39.796875 72.90625 \nL 67.578125 0 \nL 57.328125 0 \nL 50.6875 18.703125 \nL 17.828125 18.703125 \nL 11.1875 0 \nL 0.78125 0 \nz\n\" id=\"DejaVuSans-65\"/>\n      <path d=\"M 48.78125 52.59375 \nL 48.78125 44.1875 \nQ 44.96875 46.296875 41.140625 47.34375 \nQ 37.3125 48.390625 33.40625 48.390625 \nQ 24.65625 48.390625 19.8125 42.84375 \nQ 14.984375 37.3125 14.984375 27.296875 \nQ 14.984375 17.28125 19.8125 11.734375 \nQ 24.65625 6.203125 33.40625 6.203125 \nQ 37.3125 6.203125 41.140625 7.25 \nQ 44.96875 8.296875 48.78125 10.40625 \nL 48.78125 2.09375 \nQ 45.015625 0.34375 40.984375 -0.53125 \nQ 36.96875 -1.421875 32.421875 -1.421875 \nQ 20.0625 -1.421875 12.78125 6.34375 \nQ 5.515625 14.109375 5.515625 27.296875 \nQ 5.515625 40.671875 12.859375 48.328125 \nQ 20.21875 56 33.015625 56 \nQ 37.15625 56 41.109375 55.140625 \nQ 45.0625 54.296875 48.78125 52.59375 \nz\n\" id=\"DejaVuSans-99\"/>\n      <path d=\"M 2.984375 54.6875 \nL 12.5 54.6875 \nL 29.59375 8.796875 \nL 46.6875 54.6875 \nL 56.203125 54.6875 \nL 35.6875 0 \nL 23.484375 0 \nz\n\" id=\"DejaVuSans-118\"/>\n      <path d=\"M 32.171875 -5.078125 \nQ 28.375 -14.84375 24.75 -17.8125 \nQ 21.140625 -20.796875 15.09375 -20.796875 \nL 7.90625 -20.796875 \nL 7.90625 -13.28125 \nL 13.1875 -13.28125 \nQ 16.890625 -13.28125 18.9375 -11.515625 \nQ 21 -9.765625 23.484375 -3.21875 \nL 25.09375 0.875 \nL 2.984375 54.6875 \nL 12.5 54.6875 \nL 29.59375 11.921875 \nL 46.6875 54.6875 \nL 56.203125 54.6875 \nz\n\" id=\"DejaVuSans-121\"/>\n      <path d=\"M 9.8125 72.90625 \nL 24.515625 72.90625 \nL 43.109375 23.296875 \nL 61.8125 72.90625 \nL 76.515625 72.90625 \nL 76.515625 0 \nL 66.890625 0 \nL 66.890625 64.015625 \nL 48.09375 14.015625 \nL 38.1875 14.015625 \nL 19.390625 64.015625 \nL 19.390625 0 \nL 9.8125 0 \nz\n\" id=\"DejaVuSans-77\"/>\n      <path d=\"M 19.671875 34.8125 \nL 19.671875 8.109375 \nL 35.5 8.109375 \nQ 43.453125 8.109375 47.28125 11.40625 \nQ 51.125 14.703125 51.125 21.484375 \nQ 51.125 28.328125 47.28125 31.5625 \nQ 43.453125 34.8125 35.5 34.8125 \nz\nM 19.671875 64.796875 \nL 19.671875 42.828125 \nL 34.28125 42.828125 \nQ 41.5 42.828125 45.03125 45.53125 \nQ 48.578125 48.25 48.578125 53.8125 \nQ 48.578125 59.328125 45.03125 62.0625 \nQ 41.5 64.796875 34.28125 64.796875 \nz\nM 9.8125 72.90625 \nL 35.015625 72.90625 \nQ 46.296875 72.90625 52.390625 68.21875 \nQ 58.5 63.53125 58.5 54.890625 \nQ 58.5 48.1875 55.375 44.234375 \nQ 52.25 40.28125 46.1875 39.3125 \nQ 53.46875 37.75 57.5 32.78125 \nQ 61.53125 27.828125 61.53125 20.40625 \nQ 61.53125 10.640625 54.890625 5.3125 \nQ 48.25 0 35.984375 0 \nL 9.8125 0 \nz\n\" id=\"DejaVuSans-66\"/>\n      <path d=\"M 14.796875 27.296875 \nQ 14.796875 17.390625 18.875 11.75 \nQ 22.953125 6.109375 30.078125 6.109375 \nQ 37.203125 6.109375 41.296875 11.75 \nQ 45.40625 17.390625 45.40625 27.296875 \nQ 45.40625 37.203125 41.296875 42.84375 \nQ 37.203125 48.484375 30.078125 48.484375 \nQ 22.953125 48.484375 18.875 42.84375 \nQ 14.796875 37.203125 14.796875 27.296875 \nz\nM 45.40625 8.203125 \nQ 42.578125 3.328125 38.25 0.953125 \nQ 33.9375 -1.421875 27.875 -1.421875 \nQ 17.96875 -1.421875 11.734375 6.484375 \nQ 5.515625 14.40625 5.515625 27.296875 \nQ 5.515625 40.1875 11.734375 48.09375 \nQ 17.96875 56 27.875 56 \nQ 33.9375 56 38.25 53.625 \nQ 42.578125 51.265625 45.40625 46.390625 \nL 45.40625 54.6875 \nL 54.390625 54.6875 \nL 54.390625 -20.796875 \nL 45.40625 -20.796875 \nz\n\" id=\"DejaVuSans-113\"/>\n     </defs>\n     <g style=\"fill:#555555;\" transform=\"translate(16.318125 167.329531)rotate(-90)scale(0.12 -0.12)\">\n      <use xlink:href=\"#DejaVuSans-65\"/>\n      <use x=\"66.658203\" xlink:href=\"#DejaVuSans-99\"/>\n      <use x=\"121.638672\" xlink:href=\"#DejaVuSans-116\"/>\n      <use x=\"160.847656\" xlink:href=\"#DejaVuSans-105\"/>\n      <use x=\"188.630859\" xlink:href=\"#DejaVuSans-118\"/>\n      <use x=\"247.810547\" xlink:href=\"#DejaVuSans-105\"/>\n      <use x=\"275.59375\" xlink:href=\"#DejaVuSans-116\"/>\n      <use x=\"314.802734\" xlink:href=\"#DejaVuSans-121\"/>\n      <use x=\"373.982422\" xlink:href=\"#DejaVuSans-32\"/>\n      <use x=\"405.769531\" xlink:href=\"#DejaVuSans-40\"/>\n      <use x=\"444.783203\" xlink:href=\"#DejaVuSans-77\"/>\n      <use x=\"531.0625\" xlink:href=\"#DejaVuSans-66\"/>\n      <use x=\"599.666016\" xlink:href=\"#DejaVuSans-113\"/>\n      <use x=\"663.142578\" xlink:href=\"#DejaVuSans-41\"/>\n     </g>\n    </g>\n   </g>\n   <g id=\"patch_3\">\n    <path d=\"M 48.90125 239.399219 \nL 48.90125 10.999219 \n\" style=\"fill:none;stroke:#ffffff;stroke-linecap:square;stroke-linejoin:miter;\"/>\n   </g>\n   <g id=\"patch_4\">\n    <path d=\"M 376.30125 239.399219 \nL 376.30125 10.999219 \n\" style=\"fill:none;stroke:#ffffff;stroke-linecap:square;stroke-linejoin:miter;\"/>\n   </g>\n   <g id=\"patch_5\">\n    <path d=\"M 48.90125 239.399219 \nL 376.30125 239.399219 \n\" style=\"fill:none;stroke:#ffffff;stroke-linecap:square;stroke-linejoin:miter;\"/>\n   </g>\n   <g id=\"patch_6\">\n    <path d=\"M 48.90125 10.999219 \nL 376.30125 10.999219 \n\" style=\"fill:none;stroke:#ffffff;stroke-linecap:square;stroke-linejoin:miter;\"/>\n   </g>\n   <g id=\"line2d_27\">\n    <path clip-path=\"url(#p4dee05cdd4)\" d=\"M 48.90125 49.065885 \nL 52.17525 51.05615 \nL 55.44925 53.025602 \nL 58.72325 54.974461 \nL 61.99725 56.902941 \nL 65.27125 58.811255 \nL 68.54525 60.699615 \nL 71.81925 62.568229 \nL 75.09325 64.417303 \nL 78.36725 66.247041 \nL 81.64125 68.057647 \nL 84.91525 69.84932 \nL 88.18925 71.622257 \nL 91.46325 73.376656 \nL 94.73725 75.112709 \nL 98.01125 76.830609 \nL 101.28525 78.530545 \nL 104.55925 80.212705 \nL 107.83325 81.877276 \nL 111.10725 83.52444 \nL 114.38125 85.154381 \nL 117.65525 86.767277 \nL 120.92925 88.363308 \nL 124.20325 89.94265 \nL 127.47725 91.505477 \nL 130.75125 93.051962 \nL 134.02525 94.582276 \nL 137.29925 96.096588 \nL 140.57325 97.595065 \nL 143.84725 99.077873 \nL 147.12125 100.545175 \nL 150.39525 101.997134 \nL 153.66925 103.433911 \nL 156.94325 104.855664 \nL 160.21725 106.262549 \nL 163.49125 107.654723 \nL 166.76525 109.03234 \nL 170.03925 110.395551 \nL 173.31325 111.744508 \nL 176.58725 113.079359 \nL 179.86125 114.400252 \nL 183.13525 115.707332 \nL 186.40925 117.000745 \nL 189.68325 118.280633 \nL 192.95725 119.547137 \nL 196.23125 120.800398 \nL 199.50525 122.040554 \nL 202.77925 123.267742 \nL 206.05325 124.482097 \nL 209.32725 125.683755 \nL 212.60125 126.872847 \nL 215.87525 128.049505 \nL 219.14925 129.213859 \nL 222.42325 130.366037 \nL 225.69725 131.506168 \nL 228.97125 132.634376 \nL 232.24525 133.750788 \nL 235.51925 134.855525 \nL 238.79325 135.94871 \nL 242.06725 137.030464 \nL 245.34125 138.100906 \nL 248.61525 139.160156 \nL 251.88925 140.208328 \nL 255.16325 141.245541 \nL 258.43725 142.271907 \nL 261.71125 143.287542 \nL 264.98525 144.292555 \nL 268.25925 145.28706 \nL 271.53325 146.271166 \nL 274.80725 147.244981 \nL 278.08125 148.208613 \nL 281.35525 149.162168 \nL 284.62925 150.105753 \nL 287.90325 151.03947 \nL 291.17725 151.963425 \nL 294.45125 152.877717 \nL 297.72525 153.782449 \nL 300.99925 154.677721 \nL 304.27325 155.56363 \nL 307.54725 156.440277 \nL 310.82125 157.307756 \nL 314.09525 158.166164 \nL 317.36925 159.015596 \nL 320.64325 159.856146 \nL 323.91725 160.687907 \nL 327.19125 161.51097 \nL 330.46525 162.325426 \nL 333.73925 163.131366 \nL 337.01325 163.928878 \nL 340.28725 164.718051 \nL 343.56125 165.498972 \nL 346.83525 166.271727 \nL 350.10925 167.036402 \nL 353.38325 167.79308 \nL 356.65725 168.541846 \nL 359.93125 169.282783 \nL 363.20525 170.015971 \nL 366.47925 170.741493 \nL 369.75325 171.459428 \nL 373.02725 172.169857 \nL 376.30125 172.872856 \n\" style=\"fill:none;stroke:#0000cd;stroke-linecap:square;stroke-width:1.5;\"/>\n   </g>\n   <g id=\"line2d_28\">\n    <path clip-path=\"url(#p4dee05cdd4)\" d=\"M 48.90125 239.399219 \nL 52.17525 221.354671 \nL 55.44925 205.464403 \nL 58.72325 191.491776 \nL 61.99725 179.225949 \nL 65.27125 168.479069 \nL 68.54525 159.083764 \nL 71.81925 150.890915 \nL 75.09325 143.767668 \nL 78.36725 137.595657 \nL 81.64125 132.269432 \nL 84.91525 127.695048 \nL 88.18925 123.78881 \nL 91.46325 120.476162 \nL 94.73725 117.690687 \nL 98.01125 115.37322 \nL 101.28525 113.471061 \nL 104.55925 111.937266 \nL 107.83325 110.730024 \nL 111.10725 109.812097 \nL 114.38125 109.150319 \nL 117.65525 108.715155 \nL 120.92925 108.480304 \nL 124.20325 108.422348 \nL 127.47725 108.520433 \nL 130.75125 108.755998 \nL 134.02525 109.112518 \nL 137.29925 109.575283 \nL 140.57325 110.131204 \nL 143.84725 110.768631 \nL 147.12125 111.4772 \nL 150.39525 112.247693 \nL 153.66925 113.071909 \nL 156.94325 113.942557 \nL 160.21725 114.853154 \nL 163.49125 115.79794 \nL 166.76525 116.771795 \nL 170.03925 117.770173 \nL 173.31325 118.789037 \nL 176.58725 119.824804 \nL 179.86125 120.874295 \nL 183.13525 121.934692 \nL 186.40925 123.003498 \nL 189.68325 124.078501 \nL 192.95725 125.157744 \nL 196.23125 126.239496 \nL 199.50525 127.322227 \nL 202.77925 128.40459 \nL 206.05325 129.485394 \nL 209.32725 130.563594 \nL 212.60125 131.638268 \nL 215.87525 132.70861 \nL 219.14925 133.773912 \nL 222.42325 134.833558 \nL 225.69725 135.887008 \nL 228.97125 136.933797 \nL 232.24525 137.973518 \nL 235.51925 139.005824 \nL 238.79325 140.030415 \nL 242.06725 141.047037 \nL 245.34125 142.055474 \nL 248.61525 143.055546 \nL 251.88925 144.047101 \nL 255.16325 145.030019 \nL 258.43725 146.0042 \nL 261.71125 146.969568 \nL 264.98525 147.926066 \nL 268.25925 148.873653 \nL 271.53325 149.812303 \nL 274.80725 150.742004 \nL 278.08125 151.662755 \nL 281.35525 152.574566 \nL 284.62925 153.477455 \nL 287.90325 154.371449 \nL 291.17725 155.256581 \nL 294.45125 156.132891 \nL 297.72525 157.000425 \nL 300.99925 157.859231 \nL 304.27325 158.709363 \nL 307.54725 159.550879 \nL 310.82125 160.383839 \nL 314.09525 161.208306 \nL 317.36925 162.024346 \nL 320.64325 162.832024 \nL 323.91725 163.631411 \nL 327.19125 164.422575 \nL 330.46525 165.205588 \nL 333.73925 165.980522 \nL 337.01325 166.74745 \nL 340.28725 167.506444 \nL 343.56125 168.257579 \nL 346.83525 169.000927 \nL 350.10925 169.736564 \nL 353.38325 170.464563 \nL 356.65725 171.184997 \nL 359.93125 171.897942 \nL 363.20525 172.60347 \nL 366.47925 173.301654 \nL 369.75325 173.992569 \nL 373.02725 174.676286 \nL 376.30125 175.352878 \n\" style=\"fill:none;stroke:#ff0000;stroke-linecap:square;stroke-width:1.5;\"/>\n   </g>\n   <g id=\"legend_1\">\n    <g id=\"patch_7\">\n     <path d=\"M 269.50125 234.399219 \nL 369.30125 234.399219 \nQ 371.30125 234.399219 371.30125 232.399219 \nL 371.30125 200.999219 \nQ 371.30125 198.999219 369.30125 198.999219 \nL 269.50125 198.999219 \nQ 267.50125 198.999219 267.50125 200.999219 \nL 267.50125 232.399219 \nQ 267.50125 234.399219 269.50125 234.399219 \nz\n\" style=\"fill:#e5e5e5;opacity:0.8;stroke:#cccccc;stroke-linejoin:miter;stroke-width:0.5;\"/>\n    </g>\n    <g id=\"line2d_29\">\n     <path d=\"M 271.50125 208.599219 \nL 291.50125 208.599219 \n\" style=\"fill:none;stroke:#0000cd;stroke-linecap:square;stroke-width:1.5;\"/>\n    </g>\n    <g id=\"line2d_30\"/>\n    <g id=\"text_16\">\n     <!-- $^{99}$Mo activity -->\n     <defs>\n      <path d=\"M 10.984375 1.515625 \nL 10.984375 10.5 \nQ 14.703125 8.734375 18.5 7.8125 \nQ 22.3125 6.890625 25.984375 6.890625 \nQ 35.75 6.890625 40.890625 13.453125 \nQ 46.046875 20.015625 46.78125 33.40625 \nQ 43.953125 29.203125 39.59375 26.953125 \nQ 35.25 24.703125 29.984375 24.703125 \nQ 19.046875 24.703125 12.671875 31.3125 \nQ 6.296875 37.9375 6.296875 49.421875 \nQ 6.296875 60.640625 12.9375 67.421875 \nQ 19.578125 74.21875 30.609375 74.21875 \nQ 43.265625 74.21875 49.921875 64.515625 \nQ 56.59375 54.828125 56.59375 36.375 \nQ 56.59375 19.140625 48.40625 8.859375 \nQ 40.234375 -1.421875 26.421875 -1.421875 \nQ 22.703125 -1.421875 18.890625 -0.6875 \nQ 15.09375 0.046875 10.984375 1.515625 \nz\nM 30.609375 32.421875 \nQ 37.25 32.421875 41.125 36.953125 \nQ 45.015625 41.5 45.015625 49.421875 \nQ 45.015625 57.28125 41.125 61.84375 \nQ 37.25 66.40625 30.609375 66.40625 \nQ 23.96875 66.40625 20.09375 61.84375 \nQ 16.21875 57.28125 16.21875 49.421875 \nQ 16.21875 41.5 20.09375 36.953125 \nQ 23.96875 32.421875 30.609375 32.421875 \nz\n\" id=\"DejaVuSans-57\"/>\n      <path d=\"M 30.609375 48.390625 \nQ 23.390625 48.390625 19.1875 42.75 \nQ 14.984375 37.109375 14.984375 27.296875 \nQ 14.984375 17.484375 19.15625 11.84375 \nQ 23.34375 6.203125 30.609375 6.203125 \nQ 37.796875 6.203125 41.984375 11.859375 \nQ 46.1875 17.53125 46.1875 27.296875 \nQ 46.1875 37.015625 41.984375 42.703125 \nQ 37.796875 48.390625 30.609375 48.390625 \nz\nM 30.609375 56 \nQ 42.328125 56 49.015625 48.375 \nQ 55.71875 40.765625 55.71875 27.296875 \nQ 55.71875 13.875 49.015625 6.21875 \nQ 42.328125 -1.421875 30.609375 -1.421875 \nQ 18.84375 -1.421875 12.171875 6.21875 \nQ 5.515625 13.875 5.515625 27.296875 \nQ 5.515625 40.765625 12.171875 48.375 \nQ 18.84375 56 30.609375 56 \nz\n\" id=\"DejaVuSans-111\"/>\n     </defs>\n     <g transform=\"translate(299.50125 212.099219)scale(0.1 -0.1)\">\n      <use transform=\"translate(0.957031 39.046875)scale(0.7)\" xlink:href=\"#DejaVuSans-57\"/>\n      <use transform=\"translate(45.493164 39.046875)scale(0.7)\" xlink:href=\"#DejaVuSans-57\"/>\n      <use transform=\"translate(92.763672 0.765625)\" xlink:href=\"#DejaVuSans-77\"/>\n      <use transform=\"translate(179.042969 0.765625)\" xlink:href=\"#DejaVuSans-111\"/>\n      <use transform=\"translate(240.224609 0.765625)\" xlink:href=\"#DejaVuSans-32\"/>\n      <use transform=\"translate(272.011719 0.765625)\" xlink:href=\"#DejaVuSans-97\"/>\n      <use transform=\"translate(333.291016 0.765625)\" xlink:href=\"#DejaVuSans-99\"/>\n      <use transform=\"translate(388.271484 0.765625)\" xlink:href=\"#DejaVuSans-116\"/>\n      <use transform=\"translate(427.480469 0.765625)\" xlink:href=\"#DejaVuSans-105\"/>\n      <use transform=\"translate(455.263672 0.765625)\" xlink:href=\"#DejaVuSans-118\"/>\n      <use transform=\"translate(514.443359 0.765625)\" xlink:href=\"#DejaVuSans-105\"/>\n      <use transform=\"translate(542.226562 0.765625)\" xlink:href=\"#DejaVuSans-116\"/>\n      <use transform=\"translate(581.435547 0.765625)\" xlink:href=\"#DejaVuSans-121\"/>\n     </g>\n    </g>\n    <g id=\"line2d_31\">\n     <path d=\"M 271.50125 224.799219 \nL 291.50125 224.799219 \n\" style=\"fill:none;stroke:#ff0000;stroke-linecap:square;stroke-width:1.5;\"/>\n    </g>\n    <g id=\"line2d_32\"/>\n    <g id=\"text_17\">\n     <!-- $^{99\\mathrm{m}}$Tc activity -->\n     <defs>\n      <path d=\"M -0.296875 72.90625 \nL 61.375 72.90625 \nL 61.375 64.59375 \nL 35.5 64.59375 \nL 35.5 0 \nL 25.59375 0 \nL 25.59375 64.59375 \nL -0.296875 64.59375 \nz\n\" id=\"DejaVuSans-84\"/>\n     </defs>\n     <g transform=\"translate(299.50125 228.299219)scale(0.1 -0.1)\">\n      <use transform=\"translate(0.957031 39.046875)scale(0.7)\" xlink:href=\"#DejaVuSans-57\"/>\n      <use transform=\"translate(45.493164 39.046875)scale(0.7)\" xlink:href=\"#DejaVuSans-57\"/>\n      <use transform=\"translate(90.029297 39.046875)scale(0.7)\" xlink:href=\"#DejaVuSans-109\"/>\n      <use transform=\"translate(160.952148 0.765625)\" xlink:href=\"#DejaVuSans-84\"/>\n      <use transform=\"translate(222.036133 0.765625)\" xlink:href=\"#DejaVuSans-99\"/>\n      <use transform=\"translate(277.016602 0.765625)\" xlink:href=\"#DejaVuSans-32\"/>\n      <use transform=\"translate(308.803711 0.765625)\" xlink:href=\"#DejaVuSans-97\"/>\n      <use transform=\"translate(370.083008 0.765625)\" xlink:href=\"#DejaVuSans-99\"/>\n      <use transform=\"translate(425.063477 0.765625)\" xlink:href=\"#DejaVuSans-116\"/>\n      <use transform=\"translate(464.272461 0.765625)\" xlink:href=\"#DejaVuSans-105\"/>\n      <use transform=\"translate(492.055664 0.765625)\" xlink:href=\"#DejaVuSans-118\"/>\n      <use transform=\"translate(551.235352 0.765625)\" xlink:href=\"#DejaVuSans-105\"/>\n      <use transform=\"translate(579.018555 0.765625)\" xlink:href=\"#DejaVuSans-116\"/>\n      <use transform=\"translate(618.227539 0.765625)\" xlink:href=\"#DejaVuSans-121\"/>\n     </g>\n    </g>\n   </g>\n  </g>\n  <g id=\"axes_2\">\n   <g id=\"matplotlib.axis_3\">\n    <g id=\"ytick_8\">\n     <g id=\"line2d_33\">\n      <path clip-path=\"url(#p4dee05cdd4)\" d=\"M 48.90125 239.399219 \nL 376.30125 239.399219 \n\" style=\"fill:none;stroke:#ffffff;stroke-linecap:square;stroke-width:0.8;\"/>\n     </g>\n     <g id=\"line2d_34\">\n      <defs>\n       <path d=\"M 0 0 \nL 3.5 0 \n\" id=\"m0f9e50dba9\" style=\"stroke:#555555;stroke-width:0.8;\"/>\n      </defs>\n      <g>\n       <use style=\"fill:#555555;stroke:#555555;stroke-width:0.8;\" x=\"376.30125\" xlink:href=\"#m0f9e50dba9\" y=\"239.399219\"/>\n      </g>\n     </g>\n     <g id=\"text_18\">\n      <!-- 0.0 -->\n      <defs>\n       <path d=\"M 10.6875 12.40625 \nL 21 12.40625 \nL 21 0 \nL 10.6875 0 \nz\n\" id=\"DejaVuSans-46\"/>\n      </defs>\n      <g style=\"fill:#555555;\" transform=\"translate(383.30125 243.198437)scale(0.1 -0.1)\">\n       <use xlink:href=\"#DejaVuSans-48\"/>\n       <use x=\"63.623047\" xlink:href=\"#DejaVuSans-46\"/>\n       <use x=\"95.410156\" xlink:href=\"#DejaVuSans-48\"/>\n      </g>\n     </g>\n    </g>\n    <g id=\"ytick_9\">\n     <g id=\"line2d_35\">\n      <path clip-path=\"url(#p4dee05cdd4)\" d=\"M 48.90125 201.332552 \nL 376.30125 201.332552 \n\" style=\"fill:none;stroke:#ffffff;stroke-linecap:square;stroke-width:0.8;\"/>\n     </g>\n     <g id=\"line2d_36\">\n      <g>\n       <use style=\"fill:#555555;stroke:#555555;stroke-width:0.8;\" x=\"376.30125\" xlink:href=\"#m0f9e50dba9\" y=\"201.332552\"/>\n      </g>\n     </g>\n     <g id=\"text_19\">\n      <!-- 0.2 -->\n      <g style=\"fill:#555555;\" transform=\"translate(383.30125 205.131771)scale(0.1 -0.1)\">\n       <use xlink:href=\"#DejaVuSans-48\"/>\n       <use x=\"63.623047\" xlink:href=\"#DejaVuSans-46\"/>\n       <use x=\"95.410156\" xlink:href=\"#DejaVuSans-50\"/>\n      </g>\n     </g>\n    </g>\n    <g id=\"ytick_10\">\n     <g id=\"line2d_37\">\n      <path clip-path=\"url(#p4dee05cdd4)\" d=\"M 48.90125 163.265885 \nL 376.30125 163.265885 \n\" style=\"fill:none;stroke:#ffffff;stroke-linecap:square;stroke-width:0.8;\"/>\n     </g>\n     <g id=\"line2d_38\">\n      <g>\n       <use style=\"fill:#555555;stroke:#555555;stroke-width:0.8;\" x=\"376.30125\" xlink:href=\"#m0f9e50dba9\" y=\"163.265885\"/>\n      </g>\n     </g>\n     <g id=\"text_20\">\n      <!-- 0.4 -->\n      <g style=\"fill:#555555;\" transform=\"translate(383.30125 167.065104)scale(0.1 -0.1)\">\n       <use xlink:href=\"#DejaVuSans-48\"/>\n       <use x=\"63.623047\" xlink:href=\"#DejaVuSans-46\"/>\n       <use x=\"95.410156\" xlink:href=\"#DejaVuSans-52\"/>\n      </g>\n     </g>\n    </g>\n    <g id=\"ytick_11\">\n     <g id=\"line2d_39\">\n      <path clip-path=\"url(#p4dee05cdd4)\" d=\"M 48.90125 125.199219 \nL 376.30125 125.199219 \n\" style=\"fill:none;stroke:#ffffff;stroke-linecap:square;stroke-width:0.8;\"/>\n     </g>\n     <g id=\"line2d_40\">\n      <g>\n       <use style=\"fill:#555555;stroke:#555555;stroke-width:0.8;\" x=\"376.30125\" xlink:href=\"#m0f9e50dba9\" y=\"125.199219\"/>\n      </g>\n     </g>\n     <g id=\"text_21\">\n      <!-- 0.6 -->\n      <g style=\"fill:#555555;\" transform=\"translate(383.30125 128.998437)scale(0.1 -0.1)\">\n       <use xlink:href=\"#DejaVuSans-48\"/>\n       <use x=\"63.623047\" xlink:href=\"#DejaVuSans-46\"/>\n       <use x=\"95.410156\" xlink:href=\"#DejaVuSans-54\"/>\n      </g>\n     </g>\n    </g>\n    <g id=\"ytick_12\">\n     <g id=\"line2d_41\">\n      <path clip-path=\"url(#p4dee05cdd4)\" d=\"M 48.90125 87.132552 \nL 376.30125 87.132552 \n\" style=\"fill:none;stroke:#ffffff;stroke-linecap:square;stroke-width:0.8;\"/>\n     </g>\n     <g id=\"line2d_42\">\n      <g>\n       <use style=\"fill:#555555;stroke:#555555;stroke-width:0.8;\" x=\"376.30125\" xlink:href=\"#m0f9e50dba9\" y=\"87.132552\"/>\n      </g>\n     </g>\n     <g id=\"text_22\">\n      <!-- 0.8 -->\n      <g style=\"fill:#555555;\" transform=\"translate(383.30125 90.931771)scale(0.1 -0.1)\">\n       <use xlink:href=\"#DejaVuSans-48\"/>\n       <use x=\"63.623047\" xlink:href=\"#DejaVuSans-46\"/>\n       <use x=\"95.410156\" xlink:href=\"#DejaVuSans-56\"/>\n      </g>\n     </g>\n    </g>\n    <g id=\"ytick_13\">\n     <g id=\"line2d_43\">\n      <path clip-path=\"url(#p4dee05cdd4)\" d=\"M 48.90125 49.065885 \nL 376.30125 49.065885 \n\" style=\"fill:none;stroke:#ffffff;stroke-linecap:square;stroke-width:0.8;\"/>\n     </g>\n     <g id=\"line2d_44\">\n      <g>\n       <use style=\"fill:#555555;stroke:#555555;stroke-width:0.8;\" x=\"376.30125\" xlink:href=\"#m0f9e50dba9\" y=\"49.065885\"/>\n      </g>\n     </g>\n     <g id=\"text_23\">\n      <!-- 1.0 -->\n      <g style=\"fill:#555555;\" transform=\"translate(383.30125 52.865104)scale(0.1 -0.1)\">\n       <use xlink:href=\"#DejaVuSans-49\"/>\n       <use x=\"63.623047\" xlink:href=\"#DejaVuSans-46\"/>\n       <use x=\"95.410156\" xlink:href=\"#DejaVuSans-48\"/>\n      </g>\n     </g>\n    </g>\n    <g id=\"ytick_14\">\n     <g id=\"line2d_45\">\n      <path clip-path=\"url(#p4dee05cdd4)\" d=\"M 48.90125 10.999219 \nL 376.30125 10.999219 \n\" style=\"fill:none;stroke:#ffffff;stroke-linecap:square;stroke-width:0.8;\"/>\n     </g>\n     <g id=\"line2d_46\">\n      <g>\n       <use style=\"fill:#555555;stroke:#555555;stroke-width:0.8;\" x=\"376.30125\" xlink:href=\"#m0f9e50dba9\" y=\"10.999219\"/>\n      </g>\n     </g>\n     <g id=\"text_24\">\n      <!-- 1.2 -->\n      <g style=\"fill:#555555;\" transform=\"translate(383.30125 14.798438)scale(0.1 -0.1)\">\n       <use xlink:href=\"#DejaVuSans-49\"/>\n       <use x=\"63.623047\" xlink:href=\"#DejaVuSans-46\"/>\n       <use x=\"95.410156\" xlink:href=\"#DejaVuSans-50\"/>\n      </g>\n     </g>\n    </g>\n    <g id=\"text_25\">\n     <!-- Ratio or exp() -->\n     <defs>\n      <path d=\"M 44.390625 34.1875 \nQ 47.5625 33.109375 50.5625 29.59375 \nQ 53.5625 26.078125 56.59375 19.921875 \nL 66.609375 0 \nL 56 0 \nL 46.6875 18.703125 \nQ 43.0625 26.03125 39.671875 28.421875 \nQ 36.28125 30.8125 30.421875 30.8125 \nL 19.671875 30.8125 \nL 19.671875 0 \nL 9.8125 0 \nL 9.8125 72.90625 \nL 32.078125 72.90625 \nQ 44.578125 72.90625 50.734375 67.671875 \nQ 56.890625 62.453125 56.890625 51.90625 \nQ 56.890625 45.015625 53.6875 40.46875 \nQ 50.484375 35.9375 44.390625 34.1875 \nz\nM 19.671875 64.796875 \nL 19.671875 38.921875 \nL 32.078125 38.921875 \nQ 39.203125 38.921875 42.84375 42.21875 \nQ 46.484375 45.515625 46.484375 51.90625 \nQ 46.484375 58.296875 42.84375 61.546875 \nQ 39.203125 64.796875 32.078125 64.796875 \nz\n\" id=\"DejaVuSans-82\"/>\n      <path d=\"M 41.109375 46.296875 \nQ 39.59375 47.171875 37.8125 47.578125 \nQ 36.03125 48 33.890625 48 \nQ 26.265625 48 22.1875 43.046875 \nQ 18.109375 38.09375 18.109375 28.8125 \nL 18.109375 0 \nL 9.078125 0 \nL 9.078125 54.6875 \nL 18.109375 54.6875 \nL 18.109375 46.1875 \nQ 20.953125 51.171875 25.484375 53.578125 \nQ 30.03125 56 36.53125 56 \nQ 37.453125 56 38.578125 55.875 \nQ 39.703125 55.765625 41.0625 55.515625 \nz\n\" id=\"DejaVuSans-114\"/>\n      <path d=\"M 54.890625 54.6875 \nL 35.109375 28.078125 \nL 55.90625 0 \nL 45.3125 0 \nL 29.390625 21.484375 \nL 13.484375 0 \nL 2.875 0 \nL 24.125 28.609375 \nL 4.6875 54.6875 \nL 15.28125 54.6875 \nL 29.78125 35.203125 \nL 44.28125 54.6875 \nz\n\" id=\"DejaVuSans-120\"/>\n     </defs>\n     <g style=\"fill:#555555;\" transform=\"translate(412.3225 166.181094)rotate(-90)scale(0.12 -0.12)\">\n      <use xlink:href=\"#DejaVuSans-82\"/>\n      <use x=\"67.232422\" xlink:href=\"#DejaVuSans-97\"/>\n      <use x=\"128.511719\" xlink:href=\"#DejaVuSans-116\"/>\n      <use x=\"167.720703\" xlink:href=\"#DejaVuSans-105\"/>\n      <use x=\"195.503906\" xlink:href=\"#DejaVuSans-111\"/>\n      <use x=\"256.685547\" xlink:href=\"#DejaVuSans-32\"/>\n      <use x=\"288.472656\" xlink:href=\"#DejaVuSans-111\"/>\n      <use x=\"349.654297\" xlink:href=\"#DejaVuSans-114\"/>\n      <use x=\"390.767578\" xlink:href=\"#DejaVuSans-32\"/>\n      <use x=\"422.554688\" xlink:href=\"#DejaVuSans-101\"/>\n      <use x=\"482.328125\" xlink:href=\"#DejaVuSans-120\"/>\n      <use x=\"541.507812\" xlink:href=\"#DejaVuSans-112\"/>\n      <use x=\"604.984375\" xlink:href=\"#DejaVuSans-40\"/>\n      <use x=\"643.998047\" xlink:href=\"#DejaVuSans-41\"/>\n     </g>\n    </g>\n   </g>\n   <g id=\"patch_8\">\n    <path d=\"M 48.90125 239.399219 \nL 48.90125 10.999219 \n\" style=\"fill:none;stroke:#ffffff;stroke-linecap:square;stroke-linejoin:miter;\"/>\n   </g>\n   <g id=\"patch_9\">\n    <path d=\"M 376.30125 239.399219 \nL 376.30125 10.999219 \n\" style=\"fill:none;stroke:#ffffff;stroke-linecap:square;stroke-linejoin:miter;\"/>\n   </g>\n   <g id=\"patch_10\">\n    <path d=\"M 48.90125 239.399219 \nL 376.30125 239.399219 \n\" style=\"fill:none;stroke:#ffffff;stroke-linecap:square;stroke-linejoin:miter;\"/>\n   </g>\n   <g id=\"patch_11\">\n    <path d=\"M 48.90125 10.999219 \nL 376.30125 10.999219 \n\" style=\"fill:none;stroke:#ffffff;stroke-linecap:square;stroke-linejoin:miter;\"/>\n   </g>\n   <g id=\"line2d_47\">\n    <path clip-path=\"url(#p4dee05cdd4)\" d=\"M 48.90125 239.399219 \nL 52.17525 221.16399 \nL 55.44925 204.74342 \nL 58.72325 189.956924 \nL 61.99725 176.64189 \nL 65.27125 164.651886 \nL 68.54525 153.855054 \nL 71.81925 144.132657 \nL 75.09325 135.377773 \nL 78.36725 127.494122 \nL 81.64125 120.395003 \nL 84.91525 114.002345 \nL 88.18925 108.245845 \nL 91.46325 103.062197 \nL 94.73725 98.394394 \nL 98.01125 94.191102 \nL 101.28525 90.406096 \nL 104.55925 86.99775 \nL 107.83325 83.928583 \nL 111.10725 81.16484 \nL 114.38125 78.676127 \nL 117.65525 76.435076 \nL 120.92925 74.417041 \nL 124.20325 72.599829 \nL 127.47725 70.963454 \nL 130.75125 69.489921 \nL 134.02525 68.163025 \nL 137.29925 66.968174 \nL 140.57325 65.892227 \nL 143.84725 64.923351 \nL 147.12125 64.050892 \nL 150.39525 63.265255 \nL 153.66925 62.5578 \nL 156.94325 61.920746 \nL 160.21725 61.347088 \nL 163.49125 60.830517 \nL 166.76525 60.365352 \nL 170.03925 59.946478 \nL 173.31325 59.569287 \nL 176.58725 59.229632 \nL 179.86125 58.923777 \nL 183.13525 58.648359 \nL 186.40925 58.400349 \nL 189.68325 58.177019 \nL 192.95725 57.975914 \nL 196.23125 57.794822 \nL 199.50525 57.631751 \nL 202.77925 57.484907 \nL 206.05325 57.352677 \nL 209.32725 57.233605 \nL 212.60125 57.126383 \nL 215.87525 57.02983 \nL 219.14925 56.942886 \nL 222.42325 56.864595 \nL 225.69725 56.794094 \nL 228.97125 56.730609 \nL 232.24525 56.673442 \nL 235.51925 56.621963 \nL 238.79325 56.575608 \nL 242.06725 56.533865 \nL 245.34125 56.496277 \nL 248.61525 56.462429 \nL 251.88925 56.431949 \nL 255.16325 56.404503 \nL 258.43725 56.379787 \nL 261.71125 56.357532 \nL 264.98525 56.337491 \nL 268.25925 56.319444 \nL 271.53325 56.303194 \nL 274.80725 56.28856 \nL 278.08125 56.275383 \nL 281.35525 56.263517 \nL 284.62925 56.252832 \nL 287.90325 56.24321 \nL 291.17725 56.234546 \nL 294.45125 56.226743 \nL 297.72525 56.219718 \nL 300.99925 56.213391 \nL 304.27325 56.207694 \nL 307.54725 56.202564 \nL 310.82125 56.197945 \nL 314.09525 56.193785 \nL 317.36925 56.190039 \nL 320.64325 56.186666 \nL 323.91725 56.183629 \nL 327.19125 56.180893 \nL 330.46525 56.178431 \nL 333.73925 56.176213 \nL 337.01325 56.174215 \nL 340.28725 56.172417 \nL 343.56125 56.170798 \nL 346.83525 56.169339 \nL 350.10925 56.168026 \nL 353.38325 56.166844 \nL 356.65725 56.165779 \nL 359.93125 56.16482 \nL 363.20525 56.163957 \nL 366.47925 56.163179 \nL 369.75325 56.162479 \nL 373.02725 56.161848 \nL 376.30125 56.161281 \n\" style=\"fill:none;stroke:#000000;stroke-dasharray:5.55,2.4;stroke-dashoffset:0;stroke-width:1.5;\"/>\n   </g>\n   <g id=\"line2d_48\">\n    <path clip-path=\"url(#p4dee05cdd4)\" d=\"M 48.90125 49.065885 \nL 52.17525 69.798899 \nL 55.44925 88.273464 \nL 58.72325 104.735595 \nL 61.99725 119.404506 \nL 65.27125 132.475532 \nL 68.54525 144.122731 \nL 71.81925 154.5012 \nL 75.09325 163.749143 \nL 78.36725 171.989707 \nL 81.64125 179.332626 \nL 84.91525 185.875681 \nL 88.18925 191.706001 \nL 91.46325 196.901224 \nL 94.73725 201.530531 \nL 98.01125 205.655568 \nL 101.28525 209.331264 \nL 104.55925 212.606567 \nL 107.83325 215.525091 \nL 111.10725 218.1257 \nL 114.38125 220.443025 \nL 117.65525 222.507923 \nL 120.92925 224.347892 \nL 124.20325 225.987434 \nL 127.47725 227.44838 \nL 130.75125 228.750185 \nL 134.02525 229.910184 \nL 137.29925 230.943825 \nL 140.57325 231.864871 \nL 143.84725 232.685588 \nL 147.12125 233.416904 \nL 150.39525 234.068557 \nL 153.66925 234.649226 \nL 156.94325 235.166643 \nL 160.21725 235.627698 \nL 163.49125 236.03853 \nL 166.76525 236.404609 \nL 170.03925 236.730812 \nL 173.31325 237.021482 \nL 176.58725 237.280489 \nL 179.86125 237.511282 \nL 183.13525 237.716935 \nL 186.40925 237.900186 \nL 189.68325 238.063476 \nL 192.95725 238.208978 \nL 196.23125 238.338631 \nL 199.50525 238.454161 \nL 202.77925 238.557106 \nL 206.05325 238.648838 \nL 209.32725 238.730577 \nL 212.60125 238.803412 \nL 215.87525 238.868313 \nL 219.14925 238.926145 \nL 222.42325 238.977677 \nL 225.69725 239.023595 \nL 228.97125 239.064512 \nL 232.24525 239.100971 \nL 235.51925 239.13346 \nL 238.79325 239.162409 \nL 242.06725 239.188204 \nL 245.34125 239.21119 \nL 248.61525 239.231672 \nL 251.88925 239.249923 \nL 255.16325 239.266186 \nL 258.43725 239.280677 \nL 261.71125 239.29359 \nL 264.98525 239.305096 \nL 268.25925 239.315349 \nL 271.53325 239.324485 \nL 274.80725 239.332626 \nL 278.08125 239.33988 \nL 281.35525 239.346343 \nL 284.62925 239.352103 \nL 287.90325 239.357235 \nL 291.17725 239.361809 \nL 294.45125 239.365884 \nL 297.72525 239.369515 \nL 300.99925 239.372751 \nL 304.27325 239.375634 \nL 307.54725 239.378203 \nL 310.82125 239.380492 \nL 314.09525 239.382532 \nL 317.36925 239.38435 \nL 320.64325 239.385969 \nL 323.91725 239.387413 \nL 327.19125 239.388699 \nL 330.46525 239.389845 \nL 333.73925 239.390866 \nL 337.01325 239.391776 \nL 340.28725 239.392586 \nL 343.56125 239.393309 \nL 346.83525 239.393953 \nL 350.10925 239.394526 \nL 353.38325 239.395037 \nL 356.65725 239.395493 \nL 359.93125 239.395899 \nL 363.20525 239.39626 \nL 366.47925 239.396583 \nL 369.75325 239.39687 \nL 373.02725 239.397126 \nL 376.30125 239.397354 \n\" style=\"fill:none;stroke:#000000;stroke-dasharray:1.5,2.475;stroke-dashoffset:0;stroke-width:1.5;\"/>\n   </g>\n   <g id=\"legend_2\">\n    <g id=\"patch_12\">\n     <path d=\"M 136.60125 48.377344 \nL 369.30125 48.377344 \nQ 371.30125 48.377344 371.30125 46.377344 \nL 371.30125 17.999219 \nQ 371.30125 15.999219 369.30125 15.999219 \nL 136.60125 15.999219 \nQ 134.60125 15.999219 134.60125 17.999219 \nL 134.60125 46.377344 \nQ 134.60125 48.377344 136.60125 48.377344 \nz\n\" style=\"fill:#e5e5e5;opacity:0.8;stroke:#cccccc;stroke-linejoin:miter;stroke-width:0.5;\"/>\n    </g>\n    <g id=\"line2d_49\">\n     <path d=\"M 138.60125 24.097656 \nL 158.60125 24.097656 \n\" style=\"fill:none;stroke:#000000;stroke-dasharray:5.55,2.4;stroke-dashoffset:0;stroke-width:1.5;\"/>\n    </g>\n    <g id=\"line2d_50\"/>\n    <g id=\"text_26\">\n     <!-- Ratio between $^{99\\mathrm{m}}$Tc and $^{99}$Mo activities -->\n     <defs>\n      <path d=\"M 48.6875 27.296875 \nQ 48.6875 37.203125 44.609375 42.84375 \nQ 40.53125 48.484375 33.40625 48.484375 \nQ 26.265625 48.484375 22.1875 42.84375 \nQ 18.109375 37.203125 18.109375 27.296875 \nQ 18.109375 17.390625 22.1875 11.75 \nQ 26.265625 6.109375 33.40625 6.109375 \nQ 40.53125 6.109375 44.609375 11.75 \nQ 48.6875 17.390625 48.6875 27.296875 \nz\nM 18.109375 46.390625 \nQ 20.953125 51.265625 25.265625 53.625 \nQ 29.59375 56 35.59375 56 \nQ 45.5625 56 51.78125 48.09375 \nQ 58.015625 40.1875 58.015625 27.296875 \nQ 58.015625 14.40625 51.78125 6.484375 \nQ 45.5625 -1.421875 35.59375 -1.421875 \nQ 29.59375 -1.421875 25.265625 0.953125 \nQ 20.953125 3.328125 18.109375 8.203125 \nL 18.109375 0 \nL 9.078125 0 \nL 9.078125 75.984375 \nL 18.109375 75.984375 \nz\n\" id=\"DejaVuSans-98\"/>\n      <path d=\"M 4.203125 54.6875 \nL 13.1875 54.6875 \nL 24.421875 12.015625 \nL 35.59375 54.6875 \nL 46.1875 54.6875 \nL 57.421875 12.015625 \nL 68.609375 54.6875 \nL 77.59375 54.6875 \nL 63.28125 0 \nL 52.6875 0 \nL 40.921875 44.828125 \nL 29.109375 0 \nL 18.5 0 \nz\n\" id=\"DejaVuSans-119\"/>\n      <path d=\"M 54.890625 33.015625 \nL 54.890625 0 \nL 45.90625 0 \nL 45.90625 32.71875 \nQ 45.90625 40.484375 42.875 44.328125 \nQ 39.84375 48.1875 33.796875 48.1875 \nQ 26.515625 48.1875 22.3125 43.546875 \nQ 18.109375 38.921875 18.109375 30.90625 \nL 18.109375 0 \nL 9.078125 0 \nL 9.078125 54.6875 \nL 18.109375 54.6875 \nL 18.109375 46.1875 \nQ 21.34375 51.125 25.703125 53.5625 \nQ 30.078125 56 35.796875 56 \nQ 45.21875 56 50.046875 50.171875 \nQ 54.890625 44.34375 54.890625 33.015625 \nz\n\" id=\"DejaVuSans-110\"/>\n     </defs>\n     <g transform=\"translate(166.60125 27.597656)scale(0.1 -0.1)\">\n      <use transform=\"translate(0 0.765625)\" xlink:href=\"#DejaVuSans-82\"/>\n      <use transform=\"translate(69.482422 0.765625)\" xlink:href=\"#DejaVuSans-97\"/>\n      <use transform=\"translate(130.761719 0.765625)\" xlink:href=\"#DejaVuSans-116\"/>\n      <use transform=\"translate(169.970703 0.765625)\" xlink:href=\"#DejaVuSans-105\"/>\n      <use transform=\"translate(197.753906 0.765625)\" xlink:href=\"#DejaVuSans-111\"/>\n      <use transform=\"translate(258.935547 0.765625)\" xlink:href=\"#DejaVuSans-32\"/>\n      <use transform=\"translate(290.722656 0.765625)\" xlink:href=\"#DejaVuSans-98\"/>\n      <use transform=\"translate(354.199219 0.765625)\" xlink:href=\"#DejaVuSans-101\"/>\n      <use transform=\"translate(415.722656 0.765625)\" xlink:href=\"#DejaVuSans-116\"/>\n      <use transform=\"translate(454.931641 0.765625)\" xlink:href=\"#DejaVuSans-119\"/>\n      <use transform=\"translate(536.71875 0.765625)\" xlink:href=\"#DejaVuSans-101\"/>\n      <use transform=\"translate(598.242188 0.765625)\" xlink:href=\"#DejaVuSans-101\"/>\n      <use transform=\"translate(659.765625 0.765625)\" xlink:href=\"#DejaVuSans-110\"/>\n      <use transform=\"translate(723.144531 0.765625)\" xlink:href=\"#DejaVuSans-32\"/>\n      <use transform=\"translate(755.888672 39.046875)scale(0.7)\" xlink:href=\"#DejaVuSans-57\"/>\n      <use transform=\"translate(800.424805 39.046875)scale(0.7)\" xlink:href=\"#DejaVuSans-57\"/>\n      <use transform=\"translate(844.960938 39.046875)scale(0.7)\" xlink:href=\"#DejaVuSans-109\"/>\n      <use transform=\"translate(915.883789 0.765625)\" xlink:href=\"#DejaVuSans-84\"/>\n      <use transform=\"translate(976.967773 0.765625)\" xlink:href=\"#DejaVuSans-99\"/>\n      <use transform=\"translate(1031.948242 0.765625)\" xlink:href=\"#DejaVuSans-32\"/>\n      <use transform=\"translate(1063.735352 0.765625)\" xlink:href=\"#DejaVuSans-97\"/>\n      <use transform=\"translate(1125.014648 0.765625)\" xlink:href=\"#DejaVuSans-110\"/>\n      <use transform=\"translate(1188.393555 0.765625)\" xlink:href=\"#DejaVuSans-100\"/>\n      <use transform=\"translate(1251.870117 0.765625)\" xlink:href=\"#DejaVuSans-32\"/>\n      <use transform=\"translate(1284.614258 39.046875)scale(0.7)\" xlink:href=\"#DejaVuSans-57\"/>\n      <use transform=\"translate(1329.150391 39.046875)scale(0.7)\" xlink:href=\"#DejaVuSans-57\"/>\n      <use transform=\"translate(1376.420898 0.765625)\" xlink:href=\"#DejaVuSans-77\"/>\n      <use transform=\"translate(1462.700195 0.765625)\" xlink:href=\"#DejaVuSans-111\"/>\n      <use transform=\"translate(1523.881836 0.765625)\" xlink:href=\"#DejaVuSans-32\"/>\n      <use transform=\"translate(1555.668945 0.765625)\" xlink:href=\"#DejaVuSans-97\"/>\n      <use transform=\"translate(1616.948242 0.765625)\" xlink:href=\"#DejaVuSans-99\"/>\n      <use transform=\"translate(1671.928711 0.765625)\" xlink:href=\"#DejaVuSans-116\"/>\n      <use transform=\"translate(1711.137695 0.765625)\" xlink:href=\"#DejaVuSans-105\"/>\n      <use transform=\"translate(1738.920898 0.765625)\" xlink:href=\"#DejaVuSans-118\"/>\n      <use transform=\"translate(1798.100586 0.765625)\" xlink:href=\"#DejaVuSans-105\"/>\n      <use transform=\"translate(1825.883789 0.765625)\" xlink:href=\"#DejaVuSans-116\"/>\n      <use transform=\"translate(1865.092773 0.765625)\" xlink:href=\"#DejaVuSans-105\"/>\n      <use transform=\"translate(1892.875977 0.765625)\" xlink:href=\"#DejaVuSans-101\"/>\n      <use transform=\"translate(1954.399414 0.765625)\" xlink:href=\"#DejaVuSans-115\"/>\n     </g>\n    </g>\n    <g id=\"line2d_51\">\n     <path d=\"M 138.60125 38.777344 \nL 158.60125 38.777344 \n\" style=\"fill:none;stroke:#000000;stroke-dasharray:1.5,2.475;stroke-dashoffset:0;stroke-width:1.5;\"/>\n    </g>\n    <g id=\"line2d_52\"/>\n    <g id=\"text_27\">\n     <!-- $\\exp(-\\lambda_{\\mathrm{Tc-99m}} t)$ -->\n     <defs>\n      <path d=\"M 10.59375 35.5 \nL 73.1875 35.5 \nL 73.1875 27.203125 \nL 10.59375 27.203125 \nz\n\" id=\"DejaVuSans-8722\"/>\n      <path d=\"M 36.71875 67.4375 \nL 48.828125 0 \nL 39.3125 0 \nL 31.84375 40.4375 \nL 5.125 0 \nL -4.390625 0 \nL 29.734375 52.4375 \nL 28.03125 62.109375 \nQ 26.953125 68.265625 21.734375 68.265625 \nL 17.046875 68.265625 \nL 18.5 75.984375 \nL 24.21875 75.875 \nQ 35.203125 75.734375 36.71875 67.4375 \nz\n\" id=\"DejaVuSans-Oblique-955\"/>\n      <path d=\"M 42.28125 54.6875 \nL 40.921875 47.703125 \nL 23 47.703125 \nL 17.1875 18.015625 \nQ 16.890625 16.359375 16.75 15.234375 \nQ 16.609375 14.109375 16.609375 13.484375 \nQ 16.609375 10.359375 18.484375 8.9375 \nQ 20.359375 7.515625 24.515625 7.515625 \nL 33.59375 7.515625 \nL 32.078125 0 \nL 23.484375 0 \nQ 15.484375 0 11.546875 3.125 \nQ 7.625 6.25 7.625 12.59375 \nQ 7.625 13.71875 7.765625 15.0625 \nQ 7.90625 16.40625 8.203125 18.015625 \nL 14.015625 47.703125 \nL 6.390625 47.703125 \nL 7.8125 54.6875 \nL 15.28125 54.6875 \nL 18.3125 70.21875 \nL 27.296875 70.21875 \nL 24.3125 54.6875 \nz\n\" id=\"DejaVuSans-Oblique-116\"/>\n     </defs>\n     <g transform=\"translate(166.60125 42.277344)scale(0.1 -0.1)\">\n      <use transform=\"translate(0 0.015625)\" xlink:href=\"#DejaVuSans-101\"/>\n      <use transform=\"translate(61.523438 0.015625)\" xlink:href=\"#DejaVuSans-120\"/>\n      <use transform=\"translate(120.703125 0.015625)\" xlink:href=\"#DejaVuSans-112\"/>\n      <use transform=\"translate(184.179688 0.015625)\" xlink:href=\"#DejaVuSans-40\"/>\n      <use transform=\"translate(223.193359 0.015625)\" xlink:href=\"#DejaVuSans-8722\"/>\n      <use transform=\"translate(306.982422 0.015625)\" xlink:href=\"#DejaVuSans-Oblique-955\"/>\n      <use transform=\"translate(366.162109 -16.390625)scale(0.7)\" xlink:href=\"#DejaVuSans-84\"/>\n      <use transform=\"translate(408.920898 -16.390625)scale(0.7)\" xlink:href=\"#DejaVuSans-99\"/>\n      <use transform=\"translate(461.044922 -16.390625)scale(0.7)\" xlink:href=\"#DejaVuSans-8722\"/>\n      <use transform=\"translate(533.334961 -16.390625)scale(0.7)\" xlink:href=\"#DejaVuSans-57\"/>\n      <use transform=\"translate(577.871094 -16.390625)scale(0.7)\" xlink:href=\"#DejaVuSans-57\"/>\n      <use transform=\"translate(616.282227 -16.390625)scale(0.7)\" xlink:href=\"#DejaVuSans-109\"/>\n      <use transform=\"translate(687.205078 0.015625)\" xlink:href=\"#DejaVuSans-Oblique-116\"/>\n      <use transform=\"translate(726.414062 0.015625)\" xlink:href=\"#DejaVuSans-41\"/>\n     </g>\n    </g>\n   </g>\n  </g>\n </g>\n <defs>\n  <clipPath id=\"p4dee05cdd4\">\n   <rect height=\"228.4\" width=\"327.4\" x=\"48.90125\" y=\"10.999219\"/>\n  </clipPath>\n </defs>\n</svg>\n"
          },
          "metadata": {
            "tags": []
          }
        }
      ]
    },
    {
      "cell_type": "markdown",
      "metadata": {
        "id": "Ex5naJBmPmXR"
      },
      "source": [
        "$\\exp(-\\lambda_{2} t) \\to 0$に伴い、$^{99\\mathrm{m}}$Tcと$^{99}$Moの間に過渡平衡が成立し、その放射能の比は$B \\frac{\\lambda_{2}}{\\lambda_{2} - \\lambda_{1}} = 0.9627$になることが確認できる。"
      ]
    },
    {
      "cell_type": "markdown",
      "metadata": {
        "id": "twRbhcxx3bBZ"
      },
      "source": [
        "### 永続平衡"
      ]
    },
    {
      "cell_type": "markdown",
      "metadata": {
        "id": "2DZsPW8y3f3q"
      },
      "source": [
        "永続平衡は、娘核種の壊変定数が親核種の壊変定数より非常に高いとき成り立てる。すなわち、\n",
        "\n",
        "$\\lambda_{1} \\ll \\lambda_{2}$\n",
        "\n",
        "となり、$\\lambda_{1} \\approx 0$とみなすことができるので、$A_{2}(t)$は\n",
        "\n",
        "$\n",
        "  A_{2}(t)\n",
        "  \\approx B A_{1}(0)\n",
        "  \\left[\n",
        "    1 - \\exp(-\\lambda_{2} t)\n",
        "  \\right]\n",
        "$\n",
        "\n",
        "と近似できる。[過渡平衡](#過渡平衡)と同じく、$\\exp(-\\lambda_{2} t) \\to 0$になるような時間が経ったとき、娘核種と親核種の間に永続平衡が成立する。そのときの放射能の比は\n",
        "\n",
        "$\n",
        "  \\frac{A_{2} (t)}\n",
        "       {A_{1} (t)}\n",
        "  \\approx B\n",
        "$\n",
        "\n",
        "になる。"
      ]
    },
    {
      "cell_type": "markdown",
      "metadata": {
        "id": "3enlIQwQNhZB"
      },
      "source": [
        "---"
      ]
    },
    {
      "cell_type": "markdown",
      "metadata": {
        "id": "2LZLa9ryNp_0"
      },
      "source": [
        "[預託実効線量](預託実効線量)で取り上げた$^{90}$Srは、その娘核種である$^{90}$Yと永続平衡を成立する。"
      ]
    },
    {
      "cell_type": "markdown",
      "metadata": {
        "id": "gkHg8cKyNcu9"
      },
      "source": [
        "$^{90}$Sr\n",
        "$\\xrightarrow[28.79\\,\\mathrm{y}]{\\beta^{-}\\,0.564\\,\\mathrm{MeV}}$\n",
        "$^{90}$Y\n",
        "$\\xrightarrow[64.0\\,\\mathrm{h}]{\\beta^{-}\\,2.28\\,\\mathrm{MeV}}$\n",
        "$^{90}$Zr"
      ]
    },
    {
      "cell_type": "markdown",
      "metadata": {
        "id": "1I5m6iLGHMB0"
      },
      "source": [
        "$^{90}$Srと$^{90}$Yの半減期及び壊変定数はそれぞれ"
      ]
    },
    {
      "cell_type": "code",
      "metadata": {
        "id": "UlctQHvwSqjU",
        "outputId": "c933342c-b196-4d35-f36e-e719da53f788",
        "colab": {
          "base_uri": "https://localhost:8080/",
          "height": 89
        }
      },
      "source": [
        "sr90_half_life_phy_in_hour = sr90_half_life_phy * 365 * 24  # 時間\n",
        "sr90_dec_const_phy_in_hour = np.log(2) / sr90_half_life_phy_in_hour\n",
        "print('Sr-90の物理学的半減期：{:.1f}年'.format(sr90_half_life_phy))\n",
        "print('Sr-90の物理学的半減期：{:.1f}時間'.format(sr90_half_life_phy_in_hour))\n",
        "print('Sr-90の物理学的壊変定数：{:.4e}/時間'.format(sr90_dec_const_phy_in_hour))"
      ],
      "execution_count": null,
      "outputs": [
        {
          "output_type": "stream",
          "text": [
            "Sr-90の物理学的半減期：28.8年\n",
            "Sr-90の物理学的半減期：252200.4時間\n",
            "Sr-90の物理学的壊変定数：2.7484e-06/時間\n"
          ],
          "name": "stdout"
        }
      ]
    },
    {
      "cell_type": "code",
      "metadata": {
        "id": "k2gS-9xMGR3E",
        "outputId": "3a1963db-c8dd-4517-86e1-763221fabff3",
        "colab": {
          "base_uri": "https://localhost:8080/",
          "height": 71
        }
      },
      "source": [
        "y90_half_life_phy = 64.0  # 時間\n",
        "y90_dec_const_phy = np.log(2) / y90_half_life_phy\n",
        "print('Y-90の（物理学的）半減期：{:.2f}時間'.format(y90_half_life_phy))\n",
        "print('Y-90の（物理学的）壊変定数：{:.4f}/時間'.format(y90_dec_const_phy))"
      ],
      "execution_count": null,
      "outputs": [
        {
          "output_type": "stream",
          "text": [
            "Y-90の（物理学的）半減期：64.00時間\n",
            "Y-90の（物理学的）壊変定数：0.0108/時間\n"
          ],
          "name": "stdout"
        }
      ]
    },
    {
      "cell_type": "markdown",
      "metadata": {
        "id": "TF97KQZOJEsj"
      },
      "source": [
        "である。$\\lambda_{1} \\ll \\lambda_{2}$であることが分かる。"
      ]
    },
    {
      "cell_type": "markdown",
      "metadata": {
        "id": "MYppnfaQJoZw"
      },
      "source": [
        "今、$t = 0$での初期放射能$A_{1}(0) = 100$ MBq、$A_{2}(0) = 0$ MBqを仮定し、$A_{1}(t)$と$A_{2}(t)$を計算すると以下の通りである。また、$^{90}$Srの$^{90}$Yへのbranching ratioは$B = 1$である。"
      ]
    },
    {
      "cell_type": "code",
      "metadata": {
        "id": "Ze1aZ8LrKA3b",
        "outputId": "bb1cb5a3-69bb-484d-e4ce-62d1a6161b7f",
        "colab": {
          "base_uri": "https://localhost:8080/",
          "height": 495
        }
      },
      "source": [
        "t = np.arange(601)  # 0~600時間\n",
        "\n",
        "a10 = 100  # MBq\n",
        "a20 = 0\n",
        "b = 1.  # Sr-90のY-90に壊変率は100%\n",
        "\n",
        "a1 = decay(a10, sr90_dec_const_phy_in_hour, t)\n",
        "a2 = get_daughter_act(a10, sr90_dec_const_phy_in_hour, y90_dec_const_phy, b, t)\n",
        "a2_over_a1 = a2 / a1\n",
        "lambda2_exp_dec = np.exp(-y90_dec_const_phy * t)\n",
        "\n",
        "df = pd.DataFrame({'時間[時間]': t,\n",
        "                   'Sr-90放射能[MBq]': a1,\n",
        "                   'Y-90放射能[MBq]': a2,\n",
        "                   'Y-90放射能 / Sr-90放射能': a2_over_a1,\n",
        "                   'exp(-lambda_{2} * t)': lambda2_exp_dec})\n",
        "df"
      ],
      "execution_count": null,
      "outputs": [
        {
          "output_type": "execute_result",
          "data": {
            "text/html": [
              "<div>\n",
              "<style scoped>\n",
              "    .dataframe tbody tr th:only-of-type {\n",
              "        vertical-align: middle;\n",
              "    }\n",
              "\n",
              "    .dataframe tbody tr th {\n",
              "        vertical-align: top;\n",
              "    }\n",
              "\n",
              "    .dataframe thead th {\n",
              "        text-align: right;\n",
              "    }\n",
              "</style>\n",
              "<table border=\"1\" class=\"dataframe\">\n",
              "  <thead>\n",
              "    <tr style=\"text-align: right;\">\n",
              "      <th></th>\n",
              "      <th>時間[時間]</th>\n",
              "      <th>Sr-90放射能[MBq]</th>\n",
              "      <th>Y-90放射能[MBq]</th>\n",
              "      <th>Y-90放射能 / Sr-90放射能</th>\n",
              "      <th>exp(-lambda_{2} * t)</th>\n",
              "    </tr>\n",
              "  </thead>\n",
              "  <tbody>\n",
              "    <tr>\n",
              "      <th>0</th>\n",
              "      <td>0</td>\n",
              "      <td>100.000000</td>\n",
              "      <td>0.000000</td>\n",
              "      <td>0.000000</td>\n",
              "      <td>1.000000</td>\n",
              "    </tr>\n",
              "    <tr>\n",
              "      <th>1</th>\n",
              "      <td>1</td>\n",
              "      <td>99.999725</td>\n",
              "      <td>1.077197</td>\n",
              "      <td>0.010772</td>\n",
              "      <td>0.989228</td>\n",
              "    </tr>\n",
              "    <tr>\n",
              "      <th>2</th>\n",
              "      <td>2</td>\n",
              "      <td>99.999450</td>\n",
              "      <td>2.142788</td>\n",
              "      <td>0.021428</td>\n",
              "      <td>0.978572</td>\n",
              "    </tr>\n",
              "    <tr>\n",
              "      <th>3</th>\n",
              "      <td>3</td>\n",
              "      <td>99.999175</td>\n",
              "      <td>3.196897</td>\n",
              "      <td>0.031969</td>\n",
              "      <td>0.968031</td>\n",
              "    </tr>\n",
              "    <tr>\n",
              "      <th>4</th>\n",
              "      <td>4</td>\n",
              "      <td>99.998901</td>\n",
              "      <td>4.239648</td>\n",
              "      <td>0.042397</td>\n",
              "      <td>0.957603</td>\n",
              "    </tr>\n",
              "    <tr>\n",
              "      <th>...</th>\n",
              "      <td>...</td>\n",
              "      <td>...</td>\n",
              "      <td>...</td>\n",
              "      <td>...</td>\n",
              "      <td>...</td>\n",
              "    </tr>\n",
              "    <tr>\n",
              "      <th>596</th>\n",
              "      <td>596</td>\n",
              "      <td>99.836330</td>\n",
              "      <td>99.704357</td>\n",
              "      <td>0.998678</td>\n",
              "      <td>0.001573</td>\n",
              "    </tr>\n",
              "    <tr>\n",
              "      <th>597</th>\n",
              "      <td>597</td>\n",
              "      <td>99.836055</td>\n",
              "      <td>99.705777</td>\n",
              "      <td>0.998695</td>\n",
              "      <td>0.001556</td>\n",
              "    </tr>\n",
              "    <tr>\n",
              "      <th>598</th>\n",
              "      <td>598</td>\n",
              "      <td>99.835781</td>\n",
              "      <td>99.707179</td>\n",
              "      <td>0.998712</td>\n",
              "      <td>0.001539</td>\n",
              "    </tr>\n",
              "    <tr>\n",
              "      <th>599</th>\n",
              "      <td>599</td>\n",
              "      <td>99.835506</td>\n",
              "      <td>99.708563</td>\n",
              "      <td>0.998728</td>\n",
              "      <td>0.001522</td>\n",
              "    </tr>\n",
              "    <tr>\n",
              "      <th>600</th>\n",
              "      <td>600</td>\n",
              "      <td>99.835232</td>\n",
              "      <td>99.709928</td>\n",
              "      <td>0.998745</td>\n",
              "      <td>0.001506</td>\n",
              "    </tr>\n",
              "  </tbody>\n",
              "</table>\n",
              "<p>601 rows × 5 columns</p>\n",
              "</div>"
            ],
            "text/plain": [
              "     時間[時間]  Sr-90放射能[MBq]  ...  Y-90放射能 / Sr-90放射能  exp(-lambda_{2} * t)\n",
              "0         0     100.000000  ...            0.000000              1.000000\n",
              "1         1      99.999725  ...            0.010772              0.989228\n",
              "2         2      99.999450  ...            0.021428              0.978572\n",
              "3         3      99.999175  ...            0.031969              0.968031\n",
              "4         4      99.998901  ...            0.042397              0.957603\n",
              "..      ...            ...  ...                 ...                   ...\n",
              "596     596      99.836330  ...            0.998678              0.001573\n",
              "597     597      99.836055  ...            0.998695              0.001556\n",
              "598     598      99.835781  ...            0.998712              0.001539\n",
              "599     599      99.835506  ...            0.998728              0.001522\n",
              "600     600      99.835232  ...            0.998745              0.001506\n",
              "\n",
              "[601 rows x 5 columns]"
            ]
          },
          "metadata": {
            "tags": []
          },
          "execution_count": 23
        }
      ]
    },
    {
      "cell_type": "markdown",
      "metadata": {
        "id": "_bJOOKvbNRu8"
      },
      "source": [
        "上記の計算結果をグラフで表示する。"
      ]
    },
    {
      "cell_type": "code",
      "metadata": {
        "id": "jnMZ1dWNMfw0",
        "outputId": "fb59413f-08c9-4173-f273-2c2d0bf2be29",
        "colab": {
          "base_uri": "https://localhost:8080/",
          "height": 413
        }
      },
      "source": [
        "fig, ax = plt.subplots()\n",
        "xlab = 'Elapsed time (h)'\n",
        "ylab = r'Activity (MBq)'\n",
        "ylab2 = 'Ratio or exp()'\n",
        "\n",
        "# プロッティング\n",
        "plt_act(ax, t, a1,\n",
        "        is_set_xlim=True, xmin=0, xmax=600,\n",
        "        is_set_ylim=True, ymin=0, ymax=120,\n",
        "        xlab=xlab, ylab=ylab, lab=r'$^{90}$Sr activity')\n",
        "plt_act(ax, t, a2,\n",
        "        is_set_xlim=True, xmin=0, xmax=600,\n",
        "        is_set_ylim=True, ymin=0, ymax=120,\n",
        "        xlab=xlab, ylab=ylab, lab=r'$^{90}$Y activity',\n",
        "        lc='red')\n",
        "ax.legend(loc='lower right')\n",
        "ax2 = ax.twinx()\n",
        "plt_act(ax2, t, a2_over_a1,\n",
        "        is_set_xlim=True, xmin=0, xmax=600,\n",
        "        is_set_ylim=True, ymin=0, ymax=1.2,\n",
        "        xlab=xlab, ylab=ylab2,\n",
        "        lab=r'Ratio between $^{90}$Y and $^{90}$Sr activities',\n",
        "        lc='black', ls='--')\n",
        "plt_act(ax2, t, lambda2_exp_dec,\n",
        "        is_set_xlim=True, xmin=0, xmax=600,\n",
        "        is_set_ylim=True, ymin=0, ymax=1.2,\n",
        "        xlab=xlab, ylab=ylab2, lab=r'$\\exp(-\\lambda_{\\mathrm{Y-90}} t)$',\n",
        "        lc='black', ls='dotted')\n",
        "ax2.legend()\n",
        "\n",
        "# ポスト処理\n",
        "fig.tight_layout()"
      ],
      "execution_count": null,
      "outputs": [
        {
          "output_type": "display_data",
          "data": {
            "text/plain": [
              "<Figure size 432x288 with 2 Axes>"
            ],
            "image/svg+xml": "<?xml version=\"1.0\" encoding=\"utf-8\" standalone=\"no\"?>\n<!DOCTYPE svg PUBLIC \"-//W3C//DTD SVG 1.1//EN\"\n  \"http://www.w3.org/Graphics/SVG/1.1/DTD/svg11.dtd\">\n<!-- Created with matplotlib (https://matplotlib.org/) -->\n<svg height=\"278.891094pt\" version=\"1.1\" viewBox=\"0 0 422.018125 278.891094\" width=\"422.018125pt\" xmlns=\"http://www.w3.org/2000/svg\" xmlns:xlink=\"http://www.w3.org/1999/xlink\">\n <defs>\n  <style type=\"text/css\">\n*{stroke-linecap:butt;stroke-linejoin:round;}\n  </style>\n </defs>\n <g id=\"figure_1\">\n  <g id=\"patch_1\">\n   <path d=\"M 0 278.891094 \nL 422.018125 278.891094 \nL 422.018125 0 \nL 0 0 \nz\n\" style=\"fill:#ffffff;\"/>\n  </g>\n  <g id=\"axes_1\">\n   <g id=\"patch_2\">\n    <path d=\"M 48.90125 239.399219 \nL 376.30125 239.399219 \nL 376.30125 10.999219 \nL 48.90125 10.999219 \nz\n\" style=\"fill:#e5e5e5;\"/>\n   </g>\n   <g id=\"matplotlib.axis_1\">\n    <g id=\"xtick_1\">\n     <g id=\"line2d_1\">\n      <path clip-path=\"url(#p07ccb44905)\" d=\"M 48.90125 239.399219 \nL 48.90125 10.999219 \n\" style=\"fill:none;stroke:#ffffff;stroke-linecap:square;stroke-width:0.8;\"/>\n     </g>\n     <g id=\"line2d_2\">\n      <defs>\n       <path d=\"M 0 0 \nL 0 3.5 \n\" id=\"m02a80c7e22\" style=\"stroke:#555555;stroke-width:0.8;\"/>\n      </defs>\n      <g>\n       <use style=\"fill:#555555;stroke:#555555;stroke-width:0.8;\" x=\"48.90125\" xlink:href=\"#m02a80c7e22\" y=\"239.399219\"/>\n      </g>\n     </g>\n     <g id=\"text_1\">\n      <!-- 0 -->\n      <defs>\n       <path d=\"M 31.78125 66.40625 \nQ 24.171875 66.40625 20.328125 58.90625 \nQ 16.5 51.421875 16.5 36.375 \nQ 16.5 21.390625 20.328125 13.890625 \nQ 24.171875 6.390625 31.78125 6.390625 \nQ 39.453125 6.390625 43.28125 13.890625 \nQ 47.125 21.390625 47.125 36.375 \nQ 47.125 51.421875 43.28125 58.90625 \nQ 39.453125 66.40625 31.78125 66.40625 \nz\nM 31.78125 74.21875 \nQ 44.046875 74.21875 50.515625 64.515625 \nQ 56.984375 54.828125 56.984375 36.375 \nQ 56.984375 17.96875 50.515625 8.265625 \nQ 44.046875 -1.421875 31.78125 -1.421875 \nQ 19.53125 -1.421875 13.0625 8.265625 \nQ 6.59375 17.96875 6.59375 36.375 \nQ 6.59375 54.828125 13.0625 64.515625 \nQ 19.53125 74.21875 31.78125 74.21875 \nz\n\" id=\"DejaVuSans-48\"/>\n      </defs>\n      <g style=\"fill:#555555;\" transform=\"translate(45.72 253.997656)scale(0.1 -0.1)\">\n       <use xlink:href=\"#DejaVuSans-48\"/>\n      </g>\n     </g>\n    </g>\n    <g id=\"xtick_2\">\n     <g id=\"line2d_3\">\n      <path clip-path=\"url(#p07ccb44905)\" d=\"M 103.467917 239.399219 \nL 103.467917 10.999219 \n\" style=\"fill:none;stroke:#ffffff;stroke-linecap:square;stroke-width:0.8;\"/>\n     </g>\n     <g id=\"line2d_4\">\n      <g>\n       <use style=\"fill:#555555;stroke:#555555;stroke-width:0.8;\" x=\"103.467917\" xlink:href=\"#m02a80c7e22\" y=\"239.399219\"/>\n      </g>\n     </g>\n     <g id=\"text_2\">\n      <!-- 100 -->\n      <defs>\n       <path d=\"M 12.40625 8.296875 \nL 28.515625 8.296875 \nL 28.515625 63.921875 \nL 10.984375 60.40625 \nL 10.984375 69.390625 \nL 28.421875 72.90625 \nL 38.28125 72.90625 \nL 38.28125 8.296875 \nL 54.390625 8.296875 \nL 54.390625 0 \nL 12.40625 0 \nz\n\" id=\"DejaVuSans-49\"/>\n      </defs>\n      <g style=\"fill:#555555;\" transform=\"translate(93.924167 253.997656)scale(0.1 -0.1)\">\n       <use xlink:href=\"#DejaVuSans-49\"/>\n       <use x=\"63.623047\" xlink:href=\"#DejaVuSans-48\"/>\n       <use x=\"127.246094\" xlink:href=\"#DejaVuSans-48\"/>\n      </g>\n     </g>\n    </g>\n    <g id=\"xtick_3\">\n     <g id=\"line2d_5\">\n      <path clip-path=\"url(#p07ccb44905)\" d=\"M 158.034583 239.399219 \nL 158.034583 10.999219 \n\" style=\"fill:none;stroke:#ffffff;stroke-linecap:square;stroke-width:0.8;\"/>\n     </g>\n     <g id=\"line2d_6\">\n      <g>\n       <use style=\"fill:#555555;stroke:#555555;stroke-width:0.8;\" x=\"158.034583\" xlink:href=\"#m02a80c7e22\" y=\"239.399219\"/>\n      </g>\n     </g>\n     <g id=\"text_3\">\n      <!-- 200 -->\n      <defs>\n       <path d=\"M 19.1875 8.296875 \nL 53.609375 8.296875 \nL 53.609375 0 \nL 7.328125 0 \nL 7.328125 8.296875 \nQ 12.9375 14.109375 22.625 23.890625 \nQ 32.328125 33.6875 34.8125 36.53125 \nQ 39.546875 41.84375 41.421875 45.53125 \nQ 43.3125 49.21875 43.3125 52.78125 \nQ 43.3125 58.59375 39.234375 62.25 \nQ 35.15625 65.921875 28.609375 65.921875 \nQ 23.96875 65.921875 18.8125 64.3125 \nQ 13.671875 62.703125 7.8125 59.421875 \nL 7.8125 69.390625 \nQ 13.765625 71.78125 18.9375 73 \nQ 24.125 74.21875 28.421875 74.21875 \nQ 39.75 74.21875 46.484375 68.546875 \nQ 53.21875 62.890625 53.21875 53.421875 \nQ 53.21875 48.921875 51.53125 44.890625 \nQ 49.859375 40.875 45.40625 35.40625 \nQ 44.1875 33.984375 37.640625 27.21875 \nQ 31.109375 20.453125 19.1875 8.296875 \nz\n\" id=\"DejaVuSans-50\"/>\n      </defs>\n      <g style=\"fill:#555555;\" transform=\"translate(148.490833 253.997656)scale(0.1 -0.1)\">\n       <use xlink:href=\"#DejaVuSans-50\"/>\n       <use x=\"63.623047\" xlink:href=\"#DejaVuSans-48\"/>\n       <use x=\"127.246094\" xlink:href=\"#DejaVuSans-48\"/>\n      </g>\n     </g>\n    </g>\n    <g id=\"xtick_4\">\n     <g id=\"line2d_7\">\n      <path clip-path=\"url(#p07ccb44905)\" d=\"M 212.60125 239.399219 \nL 212.60125 10.999219 \n\" style=\"fill:none;stroke:#ffffff;stroke-linecap:square;stroke-width:0.8;\"/>\n     </g>\n     <g id=\"line2d_8\">\n      <g>\n       <use style=\"fill:#555555;stroke:#555555;stroke-width:0.8;\" x=\"212.60125\" xlink:href=\"#m02a80c7e22\" y=\"239.399219\"/>\n      </g>\n     </g>\n     <g id=\"text_4\">\n      <!-- 300 -->\n      <defs>\n       <path d=\"M 40.578125 39.3125 \nQ 47.65625 37.796875 51.625 33 \nQ 55.609375 28.21875 55.609375 21.1875 \nQ 55.609375 10.40625 48.1875 4.484375 \nQ 40.765625 -1.421875 27.09375 -1.421875 \nQ 22.515625 -1.421875 17.65625 -0.515625 \nQ 12.796875 0.390625 7.625 2.203125 \nL 7.625 11.71875 \nQ 11.71875 9.328125 16.59375 8.109375 \nQ 21.484375 6.890625 26.8125 6.890625 \nQ 36.078125 6.890625 40.9375 10.546875 \nQ 45.796875 14.203125 45.796875 21.1875 \nQ 45.796875 27.640625 41.28125 31.265625 \nQ 36.765625 34.90625 28.71875 34.90625 \nL 20.21875 34.90625 \nL 20.21875 43.015625 \nL 29.109375 43.015625 \nQ 36.375 43.015625 40.234375 45.921875 \nQ 44.09375 48.828125 44.09375 54.296875 \nQ 44.09375 59.90625 40.109375 62.90625 \nQ 36.140625 65.921875 28.71875 65.921875 \nQ 24.65625 65.921875 20.015625 65.03125 \nQ 15.375 64.15625 9.8125 62.3125 \nL 9.8125 71.09375 \nQ 15.4375 72.65625 20.34375 73.4375 \nQ 25.25 74.21875 29.59375 74.21875 \nQ 40.828125 74.21875 47.359375 69.109375 \nQ 53.90625 64.015625 53.90625 55.328125 \nQ 53.90625 49.265625 50.4375 45.09375 \nQ 46.96875 40.921875 40.578125 39.3125 \nz\n\" id=\"DejaVuSans-51\"/>\n      </defs>\n      <g style=\"fill:#555555;\" transform=\"translate(203.0575 253.997656)scale(0.1 -0.1)\">\n       <use xlink:href=\"#DejaVuSans-51\"/>\n       <use x=\"63.623047\" xlink:href=\"#DejaVuSans-48\"/>\n       <use x=\"127.246094\" xlink:href=\"#DejaVuSans-48\"/>\n      </g>\n     </g>\n    </g>\n    <g id=\"xtick_5\">\n     <g id=\"line2d_9\">\n      <path clip-path=\"url(#p07ccb44905)\" d=\"M 267.167917 239.399219 \nL 267.167917 10.999219 \n\" style=\"fill:none;stroke:#ffffff;stroke-linecap:square;stroke-width:0.8;\"/>\n     </g>\n     <g id=\"line2d_10\">\n      <g>\n       <use style=\"fill:#555555;stroke:#555555;stroke-width:0.8;\" x=\"267.167917\" xlink:href=\"#m02a80c7e22\" y=\"239.399219\"/>\n      </g>\n     </g>\n     <g id=\"text_5\">\n      <!-- 400 -->\n      <defs>\n       <path d=\"M 37.796875 64.3125 \nL 12.890625 25.390625 \nL 37.796875 25.390625 \nz\nM 35.203125 72.90625 \nL 47.609375 72.90625 \nL 47.609375 25.390625 \nL 58.015625 25.390625 \nL 58.015625 17.1875 \nL 47.609375 17.1875 \nL 47.609375 0 \nL 37.796875 0 \nL 37.796875 17.1875 \nL 4.890625 17.1875 \nL 4.890625 26.703125 \nz\n\" id=\"DejaVuSans-52\"/>\n      </defs>\n      <g style=\"fill:#555555;\" transform=\"translate(257.624167 253.997656)scale(0.1 -0.1)\">\n       <use xlink:href=\"#DejaVuSans-52\"/>\n       <use x=\"63.623047\" xlink:href=\"#DejaVuSans-48\"/>\n       <use x=\"127.246094\" xlink:href=\"#DejaVuSans-48\"/>\n      </g>\n     </g>\n    </g>\n    <g id=\"xtick_6\">\n     <g id=\"line2d_11\">\n      <path clip-path=\"url(#p07ccb44905)\" d=\"M 321.734583 239.399219 \nL 321.734583 10.999219 \n\" style=\"fill:none;stroke:#ffffff;stroke-linecap:square;stroke-width:0.8;\"/>\n     </g>\n     <g id=\"line2d_12\">\n      <g>\n       <use style=\"fill:#555555;stroke:#555555;stroke-width:0.8;\" x=\"321.734583\" xlink:href=\"#m02a80c7e22\" y=\"239.399219\"/>\n      </g>\n     </g>\n     <g id=\"text_6\">\n      <!-- 500 -->\n      <defs>\n       <path d=\"M 10.796875 72.90625 \nL 49.515625 72.90625 \nL 49.515625 64.59375 \nL 19.828125 64.59375 \nL 19.828125 46.734375 \nQ 21.96875 47.46875 24.109375 47.828125 \nQ 26.265625 48.1875 28.421875 48.1875 \nQ 40.625 48.1875 47.75 41.5 \nQ 54.890625 34.8125 54.890625 23.390625 \nQ 54.890625 11.625 47.5625 5.09375 \nQ 40.234375 -1.421875 26.90625 -1.421875 \nQ 22.3125 -1.421875 17.546875 -0.640625 \nQ 12.796875 0.140625 7.71875 1.703125 \nL 7.71875 11.625 \nQ 12.109375 9.234375 16.796875 8.0625 \nQ 21.484375 6.890625 26.703125 6.890625 \nQ 35.15625 6.890625 40.078125 11.328125 \nQ 45.015625 15.765625 45.015625 23.390625 \nQ 45.015625 31 40.078125 35.4375 \nQ 35.15625 39.890625 26.703125 39.890625 \nQ 22.75 39.890625 18.8125 39.015625 \nQ 14.890625 38.140625 10.796875 36.28125 \nz\n\" id=\"DejaVuSans-53\"/>\n      </defs>\n      <g style=\"fill:#555555;\" transform=\"translate(312.190833 253.997656)scale(0.1 -0.1)\">\n       <use xlink:href=\"#DejaVuSans-53\"/>\n       <use x=\"63.623047\" xlink:href=\"#DejaVuSans-48\"/>\n       <use x=\"127.246094\" xlink:href=\"#DejaVuSans-48\"/>\n      </g>\n     </g>\n    </g>\n    <g id=\"xtick_7\">\n     <g id=\"line2d_13\">\n      <path clip-path=\"url(#p07ccb44905)\" d=\"M 376.30125 239.399219 \nL 376.30125 10.999219 \n\" style=\"fill:none;stroke:#ffffff;stroke-linecap:square;stroke-width:0.8;\"/>\n     </g>\n     <g id=\"line2d_14\">\n      <g>\n       <use style=\"fill:#555555;stroke:#555555;stroke-width:0.8;\" x=\"376.30125\" xlink:href=\"#m02a80c7e22\" y=\"239.399219\"/>\n      </g>\n     </g>\n     <g id=\"text_7\">\n      <!-- 600 -->\n      <defs>\n       <path d=\"M 33.015625 40.375 \nQ 26.375 40.375 22.484375 35.828125 \nQ 18.609375 31.296875 18.609375 23.390625 \nQ 18.609375 15.53125 22.484375 10.953125 \nQ 26.375 6.390625 33.015625 6.390625 \nQ 39.65625 6.390625 43.53125 10.953125 \nQ 47.40625 15.53125 47.40625 23.390625 \nQ 47.40625 31.296875 43.53125 35.828125 \nQ 39.65625 40.375 33.015625 40.375 \nz\nM 52.59375 71.296875 \nL 52.59375 62.3125 \nQ 48.875 64.0625 45.09375 64.984375 \nQ 41.3125 65.921875 37.59375 65.921875 \nQ 27.828125 65.921875 22.671875 59.328125 \nQ 17.53125 52.734375 16.796875 39.40625 \nQ 19.671875 43.65625 24.015625 45.921875 \nQ 28.375 48.1875 33.59375 48.1875 \nQ 44.578125 48.1875 50.953125 41.515625 \nQ 57.328125 34.859375 57.328125 23.390625 \nQ 57.328125 12.15625 50.6875 5.359375 \nQ 44.046875 -1.421875 33.015625 -1.421875 \nQ 20.359375 -1.421875 13.671875 8.265625 \nQ 6.984375 17.96875 6.984375 36.375 \nQ 6.984375 53.65625 15.1875 63.9375 \nQ 23.390625 74.21875 37.203125 74.21875 \nQ 40.921875 74.21875 44.703125 73.484375 \nQ 48.484375 72.75 52.59375 71.296875 \nz\n\" id=\"DejaVuSans-54\"/>\n      </defs>\n      <g style=\"fill:#555555;\" transform=\"translate(366.7575 253.997656)scale(0.1 -0.1)\">\n       <use xlink:href=\"#DejaVuSans-54\"/>\n       <use x=\"63.623047\" xlink:href=\"#DejaVuSans-48\"/>\n       <use x=\"127.246094\" xlink:href=\"#DejaVuSans-48\"/>\n      </g>\n     </g>\n    </g>\n    <g id=\"text_8\">\n     <!-- Elapsed time (h) -->\n     <defs>\n      <path d=\"M 9.8125 72.90625 \nL 55.90625 72.90625 \nL 55.90625 64.59375 \nL 19.671875 64.59375 \nL 19.671875 43.015625 \nL 54.390625 43.015625 \nL 54.390625 34.71875 \nL 19.671875 34.71875 \nL 19.671875 8.296875 \nL 56.78125 8.296875 \nL 56.78125 0 \nL 9.8125 0 \nz\n\" id=\"DejaVuSans-69\"/>\n      <path d=\"M 9.421875 75.984375 \nL 18.40625 75.984375 \nL 18.40625 0 \nL 9.421875 0 \nz\n\" id=\"DejaVuSans-108\"/>\n      <path d=\"M 34.28125 27.484375 \nQ 23.390625 27.484375 19.1875 25 \nQ 14.984375 22.515625 14.984375 16.5 \nQ 14.984375 11.71875 18.140625 8.90625 \nQ 21.296875 6.109375 26.703125 6.109375 \nQ 34.1875 6.109375 38.703125 11.40625 \nQ 43.21875 16.703125 43.21875 25.484375 \nL 43.21875 27.484375 \nz\nM 52.203125 31.203125 \nL 52.203125 0 \nL 43.21875 0 \nL 43.21875 8.296875 \nQ 40.140625 3.328125 35.546875 0.953125 \nQ 30.953125 -1.421875 24.3125 -1.421875 \nQ 15.921875 -1.421875 10.953125 3.296875 \nQ 6 8.015625 6 15.921875 \nQ 6 25.140625 12.171875 29.828125 \nQ 18.359375 34.515625 30.609375 34.515625 \nL 43.21875 34.515625 \nL 43.21875 35.40625 \nQ 43.21875 41.609375 39.140625 45 \nQ 35.0625 48.390625 27.6875 48.390625 \nQ 23 48.390625 18.546875 47.265625 \nQ 14.109375 46.140625 10.015625 43.890625 \nL 10.015625 52.203125 \nQ 14.9375 54.109375 19.578125 55.046875 \nQ 24.21875 56 28.609375 56 \nQ 40.484375 56 46.34375 49.84375 \nQ 52.203125 43.703125 52.203125 31.203125 \nz\n\" id=\"DejaVuSans-97\"/>\n      <path d=\"M 18.109375 8.203125 \nL 18.109375 -20.796875 \nL 9.078125 -20.796875 \nL 9.078125 54.6875 \nL 18.109375 54.6875 \nL 18.109375 46.390625 \nQ 20.953125 51.265625 25.265625 53.625 \nQ 29.59375 56 35.59375 56 \nQ 45.5625 56 51.78125 48.09375 \nQ 58.015625 40.1875 58.015625 27.296875 \nQ 58.015625 14.40625 51.78125 6.484375 \nQ 45.5625 -1.421875 35.59375 -1.421875 \nQ 29.59375 -1.421875 25.265625 0.953125 \nQ 20.953125 3.328125 18.109375 8.203125 \nz\nM 48.6875 27.296875 \nQ 48.6875 37.203125 44.609375 42.84375 \nQ 40.53125 48.484375 33.40625 48.484375 \nQ 26.265625 48.484375 22.1875 42.84375 \nQ 18.109375 37.203125 18.109375 27.296875 \nQ 18.109375 17.390625 22.1875 11.75 \nQ 26.265625 6.109375 33.40625 6.109375 \nQ 40.53125 6.109375 44.609375 11.75 \nQ 48.6875 17.390625 48.6875 27.296875 \nz\n\" id=\"DejaVuSans-112\"/>\n      <path d=\"M 44.28125 53.078125 \nL 44.28125 44.578125 \nQ 40.484375 46.53125 36.375 47.5 \nQ 32.28125 48.484375 27.875 48.484375 \nQ 21.1875 48.484375 17.84375 46.4375 \nQ 14.5 44.390625 14.5 40.28125 \nQ 14.5 37.15625 16.890625 35.375 \nQ 19.28125 33.59375 26.515625 31.984375 \nL 29.59375 31.296875 \nQ 39.15625 29.25 43.1875 25.515625 \nQ 47.21875 21.78125 47.21875 15.09375 \nQ 47.21875 7.46875 41.1875 3.015625 \nQ 35.15625 -1.421875 24.609375 -1.421875 \nQ 20.21875 -1.421875 15.453125 -0.5625 \nQ 10.6875 0.296875 5.421875 2 \nL 5.421875 11.28125 \nQ 10.40625 8.6875 15.234375 7.390625 \nQ 20.0625 6.109375 24.8125 6.109375 \nQ 31.15625 6.109375 34.5625 8.28125 \nQ 37.984375 10.453125 37.984375 14.40625 \nQ 37.984375 18.0625 35.515625 20.015625 \nQ 33.0625 21.96875 24.703125 23.78125 \nL 21.578125 24.515625 \nQ 13.234375 26.265625 9.515625 29.90625 \nQ 5.8125 33.546875 5.8125 39.890625 \nQ 5.8125 47.609375 11.28125 51.796875 \nQ 16.75 56 26.8125 56 \nQ 31.78125 56 36.171875 55.265625 \nQ 40.578125 54.546875 44.28125 53.078125 \nz\n\" id=\"DejaVuSans-115\"/>\n      <path d=\"M 56.203125 29.59375 \nL 56.203125 25.203125 \nL 14.890625 25.203125 \nQ 15.484375 15.921875 20.484375 11.0625 \nQ 25.484375 6.203125 34.421875 6.203125 \nQ 39.59375 6.203125 44.453125 7.46875 \nQ 49.3125 8.734375 54.109375 11.28125 \nL 54.109375 2.78125 \nQ 49.265625 0.734375 44.1875 -0.34375 \nQ 39.109375 -1.421875 33.890625 -1.421875 \nQ 20.796875 -1.421875 13.15625 6.1875 \nQ 5.515625 13.8125 5.515625 26.8125 \nQ 5.515625 40.234375 12.765625 48.109375 \nQ 20.015625 56 32.328125 56 \nQ 43.359375 56 49.78125 48.890625 \nQ 56.203125 41.796875 56.203125 29.59375 \nz\nM 47.21875 32.234375 \nQ 47.125 39.59375 43.09375 43.984375 \nQ 39.0625 48.390625 32.421875 48.390625 \nQ 24.90625 48.390625 20.390625 44.140625 \nQ 15.875 39.890625 15.1875 32.171875 \nz\n\" id=\"DejaVuSans-101\"/>\n      <path d=\"M 45.40625 46.390625 \nL 45.40625 75.984375 \nL 54.390625 75.984375 \nL 54.390625 0 \nL 45.40625 0 \nL 45.40625 8.203125 \nQ 42.578125 3.328125 38.25 0.953125 \nQ 33.9375 -1.421875 27.875 -1.421875 \nQ 17.96875 -1.421875 11.734375 6.484375 \nQ 5.515625 14.40625 5.515625 27.296875 \nQ 5.515625 40.1875 11.734375 48.09375 \nQ 17.96875 56 27.875 56 \nQ 33.9375 56 38.25 53.625 \nQ 42.578125 51.265625 45.40625 46.390625 \nz\nM 14.796875 27.296875 \nQ 14.796875 17.390625 18.875 11.75 \nQ 22.953125 6.109375 30.078125 6.109375 \nQ 37.203125 6.109375 41.296875 11.75 \nQ 45.40625 17.390625 45.40625 27.296875 \nQ 45.40625 37.203125 41.296875 42.84375 \nQ 37.203125 48.484375 30.078125 48.484375 \nQ 22.953125 48.484375 18.875 42.84375 \nQ 14.796875 37.203125 14.796875 27.296875 \nz\n\" id=\"DejaVuSans-100\"/>\n      <path id=\"DejaVuSans-32\"/>\n      <path d=\"M 18.3125 70.21875 \nL 18.3125 54.6875 \nL 36.8125 54.6875 \nL 36.8125 47.703125 \nL 18.3125 47.703125 \nL 18.3125 18.015625 \nQ 18.3125 11.328125 20.140625 9.421875 \nQ 21.96875 7.515625 27.59375 7.515625 \nL 36.8125 7.515625 \nL 36.8125 0 \nL 27.59375 0 \nQ 17.1875 0 13.234375 3.875 \nQ 9.28125 7.765625 9.28125 18.015625 \nL 9.28125 47.703125 \nL 2.6875 47.703125 \nL 2.6875 54.6875 \nL 9.28125 54.6875 \nL 9.28125 70.21875 \nz\n\" id=\"DejaVuSans-116\"/>\n      <path d=\"M 9.421875 54.6875 \nL 18.40625 54.6875 \nL 18.40625 0 \nL 9.421875 0 \nz\nM 9.421875 75.984375 \nL 18.40625 75.984375 \nL 18.40625 64.59375 \nL 9.421875 64.59375 \nz\n\" id=\"DejaVuSans-105\"/>\n      <path d=\"M 52 44.1875 \nQ 55.375 50.25 60.0625 53.125 \nQ 64.75 56 71.09375 56 \nQ 79.640625 56 84.28125 50.015625 \nQ 88.921875 44.046875 88.921875 33.015625 \nL 88.921875 0 \nL 79.890625 0 \nL 79.890625 32.71875 \nQ 79.890625 40.578125 77.09375 44.375 \nQ 74.3125 48.1875 68.609375 48.1875 \nQ 61.625 48.1875 57.5625 43.546875 \nQ 53.515625 38.921875 53.515625 30.90625 \nL 53.515625 0 \nL 44.484375 0 \nL 44.484375 32.71875 \nQ 44.484375 40.625 41.703125 44.40625 \nQ 38.921875 48.1875 33.109375 48.1875 \nQ 26.21875 48.1875 22.15625 43.53125 \nQ 18.109375 38.875 18.109375 30.90625 \nL 18.109375 0 \nL 9.078125 0 \nL 9.078125 54.6875 \nL 18.109375 54.6875 \nL 18.109375 46.1875 \nQ 21.1875 51.21875 25.484375 53.609375 \nQ 29.78125 56 35.6875 56 \nQ 41.65625 56 45.828125 52.96875 \nQ 50 49.953125 52 44.1875 \nz\n\" id=\"DejaVuSans-109\"/>\n      <path d=\"M 31 75.875 \nQ 24.46875 64.65625 21.28125 53.65625 \nQ 18.109375 42.671875 18.109375 31.390625 \nQ 18.109375 20.125 21.3125 9.0625 \nQ 24.515625 -2 31 -13.1875 \nL 23.1875 -13.1875 \nQ 15.875 -1.703125 12.234375 9.375 \nQ 8.59375 20.453125 8.59375 31.390625 \nQ 8.59375 42.28125 12.203125 53.3125 \nQ 15.828125 64.359375 23.1875 75.875 \nz\n\" id=\"DejaVuSans-40\"/>\n      <path d=\"M 54.890625 33.015625 \nL 54.890625 0 \nL 45.90625 0 \nL 45.90625 32.71875 \nQ 45.90625 40.484375 42.875 44.328125 \nQ 39.84375 48.1875 33.796875 48.1875 \nQ 26.515625 48.1875 22.3125 43.546875 \nQ 18.109375 38.921875 18.109375 30.90625 \nL 18.109375 0 \nL 9.078125 0 \nL 9.078125 75.984375 \nL 18.109375 75.984375 \nL 18.109375 46.1875 \nQ 21.34375 51.125 25.703125 53.5625 \nQ 30.078125 56 35.796875 56 \nQ 45.21875 56 50.046875 50.171875 \nQ 54.890625 44.34375 54.890625 33.015625 \nz\n\" id=\"DejaVuSans-104\"/>\n      <path d=\"M 8.015625 75.875 \nL 15.828125 75.875 \nQ 23.140625 64.359375 26.78125 53.3125 \nQ 30.421875 42.28125 30.421875 31.390625 \nQ 30.421875 20.453125 26.78125 9.375 \nQ 23.140625 -1.703125 15.828125 -13.1875 \nL 8.015625 -13.1875 \nQ 14.5 -2 17.703125 9.0625 \nQ 20.90625 20.125 20.90625 31.390625 \nQ 20.90625 42.671875 17.703125 53.65625 \nQ 14.5 64.65625 8.015625 75.875 \nz\n\" id=\"DejaVuSans-41\"/>\n     </defs>\n     <g style=\"fill:#555555;\" transform=\"translate(163.177188 269.195469)scale(0.12 -0.12)\">\n      <use xlink:href=\"#DejaVuSans-69\"/>\n      <use x=\"63.183594\" xlink:href=\"#DejaVuSans-108\"/>\n      <use x=\"90.966797\" xlink:href=\"#DejaVuSans-97\"/>\n      <use x=\"152.246094\" xlink:href=\"#DejaVuSans-112\"/>\n      <use x=\"215.722656\" xlink:href=\"#DejaVuSans-115\"/>\n      <use x=\"267.822266\" xlink:href=\"#DejaVuSans-101\"/>\n      <use x=\"329.345703\" xlink:href=\"#DejaVuSans-100\"/>\n      <use x=\"392.822266\" xlink:href=\"#DejaVuSans-32\"/>\n      <use x=\"424.609375\" xlink:href=\"#DejaVuSans-116\"/>\n      <use x=\"463.818359\" xlink:href=\"#DejaVuSans-105\"/>\n      <use x=\"491.601562\" xlink:href=\"#DejaVuSans-109\"/>\n      <use x=\"589.013672\" xlink:href=\"#DejaVuSans-101\"/>\n      <use x=\"650.537109\" xlink:href=\"#DejaVuSans-32\"/>\n      <use x=\"682.324219\" xlink:href=\"#DejaVuSans-40\"/>\n      <use x=\"721.337891\" xlink:href=\"#DejaVuSans-104\"/>\n      <use x=\"784.716797\" xlink:href=\"#DejaVuSans-41\"/>\n     </g>\n    </g>\n   </g>\n   <g id=\"matplotlib.axis_2\">\n    <g id=\"ytick_1\">\n     <g id=\"line2d_15\">\n      <path clip-path=\"url(#p07ccb44905)\" d=\"M 48.90125 239.399219 \nL 376.30125 239.399219 \n\" style=\"fill:none;stroke:#ffffff;stroke-linecap:square;stroke-width:0.8;\"/>\n     </g>\n     <g id=\"line2d_16\">\n      <defs>\n       <path d=\"M 0 0 \nL -3.5 0 \n\" id=\"ma881c4e4bc\" style=\"stroke:#555555;stroke-width:0.8;\"/>\n      </defs>\n      <g>\n       <use style=\"fill:#555555;stroke:#555555;stroke-width:0.8;\" x=\"48.90125\" xlink:href=\"#ma881c4e4bc\" y=\"239.399219\"/>\n      </g>\n     </g>\n     <g id=\"text_9\">\n      <!-- 0 -->\n      <g style=\"fill:#555555;\" transform=\"translate(35.53875 243.198437)scale(0.1 -0.1)\">\n       <use xlink:href=\"#DejaVuSans-48\"/>\n      </g>\n     </g>\n    </g>\n    <g id=\"ytick_2\">\n     <g id=\"line2d_17\">\n      <path clip-path=\"url(#p07ccb44905)\" d=\"M 48.90125 201.332552 \nL 376.30125 201.332552 \n\" style=\"fill:none;stroke:#ffffff;stroke-linecap:square;stroke-width:0.8;\"/>\n     </g>\n     <g id=\"line2d_18\">\n      <g>\n       <use style=\"fill:#555555;stroke:#555555;stroke-width:0.8;\" x=\"48.90125\" xlink:href=\"#ma881c4e4bc\" y=\"201.332552\"/>\n      </g>\n     </g>\n     <g id=\"text_10\">\n      <!-- 20 -->\n      <g style=\"fill:#555555;\" transform=\"translate(29.17625 205.131771)scale(0.1 -0.1)\">\n       <use xlink:href=\"#DejaVuSans-50\"/>\n       <use x=\"63.623047\" xlink:href=\"#DejaVuSans-48\"/>\n      </g>\n     </g>\n    </g>\n    <g id=\"ytick_3\">\n     <g id=\"line2d_19\">\n      <path clip-path=\"url(#p07ccb44905)\" d=\"M 48.90125 163.265885 \nL 376.30125 163.265885 \n\" style=\"fill:none;stroke:#ffffff;stroke-linecap:square;stroke-width:0.8;\"/>\n     </g>\n     <g id=\"line2d_20\">\n      <g>\n       <use style=\"fill:#555555;stroke:#555555;stroke-width:0.8;\" x=\"48.90125\" xlink:href=\"#ma881c4e4bc\" y=\"163.265885\"/>\n      </g>\n     </g>\n     <g id=\"text_11\">\n      <!-- 40 -->\n      <g style=\"fill:#555555;\" transform=\"translate(29.17625 167.065104)scale(0.1 -0.1)\">\n       <use xlink:href=\"#DejaVuSans-52\"/>\n       <use x=\"63.623047\" xlink:href=\"#DejaVuSans-48\"/>\n      </g>\n     </g>\n    </g>\n    <g id=\"ytick_4\">\n     <g id=\"line2d_21\">\n      <path clip-path=\"url(#p07ccb44905)\" d=\"M 48.90125 125.199219 \nL 376.30125 125.199219 \n\" style=\"fill:none;stroke:#ffffff;stroke-linecap:square;stroke-width:0.8;\"/>\n     </g>\n     <g id=\"line2d_22\">\n      <g>\n       <use style=\"fill:#555555;stroke:#555555;stroke-width:0.8;\" x=\"48.90125\" xlink:href=\"#ma881c4e4bc\" y=\"125.199219\"/>\n      </g>\n     </g>\n     <g id=\"text_12\">\n      <!-- 60 -->\n      <g style=\"fill:#555555;\" transform=\"translate(29.17625 128.998438)scale(0.1 -0.1)\">\n       <use xlink:href=\"#DejaVuSans-54\"/>\n       <use x=\"63.623047\" xlink:href=\"#DejaVuSans-48\"/>\n      </g>\n     </g>\n    </g>\n    <g id=\"ytick_5\">\n     <g id=\"line2d_23\">\n      <path clip-path=\"url(#p07ccb44905)\" d=\"M 48.90125 87.132552 \nL 376.30125 87.132552 \n\" style=\"fill:none;stroke:#ffffff;stroke-linecap:square;stroke-width:0.8;\"/>\n     </g>\n     <g id=\"line2d_24\">\n      <g>\n       <use style=\"fill:#555555;stroke:#555555;stroke-width:0.8;\" x=\"48.90125\" xlink:href=\"#ma881c4e4bc\" y=\"87.132552\"/>\n      </g>\n     </g>\n     <g id=\"text_13\">\n      <!-- 80 -->\n      <defs>\n       <path d=\"M 31.78125 34.625 \nQ 24.75 34.625 20.71875 30.859375 \nQ 16.703125 27.09375 16.703125 20.515625 \nQ 16.703125 13.921875 20.71875 10.15625 \nQ 24.75 6.390625 31.78125 6.390625 \nQ 38.8125 6.390625 42.859375 10.171875 \nQ 46.921875 13.96875 46.921875 20.515625 \nQ 46.921875 27.09375 42.890625 30.859375 \nQ 38.875 34.625 31.78125 34.625 \nz\nM 21.921875 38.8125 \nQ 15.578125 40.375 12.03125 44.71875 \nQ 8.5 49.078125 8.5 55.328125 \nQ 8.5 64.0625 14.71875 69.140625 \nQ 20.953125 74.21875 31.78125 74.21875 \nQ 42.671875 74.21875 48.875 69.140625 \nQ 55.078125 64.0625 55.078125 55.328125 \nQ 55.078125 49.078125 51.53125 44.71875 \nQ 48 40.375 41.703125 38.8125 \nQ 48.828125 37.15625 52.796875 32.3125 \nQ 56.78125 27.484375 56.78125 20.515625 \nQ 56.78125 9.90625 50.3125 4.234375 \nQ 43.84375 -1.421875 31.78125 -1.421875 \nQ 19.734375 -1.421875 13.25 4.234375 \nQ 6.78125 9.90625 6.78125 20.515625 \nQ 6.78125 27.484375 10.78125 32.3125 \nQ 14.796875 37.15625 21.921875 38.8125 \nz\nM 18.3125 54.390625 \nQ 18.3125 48.734375 21.84375 45.5625 \nQ 25.390625 42.390625 31.78125 42.390625 \nQ 38.140625 42.390625 41.71875 45.5625 \nQ 45.3125 48.734375 45.3125 54.390625 \nQ 45.3125 60.0625 41.71875 63.234375 \nQ 38.140625 66.40625 31.78125 66.40625 \nQ 25.390625 66.40625 21.84375 63.234375 \nQ 18.3125 60.0625 18.3125 54.390625 \nz\n\" id=\"DejaVuSans-56\"/>\n      </defs>\n      <g style=\"fill:#555555;\" transform=\"translate(29.17625 90.931771)scale(0.1 -0.1)\">\n       <use xlink:href=\"#DejaVuSans-56\"/>\n       <use x=\"63.623047\" xlink:href=\"#DejaVuSans-48\"/>\n      </g>\n     </g>\n    </g>\n    <g id=\"ytick_6\">\n     <g id=\"line2d_25\">\n      <path clip-path=\"url(#p07ccb44905)\" d=\"M 48.90125 49.065885 \nL 376.30125 49.065885 \n\" style=\"fill:none;stroke:#ffffff;stroke-linecap:square;stroke-width:0.8;\"/>\n     </g>\n     <g id=\"line2d_26\">\n      <g>\n       <use style=\"fill:#555555;stroke:#555555;stroke-width:0.8;\" x=\"48.90125\" xlink:href=\"#ma881c4e4bc\" y=\"49.065885\"/>\n      </g>\n     </g>\n     <g id=\"text_14\">\n      <!-- 100 -->\n      <g style=\"fill:#555555;\" transform=\"translate(22.81375 52.865104)scale(0.1 -0.1)\">\n       <use xlink:href=\"#DejaVuSans-49\"/>\n       <use x=\"63.623047\" xlink:href=\"#DejaVuSans-48\"/>\n       <use x=\"127.246094\" xlink:href=\"#DejaVuSans-48\"/>\n      </g>\n     </g>\n    </g>\n    <g id=\"ytick_7\">\n     <g id=\"line2d_27\">\n      <path clip-path=\"url(#p07ccb44905)\" d=\"M 48.90125 10.999219 \nL 376.30125 10.999219 \n\" style=\"fill:none;stroke:#ffffff;stroke-linecap:square;stroke-width:0.8;\"/>\n     </g>\n     <g id=\"line2d_28\">\n      <g>\n       <use style=\"fill:#555555;stroke:#555555;stroke-width:0.8;\" x=\"48.90125\" xlink:href=\"#ma881c4e4bc\" y=\"10.999219\"/>\n      </g>\n     </g>\n     <g id=\"text_15\">\n      <!-- 120 -->\n      <g style=\"fill:#555555;\" transform=\"translate(22.81375 14.798438)scale(0.1 -0.1)\">\n       <use xlink:href=\"#DejaVuSans-49\"/>\n       <use x=\"63.623047\" xlink:href=\"#DejaVuSans-50\"/>\n       <use x=\"127.246094\" xlink:href=\"#DejaVuSans-48\"/>\n      </g>\n     </g>\n    </g>\n    <g id=\"text_16\">\n     <!-- Activity (MBq) -->\n     <defs>\n      <path d=\"M 34.1875 63.1875 \nL 20.796875 26.90625 \nL 47.609375 26.90625 \nz\nM 28.609375 72.90625 \nL 39.796875 72.90625 \nL 67.578125 0 \nL 57.328125 0 \nL 50.6875 18.703125 \nL 17.828125 18.703125 \nL 11.1875 0 \nL 0.78125 0 \nz\n\" id=\"DejaVuSans-65\"/>\n      <path d=\"M 48.78125 52.59375 \nL 48.78125 44.1875 \nQ 44.96875 46.296875 41.140625 47.34375 \nQ 37.3125 48.390625 33.40625 48.390625 \nQ 24.65625 48.390625 19.8125 42.84375 \nQ 14.984375 37.3125 14.984375 27.296875 \nQ 14.984375 17.28125 19.8125 11.734375 \nQ 24.65625 6.203125 33.40625 6.203125 \nQ 37.3125 6.203125 41.140625 7.25 \nQ 44.96875 8.296875 48.78125 10.40625 \nL 48.78125 2.09375 \nQ 45.015625 0.34375 40.984375 -0.53125 \nQ 36.96875 -1.421875 32.421875 -1.421875 \nQ 20.0625 -1.421875 12.78125 6.34375 \nQ 5.515625 14.109375 5.515625 27.296875 \nQ 5.515625 40.671875 12.859375 48.328125 \nQ 20.21875 56 33.015625 56 \nQ 37.15625 56 41.109375 55.140625 \nQ 45.0625 54.296875 48.78125 52.59375 \nz\n\" id=\"DejaVuSans-99\"/>\n      <path d=\"M 2.984375 54.6875 \nL 12.5 54.6875 \nL 29.59375 8.796875 \nL 46.6875 54.6875 \nL 56.203125 54.6875 \nL 35.6875 0 \nL 23.484375 0 \nz\n\" id=\"DejaVuSans-118\"/>\n      <path d=\"M 32.171875 -5.078125 \nQ 28.375 -14.84375 24.75 -17.8125 \nQ 21.140625 -20.796875 15.09375 -20.796875 \nL 7.90625 -20.796875 \nL 7.90625 -13.28125 \nL 13.1875 -13.28125 \nQ 16.890625 -13.28125 18.9375 -11.515625 \nQ 21 -9.765625 23.484375 -3.21875 \nL 25.09375 0.875 \nL 2.984375 54.6875 \nL 12.5 54.6875 \nL 29.59375 11.921875 \nL 46.6875 54.6875 \nL 56.203125 54.6875 \nz\n\" id=\"DejaVuSans-121\"/>\n      <path d=\"M 9.8125 72.90625 \nL 24.515625 72.90625 \nL 43.109375 23.296875 \nL 61.8125 72.90625 \nL 76.515625 72.90625 \nL 76.515625 0 \nL 66.890625 0 \nL 66.890625 64.015625 \nL 48.09375 14.015625 \nL 38.1875 14.015625 \nL 19.390625 64.015625 \nL 19.390625 0 \nL 9.8125 0 \nz\n\" id=\"DejaVuSans-77\"/>\n      <path d=\"M 19.671875 34.8125 \nL 19.671875 8.109375 \nL 35.5 8.109375 \nQ 43.453125 8.109375 47.28125 11.40625 \nQ 51.125 14.703125 51.125 21.484375 \nQ 51.125 28.328125 47.28125 31.5625 \nQ 43.453125 34.8125 35.5 34.8125 \nz\nM 19.671875 64.796875 \nL 19.671875 42.828125 \nL 34.28125 42.828125 \nQ 41.5 42.828125 45.03125 45.53125 \nQ 48.578125 48.25 48.578125 53.8125 \nQ 48.578125 59.328125 45.03125 62.0625 \nQ 41.5 64.796875 34.28125 64.796875 \nz\nM 9.8125 72.90625 \nL 35.015625 72.90625 \nQ 46.296875 72.90625 52.390625 68.21875 \nQ 58.5 63.53125 58.5 54.890625 \nQ 58.5 48.1875 55.375 44.234375 \nQ 52.25 40.28125 46.1875 39.3125 \nQ 53.46875 37.75 57.5 32.78125 \nQ 61.53125 27.828125 61.53125 20.40625 \nQ 61.53125 10.640625 54.890625 5.3125 \nQ 48.25 0 35.984375 0 \nL 9.8125 0 \nz\n\" id=\"DejaVuSans-66\"/>\n      <path d=\"M 14.796875 27.296875 \nQ 14.796875 17.390625 18.875 11.75 \nQ 22.953125 6.109375 30.078125 6.109375 \nQ 37.203125 6.109375 41.296875 11.75 \nQ 45.40625 17.390625 45.40625 27.296875 \nQ 45.40625 37.203125 41.296875 42.84375 \nQ 37.203125 48.484375 30.078125 48.484375 \nQ 22.953125 48.484375 18.875 42.84375 \nQ 14.796875 37.203125 14.796875 27.296875 \nz\nM 45.40625 8.203125 \nQ 42.578125 3.328125 38.25 0.953125 \nQ 33.9375 -1.421875 27.875 -1.421875 \nQ 17.96875 -1.421875 11.734375 6.484375 \nQ 5.515625 14.40625 5.515625 27.296875 \nQ 5.515625 40.1875 11.734375 48.09375 \nQ 17.96875 56 27.875 56 \nQ 33.9375 56 38.25 53.625 \nQ 42.578125 51.265625 45.40625 46.390625 \nL 45.40625 54.6875 \nL 54.390625 54.6875 \nL 54.390625 -20.796875 \nL 45.40625 -20.796875 \nz\n\" id=\"DejaVuSans-113\"/>\n     </defs>\n     <g style=\"fill:#555555;\" transform=\"translate(16.318125 167.329531)rotate(-90)scale(0.12 -0.12)\">\n      <use xlink:href=\"#DejaVuSans-65\"/>\n      <use x=\"66.658203\" xlink:href=\"#DejaVuSans-99\"/>\n      <use x=\"121.638672\" xlink:href=\"#DejaVuSans-116\"/>\n      <use x=\"160.847656\" xlink:href=\"#DejaVuSans-105\"/>\n      <use x=\"188.630859\" xlink:href=\"#DejaVuSans-118\"/>\n      <use x=\"247.810547\" xlink:href=\"#DejaVuSans-105\"/>\n      <use x=\"275.59375\" xlink:href=\"#DejaVuSans-116\"/>\n      <use x=\"314.802734\" xlink:href=\"#DejaVuSans-121\"/>\n      <use x=\"373.982422\" xlink:href=\"#DejaVuSans-32\"/>\n      <use x=\"405.769531\" xlink:href=\"#DejaVuSans-40\"/>\n      <use x=\"444.783203\" xlink:href=\"#DejaVuSans-77\"/>\n      <use x=\"531.0625\" xlink:href=\"#DejaVuSans-66\"/>\n      <use x=\"599.666016\" xlink:href=\"#DejaVuSans-113\"/>\n      <use x=\"663.142578\" xlink:href=\"#DejaVuSans-41\"/>\n     </g>\n    </g>\n   </g>\n   <g id=\"patch_3\">\n    <path d=\"M 48.90125 239.399219 \nL 48.90125 10.999219 \n\" style=\"fill:none;stroke:#ffffff;stroke-linecap:square;stroke-linejoin:miter;\"/>\n   </g>\n   <g id=\"patch_4\">\n    <path d=\"M 376.30125 239.399219 \nL 376.30125 10.999219 \n\" style=\"fill:none;stroke:#ffffff;stroke-linecap:square;stroke-linejoin:miter;\"/>\n   </g>\n   <g id=\"patch_5\">\n    <path d=\"M 48.90125 239.399219 \nL 376.30125 239.399219 \n\" style=\"fill:none;stroke:#ffffff;stroke-linecap:square;stroke-linejoin:miter;\"/>\n   </g>\n   <g id=\"patch_6\">\n    <path d=\"M 48.90125 10.999219 \nL 376.30125 10.999219 \n\" style=\"fill:none;stroke:#ffffff;stroke-linecap:square;stroke-linejoin:miter;\"/>\n   </g>\n   <g id=\"line2d_29\">\n    <path clip-path=\"url(#p07ccb44905)\" d=\"M 48.90125 49.065885 \nL 376.30125 49.379494 \nL 376.30125 49.379494 \n\" style=\"fill:none;stroke:#0000cd;stroke-linecap:square;stroke-width:1.5;\"/>\n   </g>\n   <g id=\"line2d_30\">\n    <path clip-path=\"url(#p07ccb44905)\" d=\"M 48.90125 239.399219 \nL 52.17525 227.424272 \nL 55.44925 216.20294 \nL 58.72325 205.687809 \nL 61.99725 195.834448 \nL 65.27125 186.60122 \nL 68.54525 177.949109 \nL 71.81925 169.841553 \nL 75.09325 162.244291 \nL 78.912917 153.983054 \nL 82.732583 146.325242 \nL 86.55225 139.226797 \nL 90.371917 132.64688 \nL 94.191583 126.547632 \nL 98.01125 120.893961 \nL 101.830917 115.653334 \nL 105.650583 110.795595 \nL 109.47025 106.292788 \nL 113.289917 102.119001 \nL 117.109583 98.250211 \nL 120.92925 94.664151 \nL 125.294583 90.885585 \nL 129.659917 87.420972 \nL 134.02525 84.244256 \nL 138.390583 81.331541 \nL 143.301583 78.343091 \nL 148.212583 75.632627 \nL 153.123583 73.174332 \nL 158.58025 70.710236 \nL 164.036917 68.499604 \nL 169.493583 66.516421 \nL 175.495917 64.56983 \nL 182.043917 62.69548 \nL 188.591917 61.050329 \nL 195.685583 59.494414 \nL 203.324917 58.047538 \nL 211.509917 56.723561 \nL 220.240583 55.530674 \nL 230.062583 54.415557 \nL 240.975917 53.408546 \nL 252.980583 52.528147 \nL 266.62225 51.754898 \nL 282.446583 51.088475 \nL 300.99925 50.537258 \nL 323.91725 50.092093 \nL 352.837583 49.765594 \nL 376.30125 49.617988 \nL 376.30125 49.617988 \n\" style=\"fill:none;stroke:#ff0000;stroke-linecap:square;stroke-width:1.5;\"/>\n   </g>\n   <g id=\"legend_1\">\n    <g id=\"patch_7\">\n     <path d=\"M 277.50125 234.399219 \nL 369.30125 234.399219 \nQ 371.30125 234.399219 371.30125 232.399219 \nL 371.30125 200.999219 \nQ 371.30125 198.999219 369.30125 198.999219 \nL 277.50125 198.999219 \nQ 275.50125 198.999219 275.50125 200.999219 \nL 275.50125 232.399219 \nQ 275.50125 234.399219 277.50125 234.399219 \nz\n\" style=\"fill:#e5e5e5;opacity:0.8;stroke:#cccccc;stroke-linejoin:miter;stroke-width:0.5;\"/>\n    </g>\n    <g id=\"line2d_31\">\n     <path d=\"M 279.50125 208.599219 \nL 299.50125 208.599219 \n\" style=\"fill:none;stroke:#0000cd;stroke-linecap:square;stroke-width:1.5;\"/>\n    </g>\n    <g id=\"line2d_32\"/>\n    <g id=\"text_17\">\n     <!-- $^{90}$Sr activity -->\n     <defs>\n      <path d=\"M 10.984375 1.515625 \nL 10.984375 10.5 \nQ 14.703125 8.734375 18.5 7.8125 \nQ 22.3125 6.890625 25.984375 6.890625 \nQ 35.75 6.890625 40.890625 13.453125 \nQ 46.046875 20.015625 46.78125 33.40625 \nQ 43.953125 29.203125 39.59375 26.953125 \nQ 35.25 24.703125 29.984375 24.703125 \nQ 19.046875 24.703125 12.671875 31.3125 \nQ 6.296875 37.9375 6.296875 49.421875 \nQ 6.296875 60.640625 12.9375 67.421875 \nQ 19.578125 74.21875 30.609375 74.21875 \nQ 43.265625 74.21875 49.921875 64.515625 \nQ 56.59375 54.828125 56.59375 36.375 \nQ 56.59375 19.140625 48.40625 8.859375 \nQ 40.234375 -1.421875 26.421875 -1.421875 \nQ 22.703125 -1.421875 18.890625 -0.6875 \nQ 15.09375 0.046875 10.984375 1.515625 \nz\nM 30.609375 32.421875 \nQ 37.25 32.421875 41.125 36.953125 \nQ 45.015625 41.5 45.015625 49.421875 \nQ 45.015625 57.28125 41.125 61.84375 \nQ 37.25 66.40625 30.609375 66.40625 \nQ 23.96875 66.40625 20.09375 61.84375 \nQ 16.21875 57.28125 16.21875 49.421875 \nQ 16.21875 41.5 20.09375 36.953125 \nQ 23.96875 32.421875 30.609375 32.421875 \nz\n\" id=\"DejaVuSans-57\"/>\n      <path d=\"M 53.515625 70.515625 \nL 53.515625 60.890625 \nQ 47.90625 63.578125 42.921875 64.890625 \nQ 37.9375 66.21875 33.296875 66.21875 \nQ 25.25 66.21875 20.875 63.09375 \nQ 16.5 59.96875 16.5 54.203125 \nQ 16.5 49.359375 19.40625 46.890625 \nQ 22.3125 44.4375 30.421875 42.921875 \nL 36.375 41.703125 \nQ 47.40625 39.59375 52.65625 34.296875 \nQ 57.90625 29 57.90625 20.125 \nQ 57.90625 9.515625 50.796875 4.046875 \nQ 43.703125 -1.421875 29.984375 -1.421875 \nQ 24.8125 -1.421875 18.96875 -0.25 \nQ 13.140625 0.921875 6.890625 3.21875 \nL 6.890625 13.375 \nQ 12.890625 10.015625 18.65625 8.296875 \nQ 24.421875 6.59375 29.984375 6.59375 \nQ 38.421875 6.59375 43.015625 9.90625 \nQ 47.609375 13.234375 47.609375 19.390625 \nQ 47.609375 24.75 44.3125 27.78125 \nQ 41.015625 30.8125 33.5 32.328125 \nL 27.484375 33.5 \nQ 16.453125 35.6875 11.515625 40.375 \nQ 6.59375 45.0625 6.59375 53.421875 \nQ 6.59375 63.09375 13.40625 68.65625 \nQ 20.21875 74.21875 32.171875 74.21875 \nQ 37.3125 74.21875 42.625 73.28125 \nQ 47.953125 72.359375 53.515625 70.515625 \nz\n\" id=\"DejaVuSans-83\"/>\n      <path d=\"M 41.109375 46.296875 \nQ 39.59375 47.171875 37.8125 47.578125 \nQ 36.03125 48 33.890625 48 \nQ 26.265625 48 22.1875 43.046875 \nQ 18.109375 38.09375 18.109375 28.8125 \nL 18.109375 0 \nL 9.078125 0 \nL 9.078125 54.6875 \nL 18.109375 54.6875 \nL 18.109375 46.1875 \nQ 20.953125 51.171875 25.484375 53.578125 \nQ 30.03125 56 36.53125 56 \nQ 37.453125 56 38.578125 55.875 \nQ 39.703125 55.765625 41.0625 55.515625 \nz\n\" id=\"DejaVuSans-114\"/>\n     </defs>\n     <g transform=\"translate(307.50125 212.099219)scale(0.1 -0.1)\">\n      <use transform=\"translate(0.957031 39.046875)scale(0.7)\" xlink:href=\"#DejaVuSans-57\"/>\n      <use transform=\"translate(45.493164 39.046875)scale(0.7)\" xlink:href=\"#DejaVuSans-48\"/>\n      <use transform=\"translate(92.763672 0.765625)\" xlink:href=\"#DejaVuSans-83\"/>\n      <use transform=\"translate(156.240234 0.765625)\" xlink:href=\"#DejaVuSans-114\"/>\n      <use transform=\"translate(197.353516 0.765625)\" xlink:href=\"#DejaVuSans-32\"/>\n      <use transform=\"translate(229.140625 0.765625)\" xlink:href=\"#DejaVuSans-97\"/>\n      <use transform=\"translate(290.419922 0.765625)\" xlink:href=\"#DejaVuSans-99\"/>\n      <use transform=\"translate(345.400391 0.765625)\" xlink:href=\"#DejaVuSans-116\"/>\n      <use transform=\"translate(384.609375 0.765625)\" xlink:href=\"#DejaVuSans-105\"/>\n      <use transform=\"translate(412.392578 0.765625)\" xlink:href=\"#DejaVuSans-118\"/>\n      <use transform=\"translate(471.572266 0.765625)\" xlink:href=\"#DejaVuSans-105\"/>\n      <use transform=\"translate(499.355469 0.765625)\" xlink:href=\"#DejaVuSans-116\"/>\n      <use transform=\"translate(538.564453 0.765625)\" xlink:href=\"#DejaVuSans-121\"/>\n     </g>\n    </g>\n    <g id=\"line2d_33\">\n     <path d=\"M 279.50125 224.799219 \nL 299.50125 224.799219 \n\" style=\"fill:none;stroke:#ff0000;stroke-linecap:square;stroke-width:1.5;\"/>\n    </g>\n    <g id=\"line2d_34\"/>\n    <g id=\"text_18\">\n     <!-- $^{90}$Y activity -->\n     <defs>\n      <path d=\"M -0.203125 72.90625 \nL 10.40625 72.90625 \nL 30.609375 42.921875 \nL 50.6875 72.90625 \nL 61.28125 72.90625 \nL 35.5 34.71875 \nL 35.5 0 \nL 25.59375 0 \nL 25.59375 34.71875 \nz\n\" id=\"DejaVuSans-89\"/>\n     </defs>\n     <g transform=\"translate(307.50125 228.299219)scale(0.1 -0.1)\">\n      <use transform=\"translate(0.957031 39.046875)scale(0.7)\" xlink:href=\"#DejaVuSans-57\"/>\n      <use transform=\"translate(45.493164 39.046875)scale(0.7)\" xlink:href=\"#DejaVuSans-48\"/>\n      <use transform=\"translate(92.763672 0.765625)\" xlink:href=\"#DejaVuSans-89\"/>\n      <use transform=\"translate(153.847656 0.765625)\" xlink:href=\"#DejaVuSans-32\"/>\n      <use transform=\"translate(185.634766 0.765625)\" xlink:href=\"#DejaVuSans-97\"/>\n      <use transform=\"translate(246.914062 0.765625)\" xlink:href=\"#DejaVuSans-99\"/>\n      <use transform=\"translate(301.894531 0.765625)\" xlink:href=\"#DejaVuSans-116\"/>\n      <use transform=\"translate(341.103516 0.765625)\" xlink:href=\"#DejaVuSans-105\"/>\n      <use transform=\"translate(368.886719 0.765625)\" xlink:href=\"#DejaVuSans-118\"/>\n      <use transform=\"translate(428.066406 0.765625)\" xlink:href=\"#DejaVuSans-105\"/>\n      <use transform=\"translate(455.849609 0.765625)\" xlink:href=\"#DejaVuSans-116\"/>\n      <use transform=\"translate(495.058594 0.765625)\" xlink:href=\"#DejaVuSans-121\"/>\n     </g>\n    </g>\n   </g>\n  </g>\n  <g id=\"axes_2\">\n   <g id=\"matplotlib.axis_3\">\n    <g id=\"ytick_8\">\n     <g id=\"line2d_35\">\n      <path clip-path=\"url(#p07ccb44905)\" d=\"M 48.90125 239.399219 \nL 376.30125 239.399219 \n\" style=\"fill:none;stroke:#ffffff;stroke-linecap:square;stroke-width:0.8;\"/>\n     </g>\n     <g id=\"line2d_36\">\n      <defs>\n       <path d=\"M 0 0 \nL 3.5 0 \n\" id=\"m72b0c232a7\" style=\"stroke:#555555;stroke-width:0.8;\"/>\n      </defs>\n      <g>\n       <use style=\"fill:#555555;stroke:#555555;stroke-width:0.8;\" x=\"376.30125\" xlink:href=\"#m72b0c232a7\" y=\"239.399219\"/>\n      </g>\n     </g>\n     <g id=\"text_19\">\n      <!-- 0.0 -->\n      <defs>\n       <path d=\"M 10.6875 12.40625 \nL 21 12.40625 \nL 21 0 \nL 10.6875 0 \nz\n\" id=\"DejaVuSans-46\"/>\n      </defs>\n      <g style=\"fill:#555555;\" transform=\"translate(383.30125 243.198437)scale(0.1 -0.1)\">\n       <use xlink:href=\"#DejaVuSans-48\"/>\n       <use x=\"63.623047\" xlink:href=\"#DejaVuSans-46\"/>\n       <use x=\"95.410156\" xlink:href=\"#DejaVuSans-48\"/>\n      </g>\n     </g>\n    </g>\n    <g id=\"ytick_9\">\n     <g id=\"line2d_37\">\n      <path clip-path=\"url(#p07ccb44905)\" d=\"M 48.90125 201.332552 \nL 376.30125 201.332552 \n\" style=\"fill:none;stroke:#ffffff;stroke-linecap:square;stroke-width:0.8;\"/>\n     </g>\n     <g id=\"line2d_38\">\n      <g>\n       <use style=\"fill:#555555;stroke:#555555;stroke-width:0.8;\" x=\"376.30125\" xlink:href=\"#m72b0c232a7\" y=\"201.332552\"/>\n      </g>\n     </g>\n     <g id=\"text_20\">\n      <!-- 0.2 -->\n      <g style=\"fill:#555555;\" transform=\"translate(383.30125 205.131771)scale(0.1 -0.1)\">\n       <use xlink:href=\"#DejaVuSans-48\"/>\n       <use x=\"63.623047\" xlink:href=\"#DejaVuSans-46\"/>\n       <use x=\"95.410156\" xlink:href=\"#DejaVuSans-50\"/>\n      </g>\n     </g>\n    </g>\n    <g id=\"ytick_10\">\n     <g id=\"line2d_39\">\n      <path clip-path=\"url(#p07ccb44905)\" d=\"M 48.90125 163.265885 \nL 376.30125 163.265885 \n\" style=\"fill:none;stroke:#ffffff;stroke-linecap:square;stroke-width:0.8;\"/>\n     </g>\n     <g id=\"line2d_40\">\n      <g>\n       <use style=\"fill:#555555;stroke:#555555;stroke-width:0.8;\" x=\"376.30125\" xlink:href=\"#m72b0c232a7\" y=\"163.265885\"/>\n      </g>\n     </g>\n     <g id=\"text_21\">\n      <!-- 0.4 -->\n      <g style=\"fill:#555555;\" transform=\"translate(383.30125 167.065104)scale(0.1 -0.1)\">\n       <use xlink:href=\"#DejaVuSans-48\"/>\n       <use x=\"63.623047\" xlink:href=\"#DejaVuSans-46\"/>\n       <use x=\"95.410156\" xlink:href=\"#DejaVuSans-52\"/>\n      </g>\n     </g>\n    </g>\n    <g id=\"ytick_11\">\n     <g id=\"line2d_41\">\n      <path clip-path=\"url(#p07ccb44905)\" d=\"M 48.90125 125.199219 \nL 376.30125 125.199219 \n\" style=\"fill:none;stroke:#ffffff;stroke-linecap:square;stroke-width:0.8;\"/>\n     </g>\n     <g id=\"line2d_42\">\n      <g>\n       <use style=\"fill:#555555;stroke:#555555;stroke-width:0.8;\" x=\"376.30125\" xlink:href=\"#m72b0c232a7\" y=\"125.199219\"/>\n      </g>\n     </g>\n     <g id=\"text_22\">\n      <!-- 0.6 -->\n      <g style=\"fill:#555555;\" transform=\"translate(383.30125 128.998437)scale(0.1 -0.1)\">\n       <use xlink:href=\"#DejaVuSans-48\"/>\n       <use x=\"63.623047\" xlink:href=\"#DejaVuSans-46\"/>\n       <use x=\"95.410156\" xlink:href=\"#DejaVuSans-54\"/>\n      </g>\n     </g>\n    </g>\n    <g id=\"ytick_12\">\n     <g id=\"line2d_43\">\n      <path clip-path=\"url(#p07ccb44905)\" d=\"M 48.90125 87.132552 \nL 376.30125 87.132552 \n\" style=\"fill:none;stroke:#ffffff;stroke-linecap:square;stroke-width:0.8;\"/>\n     </g>\n     <g id=\"line2d_44\">\n      <g>\n       <use style=\"fill:#555555;stroke:#555555;stroke-width:0.8;\" x=\"376.30125\" xlink:href=\"#m72b0c232a7\" y=\"87.132552\"/>\n      </g>\n     </g>\n     <g id=\"text_23\">\n      <!-- 0.8 -->\n      <g style=\"fill:#555555;\" transform=\"translate(383.30125 90.931771)scale(0.1 -0.1)\">\n       <use xlink:href=\"#DejaVuSans-48\"/>\n       <use x=\"63.623047\" xlink:href=\"#DejaVuSans-46\"/>\n       <use x=\"95.410156\" xlink:href=\"#DejaVuSans-56\"/>\n      </g>\n     </g>\n    </g>\n    <g id=\"ytick_13\">\n     <g id=\"line2d_45\">\n      <path clip-path=\"url(#p07ccb44905)\" d=\"M 48.90125 49.065885 \nL 376.30125 49.065885 \n\" style=\"fill:none;stroke:#ffffff;stroke-linecap:square;stroke-width:0.8;\"/>\n     </g>\n     <g id=\"line2d_46\">\n      <g>\n       <use style=\"fill:#555555;stroke:#555555;stroke-width:0.8;\" x=\"376.30125\" xlink:href=\"#m72b0c232a7\" y=\"49.065885\"/>\n      </g>\n     </g>\n     <g id=\"text_24\">\n      <!-- 1.0 -->\n      <g style=\"fill:#555555;\" transform=\"translate(383.30125 52.865104)scale(0.1 -0.1)\">\n       <use xlink:href=\"#DejaVuSans-49\"/>\n       <use x=\"63.623047\" xlink:href=\"#DejaVuSans-46\"/>\n       <use x=\"95.410156\" xlink:href=\"#DejaVuSans-48\"/>\n      </g>\n     </g>\n    </g>\n    <g id=\"ytick_14\">\n     <g id=\"line2d_47\">\n      <path clip-path=\"url(#p07ccb44905)\" d=\"M 48.90125 10.999219 \nL 376.30125 10.999219 \n\" style=\"fill:none;stroke:#ffffff;stroke-linecap:square;stroke-width:0.8;\"/>\n     </g>\n     <g id=\"line2d_48\">\n      <g>\n       <use style=\"fill:#555555;stroke:#555555;stroke-width:0.8;\" x=\"376.30125\" xlink:href=\"#m72b0c232a7\" y=\"10.999219\"/>\n      </g>\n     </g>\n     <g id=\"text_25\">\n      <!-- 1.2 -->\n      <g style=\"fill:#555555;\" transform=\"translate(383.30125 14.798438)scale(0.1 -0.1)\">\n       <use xlink:href=\"#DejaVuSans-49\"/>\n       <use x=\"63.623047\" xlink:href=\"#DejaVuSans-46\"/>\n       <use x=\"95.410156\" xlink:href=\"#DejaVuSans-50\"/>\n      </g>\n     </g>\n    </g>\n    <g id=\"text_26\">\n     <!-- Ratio or exp() -->\n     <defs>\n      <path d=\"M 44.390625 34.1875 \nQ 47.5625 33.109375 50.5625 29.59375 \nQ 53.5625 26.078125 56.59375 19.921875 \nL 66.609375 0 \nL 56 0 \nL 46.6875 18.703125 \nQ 43.0625 26.03125 39.671875 28.421875 \nQ 36.28125 30.8125 30.421875 30.8125 \nL 19.671875 30.8125 \nL 19.671875 0 \nL 9.8125 0 \nL 9.8125 72.90625 \nL 32.078125 72.90625 \nQ 44.578125 72.90625 50.734375 67.671875 \nQ 56.890625 62.453125 56.890625 51.90625 \nQ 56.890625 45.015625 53.6875 40.46875 \nQ 50.484375 35.9375 44.390625 34.1875 \nz\nM 19.671875 64.796875 \nL 19.671875 38.921875 \nL 32.078125 38.921875 \nQ 39.203125 38.921875 42.84375 42.21875 \nQ 46.484375 45.515625 46.484375 51.90625 \nQ 46.484375 58.296875 42.84375 61.546875 \nQ 39.203125 64.796875 32.078125 64.796875 \nz\n\" id=\"DejaVuSans-82\"/>\n      <path d=\"M 30.609375 48.390625 \nQ 23.390625 48.390625 19.1875 42.75 \nQ 14.984375 37.109375 14.984375 27.296875 \nQ 14.984375 17.484375 19.15625 11.84375 \nQ 23.34375 6.203125 30.609375 6.203125 \nQ 37.796875 6.203125 41.984375 11.859375 \nQ 46.1875 17.53125 46.1875 27.296875 \nQ 46.1875 37.015625 41.984375 42.703125 \nQ 37.796875 48.390625 30.609375 48.390625 \nz\nM 30.609375 56 \nQ 42.328125 56 49.015625 48.375 \nQ 55.71875 40.765625 55.71875 27.296875 \nQ 55.71875 13.875 49.015625 6.21875 \nQ 42.328125 -1.421875 30.609375 -1.421875 \nQ 18.84375 -1.421875 12.171875 6.21875 \nQ 5.515625 13.875 5.515625 27.296875 \nQ 5.515625 40.765625 12.171875 48.375 \nQ 18.84375 56 30.609375 56 \nz\n\" id=\"DejaVuSans-111\"/>\n      <path d=\"M 54.890625 54.6875 \nL 35.109375 28.078125 \nL 55.90625 0 \nL 45.3125 0 \nL 29.390625 21.484375 \nL 13.484375 0 \nL 2.875 0 \nL 24.125 28.609375 \nL 4.6875 54.6875 \nL 15.28125 54.6875 \nL 29.78125 35.203125 \nL 44.28125 54.6875 \nz\n\" id=\"DejaVuSans-120\"/>\n     </defs>\n     <g style=\"fill:#555555;\" transform=\"translate(412.3225 166.181094)rotate(-90)scale(0.12 -0.12)\">\n      <use xlink:href=\"#DejaVuSans-82\"/>\n      <use x=\"67.232422\" xlink:href=\"#DejaVuSans-97\"/>\n      <use x=\"128.511719\" xlink:href=\"#DejaVuSans-116\"/>\n      <use x=\"167.720703\" xlink:href=\"#DejaVuSans-105\"/>\n      <use x=\"195.503906\" xlink:href=\"#DejaVuSans-111\"/>\n      <use x=\"256.685547\" xlink:href=\"#DejaVuSans-32\"/>\n      <use x=\"288.472656\" xlink:href=\"#DejaVuSans-111\"/>\n      <use x=\"349.654297\" xlink:href=\"#DejaVuSans-114\"/>\n      <use x=\"390.767578\" xlink:href=\"#DejaVuSans-32\"/>\n      <use x=\"422.554688\" xlink:href=\"#DejaVuSans-101\"/>\n      <use x=\"482.328125\" xlink:href=\"#DejaVuSans-120\"/>\n      <use x=\"541.507812\" xlink:href=\"#DejaVuSans-112\"/>\n      <use x=\"604.984375\" xlink:href=\"#DejaVuSans-40\"/>\n      <use x=\"643.998047\" xlink:href=\"#DejaVuSans-41\"/>\n     </g>\n    </g>\n   </g>\n   <g id=\"patch_8\">\n    <path d=\"M 48.90125 239.399219 \nL 48.90125 10.999219 \n\" style=\"fill:none;stroke:#ffffff;stroke-linecap:square;stroke-linejoin:miter;\"/>\n   </g>\n   <g id=\"patch_9\">\n    <path d=\"M 376.30125 239.399219 \nL 376.30125 10.999219 \n\" style=\"fill:none;stroke:#ffffff;stroke-linecap:square;stroke-linejoin:miter;\"/>\n   </g>\n   <g id=\"patch_10\">\n    <path d=\"M 48.90125 239.399219 \nL 376.30125 239.399219 \n\" style=\"fill:none;stroke:#ffffff;stroke-linecap:square;stroke-linejoin:miter;\"/>\n   </g>\n   <g id=\"patch_11\">\n    <path d=\"M 48.90125 10.999219 \nL 376.30125 10.999219 \n\" style=\"fill:none;stroke:#ffffff;stroke-linecap:square;stroke-linejoin:miter;\"/>\n   </g>\n   <g id=\"line2d_49\">\n    <path clip-path=\"url(#p07ccb44905)\" d=\"M 48.90125 239.399219 \nL 52.17525 227.424074 \nL 55.44925 216.202175 \nL 58.72325 205.686142 \nL 61.99725 195.831574 \nL 65.27125 186.596866 \nL 68.54525 177.943028 \nL 71.81925 169.833523 \nL 75.09325 162.234112 \nL 78.912917 153.970142 \nL 82.732583 146.309381 \nL 86.55225 139.207798 \nL 90.371917 132.624579 \nL 94.191583 126.521886 \nL 98.01125 120.864644 \nL 101.830917 115.62034 \nL 105.650583 110.75883 \nL 109.47025 106.252175 \nL 113.289917 102.074473 \nL 117.109583 98.201711 \nL 120.92925 94.611633 \nL 125.294583 90.82843 \nL 129.659917 87.359141 \nL 134.02525 84.177719 \nL 138.390583 81.260278 \nL 143.301583 78.266495 \nL 148.212583 75.550689 \nL 153.123583 73.087051 \nL 158.58025 70.617021 \nL 164.036917 68.400469 \nL 169.493583 66.411381 \nL 175.495917 64.458318 \nL 182.043917 62.576941 \nL 188.591917 60.924801 \nL 195.685583 59.361357 \nL 203.324917 57.906429 \nL 211.509917 56.573885 \nL 220.240583 55.371928 \nL 230.062583 54.246689 \nL 240.975917 53.228525 \nL 252.980583 52.335963 \nL 266.62225 51.549012 \nL 282.446583 50.866832 \nL 300.99925 50.297297 \nL 323.371583 49.838525 \nL 352.291917 49.48005 \nL 376.30125 49.304773 \nL 376.30125 49.304773 \n\" style=\"fill:none;stroke:#000000;stroke-dasharray:5.55,2.4;stroke-dashoffset:0;stroke-width:1.5;\"/>\n   </g>\n   <g id=\"line2d_50\">\n    <path clip-path=\"url(#p07ccb44905)\" d=\"M 48.90125 49.065885 \nL 52.17525 61.040932 \nL 55.44925 72.262555 \nL 58.72325 82.778156 \nL 61.99725 92.632155 \nL 65.27125 101.866179 \nL 68.54525 110.519233 \nL 71.81925 118.627869 \nL 75.09325 126.226342 \nL 78.912917 134.489143 \nL 82.732583 142.148673 \nL 86.55225 149.248978 \nL 90.371917 155.830887 \nL 94.191583 161.932247 \nL 98.01125 167.588145 \nL 101.830917 172.831103 \nL 105.650583 177.69127 \nL 109.47025 182.196594 \nL 113.289917 186.372983 \nL 117.109583 190.244452 \nL 120.92925 193.833263 \nL 125.294583 197.615053 \nL 129.659917 201.08297 \nL 134.02525 204.263063 \nL 138.390583 207.179222 \nL 143.301583 210.171619 \nL 148.212583 212.886101 \nL 153.123583 215.348478 \nL 158.58025 217.817177 \nL 164.036917 220.032476 \nL 169.493583 222.020384 \nL 175.495917 223.972232 \nL 182.043917 225.852379 \nL 188.591917 227.503385 \nL 195.685583 229.065702 \nL 203.324917 230.519528 \nL 211.509917 231.851009 \nL 220.240583 233.051957 \nL 230.062583 234.176198 \nL 240.975917 235.193407 \nL 252.980583 236.085079 \nL 266.62225 236.871196 \nL 282.446583 237.552602 \nL 300.99925 238.121443 \nL 323.91725 238.588438 \nL 352.837583 238.942538 \nL 376.30125 239.112564 \nL 376.30125 239.112564 \n\" style=\"fill:none;stroke:#000000;stroke-dasharray:1.5,2.475;stroke-dashoffset:0;stroke-width:1.5;\"/>\n   </g>\n   <g id=\"legend_2\">\n    <g id=\"patch_12\">\n     <path d=\"M 153.20125 48.377344 \nL 369.30125 48.377344 \nQ 371.30125 48.377344 371.30125 46.377344 \nL 371.30125 17.999219 \nQ 371.30125 15.999219 369.30125 15.999219 \nL 153.20125 15.999219 \nQ 151.20125 15.999219 151.20125 17.999219 \nL 151.20125 46.377344 \nQ 151.20125 48.377344 153.20125 48.377344 \nz\n\" style=\"fill:#e5e5e5;opacity:0.8;stroke:#cccccc;stroke-linejoin:miter;stroke-width:0.5;\"/>\n    </g>\n    <g id=\"line2d_51\">\n     <path d=\"M 155.20125 24.097656 \nL 175.20125 24.097656 \n\" style=\"fill:none;stroke:#000000;stroke-dasharray:5.55,2.4;stroke-dashoffset:0;stroke-width:1.5;\"/>\n    </g>\n    <g id=\"line2d_52\"/>\n    <g id=\"text_27\">\n     <!-- Ratio between $^{90}$Y and $^{90}$Sr activities -->\n     <defs>\n      <path d=\"M 48.6875 27.296875 \nQ 48.6875 37.203125 44.609375 42.84375 \nQ 40.53125 48.484375 33.40625 48.484375 \nQ 26.265625 48.484375 22.1875 42.84375 \nQ 18.109375 37.203125 18.109375 27.296875 \nQ 18.109375 17.390625 22.1875 11.75 \nQ 26.265625 6.109375 33.40625 6.109375 \nQ 40.53125 6.109375 44.609375 11.75 \nQ 48.6875 17.390625 48.6875 27.296875 \nz\nM 18.109375 46.390625 \nQ 20.953125 51.265625 25.265625 53.625 \nQ 29.59375 56 35.59375 56 \nQ 45.5625 56 51.78125 48.09375 \nQ 58.015625 40.1875 58.015625 27.296875 \nQ 58.015625 14.40625 51.78125 6.484375 \nQ 45.5625 -1.421875 35.59375 -1.421875 \nQ 29.59375 -1.421875 25.265625 0.953125 \nQ 20.953125 3.328125 18.109375 8.203125 \nL 18.109375 0 \nL 9.078125 0 \nL 9.078125 75.984375 \nL 18.109375 75.984375 \nz\n\" id=\"DejaVuSans-98\"/>\n      <path d=\"M 4.203125 54.6875 \nL 13.1875 54.6875 \nL 24.421875 12.015625 \nL 35.59375 54.6875 \nL 46.1875 54.6875 \nL 57.421875 12.015625 \nL 68.609375 54.6875 \nL 77.59375 54.6875 \nL 63.28125 0 \nL 52.6875 0 \nL 40.921875 44.828125 \nL 29.109375 0 \nL 18.5 0 \nz\n\" id=\"DejaVuSans-119\"/>\n      <path d=\"M 54.890625 33.015625 \nL 54.890625 0 \nL 45.90625 0 \nL 45.90625 32.71875 \nQ 45.90625 40.484375 42.875 44.328125 \nQ 39.84375 48.1875 33.796875 48.1875 \nQ 26.515625 48.1875 22.3125 43.546875 \nQ 18.109375 38.921875 18.109375 30.90625 \nL 18.109375 0 \nL 9.078125 0 \nL 9.078125 54.6875 \nL 18.109375 54.6875 \nL 18.109375 46.1875 \nQ 21.34375 51.125 25.703125 53.5625 \nQ 30.078125 56 35.796875 56 \nQ 45.21875 56 50.046875 50.171875 \nQ 54.890625 44.34375 54.890625 33.015625 \nz\n\" id=\"DejaVuSans-110\"/>\n     </defs>\n     <g transform=\"translate(183.20125 27.597656)scale(0.1 -0.1)\">\n      <use transform=\"translate(0 0.765625)\" xlink:href=\"#DejaVuSans-82\"/>\n      <use transform=\"translate(69.482422 0.765625)\" xlink:href=\"#DejaVuSans-97\"/>\n      <use transform=\"translate(130.761719 0.765625)\" xlink:href=\"#DejaVuSans-116\"/>\n      <use transform=\"translate(169.970703 0.765625)\" xlink:href=\"#DejaVuSans-105\"/>\n      <use transform=\"translate(197.753906 0.765625)\" xlink:href=\"#DejaVuSans-111\"/>\n      <use transform=\"translate(258.935547 0.765625)\" xlink:href=\"#DejaVuSans-32\"/>\n      <use transform=\"translate(290.722656 0.765625)\" xlink:href=\"#DejaVuSans-98\"/>\n      <use transform=\"translate(354.199219 0.765625)\" xlink:href=\"#DejaVuSans-101\"/>\n      <use transform=\"translate(415.722656 0.765625)\" xlink:href=\"#DejaVuSans-116\"/>\n      <use transform=\"translate(454.931641 0.765625)\" xlink:href=\"#DejaVuSans-119\"/>\n      <use transform=\"translate(536.71875 0.765625)\" xlink:href=\"#DejaVuSans-101\"/>\n      <use transform=\"translate(598.242188 0.765625)\" xlink:href=\"#DejaVuSans-101\"/>\n      <use transform=\"translate(659.765625 0.765625)\" xlink:href=\"#DejaVuSans-110\"/>\n      <use transform=\"translate(723.144531 0.765625)\" xlink:href=\"#DejaVuSans-32\"/>\n      <use transform=\"translate(755.888672 39.046875)scale(0.7)\" xlink:href=\"#DejaVuSans-57\"/>\n      <use transform=\"translate(800.424805 39.046875)scale(0.7)\" xlink:href=\"#DejaVuSans-48\"/>\n      <use transform=\"translate(847.695312 0.765625)\" xlink:href=\"#DejaVuSans-89\"/>\n      <use transform=\"translate(908.779297 0.765625)\" xlink:href=\"#DejaVuSans-32\"/>\n      <use transform=\"translate(940.566406 0.765625)\" xlink:href=\"#DejaVuSans-97\"/>\n      <use transform=\"translate(1001.845703 0.765625)\" xlink:href=\"#DejaVuSans-110\"/>\n      <use transform=\"translate(1065.224609 0.765625)\" xlink:href=\"#DejaVuSans-100\"/>\n      <use transform=\"translate(1128.701172 0.765625)\" xlink:href=\"#DejaVuSans-32\"/>\n      <use transform=\"translate(1161.445312 39.046875)scale(0.7)\" xlink:href=\"#DejaVuSans-57\"/>\n      <use transform=\"translate(1205.981445 39.046875)scale(0.7)\" xlink:href=\"#DejaVuSans-48\"/>\n      <use transform=\"translate(1253.251953 0.765625)\" xlink:href=\"#DejaVuSans-83\"/>\n      <use transform=\"translate(1316.728516 0.765625)\" xlink:href=\"#DejaVuSans-114\"/>\n      <use transform=\"translate(1357.841797 0.765625)\" xlink:href=\"#DejaVuSans-32\"/>\n      <use transform=\"translate(1389.628906 0.765625)\" xlink:href=\"#DejaVuSans-97\"/>\n      <use transform=\"translate(1450.908203 0.765625)\" xlink:href=\"#DejaVuSans-99\"/>\n      <use transform=\"translate(1505.888672 0.765625)\" xlink:href=\"#DejaVuSans-116\"/>\n      <use transform=\"translate(1545.097656 0.765625)\" xlink:href=\"#DejaVuSans-105\"/>\n      <use transform=\"translate(1572.880859 0.765625)\" xlink:href=\"#DejaVuSans-118\"/>\n      <use transform=\"translate(1632.060547 0.765625)\" xlink:href=\"#DejaVuSans-105\"/>\n      <use transform=\"translate(1659.84375 0.765625)\" xlink:href=\"#DejaVuSans-116\"/>\n      <use transform=\"translate(1699.052734 0.765625)\" xlink:href=\"#DejaVuSans-105\"/>\n      <use transform=\"translate(1726.835938 0.765625)\" xlink:href=\"#DejaVuSans-101\"/>\n      <use transform=\"translate(1788.359375 0.765625)\" xlink:href=\"#DejaVuSans-115\"/>\n     </g>\n    </g>\n    <g id=\"line2d_53\">\n     <path d=\"M 155.20125 38.777344 \nL 175.20125 38.777344 \n\" style=\"fill:none;stroke:#000000;stroke-dasharray:1.5,2.475;stroke-dashoffset:0;stroke-width:1.5;\"/>\n    </g>\n    <g id=\"line2d_54\"/>\n    <g id=\"text_28\">\n     <!-- $\\exp(-\\lambda_{\\mathrm{Y-90}} t)$ -->\n     <defs>\n      <path d=\"M 10.59375 35.5 \nL 73.1875 35.5 \nL 73.1875 27.203125 \nL 10.59375 27.203125 \nz\n\" id=\"DejaVuSans-8722\"/>\n      <path d=\"M 36.71875 67.4375 \nL 48.828125 0 \nL 39.3125 0 \nL 31.84375 40.4375 \nL 5.125 0 \nL -4.390625 0 \nL 29.734375 52.4375 \nL 28.03125 62.109375 \nQ 26.953125 68.265625 21.734375 68.265625 \nL 17.046875 68.265625 \nL 18.5 75.984375 \nL 24.21875 75.875 \nQ 35.203125 75.734375 36.71875 67.4375 \nz\n\" id=\"DejaVuSans-Oblique-955\"/>\n      <path d=\"M 42.28125 54.6875 \nL 40.921875 47.703125 \nL 23 47.703125 \nL 17.1875 18.015625 \nQ 16.890625 16.359375 16.75 15.234375 \nQ 16.609375 14.109375 16.609375 13.484375 \nQ 16.609375 10.359375 18.484375 8.9375 \nQ 20.359375 7.515625 24.515625 7.515625 \nL 33.59375 7.515625 \nL 32.078125 0 \nL 23.484375 0 \nQ 15.484375 0 11.546875 3.125 \nQ 7.625 6.25 7.625 12.59375 \nQ 7.625 13.71875 7.765625 15.0625 \nQ 7.90625 16.40625 8.203125 18.015625 \nL 14.015625 47.703125 \nL 6.390625 47.703125 \nL 7.8125 54.6875 \nL 15.28125 54.6875 \nL 18.3125 70.21875 \nL 27.296875 70.21875 \nL 24.3125 54.6875 \nz\n\" id=\"DejaVuSans-Oblique-116\"/>\n     </defs>\n     <g transform=\"translate(183.20125 42.277344)scale(0.1 -0.1)\">\n      <use transform=\"translate(0 0.015625)\" xlink:href=\"#DejaVuSans-101\"/>\n      <use transform=\"translate(61.523438 0.015625)\" xlink:href=\"#DejaVuSans-120\"/>\n      <use transform=\"translate(120.703125 0.015625)\" xlink:href=\"#DejaVuSans-112\"/>\n      <use transform=\"translate(184.179688 0.015625)\" xlink:href=\"#DejaVuSans-40\"/>\n      <use transform=\"translate(223.193359 0.015625)\" xlink:href=\"#DejaVuSans-8722\"/>\n      <use transform=\"translate(306.982422 0.015625)\" xlink:href=\"#DejaVuSans-Oblique-955\"/>\n      <use transform=\"translate(366.162109 -16.390625)scale(0.7)\" xlink:href=\"#DejaVuSans-89\"/>\n      <use transform=\"translate(422.558594 -16.390625)scale(0.7)\" xlink:href=\"#DejaVuSans-8722\"/>\n      <use transform=\"translate(494.848633 -16.390625)scale(0.7)\" xlink:href=\"#DejaVuSans-57\"/>\n      <use transform=\"translate(539.384766 -16.390625)scale(0.7)\" xlink:href=\"#DejaVuSans-48\"/>\n      <use transform=\"translate(586.655273 0.015625)\" xlink:href=\"#DejaVuSans-Oblique-116\"/>\n      <use transform=\"translate(625.864258 0.015625)\" xlink:href=\"#DejaVuSans-41\"/>\n     </g>\n    </g>\n   </g>\n  </g>\n </g>\n <defs>\n  <clipPath id=\"p07ccb44905\">\n   <rect height=\"228.4\" width=\"327.4\" x=\"48.90125\" y=\"10.999219\"/>\n  </clipPath>\n </defs>\n</svg>\n"
          },
          "metadata": {
            "tags": []
          }
        }
      ]
    },
    {
      "cell_type": "markdown",
      "metadata": {
        "id": "LUgpkJd1NIPE"
      },
      "source": [
        "$t \\approx 400$時間から徐々に永続平衡に収束することが分かる。\n",
        "\n",
        "また、$^{90}$Srの半減期は28.79年と長いので、グラフの0~600時間の範囲ではその放射能がほとんど減衰しないことが見える。"
      ]
    },
    {
      "cell_type": "markdown",
      "metadata": {
        "id": "3Zz8e1qp4u7j"
      },
      "source": [
        "### 放射平衡不成立"
      ]
    },
    {
      "cell_type": "markdown",
      "metadata": {
        "id": "6nqyVRWj5Zcq"
      },
      "source": [
        "親核種の壊変定数が娘核種の壊変定数よりも高い場合、娘核種より早く崩壊してしまい放射平衡は成立ない。すなわち、\n",
        " \n",
        "$\\lambda_{1} > \\lambda_{2}$\n",
        " \n",
        "では放射平衡不成立となる。\n",
        " \n",
        "したがって、[過渡平衡](#過渡平衡)とは逆に次の関係が成立する。\n",
        " \n",
        "$\\exp(-\\lambda_{1} t) \\to 0$、ただし、$\\exp(-\\lambda_{2} t) \\neq 0$\n",
        " \n",
        "そのため、$A_{2}(t)$は\n",
        " \n",
        "$\n",
        "  A_{2}(t) \\approx\n",
        "  -B\n",
        "  \\frac{\\lambda_{2}}\n",
        "       {\\lambda_{2} - \\lambda_{1}}\n",
        "  A_{1}(0)\n",
        "  \\exp(-\\lambda_{2} t)\n",
        "$\n",
        " \n",
        "と近似できる。\n",
        " \n",
        "ただし、上記の近似式は$\\exp(-\\lambda_{1} t) \\to 0$になる時刻$t$で成り立つことに注意。"
      ]
    },
    {
      "cell_type": "markdown",
      "metadata": {
        "id": "1ZPMunHbOMKS"
      },
      "source": [
        "---"
      ]
    },
    {
      "cell_type": "markdown",
      "metadata": {
        "id": "knk2c9D3Rklz"
      },
      "source": [
        "$^{131}$Iは、核医学で甲状腺機能亢進症の治療や甲状腺摂取率の計測に用いられる。主にウランの核分裂生成物として製造供給されるが、ここでは放射平衡不成立の例として、$^{131\\mathrm{m}}$Teから$^{131}$Iに壊変する例を取り上げる。$^{131\\mathrm{m}}$Teは、77.8%の確率で$^{131}$Iに$\\beta^{-}$壊変する。"
      ]
    },
    {
      "cell_type": "markdown",
      "metadata": {
        "id": "_UnzfGhaP2Ok"
      },
      "source": [
        "$^{131\\mathrm{m}}$Te\n",
        "$\\xrightarrow[30.0\\,\\mathrm{h}]{\\beta^{-}\\,2.234\\,\\mathrm{MeV}}$\n",
        "$^{131}$I\n",
        "$\\xrightarrow[8.0\\,\\mathrm{d}]{\\beta^{-}\\,0.606\\,\\mathrm{MeV}}$\n",
        "$^{131}$Xe"
      ]
    },
    {
      "cell_type": "markdown",
      "metadata": {
        "id": "T3WbnDJZT8Ii"
      },
      "source": [
        "$^{131\\mathrm{m}}$Teと$^{131}$Iの半減期及び壊変定数はそれぞれ"
      ]
    },
    {
      "cell_type": "code",
      "metadata": {
        "id": "1J_4D2S4U_VC",
        "outputId": "4f7b0407-7f4e-4db9-e0bb-f4f7d4c54031",
        "colab": {
          "base_uri": "https://localhost:8080/",
          "height": 71
        }
      },
      "source": [
        "te131m_half_life_phy = 30.  # 時間\n",
        "te131m_dec_const_phy = np.log(2) / te131m_half_life_phy\n",
        "print('Te-131mの物理学的半減期：{:.1f}時間'.format(te131m_half_life_phy))\n",
        "print('Te-131mの物理学的壊変定数：{:.4f}/時間'.format(te131m_dec_const_phy))"
      ],
      "execution_count": null,
      "outputs": [
        {
          "output_type": "stream",
          "text": [
            "Te-131mの物理学的半減期：30.0時間\n",
            "Te-131mの物理学的壊変定数：0.0231/時間\n"
          ],
          "name": "stdout"
        }
      ]
    },
    {
      "cell_type": "code",
      "metadata": {
        "id": "cU0QcGV2VB4B",
        "outputId": "59ebd3c5-ad6d-404b-a26d-1f207cdf4f8a",
        "colab": {
          "base_uri": "https://localhost:8080/",
          "height": 69
        }
      },
      "source": [
        "i131_half_life_phy = 8.  # 日\n",
        "i131_half_life_phy_in_hour = i131_half_life_phy * 24  # 時間\n",
        "i131_dec_const_phy_in_hour = np.log(2) / i131_half_life_phy_in_hour\n",
        "print('I-131の物理学的半減期：{:.1f}日'.format(i131_half_life_phy))\n",
        "print('I-131の物理学的半減期：{:.1f}時間'.format(i131_half_life_phy_in_hour))\n",
        "print('I-131の物理学的壊変定数：{:.4f}/時間'.format(i131_dec_const_phy_in_hour))"
      ],
      "execution_count": null,
      "outputs": [
        {
          "output_type": "stream",
          "text": [
            "I-131の物理学的半減期：8.0日\n",
            "I-131の物理学的半減期：192.0時間\n",
            "I-131の物理学的壊変定数：0.0036/時間\n"
          ],
          "name": "stdout"
        }
      ]
    },
    {
      "cell_type": "markdown",
      "metadata": {
        "id": "wnKI7zcqVv2-"
      },
      "source": [
        "である。$\\lambda_{1} > \\lambda_{2}$であることが分かる。"
      ]
    },
    {
      "cell_type": "markdown",
      "metadata": {
        "id": "crDnvLsTVv8P"
      },
      "source": [
        "今、$t = 0$での初期放射能$A_{1}(0) = 100$ MBq、$A_{2}(0) = 0$ MBqを仮定し、$A_{1}(t)$と$A_{2}(t)$を計算すると以下の通りである。また、$^{131\\mathrm{m}}$Teの$^{131}$Iへのbranching ratioは$B = 0.778$である。"
      ]
    },
    {
      "cell_type": "code",
      "metadata": {
        "id": "vOFmE_oFVyoq",
        "outputId": "5d6903af-9d19-4f7f-e53d-17fe9f131865",
        "colab": {
          "base_uri": "https://localhost:8080/",
          "height": 495
        }
      },
      "source": [
        "t = np.arange(601)  # 0~600時間\n",
        "\n",
        "a10 = 100  # MBq\n",
        "a20 = 0\n",
        "b = 0.778  # Te-131mのI-131に壊変率\n",
        "\n",
        "a1 = decay(a10, te131m_dec_const_phy, t)\n",
        "a2 = get_daughter_act(a10, te131m_dec_const_phy, i131_dec_const_phy_in_hour,\n",
        "                      b, t)\n",
        "a2_over_a1 = a2 / a1\n",
        "lambda2_exp_dec = np.exp(-i131_dec_const_phy_in_hour * t)\n",
        "\n",
        "df = pd.DataFrame({'時間[時間]': t,\n",
        "                   'Te-131m放射能[MBq]': a1,\n",
        "                   'I-131放射能[MBq]': a2,\n",
        "                   'I-131放射能 / Te-131m放射能': a2_over_a1,\n",
        "                   'exp(-lambda_{2} * t)': lambda2_exp_dec})\n",
        "df"
      ],
      "execution_count": null,
      "outputs": [
        {
          "output_type": "execute_result",
          "data": {
            "text/html": [
              "<div>\n",
              "<style scoped>\n",
              "    .dataframe tbody tr th:only-of-type {\n",
              "        vertical-align: middle;\n",
              "    }\n",
              "\n",
              "    .dataframe tbody tr th {\n",
              "        vertical-align: top;\n",
              "    }\n",
              "\n",
              "    .dataframe thead th {\n",
              "        text-align: right;\n",
              "    }\n",
              "</style>\n",
              "<table border=\"1\" class=\"dataframe\">\n",
              "  <thead>\n",
              "    <tr style=\"text-align: right;\">\n",
              "      <th></th>\n",
              "      <th>時間[時間]</th>\n",
              "      <th>Te-131m放射能[MBq]</th>\n",
              "      <th>I-131放射能[MBq]</th>\n",
              "      <th>I-131放射能 / Te-131m放射能</th>\n",
              "      <th>exp(-lambda_{2} * t)</th>\n",
              "    </tr>\n",
              "  </thead>\n",
              "  <tbody>\n",
              "    <tr>\n",
              "      <th>0</th>\n",
              "      <td>0</td>\n",
              "      <td>100.000000</td>\n",
              "      <td>0.000000</td>\n",
              "      <td>0.000000</td>\n",
              "      <td>1.000000</td>\n",
              "    </tr>\n",
              "    <tr>\n",
              "      <th>1</th>\n",
              "      <td>1</td>\n",
              "      <td>97.715997</td>\n",
              "      <td>0.277147</td>\n",
              "      <td>0.002836</td>\n",
              "      <td>0.996396</td>\n",
              "    </tr>\n",
              "    <tr>\n",
              "      <th>2</th>\n",
              "      <td>2</td>\n",
              "      <td>95.484160</td>\n",
              "      <td>0.546964</td>\n",
              "      <td>0.005728</td>\n",
              "      <td>0.992806</td>\n",
              "    </tr>\n",
              "    <tr>\n",
              "      <th>3</th>\n",
              "      <td>3</td>\n",
              "      <td>93.303299</td>\n",
              "      <td>0.809625</td>\n",
              "      <td>0.008677</td>\n",
              "      <td>0.989228</td>\n",
              "    </tr>\n",
              "    <tr>\n",
              "      <th>4</th>\n",
              "      <td>4</td>\n",
              "      <td>91.172249</td>\n",
              "      <td>1.065294</td>\n",
              "      <td>0.011684</td>\n",
              "      <td>0.985663</td>\n",
              "    </tr>\n",
              "    <tr>\n",
              "      <th>...</th>\n",
              "      <td>...</td>\n",
              "      <td>...</td>\n",
              "      <td>...</td>\n",
              "      <td>...</td>\n",
              "      <td>...</td>\n",
              "    </tr>\n",
              "    <tr>\n",
              "      <th>596</th>\n",
              "      <td>596</td>\n",
              "      <td>0.000105</td>\n",
              "      <td>1.675462</td>\n",
              "      <td>16017.592222</td>\n",
              "      <td>0.116293</td>\n",
              "    </tr>\n",
              "    <tr>\n",
              "      <th>597</th>\n",
              "      <td>597</td>\n",
              "      <td>0.000102</td>\n",
              "      <td>1.669425</td>\n",
              "      <td>16332.917831</td>\n",
              "      <td>0.115874</td>\n",
              "    </tr>\n",
              "    <tr>\n",
              "      <th>598</th>\n",
              "      <td>598</td>\n",
              "      <td>0.000100</td>\n",
              "      <td>1.663409</td>\n",
              "      <td>16654.450949</td>\n",
              "      <td>0.115456</td>\n",
              "    </tr>\n",
              "    <tr>\n",
              "      <th>599</th>\n",
              "      <td>599</td>\n",
              "      <td>0.000098</td>\n",
              "      <td>1.657415</td>\n",
              "      <td>16982.313776</td>\n",
              "      <td>0.115040</td>\n",
              "    </tr>\n",
              "    <tr>\n",
              "      <th>600</th>\n",
              "      <td>600</td>\n",
              "      <td>0.000095</td>\n",
              "      <td>1.651443</td>\n",
              "      <td>17316.630921</td>\n",
              "      <td>0.114626</td>\n",
              "    </tr>\n",
              "  </tbody>\n",
              "</table>\n",
              "<p>601 rows × 5 columns</p>\n",
              "</div>"
            ],
            "text/plain": [
              "     時間[時間]  Te-131m放射能[MBq]  ...  I-131放射能 / Te-131m放射能  exp(-lambda_{2} * t)\n",
              "0         0       100.000000  ...               0.000000              1.000000\n",
              "1         1        97.715997  ...               0.002836              0.996396\n",
              "2         2        95.484160  ...               0.005728              0.992806\n",
              "3         3        93.303299  ...               0.008677              0.989228\n",
              "4         4        91.172249  ...               0.011684              0.985663\n",
              "..      ...              ...  ...                    ...                   ...\n",
              "596     596         0.000105  ...           16017.592222              0.116293\n",
              "597     597         0.000102  ...           16332.917831              0.115874\n",
              "598     598         0.000100  ...           16654.450949              0.115456\n",
              "599     599         0.000098  ...           16982.313776              0.115040\n",
              "600     600         0.000095  ...           17316.630921              0.114626\n",
              "\n",
              "[601 rows x 5 columns]"
            ]
          },
          "metadata": {
            "tags": []
          },
          "execution_count": 27
        }
      ]
    },
    {
      "cell_type": "markdown",
      "metadata": {
        "id": "20oxhwO-W1b8"
      },
      "source": [
        "上記の計算結果をグラフで表示する。"
      ]
    },
    {
      "cell_type": "code",
      "metadata": {
        "id": "4ymu3VuTW5Ca",
        "outputId": "56269a4d-6e7c-4a5a-8789-fab4b41b5b56",
        "colab": {
          "base_uri": "https://localhost:8080/",
          "height": 413
        }
      },
      "source": [
        "fig, ax = plt.subplots()\n",
        "xlab = 'Elapsed time (h)'\n",
        "ylab = r'Activity (MBq)'\n",
        "ylab2 = 'Ratio or exp()'\n",
        "\n",
        "# プロッティング\n",
        "plt_act(ax, t, a1,\n",
        "        is_set_xlim=True, xmin=0, xmax=600,\n",
        "        is_set_ylim=True, ymin=0, ymax=120,\n",
        "        xlab=xlab, ylab=ylab, lab=r'$^{131m}$Te activity')\n",
        "plt_act(ax, t, a2,\n",
        "        is_set_xlim=True, xmin=0, xmax=600,\n",
        "        is_set_ylim=True, ymin=0, ymax=120,\n",
        "        xlab=xlab, ylab=ylab, lab=r'$^{131}$I activity',\n",
        "        lc='red')\n",
        "ax.legend(loc='center right')\n",
        "ax2 = ax.twinx()\n",
        "plt_act(ax2, t, a2_over_a1,\n",
        "        is_set_xlim=True, xmin=0, xmax=600,\n",
        "        is_set_ylim=True, ymin=0, ymax=1.2,\n",
        "        xlab=xlab, ylab=ylab2,\n",
        "        lab=r'Ratio between $^{131}$I and $^{131m}$Te activities',\n",
        "        lc='black', ls='--')\n",
        "plt_act(ax2, t, lambda2_exp_dec,\n",
        "        is_set_xlim=True, xmin=0, xmax=600,\n",
        "        is_set_ylim=True, ymin=0, ymax=1.2,\n",
        "        xlab=xlab, ylab=ylab2, lab=r'$\\exp(-\\lambda_{\\mathrm{I-131}} t)$',\n",
        "        lc='black', ls='dotted')\n",
        "ax2.legend()\n",
        "\n",
        "# ポスト処理\n",
        "fig.tight_layout()"
      ],
      "execution_count": null,
      "outputs": [
        {
          "output_type": "display_data",
          "data": {
            "text/plain": [
              "<Figure size 432x288 with 2 Axes>"
            ],
            "image/svg+xml": "<?xml version=\"1.0\" encoding=\"utf-8\" standalone=\"no\"?>\n<!DOCTYPE svg PUBLIC \"-//W3C//DTD SVG 1.1//EN\"\n  \"http://www.w3.org/Graphics/SVG/1.1/DTD/svg11.dtd\">\n<!-- Created with matplotlib (https://matplotlib.org/) -->\n<svg height=\"278.891094pt\" version=\"1.1\" viewBox=\"0 0 422.018125 278.891094\" width=\"422.018125pt\" xmlns=\"http://www.w3.org/2000/svg\" xmlns:xlink=\"http://www.w3.org/1999/xlink\">\n <defs>\n  <style type=\"text/css\">\n*{stroke-linecap:butt;stroke-linejoin:round;}\n  </style>\n </defs>\n <g id=\"figure_1\">\n  <g id=\"patch_1\">\n   <path d=\"M 0 278.891094 \nL 422.018125 278.891094 \nL 422.018125 0 \nL 0 0 \nz\n\" style=\"fill:#ffffff;\"/>\n  </g>\n  <g id=\"axes_1\">\n   <g id=\"patch_2\">\n    <path d=\"M 48.90125 239.399219 \nL 376.30125 239.399219 \nL 376.30125 10.999219 \nL 48.90125 10.999219 \nz\n\" style=\"fill:#e5e5e5;\"/>\n   </g>\n   <g id=\"matplotlib.axis_1\">\n    <g id=\"xtick_1\">\n     <g id=\"line2d_1\">\n      <path clip-path=\"url(#p238010767c)\" d=\"M 48.90125 239.399219 \nL 48.90125 10.999219 \n\" style=\"fill:none;stroke:#ffffff;stroke-linecap:square;stroke-width:0.8;\"/>\n     </g>\n     <g id=\"line2d_2\">\n      <defs>\n       <path d=\"M 0 0 \nL 0 3.5 \n\" id=\"m4e7af5dc6e\" style=\"stroke:#555555;stroke-width:0.8;\"/>\n      </defs>\n      <g>\n       <use style=\"fill:#555555;stroke:#555555;stroke-width:0.8;\" x=\"48.90125\" xlink:href=\"#m4e7af5dc6e\" y=\"239.399219\"/>\n      </g>\n     </g>\n     <g id=\"text_1\">\n      <!-- 0 -->\n      <defs>\n       <path d=\"M 31.78125 66.40625 \nQ 24.171875 66.40625 20.328125 58.90625 \nQ 16.5 51.421875 16.5 36.375 \nQ 16.5 21.390625 20.328125 13.890625 \nQ 24.171875 6.390625 31.78125 6.390625 \nQ 39.453125 6.390625 43.28125 13.890625 \nQ 47.125 21.390625 47.125 36.375 \nQ 47.125 51.421875 43.28125 58.90625 \nQ 39.453125 66.40625 31.78125 66.40625 \nz\nM 31.78125 74.21875 \nQ 44.046875 74.21875 50.515625 64.515625 \nQ 56.984375 54.828125 56.984375 36.375 \nQ 56.984375 17.96875 50.515625 8.265625 \nQ 44.046875 -1.421875 31.78125 -1.421875 \nQ 19.53125 -1.421875 13.0625 8.265625 \nQ 6.59375 17.96875 6.59375 36.375 \nQ 6.59375 54.828125 13.0625 64.515625 \nQ 19.53125 74.21875 31.78125 74.21875 \nz\n\" id=\"DejaVuSans-48\"/>\n      </defs>\n      <g style=\"fill:#555555;\" transform=\"translate(45.72 253.997656)scale(0.1 -0.1)\">\n       <use xlink:href=\"#DejaVuSans-48\"/>\n      </g>\n     </g>\n    </g>\n    <g id=\"xtick_2\">\n     <g id=\"line2d_3\">\n      <path clip-path=\"url(#p238010767c)\" d=\"M 103.467917 239.399219 \nL 103.467917 10.999219 \n\" style=\"fill:none;stroke:#ffffff;stroke-linecap:square;stroke-width:0.8;\"/>\n     </g>\n     <g id=\"line2d_4\">\n      <g>\n       <use style=\"fill:#555555;stroke:#555555;stroke-width:0.8;\" x=\"103.467917\" xlink:href=\"#m4e7af5dc6e\" y=\"239.399219\"/>\n      </g>\n     </g>\n     <g id=\"text_2\">\n      <!-- 100 -->\n      <defs>\n       <path d=\"M 12.40625 8.296875 \nL 28.515625 8.296875 \nL 28.515625 63.921875 \nL 10.984375 60.40625 \nL 10.984375 69.390625 \nL 28.421875 72.90625 \nL 38.28125 72.90625 \nL 38.28125 8.296875 \nL 54.390625 8.296875 \nL 54.390625 0 \nL 12.40625 0 \nz\n\" id=\"DejaVuSans-49\"/>\n      </defs>\n      <g style=\"fill:#555555;\" transform=\"translate(93.924167 253.997656)scale(0.1 -0.1)\">\n       <use xlink:href=\"#DejaVuSans-49\"/>\n       <use x=\"63.623047\" xlink:href=\"#DejaVuSans-48\"/>\n       <use x=\"127.246094\" xlink:href=\"#DejaVuSans-48\"/>\n      </g>\n     </g>\n    </g>\n    <g id=\"xtick_3\">\n     <g id=\"line2d_5\">\n      <path clip-path=\"url(#p238010767c)\" d=\"M 158.034583 239.399219 \nL 158.034583 10.999219 \n\" style=\"fill:none;stroke:#ffffff;stroke-linecap:square;stroke-width:0.8;\"/>\n     </g>\n     <g id=\"line2d_6\">\n      <g>\n       <use style=\"fill:#555555;stroke:#555555;stroke-width:0.8;\" x=\"158.034583\" xlink:href=\"#m4e7af5dc6e\" y=\"239.399219\"/>\n      </g>\n     </g>\n     <g id=\"text_3\">\n      <!-- 200 -->\n      <defs>\n       <path d=\"M 19.1875 8.296875 \nL 53.609375 8.296875 \nL 53.609375 0 \nL 7.328125 0 \nL 7.328125 8.296875 \nQ 12.9375 14.109375 22.625 23.890625 \nQ 32.328125 33.6875 34.8125 36.53125 \nQ 39.546875 41.84375 41.421875 45.53125 \nQ 43.3125 49.21875 43.3125 52.78125 \nQ 43.3125 58.59375 39.234375 62.25 \nQ 35.15625 65.921875 28.609375 65.921875 \nQ 23.96875 65.921875 18.8125 64.3125 \nQ 13.671875 62.703125 7.8125 59.421875 \nL 7.8125 69.390625 \nQ 13.765625 71.78125 18.9375 73 \nQ 24.125 74.21875 28.421875 74.21875 \nQ 39.75 74.21875 46.484375 68.546875 \nQ 53.21875 62.890625 53.21875 53.421875 \nQ 53.21875 48.921875 51.53125 44.890625 \nQ 49.859375 40.875 45.40625 35.40625 \nQ 44.1875 33.984375 37.640625 27.21875 \nQ 31.109375 20.453125 19.1875 8.296875 \nz\n\" id=\"DejaVuSans-50\"/>\n      </defs>\n      <g style=\"fill:#555555;\" transform=\"translate(148.490833 253.997656)scale(0.1 -0.1)\">\n       <use xlink:href=\"#DejaVuSans-50\"/>\n       <use x=\"63.623047\" xlink:href=\"#DejaVuSans-48\"/>\n       <use x=\"127.246094\" xlink:href=\"#DejaVuSans-48\"/>\n      </g>\n     </g>\n    </g>\n    <g id=\"xtick_4\">\n     <g id=\"line2d_7\">\n      <path clip-path=\"url(#p238010767c)\" d=\"M 212.60125 239.399219 \nL 212.60125 10.999219 \n\" style=\"fill:none;stroke:#ffffff;stroke-linecap:square;stroke-width:0.8;\"/>\n     </g>\n     <g id=\"line2d_8\">\n      <g>\n       <use style=\"fill:#555555;stroke:#555555;stroke-width:0.8;\" x=\"212.60125\" xlink:href=\"#m4e7af5dc6e\" y=\"239.399219\"/>\n      </g>\n     </g>\n     <g id=\"text_4\">\n      <!-- 300 -->\n      <defs>\n       <path d=\"M 40.578125 39.3125 \nQ 47.65625 37.796875 51.625 33 \nQ 55.609375 28.21875 55.609375 21.1875 \nQ 55.609375 10.40625 48.1875 4.484375 \nQ 40.765625 -1.421875 27.09375 -1.421875 \nQ 22.515625 -1.421875 17.65625 -0.515625 \nQ 12.796875 0.390625 7.625 2.203125 \nL 7.625 11.71875 \nQ 11.71875 9.328125 16.59375 8.109375 \nQ 21.484375 6.890625 26.8125 6.890625 \nQ 36.078125 6.890625 40.9375 10.546875 \nQ 45.796875 14.203125 45.796875 21.1875 \nQ 45.796875 27.640625 41.28125 31.265625 \nQ 36.765625 34.90625 28.71875 34.90625 \nL 20.21875 34.90625 \nL 20.21875 43.015625 \nL 29.109375 43.015625 \nQ 36.375 43.015625 40.234375 45.921875 \nQ 44.09375 48.828125 44.09375 54.296875 \nQ 44.09375 59.90625 40.109375 62.90625 \nQ 36.140625 65.921875 28.71875 65.921875 \nQ 24.65625 65.921875 20.015625 65.03125 \nQ 15.375 64.15625 9.8125 62.3125 \nL 9.8125 71.09375 \nQ 15.4375 72.65625 20.34375 73.4375 \nQ 25.25 74.21875 29.59375 74.21875 \nQ 40.828125 74.21875 47.359375 69.109375 \nQ 53.90625 64.015625 53.90625 55.328125 \nQ 53.90625 49.265625 50.4375 45.09375 \nQ 46.96875 40.921875 40.578125 39.3125 \nz\n\" id=\"DejaVuSans-51\"/>\n      </defs>\n      <g style=\"fill:#555555;\" transform=\"translate(203.0575 253.997656)scale(0.1 -0.1)\">\n       <use xlink:href=\"#DejaVuSans-51\"/>\n       <use x=\"63.623047\" xlink:href=\"#DejaVuSans-48\"/>\n       <use x=\"127.246094\" xlink:href=\"#DejaVuSans-48\"/>\n      </g>\n     </g>\n    </g>\n    <g id=\"xtick_5\">\n     <g id=\"line2d_9\">\n      <path clip-path=\"url(#p238010767c)\" d=\"M 267.167917 239.399219 \nL 267.167917 10.999219 \n\" style=\"fill:none;stroke:#ffffff;stroke-linecap:square;stroke-width:0.8;\"/>\n     </g>\n     <g id=\"line2d_10\">\n      <g>\n       <use style=\"fill:#555555;stroke:#555555;stroke-width:0.8;\" x=\"267.167917\" xlink:href=\"#m4e7af5dc6e\" y=\"239.399219\"/>\n      </g>\n     </g>\n     <g id=\"text_5\">\n      <!-- 400 -->\n      <defs>\n       <path d=\"M 37.796875 64.3125 \nL 12.890625 25.390625 \nL 37.796875 25.390625 \nz\nM 35.203125 72.90625 \nL 47.609375 72.90625 \nL 47.609375 25.390625 \nL 58.015625 25.390625 \nL 58.015625 17.1875 \nL 47.609375 17.1875 \nL 47.609375 0 \nL 37.796875 0 \nL 37.796875 17.1875 \nL 4.890625 17.1875 \nL 4.890625 26.703125 \nz\n\" id=\"DejaVuSans-52\"/>\n      </defs>\n      <g style=\"fill:#555555;\" transform=\"translate(257.624167 253.997656)scale(0.1 -0.1)\">\n       <use xlink:href=\"#DejaVuSans-52\"/>\n       <use x=\"63.623047\" xlink:href=\"#DejaVuSans-48\"/>\n       <use x=\"127.246094\" xlink:href=\"#DejaVuSans-48\"/>\n      </g>\n     </g>\n    </g>\n    <g id=\"xtick_6\">\n     <g id=\"line2d_11\">\n      <path clip-path=\"url(#p238010767c)\" d=\"M 321.734583 239.399219 \nL 321.734583 10.999219 \n\" style=\"fill:none;stroke:#ffffff;stroke-linecap:square;stroke-width:0.8;\"/>\n     </g>\n     <g id=\"line2d_12\">\n      <g>\n       <use style=\"fill:#555555;stroke:#555555;stroke-width:0.8;\" x=\"321.734583\" xlink:href=\"#m4e7af5dc6e\" y=\"239.399219\"/>\n      </g>\n     </g>\n     <g id=\"text_6\">\n      <!-- 500 -->\n      <defs>\n       <path d=\"M 10.796875 72.90625 \nL 49.515625 72.90625 \nL 49.515625 64.59375 \nL 19.828125 64.59375 \nL 19.828125 46.734375 \nQ 21.96875 47.46875 24.109375 47.828125 \nQ 26.265625 48.1875 28.421875 48.1875 \nQ 40.625 48.1875 47.75 41.5 \nQ 54.890625 34.8125 54.890625 23.390625 \nQ 54.890625 11.625 47.5625 5.09375 \nQ 40.234375 -1.421875 26.90625 -1.421875 \nQ 22.3125 -1.421875 17.546875 -0.640625 \nQ 12.796875 0.140625 7.71875 1.703125 \nL 7.71875 11.625 \nQ 12.109375 9.234375 16.796875 8.0625 \nQ 21.484375 6.890625 26.703125 6.890625 \nQ 35.15625 6.890625 40.078125 11.328125 \nQ 45.015625 15.765625 45.015625 23.390625 \nQ 45.015625 31 40.078125 35.4375 \nQ 35.15625 39.890625 26.703125 39.890625 \nQ 22.75 39.890625 18.8125 39.015625 \nQ 14.890625 38.140625 10.796875 36.28125 \nz\n\" id=\"DejaVuSans-53\"/>\n      </defs>\n      <g style=\"fill:#555555;\" transform=\"translate(312.190833 253.997656)scale(0.1 -0.1)\">\n       <use xlink:href=\"#DejaVuSans-53\"/>\n       <use x=\"63.623047\" xlink:href=\"#DejaVuSans-48\"/>\n       <use x=\"127.246094\" xlink:href=\"#DejaVuSans-48\"/>\n      </g>\n     </g>\n    </g>\n    <g id=\"xtick_7\">\n     <g id=\"line2d_13\">\n      <path clip-path=\"url(#p238010767c)\" d=\"M 376.30125 239.399219 \nL 376.30125 10.999219 \n\" style=\"fill:none;stroke:#ffffff;stroke-linecap:square;stroke-width:0.8;\"/>\n     </g>\n     <g id=\"line2d_14\">\n      <g>\n       <use style=\"fill:#555555;stroke:#555555;stroke-width:0.8;\" x=\"376.30125\" xlink:href=\"#m4e7af5dc6e\" y=\"239.399219\"/>\n      </g>\n     </g>\n     <g id=\"text_7\">\n      <!-- 600 -->\n      <defs>\n       <path d=\"M 33.015625 40.375 \nQ 26.375 40.375 22.484375 35.828125 \nQ 18.609375 31.296875 18.609375 23.390625 \nQ 18.609375 15.53125 22.484375 10.953125 \nQ 26.375 6.390625 33.015625 6.390625 \nQ 39.65625 6.390625 43.53125 10.953125 \nQ 47.40625 15.53125 47.40625 23.390625 \nQ 47.40625 31.296875 43.53125 35.828125 \nQ 39.65625 40.375 33.015625 40.375 \nz\nM 52.59375 71.296875 \nL 52.59375 62.3125 \nQ 48.875 64.0625 45.09375 64.984375 \nQ 41.3125 65.921875 37.59375 65.921875 \nQ 27.828125 65.921875 22.671875 59.328125 \nQ 17.53125 52.734375 16.796875 39.40625 \nQ 19.671875 43.65625 24.015625 45.921875 \nQ 28.375 48.1875 33.59375 48.1875 \nQ 44.578125 48.1875 50.953125 41.515625 \nQ 57.328125 34.859375 57.328125 23.390625 \nQ 57.328125 12.15625 50.6875 5.359375 \nQ 44.046875 -1.421875 33.015625 -1.421875 \nQ 20.359375 -1.421875 13.671875 8.265625 \nQ 6.984375 17.96875 6.984375 36.375 \nQ 6.984375 53.65625 15.1875 63.9375 \nQ 23.390625 74.21875 37.203125 74.21875 \nQ 40.921875 74.21875 44.703125 73.484375 \nQ 48.484375 72.75 52.59375 71.296875 \nz\n\" id=\"DejaVuSans-54\"/>\n      </defs>\n      <g style=\"fill:#555555;\" transform=\"translate(366.7575 253.997656)scale(0.1 -0.1)\">\n       <use xlink:href=\"#DejaVuSans-54\"/>\n       <use x=\"63.623047\" xlink:href=\"#DejaVuSans-48\"/>\n       <use x=\"127.246094\" xlink:href=\"#DejaVuSans-48\"/>\n      </g>\n     </g>\n    </g>\n    <g id=\"text_8\">\n     <!-- Elapsed time (h) -->\n     <defs>\n      <path d=\"M 9.8125 72.90625 \nL 55.90625 72.90625 \nL 55.90625 64.59375 \nL 19.671875 64.59375 \nL 19.671875 43.015625 \nL 54.390625 43.015625 \nL 54.390625 34.71875 \nL 19.671875 34.71875 \nL 19.671875 8.296875 \nL 56.78125 8.296875 \nL 56.78125 0 \nL 9.8125 0 \nz\n\" id=\"DejaVuSans-69\"/>\n      <path d=\"M 9.421875 75.984375 \nL 18.40625 75.984375 \nL 18.40625 0 \nL 9.421875 0 \nz\n\" id=\"DejaVuSans-108\"/>\n      <path d=\"M 34.28125 27.484375 \nQ 23.390625 27.484375 19.1875 25 \nQ 14.984375 22.515625 14.984375 16.5 \nQ 14.984375 11.71875 18.140625 8.90625 \nQ 21.296875 6.109375 26.703125 6.109375 \nQ 34.1875 6.109375 38.703125 11.40625 \nQ 43.21875 16.703125 43.21875 25.484375 \nL 43.21875 27.484375 \nz\nM 52.203125 31.203125 \nL 52.203125 0 \nL 43.21875 0 \nL 43.21875 8.296875 \nQ 40.140625 3.328125 35.546875 0.953125 \nQ 30.953125 -1.421875 24.3125 -1.421875 \nQ 15.921875 -1.421875 10.953125 3.296875 \nQ 6 8.015625 6 15.921875 \nQ 6 25.140625 12.171875 29.828125 \nQ 18.359375 34.515625 30.609375 34.515625 \nL 43.21875 34.515625 \nL 43.21875 35.40625 \nQ 43.21875 41.609375 39.140625 45 \nQ 35.0625 48.390625 27.6875 48.390625 \nQ 23 48.390625 18.546875 47.265625 \nQ 14.109375 46.140625 10.015625 43.890625 \nL 10.015625 52.203125 \nQ 14.9375 54.109375 19.578125 55.046875 \nQ 24.21875 56 28.609375 56 \nQ 40.484375 56 46.34375 49.84375 \nQ 52.203125 43.703125 52.203125 31.203125 \nz\n\" id=\"DejaVuSans-97\"/>\n      <path d=\"M 18.109375 8.203125 \nL 18.109375 -20.796875 \nL 9.078125 -20.796875 \nL 9.078125 54.6875 \nL 18.109375 54.6875 \nL 18.109375 46.390625 \nQ 20.953125 51.265625 25.265625 53.625 \nQ 29.59375 56 35.59375 56 \nQ 45.5625 56 51.78125 48.09375 \nQ 58.015625 40.1875 58.015625 27.296875 \nQ 58.015625 14.40625 51.78125 6.484375 \nQ 45.5625 -1.421875 35.59375 -1.421875 \nQ 29.59375 -1.421875 25.265625 0.953125 \nQ 20.953125 3.328125 18.109375 8.203125 \nz\nM 48.6875 27.296875 \nQ 48.6875 37.203125 44.609375 42.84375 \nQ 40.53125 48.484375 33.40625 48.484375 \nQ 26.265625 48.484375 22.1875 42.84375 \nQ 18.109375 37.203125 18.109375 27.296875 \nQ 18.109375 17.390625 22.1875 11.75 \nQ 26.265625 6.109375 33.40625 6.109375 \nQ 40.53125 6.109375 44.609375 11.75 \nQ 48.6875 17.390625 48.6875 27.296875 \nz\n\" id=\"DejaVuSans-112\"/>\n      <path d=\"M 44.28125 53.078125 \nL 44.28125 44.578125 \nQ 40.484375 46.53125 36.375 47.5 \nQ 32.28125 48.484375 27.875 48.484375 \nQ 21.1875 48.484375 17.84375 46.4375 \nQ 14.5 44.390625 14.5 40.28125 \nQ 14.5 37.15625 16.890625 35.375 \nQ 19.28125 33.59375 26.515625 31.984375 \nL 29.59375 31.296875 \nQ 39.15625 29.25 43.1875 25.515625 \nQ 47.21875 21.78125 47.21875 15.09375 \nQ 47.21875 7.46875 41.1875 3.015625 \nQ 35.15625 -1.421875 24.609375 -1.421875 \nQ 20.21875 -1.421875 15.453125 -0.5625 \nQ 10.6875 0.296875 5.421875 2 \nL 5.421875 11.28125 \nQ 10.40625 8.6875 15.234375 7.390625 \nQ 20.0625 6.109375 24.8125 6.109375 \nQ 31.15625 6.109375 34.5625 8.28125 \nQ 37.984375 10.453125 37.984375 14.40625 \nQ 37.984375 18.0625 35.515625 20.015625 \nQ 33.0625 21.96875 24.703125 23.78125 \nL 21.578125 24.515625 \nQ 13.234375 26.265625 9.515625 29.90625 \nQ 5.8125 33.546875 5.8125 39.890625 \nQ 5.8125 47.609375 11.28125 51.796875 \nQ 16.75 56 26.8125 56 \nQ 31.78125 56 36.171875 55.265625 \nQ 40.578125 54.546875 44.28125 53.078125 \nz\n\" id=\"DejaVuSans-115\"/>\n      <path d=\"M 56.203125 29.59375 \nL 56.203125 25.203125 \nL 14.890625 25.203125 \nQ 15.484375 15.921875 20.484375 11.0625 \nQ 25.484375 6.203125 34.421875 6.203125 \nQ 39.59375 6.203125 44.453125 7.46875 \nQ 49.3125 8.734375 54.109375 11.28125 \nL 54.109375 2.78125 \nQ 49.265625 0.734375 44.1875 -0.34375 \nQ 39.109375 -1.421875 33.890625 -1.421875 \nQ 20.796875 -1.421875 13.15625 6.1875 \nQ 5.515625 13.8125 5.515625 26.8125 \nQ 5.515625 40.234375 12.765625 48.109375 \nQ 20.015625 56 32.328125 56 \nQ 43.359375 56 49.78125 48.890625 \nQ 56.203125 41.796875 56.203125 29.59375 \nz\nM 47.21875 32.234375 \nQ 47.125 39.59375 43.09375 43.984375 \nQ 39.0625 48.390625 32.421875 48.390625 \nQ 24.90625 48.390625 20.390625 44.140625 \nQ 15.875 39.890625 15.1875 32.171875 \nz\n\" id=\"DejaVuSans-101\"/>\n      <path d=\"M 45.40625 46.390625 \nL 45.40625 75.984375 \nL 54.390625 75.984375 \nL 54.390625 0 \nL 45.40625 0 \nL 45.40625 8.203125 \nQ 42.578125 3.328125 38.25 0.953125 \nQ 33.9375 -1.421875 27.875 -1.421875 \nQ 17.96875 -1.421875 11.734375 6.484375 \nQ 5.515625 14.40625 5.515625 27.296875 \nQ 5.515625 40.1875 11.734375 48.09375 \nQ 17.96875 56 27.875 56 \nQ 33.9375 56 38.25 53.625 \nQ 42.578125 51.265625 45.40625 46.390625 \nz\nM 14.796875 27.296875 \nQ 14.796875 17.390625 18.875 11.75 \nQ 22.953125 6.109375 30.078125 6.109375 \nQ 37.203125 6.109375 41.296875 11.75 \nQ 45.40625 17.390625 45.40625 27.296875 \nQ 45.40625 37.203125 41.296875 42.84375 \nQ 37.203125 48.484375 30.078125 48.484375 \nQ 22.953125 48.484375 18.875 42.84375 \nQ 14.796875 37.203125 14.796875 27.296875 \nz\n\" id=\"DejaVuSans-100\"/>\n      <path id=\"DejaVuSans-32\"/>\n      <path d=\"M 18.3125 70.21875 \nL 18.3125 54.6875 \nL 36.8125 54.6875 \nL 36.8125 47.703125 \nL 18.3125 47.703125 \nL 18.3125 18.015625 \nQ 18.3125 11.328125 20.140625 9.421875 \nQ 21.96875 7.515625 27.59375 7.515625 \nL 36.8125 7.515625 \nL 36.8125 0 \nL 27.59375 0 \nQ 17.1875 0 13.234375 3.875 \nQ 9.28125 7.765625 9.28125 18.015625 \nL 9.28125 47.703125 \nL 2.6875 47.703125 \nL 2.6875 54.6875 \nL 9.28125 54.6875 \nL 9.28125 70.21875 \nz\n\" id=\"DejaVuSans-116\"/>\n      <path d=\"M 9.421875 54.6875 \nL 18.40625 54.6875 \nL 18.40625 0 \nL 9.421875 0 \nz\nM 9.421875 75.984375 \nL 18.40625 75.984375 \nL 18.40625 64.59375 \nL 9.421875 64.59375 \nz\n\" id=\"DejaVuSans-105\"/>\n      <path d=\"M 52 44.1875 \nQ 55.375 50.25 60.0625 53.125 \nQ 64.75 56 71.09375 56 \nQ 79.640625 56 84.28125 50.015625 \nQ 88.921875 44.046875 88.921875 33.015625 \nL 88.921875 0 \nL 79.890625 0 \nL 79.890625 32.71875 \nQ 79.890625 40.578125 77.09375 44.375 \nQ 74.3125 48.1875 68.609375 48.1875 \nQ 61.625 48.1875 57.5625 43.546875 \nQ 53.515625 38.921875 53.515625 30.90625 \nL 53.515625 0 \nL 44.484375 0 \nL 44.484375 32.71875 \nQ 44.484375 40.625 41.703125 44.40625 \nQ 38.921875 48.1875 33.109375 48.1875 \nQ 26.21875 48.1875 22.15625 43.53125 \nQ 18.109375 38.875 18.109375 30.90625 \nL 18.109375 0 \nL 9.078125 0 \nL 9.078125 54.6875 \nL 18.109375 54.6875 \nL 18.109375 46.1875 \nQ 21.1875 51.21875 25.484375 53.609375 \nQ 29.78125 56 35.6875 56 \nQ 41.65625 56 45.828125 52.96875 \nQ 50 49.953125 52 44.1875 \nz\n\" id=\"DejaVuSans-109\"/>\n      <path d=\"M 31 75.875 \nQ 24.46875 64.65625 21.28125 53.65625 \nQ 18.109375 42.671875 18.109375 31.390625 \nQ 18.109375 20.125 21.3125 9.0625 \nQ 24.515625 -2 31 -13.1875 \nL 23.1875 -13.1875 \nQ 15.875 -1.703125 12.234375 9.375 \nQ 8.59375 20.453125 8.59375 31.390625 \nQ 8.59375 42.28125 12.203125 53.3125 \nQ 15.828125 64.359375 23.1875 75.875 \nz\n\" id=\"DejaVuSans-40\"/>\n      <path d=\"M 54.890625 33.015625 \nL 54.890625 0 \nL 45.90625 0 \nL 45.90625 32.71875 \nQ 45.90625 40.484375 42.875 44.328125 \nQ 39.84375 48.1875 33.796875 48.1875 \nQ 26.515625 48.1875 22.3125 43.546875 \nQ 18.109375 38.921875 18.109375 30.90625 \nL 18.109375 0 \nL 9.078125 0 \nL 9.078125 75.984375 \nL 18.109375 75.984375 \nL 18.109375 46.1875 \nQ 21.34375 51.125 25.703125 53.5625 \nQ 30.078125 56 35.796875 56 \nQ 45.21875 56 50.046875 50.171875 \nQ 54.890625 44.34375 54.890625 33.015625 \nz\n\" id=\"DejaVuSans-104\"/>\n      <path d=\"M 8.015625 75.875 \nL 15.828125 75.875 \nQ 23.140625 64.359375 26.78125 53.3125 \nQ 30.421875 42.28125 30.421875 31.390625 \nQ 30.421875 20.453125 26.78125 9.375 \nQ 23.140625 -1.703125 15.828125 -13.1875 \nL 8.015625 -13.1875 \nQ 14.5 -2 17.703125 9.0625 \nQ 20.90625 20.125 20.90625 31.390625 \nQ 20.90625 42.671875 17.703125 53.65625 \nQ 14.5 64.65625 8.015625 75.875 \nz\n\" id=\"DejaVuSans-41\"/>\n     </defs>\n     <g style=\"fill:#555555;\" transform=\"translate(163.177188 269.195469)scale(0.12 -0.12)\">\n      <use xlink:href=\"#DejaVuSans-69\"/>\n      <use x=\"63.183594\" xlink:href=\"#DejaVuSans-108\"/>\n      <use x=\"90.966797\" xlink:href=\"#DejaVuSans-97\"/>\n      <use x=\"152.246094\" xlink:href=\"#DejaVuSans-112\"/>\n      <use x=\"215.722656\" xlink:href=\"#DejaVuSans-115\"/>\n      <use x=\"267.822266\" xlink:href=\"#DejaVuSans-101\"/>\n      <use x=\"329.345703\" xlink:href=\"#DejaVuSans-100\"/>\n      <use x=\"392.822266\" xlink:href=\"#DejaVuSans-32\"/>\n      <use x=\"424.609375\" xlink:href=\"#DejaVuSans-116\"/>\n      <use x=\"463.818359\" xlink:href=\"#DejaVuSans-105\"/>\n      <use x=\"491.601562\" xlink:href=\"#DejaVuSans-109\"/>\n      <use x=\"589.013672\" xlink:href=\"#DejaVuSans-101\"/>\n      <use x=\"650.537109\" xlink:href=\"#DejaVuSans-32\"/>\n      <use x=\"682.324219\" xlink:href=\"#DejaVuSans-40\"/>\n      <use x=\"721.337891\" xlink:href=\"#DejaVuSans-104\"/>\n      <use x=\"784.716797\" xlink:href=\"#DejaVuSans-41\"/>\n     </g>\n    </g>\n   </g>\n   <g id=\"matplotlib.axis_2\">\n    <g id=\"ytick_1\">\n     <g id=\"line2d_15\">\n      <path clip-path=\"url(#p238010767c)\" d=\"M 48.90125 239.399219 \nL 376.30125 239.399219 \n\" style=\"fill:none;stroke:#ffffff;stroke-linecap:square;stroke-width:0.8;\"/>\n     </g>\n     <g id=\"line2d_16\">\n      <defs>\n       <path d=\"M 0 0 \nL -3.5 0 \n\" id=\"m65c135872d\" style=\"stroke:#555555;stroke-width:0.8;\"/>\n      </defs>\n      <g>\n       <use style=\"fill:#555555;stroke:#555555;stroke-width:0.8;\" x=\"48.90125\" xlink:href=\"#m65c135872d\" y=\"239.399219\"/>\n      </g>\n     </g>\n     <g id=\"text_9\">\n      <!-- 0 -->\n      <g style=\"fill:#555555;\" transform=\"translate(35.53875 243.198437)scale(0.1 -0.1)\">\n       <use xlink:href=\"#DejaVuSans-48\"/>\n      </g>\n     </g>\n    </g>\n    <g id=\"ytick_2\">\n     <g id=\"line2d_17\">\n      <path clip-path=\"url(#p238010767c)\" d=\"M 48.90125 201.332552 \nL 376.30125 201.332552 \n\" style=\"fill:none;stroke:#ffffff;stroke-linecap:square;stroke-width:0.8;\"/>\n     </g>\n     <g id=\"line2d_18\">\n      <g>\n       <use style=\"fill:#555555;stroke:#555555;stroke-width:0.8;\" x=\"48.90125\" xlink:href=\"#m65c135872d\" y=\"201.332552\"/>\n      </g>\n     </g>\n     <g id=\"text_10\">\n      <!-- 20 -->\n      <g style=\"fill:#555555;\" transform=\"translate(29.17625 205.131771)scale(0.1 -0.1)\">\n       <use xlink:href=\"#DejaVuSans-50\"/>\n       <use x=\"63.623047\" xlink:href=\"#DejaVuSans-48\"/>\n      </g>\n     </g>\n    </g>\n    <g id=\"ytick_3\">\n     <g id=\"line2d_19\">\n      <path clip-path=\"url(#p238010767c)\" d=\"M 48.90125 163.265885 \nL 376.30125 163.265885 \n\" style=\"fill:none;stroke:#ffffff;stroke-linecap:square;stroke-width:0.8;\"/>\n     </g>\n     <g id=\"line2d_20\">\n      <g>\n       <use style=\"fill:#555555;stroke:#555555;stroke-width:0.8;\" x=\"48.90125\" xlink:href=\"#m65c135872d\" y=\"163.265885\"/>\n      </g>\n     </g>\n     <g id=\"text_11\">\n      <!-- 40 -->\n      <g style=\"fill:#555555;\" transform=\"translate(29.17625 167.065104)scale(0.1 -0.1)\">\n       <use xlink:href=\"#DejaVuSans-52\"/>\n       <use x=\"63.623047\" xlink:href=\"#DejaVuSans-48\"/>\n      </g>\n     </g>\n    </g>\n    <g id=\"ytick_4\">\n     <g id=\"line2d_21\">\n      <path clip-path=\"url(#p238010767c)\" d=\"M 48.90125 125.199219 \nL 376.30125 125.199219 \n\" style=\"fill:none;stroke:#ffffff;stroke-linecap:square;stroke-width:0.8;\"/>\n     </g>\n     <g id=\"line2d_22\">\n      <g>\n       <use style=\"fill:#555555;stroke:#555555;stroke-width:0.8;\" x=\"48.90125\" xlink:href=\"#m65c135872d\" y=\"125.199219\"/>\n      </g>\n     </g>\n     <g id=\"text_12\">\n      <!-- 60 -->\n      <g style=\"fill:#555555;\" transform=\"translate(29.17625 128.998438)scale(0.1 -0.1)\">\n       <use xlink:href=\"#DejaVuSans-54\"/>\n       <use x=\"63.623047\" xlink:href=\"#DejaVuSans-48\"/>\n      </g>\n     </g>\n    </g>\n    <g id=\"ytick_5\">\n     <g id=\"line2d_23\">\n      <path clip-path=\"url(#p238010767c)\" d=\"M 48.90125 87.132552 \nL 376.30125 87.132552 \n\" style=\"fill:none;stroke:#ffffff;stroke-linecap:square;stroke-width:0.8;\"/>\n     </g>\n     <g id=\"line2d_24\">\n      <g>\n       <use style=\"fill:#555555;stroke:#555555;stroke-width:0.8;\" x=\"48.90125\" xlink:href=\"#m65c135872d\" y=\"87.132552\"/>\n      </g>\n     </g>\n     <g id=\"text_13\">\n      <!-- 80 -->\n      <defs>\n       <path d=\"M 31.78125 34.625 \nQ 24.75 34.625 20.71875 30.859375 \nQ 16.703125 27.09375 16.703125 20.515625 \nQ 16.703125 13.921875 20.71875 10.15625 \nQ 24.75 6.390625 31.78125 6.390625 \nQ 38.8125 6.390625 42.859375 10.171875 \nQ 46.921875 13.96875 46.921875 20.515625 \nQ 46.921875 27.09375 42.890625 30.859375 \nQ 38.875 34.625 31.78125 34.625 \nz\nM 21.921875 38.8125 \nQ 15.578125 40.375 12.03125 44.71875 \nQ 8.5 49.078125 8.5 55.328125 \nQ 8.5 64.0625 14.71875 69.140625 \nQ 20.953125 74.21875 31.78125 74.21875 \nQ 42.671875 74.21875 48.875 69.140625 \nQ 55.078125 64.0625 55.078125 55.328125 \nQ 55.078125 49.078125 51.53125 44.71875 \nQ 48 40.375 41.703125 38.8125 \nQ 48.828125 37.15625 52.796875 32.3125 \nQ 56.78125 27.484375 56.78125 20.515625 \nQ 56.78125 9.90625 50.3125 4.234375 \nQ 43.84375 -1.421875 31.78125 -1.421875 \nQ 19.734375 -1.421875 13.25 4.234375 \nQ 6.78125 9.90625 6.78125 20.515625 \nQ 6.78125 27.484375 10.78125 32.3125 \nQ 14.796875 37.15625 21.921875 38.8125 \nz\nM 18.3125 54.390625 \nQ 18.3125 48.734375 21.84375 45.5625 \nQ 25.390625 42.390625 31.78125 42.390625 \nQ 38.140625 42.390625 41.71875 45.5625 \nQ 45.3125 48.734375 45.3125 54.390625 \nQ 45.3125 60.0625 41.71875 63.234375 \nQ 38.140625 66.40625 31.78125 66.40625 \nQ 25.390625 66.40625 21.84375 63.234375 \nQ 18.3125 60.0625 18.3125 54.390625 \nz\n\" id=\"DejaVuSans-56\"/>\n      </defs>\n      <g style=\"fill:#555555;\" transform=\"translate(29.17625 90.931771)scale(0.1 -0.1)\">\n       <use xlink:href=\"#DejaVuSans-56\"/>\n       <use x=\"63.623047\" xlink:href=\"#DejaVuSans-48\"/>\n      </g>\n     </g>\n    </g>\n    <g id=\"ytick_6\">\n     <g id=\"line2d_25\">\n      <path clip-path=\"url(#p238010767c)\" d=\"M 48.90125 49.065885 \nL 376.30125 49.065885 \n\" style=\"fill:none;stroke:#ffffff;stroke-linecap:square;stroke-width:0.8;\"/>\n     </g>\n     <g id=\"line2d_26\">\n      <g>\n       <use style=\"fill:#555555;stroke:#555555;stroke-width:0.8;\" x=\"48.90125\" xlink:href=\"#m65c135872d\" y=\"49.065885\"/>\n      </g>\n     </g>\n     <g id=\"text_14\">\n      <!-- 100 -->\n      <g style=\"fill:#555555;\" transform=\"translate(22.81375 52.865104)scale(0.1 -0.1)\">\n       <use xlink:href=\"#DejaVuSans-49\"/>\n       <use x=\"63.623047\" xlink:href=\"#DejaVuSans-48\"/>\n       <use x=\"127.246094\" xlink:href=\"#DejaVuSans-48\"/>\n      </g>\n     </g>\n    </g>\n    <g id=\"ytick_7\">\n     <g id=\"line2d_27\">\n      <path clip-path=\"url(#p238010767c)\" d=\"M 48.90125 10.999219 \nL 376.30125 10.999219 \n\" style=\"fill:none;stroke:#ffffff;stroke-linecap:square;stroke-width:0.8;\"/>\n     </g>\n     <g id=\"line2d_28\">\n      <g>\n       <use style=\"fill:#555555;stroke:#555555;stroke-width:0.8;\" x=\"48.90125\" xlink:href=\"#m65c135872d\" y=\"10.999219\"/>\n      </g>\n     </g>\n     <g id=\"text_15\">\n      <!-- 120 -->\n      <g style=\"fill:#555555;\" transform=\"translate(22.81375 14.798438)scale(0.1 -0.1)\">\n       <use xlink:href=\"#DejaVuSans-49\"/>\n       <use x=\"63.623047\" xlink:href=\"#DejaVuSans-50\"/>\n       <use x=\"127.246094\" xlink:href=\"#DejaVuSans-48\"/>\n      </g>\n     </g>\n    </g>\n    <g id=\"text_16\">\n     <!-- Activity (MBq) -->\n     <defs>\n      <path d=\"M 34.1875 63.1875 \nL 20.796875 26.90625 \nL 47.609375 26.90625 \nz\nM 28.609375 72.90625 \nL 39.796875 72.90625 \nL 67.578125 0 \nL 57.328125 0 \nL 50.6875 18.703125 \nL 17.828125 18.703125 \nL 11.1875 0 \nL 0.78125 0 \nz\n\" id=\"DejaVuSans-65\"/>\n      <path d=\"M 48.78125 52.59375 \nL 48.78125 44.1875 \nQ 44.96875 46.296875 41.140625 47.34375 \nQ 37.3125 48.390625 33.40625 48.390625 \nQ 24.65625 48.390625 19.8125 42.84375 \nQ 14.984375 37.3125 14.984375 27.296875 \nQ 14.984375 17.28125 19.8125 11.734375 \nQ 24.65625 6.203125 33.40625 6.203125 \nQ 37.3125 6.203125 41.140625 7.25 \nQ 44.96875 8.296875 48.78125 10.40625 \nL 48.78125 2.09375 \nQ 45.015625 0.34375 40.984375 -0.53125 \nQ 36.96875 -1.421875 32.421875 -1.421875 \nQ 20.0625 -1.421875 12.78125 6.34375 \nQ 5.515625 14.109375 5.515625 27.296875 \nQ 5.515625 40.671875 12.859375 48.328125 \nQ 20.21875 56 33.015625 56 \nQ 37.15625 56 41.109375 55.140625 \nQ 45.0625 54.296875 48.78125 52.59375 \nz\n\" id=\"DejaVuSans-99\"/>\n      <path d=\"M 2.984375 54.6875 \nL 12.5 54.6875 \nL 29.59375 8.796875 \nL 46.6875 54.6875 \nL 56.203125 54.6875 \nL 35.6875 0 \nL 23.484375 0 \nz\n\" id=\"DejaVuSans-118\"/>\n      <path d=\"M 32.171875 -5.078125 \nQ 28.375 -14.84375 24.75 -17.8125 \nQ 21.140625 -20.796875 15.09375 -20.796875 \nL 7.90625 -20.796875 \nL 7.90625 -13.28125 \nL 13.1875 -13.28125 \nQ 16.890625 -13.28125 18.9375 -11.515625 \nQ 21 -9.765625 23.484375 -3.21875 \nL 25.09375 0.875 \nL 2.984375 54.6875 \nL 12.5 54.6875 \nL 29.59375 11.921875 \nL 46.6875 54.6875 \nL 56.203125 54.6875 \nz\n\" id=\"DejaVuSans-121\"/>\n      <path d=\"M 9.8125 72.90625 \nL 24.515625 72.90625 \nL 43.109375 23.296875 \nL 61.8125 72.90625 \nL 76.515625 72.90625 \nL 76.515625 0 \nL 66.890625 0 \nL 66.890625 64.015625 \nL 48.09375 14.015625 \nL 38.1875 14.015625 \nL 19.390625 64.015625 \nL 19.390625 0 \nL 9.8125 0 \nz\n\" id=\"DejaVuSans-77\"/>\n      <path d=\"M 19.671875 34.8125 \nL 19.671875 8.109375 \nL 35.5 8.109375 \nQ 43.453125 8.109375 47.28125 11.40625 \nQ 51.125 14.703125 51.125 21.484375 \nQ 51.125 28.328125 47.28125 31.5625 \nQ 43.453125 34.8125 35.5 34.8125 \nz\nM 19.671875 64.796875 \nL 19.671875 42.828125 \nL 34.28125 42.828125 \nQ 41.5 42.828125 45.03125 45.53125 \nQ 48.578125 48.25 48.578125 53.8125 \nQ 48.578125 59.328125 45.03125 62.0625 \nQ 41.5 64.796875 34.28125 64.796875 \nz\nM 9.8125 72.90625 \nL 35.015625 72.90625 \nQ 46.296875 72.90625 52.390625 68.21875 \nQ 58.5 63.53125 58.5 54.890625 \nQ 58.5 48.1875 55.375 44.234375 \nQ 52.25 40.28125 46.1875 39.3125 \nQ 53.46875 37.75 57.5 32.78125 \nQ 61.53125 27.828125 61.53125 20.40625 \nQ 61.53125 10.640625 54.890625 5.3125 \nQ 48.25 0 35.984375 0 \nL 9.8125 0 \nz\n\" id=\"DejaVuSans-66\"/>\n      <path d=\"M 14.796875 27.296875 \nQ 14.796875 17.390625 18.875 11.75 \nQ 22.953125 6.109375 30.078125 6.109375 \nQ 37.203125 6.109375 41.296875 11.75 \nQ 45.40625 17.390625 45.40625 27.296875 \nQ 45.40625 37.203125 41.296875 42.84375 \nQ 37.203125 48.484375 30.078125 48.484375 \nQ 22.953125 48.484375 18.875 42.84375 \nQ 14.796875 37.203125 14.796875 27.296875 \nz\nM 45.40625 8.203125 \nQ 42.578125 3.328125 38.25 0.953125 \nQ 33.9375 -1.421875 27.875 -1.421875 \nQ 17.96875 -1.421875 11.734375 6.484375 \nQ 5.515625 14.40625 5.515625 27.296875 \nQ 5.515625 40.1875 11.734375 48.09375 \nQ 17.96875 56 27.875 56 \nQ 33.9375 56 38.25 53.625 \nQ 42.578125 51.265625 45.40625 46.390625 \nL 45.40625 54.6875 \nL 54.390625 54.6875 \nL 54.390625 -20.796875 \nL 45.40625 -20.796875 \nz\n\" id=\"DejaVuSans-113\"/>\n     </defs>\n     <g style=\"fill:#555555;\" transform=\"translate(16.318125 167.329531)rotate(-90)scale(0.12 -0.12)\">\n      <use xlink:href=\"#DejaVuSans-65\"/>\n      <use x=\"66.658203\" xlink:href=\"#DejaVuSans-99\"/>\n      <use x=\"121.638672\" xlink:href=\"#DejaVuSans-116\"/>\n      <use x=\"160.847656\" xlink:href=\"#DejaVuSans-105\"/>\n      <use x=\"188.630859\" xlink:href=\"#DejaVuSans-118\"/>\n      <use x=\"247.810547\" xlink:href=\"#DejaVuSans-105\"/>\n      <use x=\"275.59375\" xlink:href=\"#DejaVuSans-116\"/>\n      <use x=\"314.802734\" xlink:href=\"#DejaVuSans-121\"/>\n      <use x=\"373.982422\" xlink:href=\"#DejaVuSans-32\"/>\n      <use x=\"405.769531\" xlink:href=\"#DejaVuSans-40\"/>\n      <use x=\"444.783203\" xlink:href=\"#DejaVuSans-77\"/>\n      <use x=\"531.0625\" xlink:href=\"#DejaVuSans-66\"/>\n      <use x=\"599.666016\" xlink:href=\"#DejaVuSans-113\"/>\n      <use x=\"663.142578\" xlink:href=\"#DejaVuSans-41\"/>\n     </g>\n    </g>\n   </g>\n   <g id=\"patch_3\">\n    <path d=\"M 48.90125 239.399219 \nL 48.90125 10.999219 \n\" style=\"fill:none;stroke:#ffffff;stroke-linecap:square;stroke-linejoin:miter;\"/>\n   </g>\n   <g id=\"patch_4\">\n    <path d=\"M 376.30125 239.399219 \nL 376.30125 10.999219 \n\" style=\"fill:none;stroke:#ffffff;stroke-linecap:square;stroke-linejoin:miter;\"/>\n   </g>\n   <g id=\"patch_5\">\n    <path d=\"M 48.90125 239.399219 \nL 376.30125 239.399219 \n\" style=\"fill:none;stroke:#ffffff;stroke-linecap:square;stroke-linejoin:miter;\"/>\n   </g>\n   <g id=\"patch_6\">\n    <path d=\"M 48.90125 10.999219 \nL 376.30125 10.999219 \n\" style=\"fill:none;stroke:#ffffff;stroke-linecap:square;stroke-linejoin:miter;\"/>\n   </g>\n   <g id=\"line2d_29\">\n    <path clip-path=\"url(#p238010767c)\" d=\"M 48.90125 49.065885 \nL 51.083917 65.868038 \nL 53.266583 81.186939 \nL 55.44925 95.153526 \nL 57.631917 107.887176 \nL 59.814583 119.496732 \nL 61.99725 130.081425 \nL 64.179917 139.731728 \nL 66.362583 148.530126 \nL 68.54525 156.551823 \nL 70.727917 163.865385 \nL 72.910583 170.533324 \nL 75.09325 176.612634 \nL 77.275917 182.155277 \nL 79.458583 187.20863 \nL 82.186917 192.90269 \nL 84.91525 197.975521 \nL 87.643583 202.4949 \nL 90.371917 206.521208 \nL 93.10025 210.108241 \nL 95.828583 213.303924 \nL 98.556917 216.150955 \nL 101.28525 218.68737 \nL 104.013583 220.947059 \nL 107.287583 223.335681 \nL 110.561583 225.415097 \nL 113.835583 227.225333 \nL 117.109583 228.801236 \nL 120.92925 230.383863 \nL 124.748917 231.730152 \nL 129.11425 233.0244 \nL 134.02525 234.221257 \nL 138.93625 235.193407 \nL 144.938583 236.137307 \nL 151.486583 236.927152 \nL 159.125917 237.610346 \nL 167.856583 238.163185 \nL 178.769917 238.620566 \nL 192.95725 238.972196 \nL 212.60125 239.213346 \nL 244.249917 239.350553 \nL 321.734583 239.397389 \nL 376.30125 239.399037 \nL 376.30125 239.399037 \n\" style=\"fill:none;stroke:#0000cd;stroke-linecap:square;stroke-width:1.5;\"/>\n   </g>\n   <g id=\"line2d_30\">\n    <path clip-path=\"url(#p238010767c)\" d=\"M 48.90125 239.399219 \nL 51.629583 236.89798 \nL 54.357917 234.714374 \nL 57.08625 232.812946 \nL 59.814583 231.162123 \nL 63.088583 229.472573 \nL 66.362583 228.060786 \nL 69.636583 226.889541 \nL 73.45625 225.784153 \nL 77.275917 224.918036 \nL 81.64125 224.173231 \nL 86.55225 223.592049 \nL 92.008917 223.201213 \nL 98.01125 223.012036 \nL 105.104917 223.031166 \nL 113.289917 223.284277 \nL 123.657583 223.83381 \nL 138.93625 224.890345 \nL 202.233583 229.497453 \nL 227.33425 230.991691 \nL 253.52625 232.322025 \nL 281.35525 233.509657 \nL 311.912583 234.586905 \nL 345.743917 235.551781 \nL 376.30125 236.255973 \nL 376.30125 236.255973 \n\" style=\"fill:none;stroke:#ff0000;stroke-linecap:square;stroke-width:1.5;\"/>\n   </g>\n   <g id=\"legend_1\">\n    <g id=\"patch_7\">\n     <path d=\"M 264.40125 142.899219 \nL 369.30125 142.899219 \nQ 371.30125 142.899219 371.30125 140.899219 \nL 371.30125 109.499219 \nQ 371.30125 107.499219 369.30125 107.499219 \nL 264.40125 107.499219 \nQ 262.40125 107.499219 262.40125 109.499219 \nL 262.40125 140.899219 \nQ 262.40125 142.899219 264.40125 142.899219 \nz\n\" style=\"fill:#e5e5e5;opacity:0.8;stroke:#cccccc;stroke-linejoin:miter;stroke-width:0.5;\"/>\n    </g>\n    <g id=\"line2d_31\">\n     <path d=\"M 266.40125 117.099219 \nL 286.40125 117.099219 \n\" style=\"fill:none;stroke:#0000cd;stroke-linecap:square;stroke-width:1.5;\"/>\n    </g>\n    <g id=\"line2d_32\"/>\n    <g id=\"text_17\">\n     <!-- $^{131m}$Te activity -->\n     <defs>\n      <path d=\"M 89.796875 33.015625 \nL 83.40625 0 \nL 74.421875 0 \nL 80.71875 32.71875 \nQ 81.109375 34.8125 81.296875 36.328125 \nQ 81.5 37.84375 81.5 38.921875 \nQ 81.5 43.3125 79.046875 45.75 \nQ 76.609375 48.1875 72.21875 48.1875 \nQ 65.671875 48.1875 60.546875 43.28125 \nQ 55.421875 38.375 53.90625 30.515625 \nL 47.90625 0 \nL 38.921875 0 \nL 45.3125 32.71875 \nQ 45.703125 34.515625 45.890625 36.046875 \nQ 46.09375 37.59375 46.09375 38.8125 \nQ 46.09375 43.265625 43.65625 45.71875 \nQ 41.21875 48.1875 36.921875 48.1875 \nQ 30.28125 48.1875 25.140625 43.28125 \nQ 20.015625 38.375 18.5 30.515625 \nL 12.5 0 \nL 3.515625 0 \nL 14.203125 54.6875 \nL 23.1875 54.6875 \nL 21.484375 46.1875 \nQ 25.140625 50.984375 30.046875 53.484375 \nQ 34.96875 56 40.578125 56 \nQ 46.53125 56 50.359375 52.875 \nQ 54.203125 49.75 54.984375 44.1875 \nQ 59.078125 49.953125 64.46875 52.96875 \nQ 69.875 56 75.875 56 \nQ 82.90625 56 86.734375 51.953125 \nQ 90.578125 47.90625 90.578125 40.484375 \nQ 90.578125 38.875 90.375 36.9375 \nQ 90.1875 35.015625 89.796875 33.015625 \nz\n\" id=\"DejaVuSans-Oblique-109\"/>\n      <path d=\"M -0.296875 72.90625 \nL 61.375 72.90625 \nL 61.375 64.59375 \nL 35.5 64.59375 \nL 35.5 0 \nL 25.59375 0 \nL 25.59375 64.59375 \nL -0.296875 64.59375 \nz\n\" id=\"DejaVuSans-84\"/>\n     </defs>\n     <g transform=\"translate(294.40125 120.599219)scale(0.1 -0.1)\">\n      <use transform=\"translate(0.957031 39.046875)scale(0.7)\" xlink:href=\"#DejaVuSans-49\"/>\n      <use transform=\"translate(45.493164 39.046875)scale(0.7)\" xlink:href=\"#DejaVuSans-51\"/>\n      <use transform=\"translate(90.029297 39.046875)scale(0.7)\" xlink:href=\"#DejaVuSans-49\"/>\n      <use transform=\"translate(134.56543 39.046875)scale(0.7)\" xlink:href=\"#DejaVuSans-Oblique-109\"/>\n      <use transform=\"translate(205.488281 0.765625)\" xlink:href=\"#DejaVuSans-84\"/>\n      <use transform=\"translate(266.572266 0.765625)\" xlink:href=\"#DejaVuSans-101\"/>\n      <use transform=\"translate(328.095703 0.765625)\" xlink:href=\"#DejaVuSans-32\"/>\n      <use transform=\"translate(359.882812 0.765625)\" xlink:href=\"#DejaVuSans-97\"/>\n      <use transform=\"translate(421.162109 0.765625)\" xlink:href=\"#DejaVuSans-99\"/>\n      <use transform=\"translate(476.142578 0.765625)\" xlink:href=\"#DejaVuSans-116\"/>\n      <use transform=\"translate(515.351562 0.765625)\" xlink:href=\"#DejaVuSans-105\"/>\n      <use transform=\"translate(543.134766 0.765625)\" xlink:href=\"#DejaVuSans-118\"/>\n      <use transform=\"translate(602.314453 0.765625)\" xlink:href=\"#DejaVuSans-105\"/>\n      <use transform=\"translate(630.097656 0.765625)\" xlink:href=\"#DejaVuSans-116\"/>\n      <use transform=\"translate(669.306641 0.765625)\" xlink:href=\"#DejaVuSans-121\"/>\n     </g>\n    </g>\n    <g id=\"line2d_33\">\n     <path d=\"M 266.40125 133.299219 \nL 286.40125 133.299219 \n\" style=\"fill:none;stroke:#ff0000;stroke-linecap:square;stroke-width:1.5;\"/>\n    </g>\n    <g id=\"line2d_34\"/>\n    <g id=\"text_18\">\n     <!-- $^{131}$I activity -->\n     <defs>\n      <path d=\"M 9.8125 72.90625 \nL 19.671875 72.90625 \nL 19.671875 0 \nL 9.8125 0 \nz\n\" id=\"DejaVuSans-73\"/>\n     </defs>\n     <g transform=\"translate(294.40125 136.799219)scale(0.1 -0.1)\">\n      <use transform=\"translate(0.957031 39.046875)scale(0.7)\" xlink:href=\"#DejaVuSans-49\"/>\n      <use transform=\"translate(45.493164 39.046875)scale(0.7)\" xlink:href=\"#DejaVuSans-51\"/>\n      <use transform=\"translate(90.029297 39.046875)scale(0.7)\" xlink:href=\"#DejaVuSans-49\"/>\n      <use transform=\"translate(137.299805 0.765625)\" xlink:href=\"#DejaVuSans-73\"/>\n      <use transform=\"translate(166.791992 0.765625)\" xlink:href=\"#DejaVuSans-32\"/>\n      <use transform=\"translate(198.579102 0.765625)\" xlink:href=\"#DejaVuSans-97\"/>\n      <use transform=\"translate(259.858398 0.765625)\" xlink:href=\"#DejaVuSans-99\"/>\n      <use transform=\"translate(314.838867 0.765625)\" xlink:href=\"#DejaVuSans-116\"/>\n      <use transform=\"translate(354.047852 0.765625)\" xlink:href=\"#DejaVuSans-105\"/>\n      <use transform=\"translate(381.831055 0.765625)\" xlink:href=\"#DejaVuSans-118\"/>\n      <use transform=\"translate(441.010742 0.765625)\" xlink:href=\"#DejaVuSans-105\"/>\n      <use transform=\"translate(468.793945 0.765625)\" xlink:href=\"#DejaVuSans-116\"/>\n      <use transform=\"translate(508.00293 0.765625)\" xlink:href=\"#DejaVuSans-121\"/>\n     </g>\n    </g>\n   </g>\n  </g>\n  <g id=\"axes_2\">\n   <g id=\"matplotlib.axis_3\">\n    <g id=\"ytick_8\">\n     <g id=\"line2d_35\">\n      <path clip-path=\"url(#p238010767c)\" d=\"M 48.90125 239.399219 \nL 376.30125 239.399219 \n\" style=\"fill:none;stroke:#ffffff;stroke-linecap:square;stroke-width:0.8;\"/>\n     </g>\n     <g id=\"line2d_36\">\n      <defs>\n       <path d=\"M 0 0 \nL 3.5 0 \n\" id=\"m345f6ccbfb\" style=\"stroke:#555555;stroke-width:0.8;\"/>\n      </defs>\n      <g>\n       <use style=\"fill:#555555;stroke:#555555;stroke-width:0.8;\" x=\"376.30125\" xlink:href=\"#m345f6ccbfb\" y=\"239.399219\"/>\n      </g>\n     </g>\n     <g id=\"text_19\">\n      <!-- 0.0 -->\n      <defs>\n       <path d=\"M 10.6875 12.40625 \nL 21 12.40625 \nL 21 0 \nL 10.6875 0 \nz\n\" id=\"DejaVuSans-46\"/>\n      </defs>\n      <g style=\"fill:#555555;\" transform=\"translate(383.30125 243.198437)scale(0.1 -0.1)\">\n       <use xlink:href=\"#DejaVuSans-48\"/>\n       <use x=\"63.623047\" xlink:href=\"#DejaVuSans-46\"/>\n       <use x=\"95.410156\" xlink:href=\"#DejaVuSans-48\"/>\n      </g>\n     </g>\n    </g>\n    <g id=\"ytick_9\">\n     <g id=\"line2d_37\">\n      <path clip-path=\"url(#p238010767c)\" d=\"M 48.90125 201.332552 \nL 376.30125 201.332552 \n\" style=\"fill:none;stroke:#ffffff;stroke-linecap:square;stroke-width:0.8;\"/>\n     </g>\n     <g id=\"line2d_38\">\n      <g>\n       <use style=\"fill:#555555;stroke:#555555;stroke-width:0.8;\" x=\"376.30125\" xlink:href=\"#m345f6ccbfb\" y=\"201.332552\"/>\n      </g>\n     </g>\n     <g id=\"text_20\">\n      <!-- 0.2 -->\n      <g style=\"fill:#555555;\" transform=\"translate(383.30125 205.131771)scale(0.1 -0.1)\">\n       <use xlink:href=\"#DejaVuSans-48\"/>\n       <use x=\"63.623047\" xlink:href=\"#DejaVuSans-46\"/>\n       <use x=\"95.410156\" xlink:href=\"#DejaVuSans-50\"/>\n      </g>\n     </g>\n    </g>\n    <g id=\"ytick_10\">\n     <g id=\"line2d_39\">\n      <path clip-path=\"url(#p238010767c)\" d=\"M 48.90125 163.265885 \nL 376.30125 163.265885 \n\" style=\"fill:none;stroke:#ffffff;stroke-linecap:square;stroke-width:0.8;\"/>\n     </g>\n     <g id=\"line2d_40\">\n      <g>\n       <use style=\"fill:#555555;stroke:#555555;stroke-width:0.8;\" x=\"376.30125\" xlink:href=\"#m345f6ccbfb\" y=\"163.265885\"/>\n      </g>\n     </g>\n     <g id=\"text_21\">\n      <!-- 0.4 -->\n      <g style=\"fill:#555555;\" transform=\"translate(383.30125 167.065104)scale(0.1 -0.1)\">\n       <use xlink:href=\"#DejaVuSans-48\"/>\n       <use x=\"63.623047\" xlink:href=\"#DejaVuSans-46\"/>\n       <use x=\"95.410156\" xlink:href=\"#DejaVuSans-52\"/>\n      </g>\n     </g>\n    </g>\n    <g id=\"ytick_11\">\n     <g id=\"line2d_41\">\n      <path clip-path=\"url(#p238010767c)\" d=\"M 48.90125 125.199219 \nL 376.30125 125.199219 \n\" style=\"fill:none;stroke:#ffffff;stroke-linecap:square;stroke-width:0.8;\"/>\n     </g>\n     <g id=\"line2d_42\">\n      <g>\n       <use style=\"fill:#555555;stroke:#555555;stroke-width:0.8;\" x=\"376.30125\" xlink:href=\"#m345f6ccbfb\" y=\"125.199219\"/>\n      </g>\n     </g>\n     <g id=\"text_22\">\n      <!-- 0.6 -->\n      <g style=\"fill:#555555;\" transform=\"translate(383.30125 128.998437)scale(0.1 -0.1)\">\n       <use xlink:href=\"#DejaVuSans-48\"/>\n       <use x=\"63.623047\" xlink:href=\"#DejaVuSans-46\"/>\n       <use x=\"95.410156\" xlink:href=\"#DejaVuSans-54\"/>\n      </g>\n     </g>\n    </g>\n    <g id=\"ytick_12\">\n     <g id=\"line2d_43\">\n      <path clip-path=\"url(#p238010767c)\" d=\"M 48.90125 87.132552 \nL 376.30125 87.132552 \n\" style=\"fill:none;stroke:#ffffff;stroke-linecap:square;stroke-width:0.8;\"/>\n     </g>\n     <g id=\"line2d_44\">\n      <g>\n       <use style=\"fill:#555555;stroke:#555555;stroke-width:0.8;\" x=\"376.30125\" xlink:href=\"#m345f6ccbfb\" y=\"87.132552\"/>\n      </g>\n     </g>\n     <g id=\"text_23\">\n      <!-- 0.8 -->\n      <g style=\"fill:#555555;\" transform=\"translate(383.30125 90.931771)scale(0.1 -0.1)\">\n       <use xlink:href=\"#DejaVuSans-48\"/>\n       <use x=\"63.623047\" xlink:href=\"#DejaVuSans-46\"/>\n       <use x=\"95.410156\" xlink:href=\"#DejaVuSans-56\"/>\n      </g>\n     </g>\n    </g>\n    <g id=\"ytick_13\">\n     <g id=\"line2d_45\">\n      <path clip-path=\"url(#p238010767c)\" d=\"M 48.90125 49.065885 \nL 376.30125 49.065885 \n\" style=\"fill:none;stroke:#ffffff;stroke-linecap:square;stroke-width:0.8;\"/>\n     </g>\n     <g id=\"line2d_46\">\n      <g>\n       <use style=\"fill:#555555;stroke:#555555;stroke-width:0.8;\" x=\"376.30125\" xlink:href=\"#m345f6ccbfb\" y=\"49.065885\"/>\n      </g>\n     </g>\n     <g id=\"text_24\">\n      <!-- 1.0 -->\n      <g style=\"fill:#555555;\" transform=\"translate(383.30125 52.865104)scale(0.1 -0.1)\">\n       <use xlink:href=\"#DejaVuSans-49\"/>\n       <use x=\"63.623047\" xlink:href=\"#DejaVuSans-46\"/>\n       <use x=\"95.410156\" xlink:href=\"#DejaVuSans-48\"/>\n      </g>\n     </g>\n    </g>\n    <g id=\"ytick_14\">\n     <g id=\"line2d_47\">\n      <path clip-path=\"url(#p238010767c)\" d=\"M 48.90125 10.999219 \nL 376.30125 10.999219 \n\" style=\"fill:none;stroke:#ffffff;stroke-linecap:square;stroke-width:0.8;\"/>\n     </g>\n     <g id=\"line2d_48\">\n      <g>\n       <use style=\"fill:#555555;stroke:#555555;stroke-width:0.8;\" x=\"376.30125\" xlink:href=\"#m345f6ccbfb\" y=\"10.999219\"/>\n      </g>\n     </g>\n     <g id=\"text_25\">\n      <!-- 1.2 -->\n      <g style=\"fill:#555555;\" transform=\"translate(383.30125 14.798438)scale(0.1 -0.1)\">\n       <use xlink:href=\"#DejaVuSans-49\"/>\n       <use x=\"63.623047\" xlink:href=\"#DejaVuSans-46\"/>\n       <use x=\"95.410156\" xlink:href=\"#DejaVuSans-50\"/>\n      </g>\n     </g>\n    </g>\n    <g id=\"text_26\">\n     <!-- Ratio or exp() -->\n     <defs>\n      <path d=\"M 44.390625 34.1875 \nQ 47.5625 33.109375 50.5625 29.59375 \nQ 53.5625 26.078125 56.59375 19.921875 \nL 66.609375 0 \nL 56 0 \nL 46.6875 18.703125 \nQ 43.0625 26.03125 39.671875 28.421875 \nQ 36.28125 30.8125 30.421875 30.8125 \nL 19.671875 30.8125 \nL 19.671875 0 \nL 9.8125 0 \nL 9.8125 72.90625 \nL 32.078125 72.90625 \nQ 44.578125 72.90625 50.734375 67.671875 \nQ 56.890625 62.453125 56.890625 51.90625 \nQ 56.890625 45.015625 53.6875 40.46875 \nQ 50.484375 35.9375 44.390625 34.1875 \nz\nM 19.671875 64.796875 \nL 19.671875 38.921875 \nL 32.078125 38.921875 \nQ 39.203125 38.921875 42.84375 42.21875 \nQ 46.484375 45.515625 46.484375 51.90625 \nQ 46.484375 58.296875 42.84375 61.546875 \nQ 39.203125 64.796875 32.078125 64.796875 \nz\n\" id=\"DejaVuSans-82\"/>\n      <path d=\"M 30.609375 48.390625 \nQ 23.390625 48.390625 19.1875 42.75 \nQ 14.984375 37.109375 14.984375 27.296875 \nQ 14.984375 17.484375 19.15625 11.84375 \nQ 23.34375 6.203125 30.609375 6.203125 \nQ 37.796875 6.203125 41.984375 11.859375 \nQ 46.1875 17.53125 46.1875 27.296875 \nQ 46.1875 37.015625 41.984375 42.703125 \nQ 37.796875 48.390625 30.609375 48.390625 \nz\nM 30.609375 56 \nQ 42.328125 56 49.015625 48.375 \nQ 55.71875 40.765625 55.71875 27.296875 \nQ 55.71875 13.875 49.015625 6.21875 \nQ 42.328125 -1.421875 30.609375 -1.421875 \nQ 18.84375 -1.421875 12.171875 6.21875 \nQ 5.515625 13.875 5.515625 27.296875 \nQ 5.515625 40.765625 12.171875 48.375 \nQ 18.84375 56 30.609375 56 \nz\n\" id=\"DejaVuSans-111\"/>\n      <path d=\"M 41.109375 46.296875 \nQ 39.59375 47.171875 37.8125 47.578125 \nQ 36.03125 48 33.890625 48 \nQ 26.265625 48 22.1875 43.046875 \nQ 18.109375 38.09375 18.109375 28.8125 \nL 18.109375 0 \nL 9.078125 0 \nL 9.078125 54.6875 \nL 18.109375 54.6875 \nL 18.109375 46.1875 \nQ 20.953125 51.171875 25.484375 53.578125 \nQ 30.03125 56 36.53125 56 \nQ 37.453125 56 38.578125 55.875 \nQ 39.703125 55.765625 41.0625 55.515625 \nz\n\" id=\"DejaVuSans-114\"/>\n      <path d=\"M 54.890625 54.6875 \nL 35.109375 28.078125 \nL 55.90625 0 \nL 45.3125 0 \nL 29.390625 21.484375 \nL 13.484375 0 \nL 2.875 0 \nL 24.125 28.609375 \nL 4.6875 54.6875 \nL 15.28125 54.6875 \nL 29.78125 35.203125 \nL 44.28125 54.6875 \nz\n\" id=\"DejaVuSans-120\"/>\n     </defs>\n     <g style=\"fill:#555555;\" transform=\"translate(412.3225 166.181094)rotate(-90)scale(0.12 -0.12)\">\n      <use xlink:href=\"#DejaVuSans-82\"/>\n      <use x=\"67.232422\" xlink:href=\"#DejaVuSans-97\"/>\n      <use x=\"128.511719\" xlink:href=\"#DejaVuSans-116\"/>\n      <use x=\"167.720703\" xlink:href=\"#DejaVuSans-105\"/>\n      <use x=\"195.503906\" xlink:href=\"#DejaVuSans-111\"/>\n      <use x=\"256.685547\" xlink:href=\"#DejaVuSans-32\"/>\n      <use x=\"288.472656\" xlink:href=\"#DejaVuSans-111\"/>\n      <use x=\"349.654297\" xlink:href=\"#DejaVuSans-114\"/>\n      <use x=\"390.767578\" xlink:href=\"#DejaVuSans-32\"/>\n      <use x=\"422.554688\" xlink:href=\"#DejaVuSans-101\"/>\n      <use x=\"482.328125\" xlink:href=\"#DejaVuSans-120\"/>\n      <use x=\"541.507812\" xlink:href=\"#DejaVuSans-112\"/>\n      <use x=\"604.984375\" xlink:href=\"#DejaVuSans-40\"/>\n      <use x=\"643.998047\" xlink:href=\"#DejaVuSans-41\"/>\n     </g>\n    </g>\n   </g>\n   <g id=\"patch_8\">\n    <path d=\"M 48.90125 239.399219 \nL 48.90125 10.999219 \n\" style=\"fill:none;stroke:#ffffff;stroke-linecap:square;stroke-linejoin:miter;\"/>\n   </g>\n   <g id=\"patch_9\">\n    <path d=\"M 376.30125 239.399219 \nL 376.30125 10.999219 \n\" style=\"fill:none;stroke:#ffffff;stroke-linecap:square;stroke-linejoin:miter;\"/>\n   </g>\n   <g id=\"patch_10\">\n    <path d=\"M 48.90125 239.399219 \nL 376.30125 239.399219 \n\" style=\"fill:none;stroke:#ffffff;stroke-linecap:square;stroke-linejoin:miter;\"/>\n   </g>\n   <g id=\"patch_11\">\n    <path d=\"M 48.90125 10.999219 \nL 376.30125 10.999219 \n\" style=\"fill:none;stroke:#ffffff;stroke-linecap:square;stroke-linejoin:miter;\"/>\n   </g>\n   <g id=\"line2d_49\">\n    <path clip-path=\"url(#p238010767c)\" d=\"M 48.90125 239.399219 \nL 51.629583 236.591673 \nL 54.357917 233.496684 \nL 57.08625 230.084822 \nL 59.814583 226.323645 \nL 62.542917 222.177389 \nL 65.27125 217.606628 \nL 67.999583 212.567901 \nL 70.727917 207.013296 \nL 73.45625 200.889996 \nL 76.184583 194.139777 \nL 78.912917 186.698453 \nL 81.64125 178.495268 \nL 84.369583 169.452218 \nL 87.097917 159.483319 \nL 89.82625 148.493777 \nL 92.554583 136.379098 \nL 95.282917 123.024086 \nL 98.01125 108.301754 \nL 100.739583 92.072112 \nL 103.467917 74.180837 \nL 106.19625 54.457807 \nL 108.924583 32.715482 \nL 111.652917 8.747122 \nL 112.69013 -1 \nL 112.69013 -1 \n\" style=\"fill:none;stroke:#000000;stroke-dasharray:5.55,2.4;stroke-dashoffset:0;stroke-width:1.5;\"/>\n   </g>\n   <g id=\"line2d_50\">\n    <path clip-path=\"url(#p238010767c)\" d=\"M 48.90125 49.065885 \nL 55.44925 57.135394 \nL 61.99725 64.862783 \nL 68.54525 72.262555 \nL 75.09325 79.348601 \nL 82.186917 86.686533 \nL 89.280583 93.688038 \nL 96.37425 100.368542 \nL 103.467917 106.742761 \nL 110.561583 112.824737 \nL 117.65525 118.627869 \nL 125.294583 124.580204 \nL 132.933917 130.239172 \nL 140.57325 135.619233 \nL 148.212583 140.734132 \nL 156.397583 145.934967 \nL 164.582583 150.861655 \nL 172.767583 155.528648 \nL 180.952583 159.949634 \nL 189.68325 164.408797 \nL 198.413917 168.617686 \nL 207.144583 172.590348 \nL 216.420917 176.567284 \nL 225.69725 180.307485 \nL 235.51925 184.025311 \nL 245.34125 187.509226 \nL 255.708917 190.949174 \nL 266.076583 194.161077 \nL 276.989917 197.312267 \nL 288.448917 200.385054 \nL 300.453583 203.363823 \nL 312.45825 206.115161 \nL 325.008583 208.767216 \nL 338.104583 211.309549 \nL 351.74625 213.733701 \nL 365.933583 216.033156 \nL 376.30125 217.582164 \nL 376.30125 217.582164 \n\" style=\"fill:none;stroke:#000000;stroke-dasharray:1.5,2.475;stroke-dashoffset:0;stroke-width:1.5;\"/>\n   </g>\n   <g id=\"legend_2\">\n    <g id=\"patch_12\">\n     <path d=\"M 138.80125 48.377344 \nL 369.30125 48.377344 \nQ 371.30125 48.377344 371.30125 46.377344 \nL 371.30125 17.999219 \nQ 371.30125 15.999219 369.30125 15.999219 \nL 138.80125 15.999219 \nQ 136.80125 15.999219 136.80125 17.999219 \nL 136.80125 46.377344 \nQ 136.80125 48.377344 138.80125 48.377344 \nz\n\" style=\"fill:#e5e5e5;opacity:0.8;stroke:#cccccc;stroke-linejoin:miter;stroke-width:0.5;\"/>\n    </g>\n    <g id=\"line2d_51\">\n     <path d=\"M 140.80125 24.097656 \nL 160.80125 24.097656 \n\" style=\"fill:none;stroke:#000000;stroke-dasharray:5.55,2.4;stroke-dashoffset:0;stroke-width:1.5;\"/>\n    </g>\n    <g id=\"line2d_52\"/>\n    <g id=\"text_27\">\n     <!-- Ratio between $^{131}$I and $^{131m}$Te activities -->\n     <defs>\n      <path d=\"M 48.6875 27.296875 \nQ 48.6875 37.203125 44.609375 42.84375 \nQ 40.53125 48.484375 33.40625 48.484375 \nQ 26.265625 48.484375 22.1875 42.84375 \nQ 18.109375 37.203125 18.109375 27.296875 \nQ 18.109375 17.390625 22.1875 11.75 \nQ 26.265625 6.109375 33.40625 6.109375 \nQ 40.53125 6.109375 44.609375 11.75 \nQ 48.6875 17.390625 48.6875 27.296875 \nz\nM 18.109375 46.390625 \nQ 20.953125 51.265625 25.265625 53.625 \nQ 29.59375 56 35.59375 56 \nQ 45.5625 56 51.78125 48.09375 \nQ 58.015625 40.1875 58.015625 27.296875 \nQ 58.015625 14.40625 51.78125 6.484375 \nQ 45.5625 -1.421875 35.59375 -1.421875 \nQ 29.59375 -1.421875 25.265625 0.953125 \nQ 20.953125 3.328125 18.109375 8.203125 \nL 18.109375 0 \nL 9.078125 0 \nL 9.078125 75.984375 \nL 18.109375 75.984375 \nz\n\" id=\"DejaVuSans-98\"/>\n      <path d=\"M 4.203125 54.6875 \nL 13.1875 54.6875 \nL 24.421875 12.015625 \nL 35.59375 54.6875 \nL 46.1875 54.6875 \nL 57.421875 12.015625 \nL 68.609375 54.6875 \nL 77.59375 54.6875 \nL 63.28125 0 \nL 52.6875 0 \nL 40.921875 44.828125 \nL 29.109375 0 \nL 18.5 0 \nz\n\" id=\"DejaVuSans-119\"/>\n      <path d=\"M 54.890625 33.015625 \nL 54.890625 0 \nL 45.90625 0 \nL 45.90625 32.71875 \nQ 45.90625 40.484375 42.875 44.328125 \nQ 39.84375 48.1875 33.796875 48.1875 \nQ 26.515625 48.1875 22.3125 43.546875 \nQ 18.109375 38.921875 18.109375 30.90625 \nL 18.109375 0 \nL 9.078125 0 \nL 9.078125 54.6875 \nL 18.109375 54.6875 \nL 18.109375 46.1875 \nQ 21.34375 51.125 25.703125 53.5625 \nQ 30.078125 56 35.796875 56 \nQ 45.21875 56 50.046875 50.171875 \nQ 54.890625 44.34375 54.890625 33.015625 \nz\n\" id=\"DejaVuSans-110\"/>\n     </defs>\n     <g transform=\"translate(168.80125 27.597656)scale(0.1 -0.1)\">\n      <use transform=\"translate(0 0.765625)\" xlink:href=\"#DejaVuSans-82\"/>\n      <use transform=\"translate(69.482422 0.765625)\" xlink:href=\"#DejaVuSans-97\"/>\n      <use transform=\"translate(130.761719 0.765625)\" xlink:href=\"#DejaVuSans-116\"/>\n      <use transform=\"translate(169.970703 0.765625)\" xlink:href=\"#DejaVuSans-105\"/>\n      <use transform=\"translate(197.753906 0.765625)\" xlink:href=\"#DejaVuSans-111\"/>\n      <use transform=\"translate(258.935547 0.765625)\" xlink:href=\"#DejaVuSans-32\"/>\n      <use transform=\"translate(290.722656 0.765625)\" xlink:href=\"#DejaVuSans-98\"/>\n      <use transform=\"translate(354.199219 0.765625)\" xlink:href=\"#DejaVuSans-101\"/>\n      <use transform=\"translate(415.722656 0.765625)\" xlink:href=\"#DejaVuSans-116\"/>\n      <use transform=\"translate(454.931641 0.765625)\" xlink:href=\"#DejaVuSans-119\"/>\n      <use transform=\"translate(536.71875 0.765625)\" xlink:href=\"#DejaVuSans-101\"/>\n      <use transform=\"translate(598.242188 0.765625)\" xlink:href=\"#DejaVuSans-101\"/>\n      <use transform=\"translate(659.765625 0.765625)\" xlink:href=\"#DejaVuSans-110\"/>\n      <use transform=\"translate(723.144531 0.765625)\" xlink:href=\"#DejaVuSans-32\"/>\n      <use transform=\"translate(755.888672 39.046875)scale(0.7)\" xlink:href=\"#DejaVuSans-49\"/>\n      <use transform=\"translate(800.424805 39.046875)scale(0.7)\" xlink:href=\"#DejaVuSans-51\"/>\n      <use transform=\"translate(844.960938 39.046875)scale(0.7)\" xlink:href=\"#DejaVuSans-49\"/>\n      <use transform=\"translate(892.231445 0.765625)\" xlink:href=\"#DejaVuSans-73\"/>\n      <use transform=\"translate(921.723633 0.765625)\" xlink:href=\"#DejaVuSans-32\"/>\n      <use transform=\"translate(953.510742 0.765625)\" xlink:href=\"#DejaVuSans-97\"/>\n      <use transform=\"translate(1014.790039 0.765625)\" xlink:href=\"#DejaVuSans-110\"/>\n      <use transform=\"translate(1078.168945 0.765625)\" xlink:href=\"#DejaVuSans-100\"/>\n      <use transform=\"translate(1141.645508 0.765625)\" xlink:href=\"#DejaVuSans-32\"/>\n      <use transform=\"translate(1174.389648 39.046875)scale(0.7)\" xlink:href=\"#DejaVuSans-49\"/>\n      <use transform=\"translate(1218.925781 39.046875)scale(0.7)\" xlink:href=\"#DejaVuSans-51\"/>\n      <use transform=\"translate(1263.461914 39.046875)scale(0.7)\" xlink:href=\"#DejaVuSans-49\"/>\n      <use transform=\"translate(1307.998047 39.046875)scale(0.7)\" xlink:href=\"#DejaVuSans-Oblique-109\"/>\n      <use transform=\"translate(1378.920898 0.765625)\" xlink:href=\"#DejaVuSans-84\"/>\n      <use transform=\"translate(1440.004883 0.765625)\" xlink:href=\"#DejaVuSans-101\"/>\n      <use transform=\"translate(1501.52832 0.765625)\" xlink:href=\"#DejaVuSans-32\"/>\n      <use transform=\"translate(1533.31543 0.765625)\" xlink:href=\"#DejaVuSans-97\"/>\n      <use transform=\"translate(1594.594727 0.765625)\" xlink:href=\"#DejaVuSans-99\"/>\n      <use transform=\"translate(1649.575195 0.765625)\" xlink:href=\"#DejaVuSans-116\"/>\n      <use transform=\"translate(1688.78418 0.765625)\" xlink:href=\"#DejaVuSans-105\"/>\n      <use transform=\"translate(1716.567383 0.765625)\" xlink:href=\"#DejaVuSans-118\"/>\n      <use transform=\"translate(1775.74707 0.765625)\" xlink:href=\"#DejaVuSans-105\"/>\n      <use transform=\"translate(1803.530273 0.765625)\" xlink:href=\"#DejaVuSans-116\"/>\n      <use transform=\"translate(1842.739258 0.765625)\" xlink:href=\"#DejaVuSans-105\"/>\n      <use transform=\"translate(1870.522461 0.765625)\" xlink:href=\"#DejaVuSans-101\"/>\n      <use transform=\"translate(1932.045898 0.765625)\" xlink:href=\"#DejaVuSans-115\"/>\n     </g>\n    </g>\n    <g id=\"line2d_53\">\n     <path d=\"M 140.80125 38.777344 \nL 160.80125 38.777344 \n\" style=\"fill:none;stroke:#000000;stroke-dasharray:1.5,2.475;stroke-dashoffset:0;stroke-width:1.5;\"/>\n    </g>\n    <g id=\"line2d_54\"/>\n    <g id=\"text_28\">\n     <!-- $\\exp(-\\lambda_{\\mathrm{I-131}} t)$ -->\n     <defs>\n      <path d=\"M 10.59375 35.5 \nL 73.1875 35.5 \nL 73.1875 27.203125 \nL 10.59375 27.203125 \nz\n\" id=\"DejaVuSans-8722\"/>\n      <path d=\"M 36.71875 67.4375 \nL 48.828125 0 \nL 39.3125 0 \nL 31.84375 40.4375 \nL 5.125 0 \nL -4.390625 0 \nL 29.734375 52.4375 \nL 28.03125 62.109375 \nQ 26.953125 68.265625 21.734375 68.265625 \nL 17.046875 68.265625 \nL 18.5 75.984375 \nL 24.21875 75.875 \nQ 35.203125 75.734375 36.71875 67.4375 \nz\n\" id=\"DejaVuSans-Oblique-955\"/>\n      <path d=\"M 42.28125 54.6875 \nL 40.921875 47.703125 \nL 23 47.703125 \nL 17.1875 18.015625 \nQ 16.890625 16.359375 16.75 15.234375 \nQ 16.609375 14.109375 16.609375 13.484375 \nQ 16.609375 10.359375 18.484375 8.9375 \nQ 20.359375 7.515625 24.515625 7.515625 \nL 33.59375 7.515625 \nL 32.078125 0 \nL 23.484375 0 \nQ 15.484375 0 11.546875 3.125 \nQ 7.625 6.25 7.625 12.59375 \nQ 7.625 13.71875 7.765625 15.0625 \nQ 7.90625 16.40625 8.203125 18.015625 \nL 14.015625 47.703125 \nL 6.390625 47.703125 \nL 7.8125 54.6875 \nL 15.28125 54.6875 \nL 18.3125 70.21875 \nL 27.296875 70.21875 \nL 24.3125 54.6875 \nz\n\" id=\"DejaVuSans-Oblique-116\"/>\n     </defs>\n     <g transform=\"translate(168.80125 42.277344)scale(0.1 -0.1)\">\n      <use transform=\"translate(0 0.015625)\" xlink:href=\"#DejaVuSans-101\"/>\n      <use transform=\"translate(61.523438 0.015625)\" xlink:href=\"#DejaVuSans-120\"/>\n      <use transform=\"translate(120.703125 0.015625)\" xlink:href=\"#DejaVuSans-112\"/>\n      <use transform=\"translate(184.179688 0.015625)\" xlink:href=\"#DejaVuSans-40\"/>\n      <use transform=\"translate(223.193359 0.015625)\" xlink:href=\"#DejaVuSans-8722\"/>\n      <use transform=\"translate(306.982422 0.015625)\" xlink:href=\"#DejaVuSans-Oblique-955\"/>\n      <use transform=\"translate(366.162109 -16.390625)scale(0.7)\" xlink:href=\"#DejaVuSans-73\"/>\n      <use transform=\"translate(400.444336 -16.390625)scale(0.7)\" xlink:href=\"#DejaVuSans-8722\"/>\n      <use transform=\"translate(472.734375 -16.390625)scale(0.7)\" xlink:href=\"#DejaVuSans-49\"/>\n      <use transform=\"translate(517.270508 -16.390625)scale(0.7)\" xlink:href=\"#DejaVuSans-51\"/>\n      <use transform=\"translate(561.806641 -16.390625)scale(0.7)\" xlink:href=\"#DejaVuSans-49\"/>\n      <use transform=\"translate(609.077148 0.015625)\" xlink:href=\"#DejaVuSans-Oblique-116\"/>\n      <use transform=\"translate(648.286133 0.015625)\" xlink:href=\"#DejaVuSans-41\"/>\n     </g>\n    </g>\n   </g>\n  </g>\n </g>\n <defs>\n  <clipPath id=\"p238010767c\">\n   <rect height=\"228.4\" width=\"327.4\" x=\"48.90125\" y=\"10.999219\"/>\n  </clipPath>\n </defs>\n</svg>\n"
          },
          "metadata": {
            "tags": []
          }
        }
      ]
    },
    {
      "cell_type": "markdown",
      "metadata": {
        "id": "sjjTuWUsdCak"
      },
      "source": [
        "親核種$^{131\\mathrm{m}}$Teが娘核種$^{131}$Iより早く崩壊してしまい、放射平衡は成り立たないことが分かる。"
      ]
    },
    {
      "cell_type": "markdown",
      "metadata": {
        "id": "9FyTXYolo2nh"
      },
      "source": [
        "## 効率曲線"
      ]
    },
    {
      "cell_type": "markdown",
      "metadata": {
        "id": "ixVYBYHvo5GJ"
      },
      "source": [
        "- 放射線検出器の検出効率$\\varepsilon$とは、検出器に入射された放射線$n$個が計測され$c$個としてカウントされる確率である。すなわち、$\\varepsilon = \\frac{c}{n}$である。\n",
        "- 検出効率は、主に下記の要素に依存する。\n",
        "  - 検出器の種類\n",
        "  - 放射線の種類\n",
        "  - 測定する放射線のエネルギー\n",
        "- 本資料では、Ge半導体検出器を用いてガンマ線を測定する場合を想定し、Pythonを用いて検出効率を作図する方法を示す。"
      ]
    },
    {
      "cell_type": "markdown",
      "metadata": {
        "id": "7qZinI7B-ogP"
      },
      "source": [
        "手順\n",
        "\n",
        "（エネルギー校正等は既に終わっていると仮定する）\n",
        "\n",
        "1. ガンマ線標準線源を用いてガンマ線測定を行う。校正は、試料を入れる容器や位置ごとに行う必要がある。\n",
        "1. ガンマ線標準線源の核種ごと測定効率を求め、ガンマ線エネルギーの関数としてデータ化する。\n",
        "1. データに対してフィッティングを行う。"
      ]
    },
    {
      "cell_type": "code",
      "metadata": {
        "id": "i1U7Dsk2Aegi",
        "outputId": "ecb13e3d-2b90-4f85-ffa8-757b5181b3d3",
        "colab": {
          "base_uri": "https://localhost:8080/",
          "height": 491
        }
      },
      "source": [
        "# Ge半導体検出器の検出効率データ\n",
        "ge_eff_data = {\n",
        "    'ﾋﾟｰｸｴﾈﾙｷﾞ(keV)': [\n",
        "        50.0,\n",
        "        80.998,\n",
        "        122.061,\n",
        "        136.474,\n",
        "        276.399,\n",
        "        302.851,\n",
        "        356.013,\n",
        "        383.849,\n",
        "        569.33,\n",
        "        604.72,\n",
        "        661.657,\n",
        "        795.86,\n",
        "        834.848,\n",
        "        1173.23,\n",
        "        1332.49\n",
        "    ],\n",
        "    '核種': [\n",
        "        np.nan,\n",
        "        '$^{133}$Ba',\n",
        "        '$^{57}$Co',\n",
        "        '$^{57}$Co',\n",
        "        '$^{133}$Ba',\n",
        "        '$^{133}$Ba',\n",
        "        '$^{133}$Ba',\n",
        "        '$^{133}$Ba',\n",
        "        '$^{134}$Cs',\n",
        "        '$^{134}$Cs',\n",
        "        '$^{137}$Cs',\n",
        "        '$^{134}$Cs',\n",
        "        '$^{54}$Mn',\n",
        "        '$^{60}$Co',\n",
        "        '$^{60}$Co',\n",
        "    ],\n",
        "    '測定効率': [\n",
        "        0.010000,\n",
        "        0.028375,\n",
        "        0.041929,\n",
        "        0.041587,\n",
        "        0.026090,\n",
        "        0.024927,\n",
        "        0.021645,\n",
        "        0.021337,\n",
        "        0.014780,\n",
        "        0.014291,\n",
        "        0.013499,\n",
        "        0.011542,\n",
        "        0.011755,\n",
        "        0.008845,\n",
        "        0.007939,\n",
        "    ],\n",
        "}\n",
        "df = pd.DataFrame(ge_eff_data)\n",
        "\n",
        "# Offsets for radionuclide annotation\n",
        "df['offx'] = 0.0\n",
        "df['offy'] = 0.0\n",
        "offx_i = 3\n",
        "offy_i = 4\n",
        "df.iloc[1, offx_i] = 5\n",
        "df.iloc[1, offy_i] = -5\n",
        "df.iloc[2, offx_i] = -15\n",
        "df.iloc[2, offy_i] = 5\n",
        "df.iloc[3, offx_i] = -5\n",
        "df.iloc[3, offy_i] = -15\n",
        "df.iloc[5, offx_i] = -20\n",
        "df.iloc[5, offy_i] = -15\n",
        "df.iloc[7, offx_i] = -20\n",
        "df.iloc[7, offy_i] = -15\n",
        "df.iloc[9, offx_i] = -20\n",
        "df.iloc[9, offy_i] = -15\n",
        "df.iloc[11, offx_i] = -20\n",
        "df.iloc[11, offy_i] = -15\n",
        "\n",
        "df"
      ],
      "execution_count": null,
      "outputs": [
        {
          "output_type": "execute_result",
          "data": {
            "text/html": [
              "<div>\n",
              "<style scoped>\n",
              "    .dataframe tbody tr th:only-of-type {\n",
              "        vertical-align: middle;\n",
              "    }\n",
              "\n",
              "    .dataframe tbody tr th {\n",
              "        vertical-align: top;\n",
              "    }\n",
              "\n",
              "    .dataframe thead th {\n",
              "        text-align: right;\n",
              "    }\n",
              "</style>\n",
              "<table border=\"1\" class=\"dataframe\">\n",
              "  <thead>\n",
              "    <tr style=\"text-align: right;\">\n",
              "      <th></th>\n",
              "      <th>ﾋﾟｰｸｴﾈﾙｷﾞ(keV)</th>\n",
              "      <th>核種</th>\n",
              "      <th>測定効率</th>\n",
              "      <th>offx</th>\n",
              "      <th>offy</th>\n",
              "    </tr>\n",
              "  </thead>\n",
              "  <tbody>\n",
              "    <tr>\n",
              "      <th>0</th>\n",
              "      <td>50.000</td>\n",
              "      <td>NaN</td>\n",
              "      <td>0.010000</td>\n",
              "      <td>0.0</td>\n",
              "      <td>0.0</td>\n",
              "    </tr>\n",
              "    <tr>\n",
              "      <th>1</th>\n",
              "      <td>80.998</td>\n",
              "      <td>$^{133}$Ba</td>\n",
              "      <td>0.028375</td>\n",
              "      <td>5.0</td>\n",
              "      <td>-5.0</td>\n",
              "    </tr>\n",
              "    <tr>\n",
              "      <th>2</th>\n",
              "      <td>122.061</td>\n",
              "      <td>$^{57}$Co</td>\n",
              "      <td>0.041929</td>\n",
              "      <td>-15.0</td>\n",
              "      <td>5.0</td>\n",
              "    </tr>\n",
              "    <tr>\n",
              "      <th>3</th>\n",
              "      <td>136.474</td>\n",
              "      <td>$^{57}$Co</td>\n",
              "      <td>0.041587</td>\n",
              "      <td>-5.0</td>\n",
              "      <td>-15.0</td>\n",
              "    </tr>\n",
              "    <tr>\n",
              "      <th>4</th>\n",
              "      <td>276.399</td>\n",
              "      <td>$^{133}$Ba</td>\n",
              "      <td>0.026090</td>\n",
              "      <td>0.0</td>\n",
              "      <td>0.0</td>\n",
              "    </tr>\n",
              "    <tr>\n",
              "      <th>5</th>\n",
              "      <td>302.851</td>\n",
              "      <td>$^{133}$Ba</td>\n",
              "      <td>0.024927</td>\n",
              "      <td>-20.0</td>\n",
              "      <td>-15.0</td>\n",
              "    </tr>\n",
              "    <tr>\n",
              "      <th>6</th>\n",
              "      <td>356.013</td>\n",
              "      <td>$^{133}$Ba</td>\n",
              "      <td>0.021645</td>\n",
              "      <td>0.0</td>\n",
              "      <td>0.0</td>\n",
              "    </tr>\n",
              "    <tr>\n",
              "      <th>7</th>\n",
              "      <td>383.849</td>\n",
              "      <td>$^{133}$Ba</td>\n",
              "      <td>0.021337</td>\n",
              "      <td>-20.0</td>\n",
              "      <td>-15.0</td>\n",
              "    </tr>\n",
              "    <tr>\n",
              "      <th>8</th>\n",
              "      <td>569.330</td>\n",
              "      <td>$^{134}$Cs</td>\n",
              "      <td>0.014780</td>\n",
              "      <td>0.0</td>\n",
              "      <td>0.0</td>\n",
              "    </tr>\n",
              "    <tr>\n",
              "      <th>9</th>\n",
              "      <td>604.720</td>\n",
              "      <td>$^{134}$Cs</td>\n",
              "      <td>0.014291</td>\n",
              "      <td>-20.0</td>\n",
              "      <td>-15.0</td>\n",
              "    </tr>\n",
              "    <tr>\n",
              "      <th>10</th>\n",
              "      <td>661.657</td>\n",
              "      <td>$^{137}$Cs</td>\n",
              "      <td>0.013499</td>\n",
              "      <td>0.0</td>\n",
              "      <td>0.0</td>\n",
              "    </tr>\n",
              "    <tr>\n",
              "      <th>11</th>\n",
              "      <td>795.860</td>\n",
              "      <td>$^{134}$Cs</td>\n",
              "      <td>0.011542</td>\n",
              "      <td>-20.0</td>\n",
              "      <td>-15.0</td>\n",
              "    </tr>\n",
              "    <tr>\n",
              "      <th>12</th>\n",
              "      <td>834.848</td>\n",
              "      <td>$^{54}$Mn</td>\n",
              "      <td>0.011755</td>\n",
              "      <td>0.0</td>\n",
              "      <td>0.0</td>\n",
              "    </tr>\n",
              "    <tr>\n",
              "      <th>13</th>\n",
              "      <td>1173.230</td>\n",
              "      <td>$^{60}$Co</td>\n",
              "      <td>0.008845</td>\n",
              "      <td>0.0</td>\n",
              "      <td>0.0</td>\n",
              "    </tr>\n",
              "    <tr>\n",
              "      <th>14</th>\n",
              "      <td>1332.490</td>\n",
              "      <td>$^{60}$Co</td>\n",
              "      <td>0.007939</td>\n",
              "      <td>0.0</td>\n",
              "      <td>0.0</td>\n",
              "    </tr>\n",
              "  </tbody>\n",
              "</table>\n",
              "</div>"
            ],
            "text/plain": [
              "    ﾋﾟｰｸｴﾈﾙｷﾞ(keV)          核種      測定効率  offx  offy\n",
              "0           50.000         NaN  0.010000   0.0   0.0\n",
              "1           80.998  $^{133}$Ba  0.028375   5.0  -5.0\n",
              "2          122.061   $^{57}$Co  0.041929 -15.0   5.0\n",
              "3          136.474   $^{57}$Co  0.041587  -5.0 -15.0\n",
              "4          276.399  $^{133}$Ba  0.026090   0.0   0.0\n",
              "5          302.851  $^{133}$Ba  0.024927 -20.0 -15.0\n",
              "6          356.013  $^{133}$Ba  0.021645   0.0   0.0\n",
              "7          383.849  $^{133}$Ba  0.021337 -20.0 -15.0\n",
              "8          569.330  $^{134}$Cs  0.014780   0.0   0.0\n",
              "9          604.720  $^{134}$Cs  0.014291 -20.0 -15.0\n",
              "10         661.657  $^{137}$Cs  0.013499   0.0   0.0\n",
              "11         795.860  $^{134}$Cs  0.011542 -20.0 -15.0\n",
              "12         834.848   $^{54}$Mn  0.011755   0.0   0.0\n",
              "13        1173.230   $^{60}$Co  0.008845   0.0   0.0\n",
              "14        1332.490   $^{60}$Co  0.007939   0.0   0.0"
            ]
          },
          "metadata": {
            "tags": []
          },
          "execution_count": 4
        }
      ]
    },
    {
      "cell_type": "code",
      "metadata": {
        "id": "YzaazvAEGq2H",
        "outputId": "79b5df9e-4e61-4c26-869a-c92b857ceee1",
        "colab": {
          "base_uri": "https://localhost:8080/",
          "height": 387
        }
      },
      "source": [
        "fig, ax = plt.subplots()\n",
        "fit_func = ge_eff\n",
        "xdata_fit_num = 201\n",
        "knee = 180  # keV\n",
        "p0_bef_knee = [-3.824022E+001, 1.427534E+001, -1.452642E+000]\n",
        "p0_from_knee = [1.470955E+000, -1.018902E+000, 1.995309E-002]\n",
        "stys = {\n",
        "    'data': {\n",
        "        'marker': 'o',\n",
        "        'ls': 'None',\n",
        "        'color': 'r',\n",
        "        'alpha': .75,\n",
        "    },\n",
        "    'fit': {\n",
        "        'marker': 'None',\n",
        "        'ls': '-',\n",
        "        'lw': .75,\n",
        "        'color': 'mediumblue',\n",
        "    },\n",
        "}\n",
        "\n",
        "#\n",
        "# Data\n",
        "#\n",
        "xdata = np.array(df.loc[:, 'ﾋﾟｰｸｴﾈﾙｷﾞ(keV)'])\n",
        "ydata = np.array(df.loc[:, '測定効率'])\n",
        "\n",
        "#\n",
        "# Fitting\n",
        "#\n",
        "\n",
        "# Before the knee\n",
        "xdata_bef_knee = list(df.loc[df['ﾋﾟｰｸｴﾈﾙｷﾞ(keV)'] < knee, 'ﾋﾟｰｸｴﾈﾙｷﾞ(keV)'])\n",
        "ydata_bef_knee = list(df.loc[df['ﾋﾟｰｸｴﾈﾙｷﾞ(keV)'] < knee, '測定効率'])\n",
        "popt_bef_knee, pcov_bef_knee = curve_fit(fit_func,\n",
        "                                         xdata_bef_knee, ydata_bef_knee,\n",
        "                                         p0=p0_bef_knee)\n",
        "xdata_bef_knee_fit = np.linspace(xdata_bef_knee[0], knee,\n",
        "                                 num=xdata_fit_num)\n",
        "ydata_bef_knee_fit = fit_func(xdata_bef_knee_fit, *popt_bef_knee)\n",
        "\n",
        "# From the knee\n",
        "# The last (x,y) of bef_knee_fit is prepended to from_knee\n",
        "# to avoid discontinuity at the knee.\n",
        "xdata_from_knee = [xdata_bef_knee_fit[-1]] + list(\n",
        "    df.loc[df['ﾋﾟｰｸｴﾈﾙｷﾞ(keV)'] >= knee, 'ﾋﾟｰｸｴﾈﾙｷﾞ(keV)'])\n",
        "ydata_from_knee = [ydata_bef_knee_fit[-1]] + list(\n",
        "    df.loc[df['ﾋﾟｰｸｴﾈﾙｷﾞ(keV)'] >= knee, '測定効率'])\n",
        "popt_from_knee, pcov_from_knee = curve_fit(fit_func,\n",
        "                                           xdata_from_knee, ydata_from_knee,\n",
        "                                           p0=p0_from_knee)\n",
        "xdata_from_knee_fit = np.linspace(knee, xdata_from_knee[-1],\n",
        "                                  num=xdata_fit_num)\n",
        "ydata_from_knee_fit = fit_func(xdata_from_knee_fit, *popt_from_knee)\n",
        "\n",
        "#\n",
        "# Ticks etc.\n",
        "#\n",
        "ax.set_xscale('log')\n",
        "ax.set_yscale('log')\n",
        "ax.set_xlabel('Energy (keV)')\n",
        "ax.set_ylabel('Efficiency (count/gamma)')\n",
        "ax.xaxis.set_major_formatter(ScalarFormatter())  # sci -> plain\n",
        "ax.axvline(knee, ls='--', lw=.75)\n",
        "ax.annotate('Knee', xy=(knee, 1.5e-2), xytext=(20, 0),\n",
        "            textcoords='offset points', va='center',\n",
        "            arrowprops=dict(arrowstyle='-|>', color='k',\n",
        "                            shrinkA=0, shrinkB=0))\n",
        "\n",
        "#\n",
        "# Plotting\n",
        "#\n",
        "\n",
        "# Fitting up to before the knee\n",
        "ax.plot(xdata_bef_knee_fit[:-1], ydata_bef_knee_fit[:-1],\n",
        "        **stys['fit'], label='Fitted')\n",
        "\n",
        "# Fitting from the knee\n",
        "ax.plot(xdata_from_knee_fit, ydata_from_knee_fit,\n",
        "        **stys['fit'])\n",
        "\n",
        "# Data\n",
        "ax.plot(xdata, ydata,\n",
        "        **stys['data'], label='Data')\n",
        "\n",
        "# Data point annotation\n",
        "for i, s in enumerate(df['核種']):\n",
        "    if re.match('(?i)NaN', str(s)):\n",
        "        continue\n",
        "    xcrd = df.iloc[i, 0]\n",
        "    ycrd = df.iloc[i, 2]\n",
        "    xoff = df.iloc[i, 3]\n",
        "    yoff = df.iloc[i, 4]\n",
        "    ax.annotate(s, xy=(xcrd, ycrd), xytext=(xoff, yoff),\n",
        "                textcoords='offset points')\n",
        "\n",
        "#\n",
        "# Finalizing\n",
        "#\n",
        "ax.legend()\n",
        "fig.tight_layout()"
      ],
      "execution_count": null,
      "outputs": [
        {
          "output_type": "display_data",
          "data": {
            "text/plain": [
              "<Figure size 432x288 with 1 Axes>"
            ],
            "image/svg+xml": "<?xml version=\"1.0\" encoding=\"utf-8\" standalone=\"no\"?>\n<!DOCTYPE svg PUBLIC \"-//W3C//DTD SVG 1.1//EN\"\n  \"http://www.w3.org/Graphics/SVG/1.1/DTD/svg11.dtd\">\n<!-- Created with matplotlib (https://matplotlib.org/) -->\n<svg height=\"274.516019pt\" version=\"1.1\" viewBox=\"0 0 421.026176 274.516019\" width=\"421.026176pt\" xmlns=\"http://www.w3.org/2000/svg\" xmlns:xlink=\"http://www.w3.org/1999/xlink\">\n <defs>\n  <style type=\"text/css\">\n*{stroke-linecap:butt;stroke-linejoin:round;}\n  </style>\n </defs>\n <g id=\"figure_1\">\n  <g id=\"patch_1\">\n   <path d=\"M 0 274.516019 \nL 421.026176 274.516019 \nL 421.026176 0 \nL 0 0 \nz\n\" style=\"fill:#ffffff;\"/>\n  </g>\n  <g id=\"axes_1\">\n   <g id=\"patch_2\">\n    <path d=\"M 70.31375 235.024144 \nL 406.717244 235.024144 \nL 406.717244 9.435921 \nL 70.31375 9.435921 \nz\n\" style=\"fill:#e5e5e5;\"/>\n   </g>\n   <g id=\"matplotlib.axis_1\">\n    <g id=\"xtick_1\">\n     <g id=\"line2d_1\">\n      <path clip-path=\"url(#p42aad80218)\" d=\"M 150.177865 235.024144 \nL 150.177865 9.435921 \n\" style=\"fill:none;stroke:#ffffff;stroke-linecap:square;stroke-width:0.8;\"/>\n     </g>\n     <g id=\"line2d_2\">\n      <defs>\n       <path d=\"M 0 0 \nL 0 3.5 \n\" id=\"m4e0782ae9d\" style=\"stroke:#555555;stroke-width:0.8;\"/>\n      </defs>\n      <g>\n       <use style=\"fill:#555555;stroke:#555555;stroke-width:0.8;\" x=\"150.177865\" xlink:href=\"#m4e0782ae9d\" y=\"235.024144\"/>\n      </g>\n     </g>\n     <g id=\"text_1\">\n      <!-- 100 -->\n      <defs>\n       <path d=\"M 12.40625 8.296875 \nL 28.515625 8.296875 \nL 28.515625 63.921875 \nL 10.984375 60.40625 \nL 10.984375 69.390625 \nL 28.421875 72.90625 \nL 38.28125 72.90625 \nL 38.28125 8.296875 \nL 54.390625 8.296875 \nL 54.390625 0 \nL 12.40625 0 \nz\n\" id=\"DejaVuSans-49\"/>\n       <path d=\"M 31.78125 66.40625 \nQ 24.171875 66.40625 20.328125 58.90625 \nQ 16.5 51.421875 16.5 36.375 \nQ 16.5 21.390625 20.328125 13.890625 \nQ 24.171875 6.390625 31.78125 6.390625 \nQ 39.453125 6.390625 43.28125 13.890625 \nQ 47.125 21.390625 47.125 36.375 \nQ 47.125 51.421875 43.28125 58.90625 \nQ 39.453125 66.40625 31.78125 66.40625 \nz\nM 31.78125 74.21875 \nQ 44.046875 74.21875 50.515625 64.515625 \nQ 56.984375 54.828125 56.984375 36.375 \nQ 56.984375 17.96875 50.515625 8.265625 \nQ 44.046875 -1.421875 31.78125 -1.421875 \nQ 19.53125 -1.421875 13.0625 8.265625 \nQ 6.59375 17.96875 6.59375 36.375 \nQ 6.59375 54.828125 13.0625 64.515625 \nQ 19.53125 74.21875 31.78125 74.21875 \nz\n\" id=\"DejaVuSans-48\"/>\n      </defs>\n      <g style=\"fill:#555555;\" transform=\"translate(140.634115 249.622582)scale(0.1 -0.1)\">\n       <use xlink:href=\"#DejaVuSans-49\"/>\n       <use x=\"63.623047\" xlink:href=\"#DejaVuSans-48\"/>\n       <use x=\"127.246094\" xlink:href=\"#DejaVuSans-48\"/>\n      </g>\n     </g>\n    </g>\n    <g id=\"xtick_2\">\n     <g id=\"line2d_3\">\n      <path clip-path=\"url(#p42aad80218)\" d=\"M 364.684882 235.024144 \nL 364.684882 9.435921 \n\" style=\"fill:none;stroke:#ffffff;stroke-linecap:square;stroke-width:0.8;\"/>\n     </g>\n     <g id=\"line2d_4\">\n      <g>\n       <use style=\"fill:#555555;stroke:#555555;stroke-width:0.8;\" x=\"364.684882\" xlink:href=\"#m4e0782ae9d\" y=\"235.024144\"/>\n      </g>\n     </g>\n     <g id=\"text_2\">\n      <!-- 1000 -->\n      <g style=\"fill:#555555;\" transform=\"translate(351.959882 249.622582)scale(0.1 -0.1)\">\n       <use xlink:href=\"#DejaVuSans-49\"/>\n       <use x=\"63.623047\" xlink:href=\"#DejaVuSans-48\"/>\n       <use x=\"127.246094\" xlink:href=\"#DejaVuSans-48\"/>\n       <use x=\"190.869141\" xlink:href=\"#DejaVuSans-48\"/>\n      </g>\n     </g>\n    </g>\n    <g id=\"xtick_3\">\n     <g id=\"line2d_5\">\n      <defs>\n       <path d=\"M 0 0 \nL 0 2 \n\" id=\"m22f14f15bd\" style=\"stroke:#555555;stroke-width:0.6;\"/>\n      </defs>\n      <g>\n       <use style=\"fill:#555555;stroke:#555555;stroke-width:0.6;\" x=\"85.604818\" xlink:href=\"#m22f14f15bd\" y=\"235.024144\"/>\n      </g>\n     </g>\n    </g>\n    <g id=\"xtick_4\">\n     <g id=\"line2d_6\">\n      <g>\n       <use style=\"fill:#555555;stroke:#555555;stroke-width:0.6;\" x=\"102.589751\" xlink:href=\"#m22f14f15bd\" y=\"235.024144\"/>\n      </g>\n     </g>\n    </g>\n    <g id=\"xtick_5\">\n     <g id=\"line2d_7\">\n      <g>\n       <use style=\"fill:#555555;stroke:#555555;stroke-width:0.6;\" x=\"116.950307\" xlink:href=\"#m22f14f15bd\" y=\"235.024144\"/>\n      </g>\n     </g>\n    </g>\n    <g id=\"xtick_6\">\n     <g id=\"line2d_8\">\n      <g>\n       <use style=\"fill:#555555;stroke:#555555;stroke-width:0.6;\" x=\"129.389987\" xlink:href=\"#m22f14f15bd\" y=\"235.024144\"/>\n      </g>\n     </g>\n    </g>\n    <g id=\"xtick_7\">\n     <g id=\"line2d_9\">\n      <g>\n       <use style=\"fill:#555555;stroke:#555555;stroke-width:0.6;\" x=\"140.362562\" xlink:href=\"#m22f14f15bd\" y=\"235.024144\"/>\n      </g>\n     </g>\n    </g>\n    <g id=\"xtick_8\">\n     <g id=\"line2d_10\">\n      <g>\n       <use style=\"fill:#555555;stroke:#555555;stroke-width:0.6;\" x=\"214.750911\" xlink:href=\"#m22f14f15bd\" y=\"235.024144\"/>\n      </g>\n     </g>\n    </g>\n    <g id=\"xtick_9\">\n     <g id=\"line2d_11\">\n      <g>\n       <use style=\"fill:#555555;stroke:#555555;stroke-width:0.6;\" x=\"252.523722\" xlink:href=\"#m22f14f15bd\" y=\"235.024144\"/>\n      </g>\n     </g>\n    </g>\n    <g id=\"xtick_10\">\n     <g id=\"line2d_12\">\n      <g>\n       <use style=\"fill:#555555;stroke:#555555;stroke-width:0.6;\" x=\"279.323958\" xlink:href=\"#m22f14f15bd\" y=\"235.024144\"/>\n      </g>\n     </g>\n    </g>\n    <g id=\"xtick_11\">\n     <g id=\"line2d_13\">\n      <g>\n       <use style=\"fill:#555555;stroke:#555555;stroke-width:0.6;\" x=\"300.111836\" xlink:href=\"#m22f14f15bd\" y=\"235.024144\"/>\n      </g>\n     </g>\n    </g>\n    <g id=\"xtick_12\">\n     <g id=\"line2d_14\">\n      <g>\n       <use style=\"fill:#555555;stroke:#555555;stroke-width:0.6;\" x=\"317.096769\" xlink:href=\"#m22f14f15bd\" y=\"235.024144\"/>\n      </g>\n     </g>\n    </g>\n    <g id=\"xtick_13\">\n     <g id=\"line2d_15\">\n      <g>\n       <use style=\"fill:#555555;stroke:#555555;stroke-width:0.6;\" x=\"331.457325\" xlink:href=\"#m22f14f15bd\" y=\"235.024144\"/>\n      </g>\n     </g>\n    </g>\n    <g id=\"xtick_14\">\n     <g id=\"line2d_16\">\n      <g>\n       <use style=\"fill:#555555;stroke:#555555;stroke-width:0.6;\" x=\"343.897005\" xlink:href=\"#m22f14f15bd\" y=\"235.024144\"/>\n      </g>\n     </g>\n    </g>\n    <g id=\"xtick_15\">\n     <g id=\"line2d_17\">\n      <g>\n       <use style=\"fill:#555555;stroke:#555555;stroke-width:0.6;\" x=\"354.86958\" xlink:href=\"#m22f14f15bd\" y=\"235.024144\"/>\n      </g>\n     </g>\n    </g>\n    <g id=\"text_3\">\n     <!-- Energy (keV) -->\n     <defs>\n      <path d=\"M 9.8125 72.90625 \nL 55.90625 72.90625 \nL 55.90625 64.59375 \nL 19.671875 64.59375 \nL 19.671875 43.015625 \nL 54.390625 43.015625 \nL 54.390625 34.71875 \nL 19.671875 34.71875 \nL 19.671875 8.296875 \nL 56.78125 8.296875 \nL 56.78125 0 \nL 9.8125 0 \nz\n\" id=\"DejaVuSans-69\"/>\n      <path d=\"M 54.890625 33.015625 \nL 54.890625 0 \nL 45.90625 0 \nL 45.90625 32.71875 \nQ 45.90625 40.484375 42.875 44.328125 \nQ 39.84375 48.1875 33.796875 48.1875 \nQ 26.515625 48.1875 22.3125 43.546875 \nQ 18.109375 38.921875 18.109375 30.90625 \nL 18.109375 0 \nL 9.078125 0 \nL 9.078125 54.6875 \nL 18.109375 54.6875 \nL 18.109375 46.1875 \nQ 21.34375 51.125 25.703125 53.5625 \nQ 30.078125 56 35.796875 56 \nQ 45.21875 56 50.046875 50.171875 \nQ 54.890625 44.34375 54.890625 33.015625 \nz\n\" id=\"DejaVuSans-110\"/>\n      <path d=\"M 56.203125 29.59375 \nL 56.203125 25.203125 \nL 14.890625 25.203125 \nQ 15.484375 15.921875 20.484375 11.0625 \nQ 25.484375 6.203125 34.421875 6.203125 \nQ 39.59375 6.203125 44.453125 7.46875 \nQ 49.3125 8.734375 54.109375 11.28125 \nL 54.109375 2.78125 \nQ 49.265625 0.734375 44.1875 -0.34375 \nQ 39.109375 -1.421875 33.890625 -1.421875 \nQ 20.796875 -1.421875 13.15625 6.1875 \nQ 5.515625 13.8125 5.515625 26.8125 \nQ 5.515625 40.234375 12.765625 48.109375 \nQ 20.015625 56 32.328125 56 \nQ 43.359375 56 49.78125 48.890625 \nQ 56.203125 41.796875 56.203125 29.59375 \nz\nM 47.21875 32.234375 \nQ 47.125 39.59375 43.09375 43.984375 \nQ 39.0625 48.390625 32.421875 48.390625 \nQ 24.90625 48.390625 20.390625 44.140625 \nQ 15.875 39.890625 15.1875 32.171875 \nz\n\" id=\"DejaVuSans-101\"/>\n      <path d=\"M 41.109375 46.296875 \nQ 39.59375 47.171875 37.8125 47.578125 \nQ 36.03125 48 33.890625 48 \nQ 26.265625 48 22.1875 43.046875 \nQ 18.109375 38.09375 18.109375 28.8125 \nL 18.109375 0 \nL 9.078125 0 \nL 9.078125 54.6875 \nL 18.109375 54.6875 \nL 18.109375 46.1875 \nQ 20.953125 51.171875 25.484375 53.578125 \nQ 30.03125 56 36.53125 56 \nQ 37.453125 56 38.578125 55.875 \nQ 39.703125 55.765625 41.0625 55.515625 \nz\n\" id=\"DejaVuSans-114\"/>\n      <path d=\"M 45.40625 27.984375 \nQ 45.40625 37.75 41.375 43.109375 \nQ 37.359375 48.484375 30.078125 48.484375 \nQ 22.859375 48.484375 18.828125 43.109375 \nQ 14.796875 37.75 14.796875 27.984375 \nQ 14.796875 18.265625 18.828125 12.890625 \nQ 22.859375 7.515625 30.078125 7.515625 \nQ 37.359375 7.515625 41.375 12.890625 \nQ 45.40625 18.265625 45.40625 27.984375 \nz\nM 54.390625 6.78125 \nQ 54.390625 -7.171875 48.1875 -13.984375 \nQ 42 -20.796875 29.203125 -20.796875 \nQ 24.46875 -20.796875 20.265625 -20.09375 \nQ 16.0625 -19.390625 12.109375 -17.921875 \nL 12.109375 -9.1875 \nQ 16.0625 -11.328125 19.921875 -12.34375 \nQ 23.78125 -13.375 27.78125 -13.375 \nQ 36.625 -13.375 41.015625 -8.765625 \nQ 45.40625 -4.15625 45.40625 5.171875 \nL 45.40625 9.625 \nQ 42.625 4.78125 38.28125 2.390625 \nQ 33.9375 0 27.875 0 \nQ 17.828125 0 11.671875 7.65625 \nQ 5.515625 15.328125 5.515625 27.984375 \nQ 5.515625 40.671875 11.671875 48.328125 \nQ 17.828125 56 27.875 56 \nQ 33.9375 56 38.28125 53.609375 \nQ 42.625 51.21875 45.40625 46.390625 \nL 45.40625 54.6875 \nL 54.390625 54.6875 \nz\n\" id=\"DejaVuSans-103\"/>\n      <path d=\"M 32.171875 -5.078125 \nQ 28.375 -14.84375 24.75 -17.8125 \nQ 21.140625 -20.796875 15.09375 -20.796875 \nL 7.90625 -20.796875 \nL 7.90625 -13.28125 \nL 13.1875 -13.28125 \nQ 16.890625 -13.28125 18.9375 -11.515625 \nQ 21 -9.765625 23.484375 -3.21875 \nL 25.09375 0.875 \nL 2.984375 54.6875 \nL 12.5 54.6875 \nL 29.59375 11.921875 \nL 46.6875 54.6875 \nL 56.203125 54.6875 \nz\n\" id=\"DejaVuSans-121\"/>\n      <path id=\"DejaVuSans-32\"/>\n      <path d=\"M 31 75.875 \nQ 24.46875 64.65625 21.28125 53.65625 \nQ 18.109375 42.671875 18.109375 31.390625 \nQ 18.109375 20.125 21.3125 9.0625 \nQ 24.515625 -2 31 -13.1875 \nL 23.1875 -13.1875 \nQ 15.875 -1.703125 12.234375 9.375 \nQ 8.59375 20.453125 8.59375 31.390625 \nQ 8.59375 42.28125 12.203125 53.3125 \nQ 15.828125 64.359375 23.1875 75.875 \nz\n\" id=\"DejaVuSans-40\"/>\n      <path d=\"M 9.078125 75.984375 \nL 18.109375 75.984375 \nL 18.109375 31.109375 \nL 44.921875 54.6875 \nL 56.390625 54.6875 \nL 27.390625 29.109375 \nL 57.625 0 \nL 45.90625 0 \nL 18.109375 26.703125 \nL 18.109375 0 \nL 9.078125 0 \nz\n\" id=\"DejaVuSans-107\"/>\n      <path d=\"M 28.609375 0 \nL 0.78125 72.90625 \nL 11.078125 72.90625 \nL 34.1875 11.53125 \nL 57.328125 72.90625 \nL 67.578125 72.90625 \nL 39.796875 0 \nz\n\" id=\"DejaVuSans-86\"/>\n      <path d=\"M 8.015625 75.875 \nL 15.828125 75.875 \nQ 23.140625 64.359375 26.78125 53.3125 \nQ 30.421875 42.28125 30.421875 31.390625 \nQ 30.421875 20.453125 26.78125 9.375 \nQ 23.140625 -1.703125 15.828125 -13.1875 \nL 8.015625 -13.1875 \nQ 14.5 -2 17.703125 9.0625 \nQ 20.90625 20.125 20.90625 31.390625 \nQ 20.90625 42.671875 17.703125 53.65625 \nQ 14.5 64.65625 8.015625 75.875 \nz\n\" id=\"DejaVuSans-41\"/>\n     </defs>\n     <g style=\"fill:#555555;\" transform=\"translate(199.866122 264.820394)scale(0.12 -0.12)\">\n      <use xlink:href=\"#DejaVuSans-69\"/>\n      <use x=\"63.183594\" xlink:href=\"#DejaVuSans-110\"/>\n      <use x=\"126.5625\" xlink:href=\"#DejaVuSans-101\"/>\n      <use x=\"188.085938\" xlink:href=\"#DejaVuSans-114\"/>\n      <use x=\"227.449219\" xlink:href=\"#DejaVuSans-103\"/>\n      <use x=\"290.925781\" xlink:href=\"#DejaVuSans-121\"/>\n      <use x=\"350.105469\" xlink:href=\"#DejaVuSans-32\"/>\n      <use x=\"381.892578\" xlink:href=\"#DejaVuSans-40\"/>\n      <use x=\"420.90625\" xlink:href=\"#DejaVuSans-107\"/>\n      <use x=\"475.191406\" xlink:href=\"#DejaVuSans-101\"/>\n      <use x=\"536.714844\" xlink:href=\"#DejaVuSans-86\"/>\n      <use x=\"605.123047\" xlink:href=\"#DejaVuSans-41\"/>\n     </g>\n    </g>\n   </g>\n   <g id=\"matplotlib.axis_2\">\n    <g id=\"ytick_1\">\n     <g id=\"line2d_18\">\n      <path clip-path=\"url(#p42aad80218)\" d=\"M 70.31375 196.343693 \nL 406.717244 196.343693 \n\" style=\"fill:none;stroke:#ffffff;stroke-linecap:square;stroke-width:0.8;\"/>\n     </g>\n     <g id=\"line2d_19\">\n      <defs>\n       <path d=\"M 0 0 \nL -3.5 0 \n\" id=\"m6ff32d0a46\" style=\"stroke:#555555;stroke-width:0.8;\"/>\n      </defs>\n      <g>\n       <use style=\"fill:#555555;stroke:#555555;stroke-width:0.8;\" x=\"70.31375\" xlink:href=\"#m6ff32d0a46\" y=\"196.343693\"/>\n      </g>\n     </g>\n     <g id=\"text_4\">\n      <!-- $\\mathdefault{10^{-2}}$ -->\n      <defs>\n       <path d=\"M 10.59375 35.5 \nL 73.1875 35.5 \nL 73.1875 27.203125 \nL 10.59375 27.203125 \nz\n\" id=\"DejaVuSans-8722\"/>\n       <path d=\"M 19.1875 8.296875 \nL 53.609375 8.296875 \nL 53.609375 0 \nL 7.328125 0 \nL 7.328125 8.296875 \nQ 12.9375 14.109375 22.625 23.890625 \nQ 32.328125 33.6875 34.8125 36.53125 \nQ 39.546875 41.84375 41.421875 45.53125 \nQ 43.3125 49.21875 43.3125 52.78125 \nQ 43.3125 58.59375 39.234375 62.25 \nQ 35.15625 65.921875 28.609375 65.921875 \nQ 23.96875 65.921875 18.8125 64.3125 \nQ 13.671875 62.703125 7.8125 59.421875 \nL 7.8125 69.390625 \nQ 13.765625 71.78125 18.9375 73 \nQ 24.125 74.21875 28.421875 74.21875 \nQ 39.75 74.21875 46.484375 68.546875 \nQ 53.21875 62.890625 53.21875 53.421875 \nQ 53.21875 48.921875 51.53125 44.890625 \nQ 49.859375 40.875 45.40625 35.40625 \nQ 44.1875 33.984375 37.640625 27.21875 \nQ 31.109375 20.453125 19.1875 8.296875 \nz\n\" id=\"DejaVuSans-50\"/>\n      </defs>\n      <g style=\"fill:#555555;\" transform=\"translate(39.81375 200.142912)scale(0.1 -0.1)\">\n       <use transform=\"translate(0 0.765625)\" xlink:href=\"#DejaVuSans-49\"/>\n       <use transform=\"translate(63.623047 0.765625)\" xlink:href=\"#DejaVuSans-48\"/>\n       <use transform=\"translate(128.203125 39.046875)scale(0.7)\" xlink:href=\"#DejaVuSans-8722\"/>\n       <use transform=\"translate(186.855469 39.046875)scale(0.7)\" xlink:href=\"#DejaVuSans-50\"/>\n      </g>\n     </g>\n    </g>\n    <g id=\"ytick_2\">\n     <g id=\"line2d_20\">\n      <defs>\n       <path d=\"M 0 0 \nL -2 0 \n\" id=\"mc981ae1b75\" style=\"stroke:#555555;stroke-width:0.6;\"/>\n      </defs>\n      <g>\n       <use style=\"fill:#555555;stroke:#555555;stroke-width:0.6;\" x=\"70.31375\" xlink:href=\"#mc981ae1b75\" y=\"223.827395\"/>\n      </g>\n     </g>\n    </g>\n    <g id=\"ytick_3\">\n     <g id=\"line2d_21\">\n      <g>\n       <use style=\"fill:#555555;stroke:#555555;stroke-width:0.6;\" x=\"70.31375\" xlink:href=\"#mc981ae1b75\" y=\"209.320528\"/>\n      </g>\n     </g>\n    </g>\n    <g id=\"ytick_4\">\n     <g id=\"line2d_22\">\n      <g>\n       <use style=\"fill:#555555;stroke:#555555;stroke-width:0.6;\" x=\"70.31375\" xlink:href=\"#mc981ae1b75\" y=\"110.971518\"/>\n      </g>\n     </g>\n     <g id=\"text_5\">\n      <!-- $\\mathdefault{2\\times10^{-2}}$ -->\n      <defs>\n       <path d=\"M 70.125 53.71875 \nL 47.796875 31.296875 \nL 70.125 8.984375 \nL 64.3125 3.078125 \nL 41.890625 25.484375 \nL 19.484375 3.078125 \nL 13.71875 8.984375 \nL 35.984375 31.296875 \nL 13.71875 53.71875 \nL 19.484375 59.625 \nL 41.890625 37.203125 \nL 64.3125 59.625 \nz\n\" id=\"DejaVuSans-215\"/>\n      </defs>\n      <g style=\"fill:#555555;\" transform=\"translate(22.81375 114.770736)scale(0.1 -0.1)\">\n       <use transform=\"translate(0 0.765625)\" xlink:href=\"#DejaVuSans-50\"/>\n       <use transform=\"translate(83.105469 0.765625)\" xlink:href=\"#DejaVuSans-215\"/>\n       <use transform=\"translate(186.376953 0.765625)\" xlink:href=\"#DejaVuSans-49\"/>\n       <use transform=\"translate(250 0.765625)\" xlink:href=\"#DejaVuSans-48\"/>\n       <use transform=\"translate(314.580078 39.046875)scale(0.7)\" xlink:href=\"#DejaVuSans-8722\"/>\n       <use transform=\"translate(373.232422 39.046875)scale(0.7)\" xlink:href=\"#DejaVuSans-50\"/>\n      </g>\n     </g>\n    </g>\n    <g id=\"ytick_5\">\n     <g id=\"line2d_23\">\n      <g>\n       <use style=\"fill:#555555;stroke:#555555;stroke-width:0.6;\" x=\"70.31375\" xlink:href=\"#mc981ae1b75\" y=\"61.031996\"/>\n      </g>\n     </g>\n     <g id=\"text_6\">\n      <!-- $\\mathdefault{3\\times10^{-2}}$ -->\n      <defs>\n       <path d=\"M 40.578125 39.3125 \nQ 47.65625 37.796875 51.625 33 \nQ 55.609375 28.21875 55.609375 21.1875 \nQ 55.609375 10.40625 48.1875 4.484375 \nQ 40.765625 -1.421875 27.09375 -1.421875 \nQ 22.515625 -1.421875 17.65625 -0.515625 \nQ 12.796875 0.390625 7.625 2.203125 \nL 7.625 11.71875 \nQ 11.71875 9.328125 16.59375 8.109375 \nQ 21.484375 6.890625 26.8125 6.890625 \nQ 36.078125 6.890625 40.9375 10.546875 \nQ 45.796875 14.203125 45.796875 21.1875 \nQ 45.796875 27.640625 41.28125 31.265625 \nQ 36.765625 34.90625 28.71875 34.90625 \nL 20.21875 34.90625 \nL 20.21875 43.015625 \nL 29.109375 43.015625 \nQ 36.375 43.015625 40.234375 45.921875 \nQ 44.09375 48.828125 44.09375 54.296875 \nQ 44.09375 59.90625 40.109375 62.90625 \nQ 36.140625 65.921875 28.71875 65.921875 \nQ 24.65625 65.921875 20.015625 65.03125 \nQ 15.375 64.15625 9.8125 62.3125 \nL 9.8125 71.09375 \nQ 15.4375 72.65625 20.34375 73.4375 \nQ 25.25 74.21875 29.59375 74.21875 \nQ 40.828125 74.21875 47.359375 69.109375 \nQ 53.90625 64.015625 53.90625 55.328125 \nQ 53.90625 49.265625 50.4375 45.09375 \nQ 46.96875 40.921875 40.578125 39.3125 \nz\n\" id=\"DejaVuSans-51\"/>\n      </defs>\n      <g style=\"fill:#555555;\" transform=\"translate(22.81375 64.831215)scale(0.1 -0.1)\">\n       <use transform=\"translate(0 0.765625)\" xlink:href=\"#DejaVuSans-51\"/>\n       <use transform=\"translate(83.105469 0.765625)\" xlink:href=\"#DejaVuSans-215\"/>\n       <use transform=\"translate(186.376953 0.765625)\" xlink:href=\"#DejaVuSans-49\"/>\n       <use transform=\"translate(250 0.765625)\" xlink:href=\"#DejaVuSans-48\"/>\n       <use transform=\"translate(314.580078 39.046875)scale(0.7)\" xlink:href=\"#DejaVuSans-8722\"/>\n       <use transform=\"translate(373.232422 39.046875)scale(0.7)\" xlink:href=\"#DejaVuSans-50\"/>\n      </g>\n     </g>\n    </g>\n    <g id=\"ytick_6\">\n     <g id=\"line2d_24\">\n      <g>\n       <use style=\"fill:#555555;stroke:#555555;stroke-width:0.6;\" x=\"70.31375\" xlink:href=\"#mc981ae1b75\" y=\"25.599342\"/>\n      </g>\n     </g>\n     <g id=\"text_7\">\n      <!-- $\\mathdefault{4\\times10^{-2}}$ -->\n      <defs>\n       <path d=\"M 37.796875 64.3125 \nL 12.890625 25.390625 \nL 37.796875 25.390625 \nz\nM 35.203125 72.90625 \nL 47.609375 72.90625 \nL 47.609375 25.390625 \nL 58.015625 25.390625 \nL 58.015625 17.1875 \nL 47.609375 17.1875 \nL 47.609375 0 \nL 37.796875 0 \nL 37.796875 17.1875 \nL 4.890625 17.1875 \nL 4.890625 26.703125 \nz\n\" id=\"DejaVuSans-52\"/>\n      </defs>\n      <g style=\"fill:#555555;\" transform=\"translate(22.81375 29.398561)scale(0.1 -0.1)\">\n       <use transform=\"translate(0 0.765625)\" xlink:href=\"#DejaVuSans-52\"/>\n       <use transform=\"translate(83.105469 0.765625)\" xlink:href=\"#DejaVuSans-215\"/>\n       <use transform=\"translate(186.376953 0.765625)\" xlink:href=\"#DejaVuSans-49\"/>\n       <use transform=\"translate(250 0.765625)\" xlink:href=\"#DejaVuSans-48\"/>\n       <use transform=\"translate(314.580078 39.046875)scale(0.7)\" xlink:href=\"#DejaVuSans-8722\"/>\n       <use transform=\"translate(373.232422 39.046875)scale(0.7)\" xlink:href=\"#DejaVuSans-50\"/>\n      </g>\n     </g>\n    </g>\n    <g id=\"text_8\">\n     <!-- Efficiency (count/gamma) -->\n     <defs>\n      <path d=\"M 37.109375 75.984375 \nL 37.109375 68.5 \nL 28.515625 68.5 \nQ 23.6875 68.5 21.796875 66.546875 \nQ 19.921875 64.59375 19.921875 59.515625 \nL 19.921875 54.6875 \nL 34.71875 54.6875 \nL 34.71875 47.703125 \nL 19.921875 47.703125 \nL 19.921875 0 \nL 10.890625 0 \nL 10.890625 47.703125 \nL 2.296875 47.703125 \nL 2.296875 54.6875 \nL 10.890625 54.6875 \nL 10.890625 58.5 \nQ 10.890625 67.625 15.140625 71.796875 \nQ 19.390625 75.984375 28.609375 75.984375 \nz\n\" id=\"DejaVuSans-102\"/>\n      <path d=\"M 9.421875 54.6875 \nL 18.40625 54.6875 \nL 18.40625 0 \nL 9.421875 0 \nz\nM 9.421875 75.984375 \nL 18.40625 75.984375 \nL 18.40625 64.59375 \nL 9.421875 64.59375 \nz\n\" id=\"DejaVuSans-105\"/>\n      <path d=\"M 48.78125 52.59375 \nL 48.78125 44.1875 \nQ 44.96875 46.296875 41.140625 47.34375 \nQ 37.3125 48.390625 33.40625 48.390625 \nQ 24.65625 48.390625 19.8125 42.84375 \nQ 14.984375 37.3125 14.984375 27.296875 \nQ 14.984375 17.28125 19.8125 11.734375 \nQ 24.65625 6.203125 33.40625 6.203125 \nQ 37.3125 6.203125 41.140625 7.25 \nQ 44.96875 8.296875 48.78125 10.40625 \nL 48.78125 2.09375 \nQ 45.015625 0.34375 40.984375 -0.53125 \nQ 36.96875 -1.421875 32.421875 -1.421875 \nQ 20.0625 -1.421875 12.78125 6.34375 \nQ 5.515625 14.109375 5.515625 27.296875 \nQ 5.515625 40.671875 12.859375 48.328125 \nQ 20.21875 56 33.015625 56 \nQ 37.15625 56 41.109375 55.140625 \nQ 45.0625 54.296875 48.78125 52.59375 \nz\n\" id=\"DejaVuSans-99\"/>\n      <path d=\"M 30.609375 48.390625 \nQ 23.390625 48.390625 19.1875 42.75 \nQ 14.984375 37.109375 14.984375 27.296875 \nQ 14.984375 17.484375 19.15625 11.84375 \nQ 23.34375 6.203125 30.609375 6.203125 \nQ 37.796875 6.203125 41.984375 11.859375 \nQ 46.1875 17.53125 46.1875 27.296875 \nQ 46.1875 37.015625 41.984375 42.703125 \nQ 37.796875 48.390625 30.609375 48.390625 \nz\nM 30.609375 56 \nQ 42.328125 56 49.015625 48.375 \nQ 55.71875 40.765625 55.71875 27.296875 \nQ 55.71875 13.875 49.015625 6.21875 \nQ 42.328125 -1.421875 30.609375 -1.421875 \nQ 18.84375 -1.421875 12.171875 6.21875 \nQ 5.515625 13.875 5.515625 27.296875 \nQ 5.515625 40.765625 12.171875 48.375 \nQ 18.84375 56 30.609375 56 \nz\n\" id=\"DejaVuSans-111\"/>\n      <path d=\"M 8.5 21.578125 \nL 8.5 54.6875 \nL 17.484375 54.6875 \nL 17.484375 21.921875 \nQ 17.484375 14.15625 20.5 10.265625 \nQ 23.53125 6.390625 29.59375 6.390625 \nQ 36.859375 6.390625 41.078125 11.03125 \nQ 45.3125 15.671875 45.3125 23.6875 \nL 45.3125 54.6875 \nL 54.296875 54.6875 \nL 54.296875 0 \nL 45.3125 0 \nL 45.3125 8.40625 \nQ 42.046875 3.421875 37.71875 1 \nQ 33.40625 -1.421875 27.6875 -1.421875 \nQ 18.265625 -1.421875 13.375 4.4375 \nQ 8.5 10.296875 8.5 21.578125 \nz\nM 31.109375 56 \nz\n\" id=\"DejaVuSans-117\"/>\n      <path d=\"M 18.3125 70.21875 \nL 18.3125 54.6875 \nL 36.8125 54.6875 \nL 36.8125 47.703125 \nL 18.3125 47.703125 \nL 18.3125 18.015625 \nQ 18.3125 11.328125 20.140625 9.421875 \nQ 21.96875 7.515625 27.59375 7.515625 \nL 36.8125 7.515625 \nL 36.8125 0 \nL 27.59375 0 \nQ 17.1875 0 13.234375 3.875 \nQ 9.28125 7.765625 9.28125 18.015625 \nL 9.28125 47.703125 \nL 2.6875 47.703125 \nL 2.6875 54.6875 \nL 9.28125 54.6875 \nL 9.28125 70.21875 \nz\n\" id=\"DejaVuSans-116\"/>\n      <path d=\"M 25.390625 72.90625 \nL 33.6875 72.90625 \nL 8.296875 -9.28125 \nL 0 -9.28125 \nz\n\" id=\"DejaVuSans-47\"/>\n      <path d=\"M 34.28125 27.484375 \nQ 23.390625 27.484375 19.1875 25 \nQ 14.984375 22.515625 14.984375 16.5 \nQ 14.984375 11.71875 18.140625 8.90625 \nQ 21.296875 6.109375 26.703125 6.109375 \nQ 34.1875 6.109375 38.703125 11.40625 \nQ 43.21875 16.703125 43.21875 25.484375 \nL 43.21875 27.484375 \nz\nM 52.203125 31.203125 \nL 52.203125 0 \nL 43.21875 0 \nL 43.21875 8.296875 \nQ 40.140625 3.328125 35.546875 0.953125 \nQ 30.953125 -1.421875 24.3125 -1.421875 \nQ 15.921875 -1.421875 10.953125 3.296875 \nQ 6 8.015625 6 15.921875 \nQ 6 25.140625 12.171875 29.828125 \nQ 18.359375 34.515625 30.609375 34.515625 \nL 43.21875 34.515625 \nL 43.21875 35.40625 \nQ 43.21875 41.609375 39.140625 45 \nQ 35.0625 48.390625 27.6875 48.390625 \nQ 23 48.390625 18.546875 47.265625 \nQ 14.109375 46.140625 10.015625 43.890625 \nL 10.015625 52.203125 \nQ 14.9375 54.109375 19.578125 55.046875 \nQ 24.21875 56 28.609375 56 \nQ 40.484375 56 46.34375 49.84375 \nQ 52.203125 43.703125 52.203125 31.203125 \nz\n\" id=\"DejaVuSans-97\"/>\n      <path d=\"M 52 44.1875 \nQ 55.375 50.25 60.0625 53.125 \nQ 64.75 56 71.09375 56 \nQ 79.640625 56 84.28125 50.015625 \nQ 88.921875 44.046875 88.921875 33.015625 \nL 88.921875 0 \nL 79.890625 0 \nL 79.890625 32.71875 \nQ 79.890625 40.578125 77.09375 44.375 \nQ 74.3125 48.1875 68.609375 48.1875 \nQ 61.625 48.1875 57.5625 43.546875 \nQ 53.515625 38.921875 53.515625 30.90625 \nL 53.515625 0 \nL 44.484375 0 \nL 44.484375 32.71875 \nQ 44.484375 40.625 41.703125 44.40625 \nQ 38.921875 48.1875 33.109375 48.1875 \nQ 26.21875 48.1875 22.15625 43.53125 \nQ 18.109375 38.875 18.109375 30.90625 \nL 18.109375 0 \nL 9.078125 0 \nL 9.078125 54.6875 \nL 18.109375 54.6875 \nL 18.109375 46.1875 \nQ 21.1875 51.21875 25.484375 53.609375 \nQ 29.78125 56 35.6875 56 \nQ 41.65625 56 45.828125 52.96875 \nQ 50 49.953125 52 44.1875 \nz\n\" id=\"DejaVuSans-109\"/>\n     </defs>\n     <g style=\"fill:#555555;\" transform=\"translate(16.318125 199.61222)rotate(-90)scale(0.12 -0.12)\">\n      <use xlink:href=\"#DejaVuSans-69\"/>\n      <use x=\"63.183594\" xlink:href=\"#DejaVuSans-102\"/>\n      <use x=\"98.388672\" xlink:href=\"#DejaVuSans-102\"/>\n      <use x=\"133.59375\" xlink:href=\"#DejaVuSans-105\"/>\n      <use x=\"161.376953\" xlink:href=\"#DejaVuSans-99\"/>\n      <use x=\"216.357422\" xlink:href=\"#DejaVuSans-105\"/>\n      <use x=\"244.140625\" xlink:href=\"#DejaVuSans-101\"/>\n      <use x=\"305.664062\" xlink:href=\"#DejaVuSans-110\"/>\n      <use x=\"369.042969\" xlink:href=\"#DejaVuSans-99\"/>\n      <use x=\"424.023438\" xlink:href=\"#DejaVuSans-121\"/>\n      <use x=\"483.203125\" xlink:href=\"#DejaVuSans-32\"/>\n      <use x=\"514.990234\" xlink:href=\"#DejaVuSans-40\"/>\n      <use x=\"554.003906\" xlink:href=\"#DejaVuSans-99\"/>\n      <use x=\"608.984375\" xlink:href=\"#DejaVuSans-111\"/>\n      <use x=\"670.166016\" xlink:href=\"#DejaVuSans-117\"/>\n      <use x=\"733.544922\" xlink:href=\"#DejaVuSans-110\"/>\n      <use x=\"796.923828\" xlink:href=\"#DejaVuSans-116\"/>\n      <use x=\"836.132812\" xlink:href=\"#DejaVuSans-47\"/>\n      <use x=\"869.824219\" xlink:href=\"#DejaVuSans-103\"/>\n      <use x=\"933.300781\" xlink:href=\"#DejaVuSans-97\"/>\n      <use x=\"994.580078\" xlink:href=\"#DejaVuSans-109\"/>\n      <use x=\"1091.992188\" xlink:href=\"#DejaVuSans-109\"/>\n      <use x=\"1189.404297\" xlink:href=\"#DejaVuSans-97\"/>\n      <use x=\"1250.683594\" xlink:href=\"#DejaVuSans-41\"/>\n     </g>\n    </g>\n   </g>\n   <g id=\"line2d_25\">\n    <path clip-path=\"url(#p42aad80218)\" d=\"M 204.935608 235.024144 \nL 204.935608 9.435921 \n\" style=\"fill:none;stroke:#e24a33;stroke-dasharray:2.775,1.2;stroke-dashoffset:0;stroke-width:0.75;\"/>\n   </g>\n   <g id=\"line2d_26\">\n    <path clip-path=\"url(#p42aad80218)\" d=\"M 85.604818 198.955378 \nL 90.327349 181.023738 \nL 94.821986 164.83484 \nL 99.109715 150.188732 \nL 103.208751 136.915269 \nL 107.135004 124.868663 \nL 110.902453 113.923205 \nL 114.523446 103.969866 \nL 118.008946 94.913581 \nL 122.190075 84.728773 \nL 126.191581 75.674985 \nL 130.028265 67.631049 \nL 133.713168 60.492352 \nL 137.257844 54.168072 \nL 140.672576 48.578955 \nL 143.966555 43.655515 \nL 147.14803 39.336562 \nL 150.224433 35.56799 \nL 153.202482 32.301777 \nL 156.088274 29.495145 \nL 158.887351 27.109866 \nL 161.604775 25.111665 \nL 164.245174 23.469724 \nL 166.812794 22.156258 \nL 169.31154 21.146148 \nL 171.745012 20.416631 \nL 174.116531 19.947029 \nL 176.429176 19.71852 \nL 178.685798 19.71393 \nL 180.889047 19.917563 \nL 183.041391 20.315044 \nL 185.560234 21.029405 \nL 188.012761 21.983188 \nL 190.402375 23.15757 \nL 192.732224 24.535462 \nL 195.378722 26.379556 \nL 197.952111 28.457206 \nL 200.456319 30.748309 \nL 203.238197 33.604901 \nL 204.598591 35.121182 \nL 204.598591 35.121182 \n\" style=\"fill:none;stroke:#0000cd;stroke-linecap:square;stroke-width:0.75;\"/>\n   </g>\n   <g id=\"line2d_27\">\n    <path clip-path=\"url(#p42aad80218)\" d=\"M 204.935608 35.570737 \nL 269.155002 101.022867 \nL 332.03881 164.791609 \nL 391.426176 224.72202 \nL 391.426176 224.72202 \n\" style=\"fill:none;stroke:#0000cd;stroke-linecap:square;stroke-width:0.75;\"/>\n   </g>\n   <g id=\"line2d_28\">\n    <defs>\n     <path d=\"M 0 3 \nC 0.795609 3 1.55874 2.683901 2.12132 2.12132 \nC 2.683901 1.55874 3 0.795609 3 0 \nC 3 -0.795609 2.683901 -1.55874 2.12132 -2.12132 \nC 1.55874 -2.683901 0.795609 -3 0 -3 \nC -0.795609 -3 -1.55874 -2.683901 -2.12132 -2.12132 \nC -2.683901 -1.55874 -3 -0.795609 -3 0 \nC -3 0.795609 -2.683901 1.55874 -2.12132 2.12132 \nC -1.55874 2.683901 -0.795609 3 0 3 \nz\n\" id=\"m0117ddc493\" style=\"stroke:#ff0000;stroke-opacity:0.75;\"/>\n    </defs>\n    <g clip-path=\"url(#p42aad80218)\">\n     <use style=\"fill:#ff0000;fill-opacity:0.75;stroke:#ff0000;stroke-opacity:0.75;\" x=\"85.604818\" xlink:href=\"#m0117ddc493\" y=\"196.343693\"/>\n     <use style=\"fill:#ff0000;fill-opacity:0.75;stroke:#ff0000;stroke-opacity:0.75;\" x=\"130.544959\" xlink:href=\"#m0117ddc493\" y=\"67.890977\"/>\n     <use style=\"fill:#ff0000;fill-opacity:0.75;stroke:#ff0000;stroke-opacity:0.75;\" x=\"168.749222\" xlink:href=\"#m0117ddc493\" y=\"19.798437\"/>\n     <use style=\"fill:#ff0000;fill-opacity:0.75;stroke:#ff0000;stroke-opacity:0.75;\" x=\"179.14702\" xlink:href=\"#m0117ddc493\" y=\"20.807179\"/>\n     <use style=\"fill:#ff0000;fill-opacity:0.75;stroke:#ff0000;stroke-opacity:0.75;\" x=\"244.890535\" xlink:href=\"#m0117ddc493\" y=\"78.231549\"/>\n     <use style=\"fill:#ff0000;fill-opacity:0.75;stroke:#ff0000;stroke-opacity:0.75;\" x=\"253.404865\" xlink:href=\"#m0117ddc493\" y=\"83.847987\"/>\n     <use style=\"fill:#ff0000;fill-opacity:0.75;stroke:#ff0000;stroke-opacity:0.75;\" x=\"268.471161\" xlink:href=\"#m0117ddc493\" y=\"101.236204\"/>\n     <use style=\"fill:#ff0000;fill-opacity:0.75;stroke:#ff0000;stroke-opacity:0.75;\" x=\"275.484373\" xlink:href=\"#m0117ddc493\" y=\"103.001398\"/>\n     <use style=\"fill:#ff0000;fill-opacity:0.75;stroke:#ff0000;stroke-opacity:0.75;\" x=\"312.208758\" xlink:href=\"#m0117ddc493\" y=\"148.223985\"/>\n     <use style=\"fill:#ff0000;fill-opacity:0.75;stroke:#ff0000;stroke-opacity:0.75;\" x=\"317.826754\" xlink:href=\"#m0117ddc493\" y=\"152.367899\"/>\n     <use style=\"fill:#ff0000;fill-opacity:0.75;stroke:#ff0000;stroke-opacity:0.75;\" x=\"326.209383\" xlink:href=\"#m0117ddc493\" y=\"159.39013\"/>\n     <use style=\"fill:#ff0000;fill-opacity:0.75;stroke:#ff0000;stroke-opacity:0.75;\" x=\"343.413654\" xlink:href=\"#m0117ddc493\" y=\"178.680767\"/>\n     <use style=\"fill:#ff0000;fill-opacity:0.75;stroke:#ff0000;stroke-opacity:0.75;\" x=\"347.869122\" xlink:href=\"#m0117ddc493\" y=\"176.428538\"/>\n     <use style=\"fill:#ff0000;fill-opacity:0.75;stroke:#ff0000;stroke-opacity:0.75;\" x=\"379.568057\" xlink:href=\"#m0117ddc493\" y=\"211.460198\"/>\n     <use style=\"fill:#ff0000;fill-opacity:0.75;stroke:#ff0000;stroke-opacity:0.75;\" x=\"391.426176\" xlink:href=\"#m0117ddc493\" y=\"224.770134\"/>\n    </g>\n   </g>\n   <g id=\"patch_3\">\n    <path d=\"M 70.31375 235.024144 \nL 70.31375 9.435921 \n\" style=\"fill:none;stroke:#ffffff;stroke-linecap:square;stroke-linejoin:miter;\"/>\n   </g>\n   <g id=\"patch_4\">\n    <path d=\"M 406.717244 235.024144 \nL 406.717244 9.435921 \n\" style=\"fill:none;stroke:#ffffff;stroke-linecap:square;stroke-linejoin:miter;\"/>\n   </g>\n   <g id=\"patch_5\">\n    <path d=\"M 70.31375 235.024144 \nL 406.717244 235.024144 \n\" style=\"fill:none;stroke:#ffffff;stroke-linecap:square;stroke-linejoin:miter;\"/>\n   </g>\n   <g id=\"patch_6\">\n    <path d=\"M 70.31375 9.435921 \nL 406.717244 9.435921 \n\" style=\"fill:none;stroke:#ffffff;stroke-linecap:square;stroke-linejoin:miter;\"/>\n   </g>\n   <g id=\"patch_7\">\n    <path d=\"M 222.935283 146.404172 \nQ 213.935446 146.404172 205.494625 146.404172 \n\" style=\"fill:none;stroke:#000000;stroke-linecap:round;stroke-width:0.5;\"/>\n    <path d=\"M 209.494625 148.404172 \nL 205.494625 146.404172 \nL 209.494625 144.404172 \nL 209.494625 148.404172 \nz\n\" style=\"stroke:#000000;stroke-linecap:round;stroke-width:0.5;\"/>\n   </g>\n   <g id=\"text_9\">\n    <!-- Knee -->\n    <defs>\n     <path d=\"M 9.8125 72.90625 \nL 19.671875 72.90625 \nL 19.671875 42.09375 \nL 52.390625 72.90625 \nL 65.09375 72.90625 \nL 28.90625 38.921875 \nL 67.671875 0 \nL 54.6875 0 \nL 19.671875 35.109375 \nL 19.671875 0 \nL 9.8125 0 \nz\n\" id=\"DejaVuSans-75\"/>\n    </defs>\n    <g transform=\"translate(224.935608 149.163547)scale(0.1 -0.1)\">\n     <use xlink:href=\"#DejaVuSans-75\"/>\n     <use x=\"65.576172\" xlink:href=\"#DejaVuSans-110\"/>\n     <use x=\"128.955078\" xlink:href=\"#DejaVuSans-101\"/>\n     <use x=\"190.478516\" xlink:href=\"#DejaVuSans-101\"/>\n    </g>\n   </g>\n   <g id=\"text_10\">\n    <!-- $^{133}$Ba -->\n    <defs>\n     <path d=\"M 19.671875 34.8125 \nL 19.671875 8.109375 \nL 35.5 8.109375 \nQ 43.453125 8.109375 47.28125 11.40625 \nQ 51.125 14.703125 51.125 21.484375 \nQ 51.125 28.328125 47.28125 31.5625 \nQ 43.453125 34.8125 35.5 34.8125 \nz\nM 19.671875 64.796875 \nL 19.671875 42.828125 \nL 34.28125 42.828125 \nQ 41.5 42.828125 45.03125 45.53125 \nQ 48.578125 48.25 48.578125 53.8125 \nQ 48.578125 59.328125 45.03125 62.0625 \nQ 41.5 64.796875 34.28125 64.796875 \nz\nM 9.8125 72.90625 \nL 35.015625 72.90625 \nQ 46.296875 72.90625 52.390625 68.21875 \nQ 58.5 63.53125 58.5 54.890625 \nQ 58.5 48.1875 55.375 44.234375 \nQ 52.25 40.28125 46.1875 39.3125 \nQ 53.46875 37.75 57.5 32.78125 \nQ 61.53125 27.828125 61.53125 20.40625 \nQ 61.53125 10.640625 54.890625 5.3125 \nQ 48.25 0 35.984375 0 \nL 9.8125 0 \nz\n\" id=\"DejaVuSans-66\"/>\n    </defs>\n    <g transform=\"translate(135.544959 72.890977)scale(0.1 -0.1)\">\n     <use transform=\"translate(0.957031 39.046875)scale(0.7)\" xlink:href=\"#DejaVuSans-49\"/>\n     <use transform=\"translate(45.493164 39.046875)scale(0.7)\" xlink:href=\"#DejaVuSans-51\"/>\n     <use transform=\"translate(90.029297 39.046875)scale(0.7)\" xlink:href=\"#DejaVuSans-51\"/>\n     <use transform=\"translate(137.299805 0.765625)\" xlink:href=\"#DejaVuSans-66\"/>\n     <use transform=\"translate(205.90332 0.765625)\" xlink:href=\"#DejaVuSans-97\"/>\n    </g>\n   </g>\n   <g id=\"text_11\">\n    <!-- $^{57}$Co -->\n    <defs>\n     <path d=\"M 10.796875 72.90625 \nL 49.515625 72.90625 \nL 49.515625 64.59375 \nL 19.828125 64.59375 \nL 19.828125 46.734375 \nQ 21.96875 47.46875 24.109375 47.828125 \nQ 26.265625 48.1875 28.421875 48.1875 \nQ 40.625 48.1875 47.75 41.5 \nQ 54.890625 34.8125 54.890625 23.390625 \nQ 54.890625 11.625 47.5625 5.09375 \nQ 40.234375 -1.421875 26.90625 -1.421875 \nQ 22.3125 -1.421875 17.546875 -0.640625 \nQ 12.796875 0.140625 7.71875 1.703125 \nL 7.71875 11.625 \nQ 12.109375 9.234375 16.796875 8.0625 \nQ 21.484375 6.890625 26.703125 6.890625 \nQ 35.15625 6.890625 40.078125 11.328125 \nQ 45.015625 15.765625 45.015625 23.390625 \nQ 45.015625 31 40.078125 35.4375 \nQ 35.15625 39.890625 26.703125 39.890625 \nQ 22.75 39.890625 18.8125 39.015625 \nQ 14.890625 38.140625 10.796875 36.28125 \nz\n\" id=\"DejaVuSans-53\"/>\n     <path d=\"M 8.203125 72.90625 \nL 55.078125 72.90625 \nL 55.078125 68.703125 \nL 28.609375 0 \nL 18.3125 0 \nL 43.21875 64.59375 \nL 8.203125 64.59375 \nz\n\" id=\"DejaVuSans-55\"/>\n     <path d=\"M 64.40625 67.28125 \nL 64.40625 56.890625 \nQ 59.421875 61.53125 53.78125 63.8125 \nQ 48.140625 66.109375 41.796875 66.109375 \nQ 29.296875 66.109375 22.65625 58.46875 \nQ 16.015625 50.828125 16.015625 36.375 \nQ 16.015625 21.96875 22.65625 14.328125 \nQ 29.296875 6.6875 41.796875 6.6875 \nQ 48.140625 6.6875 53.78125 8.984375 \nQ 59.421875 11.28125 64.40625 15.921875 \nL 64.40625 5.609375 \nQ 59.234375 2.09375 53.4375 0.328125 \nQ 47.65625 -1.421875 41.21875 -1.421875 \nQ 24.65625 -1.421875 15.125 8.703125 \nQ 5.609375 18.84375 5.609375 36.375 \nQ 5.609375 53.953125 15.125 64.078125 \nQ 24.65625 74.21875 41.21875 74.21875 \nQ 47.75 74.21875 53.53125 72.484375 \nQ 59.328125 70.75 64.40625 67.28125 \nz\n\" id=\"DejaVuSans-67\"/>\n    </defs>\n    <g transform=\"translate(153.749222 14.798437)scale(0.1 -0.1)\">\n     <use transform=\"translate(0.957031 38.965625)scale(0.7)\" xlink:href=\"#DejaVuSans-53\"/>\n     <use transform=\"translate(40.418164 38.965625)scale(0.7)\" xlink:href=\"#DejaVuSans-55\"/>\n     <use transform=\"translate(87.688672 0.684375)\" xlink:href=\"#DejaVuSans-67\"/>\n     <use transform=\"translate(157.512891 0.684375)\" xlink:href=\"#DejaVuSans-111\"/>\n    </g>\n   </g>\n   <g id=\"text_12\">\n    <!-- $^{57}$Co -->\n    <g transform=\"translate(174.14702 35.807179)scale(0.1 -0.1)\">\n     <use transform=\"translate(0.957031 38.965625)scale(0.7)\" xlink:href=\"#DejaVuSans-53\"/>\n     <use transform=\"translate(40.418164 38.965625)scale(0.7)\" xlink:href=\"#DejaVuSans-55\"/>\n     <use transform=\"translate(87.688672 0.684375)\" xlink:href=\"#DejaVuSans-67\"/>\n     <use transform=\"translate(157.512891 0.684375)\" xlink:href=\"#DejaVuSans-111\"/>\n    </g>\n   </g>\n   <g id=\"text_13\">\n    <!-- $^{133}$Ba -->\n    <g transform=\"translate(244.890535 78.231549)scale(0.1 -0.1)\">\n     <use transform=\"translate(0.957031 39.046875)scale(0.7)\" xlink:href=\"#DejaVuSans-49\"/>\n     <use transform=\"translate(45.493164 39.046875)scale(0.7)\" xlink:href=\"#DejaVuSans-51\"/>\n     <use transform=\"translate(90.029297 39.046875)scale(0.7)\" xlink:href=\"#DejaVuSans-51\"/>\n     <use transform=\"translate(137.299805 0.765625)\" xlink:href=\"#DejaVuSans-66\"/>\n     <use transform=\"translate(205.90332 0.765625)\" xlink:href=\"#DejaVuSans-97\"/>\n    </g>\n   </g>\n   <g id=\"text_14\">\n    <!-- $^{133}$Ba -->\n    <g transform=\"translate(233.404865 98.847987)scale(0.1 -0.1)\">\n     <use transform=\"translate(0.957031 39.046875)scale(0.7)\" xlink:href=\"#DejaVuSans-49\"/>\n     <use transform=\"translate(45.493164 39.046875)scale(0.7)\" xlink:href=\"#DejaVuSans-51\"/>\n     <use transform=\"translate(90.029297 39.046875)scale(0.7)\" xlink:href=\"#DejaVuSans-51\"/>\n     <use transform=\"translate(137.299805 0.765625)\" xlink:href=\"#DejaVuSans-66\"/>\n     <use transform=\"translate(205.90332 0.765625)\" xlink:href=\"#DejaVuSans-97\"/>\n    </g>\n   </g>\n   <g id=\"text_15\">\n    <!-- $^{133}$Ba -->\n    <g transform=\"translate(268.471161 101.236204)scale(0.1 -0.1)\">\n     <use transform=\"translate(0.957031 39.046875)scale(0.7)\" xlink:href=\"#DejaVuSans-49\"/>\n     <use transform=\"translate(45.493164 39.046875)scale(0.7)\" xlink:href=\"#DejaVuSans-51\"/>\n     <use transform=\"translate(90.029297 39.046875)scale(0.7)\" xlink:href=\"#DejaVuSans-51\"/>\n     <use transform=\"translate(137.299805 0.765625)\" xlink:href=\"#DejaVuSans-66\"/>\n     <use transform=\"translate(205.90332 0.765625)\" xlink:href=\"#DejaVuSans-97\"/>\n    </g>\n   </g>\n   <g id=\"text_16\">\n    <!-- $^{133}$Ba -->\n    <g transform=\"translate(255.484373 118.001398)scale(0.1 -0.1)\">\n     <use transform=\"translate(0.957031 39.046875)scale(0.7)\" xlink:href=\"#DejaVuSans-49\"/>\n     <use transform=\"translate(45.493164 39.046875)scale(0.7)\" xlink:href=\"#DejaVuSans-51\"/>\n     <use transform=\"translate(90.029297 39.046875)scale(0.7)\" xlink:href=\"#DejaVuSans-51\"/>\n     <use transform=\"translate(137.299805 0.765625)\" xlink:href=\"#DejaVuSans-66\"/>\n     <use transform=\"translate(205.90332 0.765625)\" xlink:href=\"#DejaVuSans-97\"/>\n    </g>\n   </g>\n   <g id=\"text_17\">\n    <!-- $^{134}$Cs -->\n    <defs>\n     <path d=\"M 44.28125 53.078125 \nL 44.28125 44.578125 \nQ 40.484375 46.53125 36.375 47.5 \nQ 32.28125 48.484375 27.875 48.484375 \nQ 21.1875 48.484375 17.84375 46.4375 \nQ 14.5 44.390625 14.5 40.28125 \nQ 14.5 37.15625 16.890625 35.375 \nQ 19.28125 33.59375 26.515625 31.984375 \nL 29.59375 31.296875 \nQ 39.15625 29.25 43.1875 25.515625 \nQ 47.21875 21.78125 47.21875 15.09375 \nQ 47.21875 7.46875 41.1875 3.015625 \nQ 35.15625 -1.421875 24.609375 -1.421875 \nQ 20.21875 -1.421875 15.453125 -0.5625 \nQ 10.6875 0.296875 5.421875 2 \nL 5.421875 11.28125 \nQ 10.40625 8.6875 15.234375 7.390625 \nQ 20.0625 6.109375 24.8125 6.109375 \nQ 31.15625 6.109375 34.5625 8.28125 \nQ 37.984375 10.453125 37.984375 14.40625 \nQ 37.984375 18.0625 35.515625 20.015625 \nQ 33.0625 21.96875 24.703125 23.78125 \nL 21.578125 24.515625 \nQ 13.234375 26.265625 9.515625 29.90625 \nQ 5.8125 33.546875 5.8125 39.890625 \nQ 5.8125 47.609375 11.28125 51.796875 \nQ 16.75 56 26.8125 56 \nQ 31.78125 56 36.171875 55.265625 \nQ 40.578125 54.546875 44.28125 53.078125 \nz\n\" id=\"DejaVuSans-115\"/>\n    </defs>\n    <g transform=\"translate(312.208758 148.223985)scale(0.1 -0.1)\">\n     <use transform=\"translate(0.957031 39.046875)scale(0.7)\" xlink:href=\"#DejaVuSans-49\"/>\n     <use transform=\"translate(45.493164 39.046875)scale(0.7)\" xlink:href=\"#DejaVuSans-51\"/>\n     <use transform=\"translate(90.029297 39.046875)scale(0.7)\" xlink:href=\"#DejaVuSans-52\"/>\n     <use transform=\"translate(137.299805 0.765625)\" xlink:href=\"#DejaVuSans-67\"/>\n     <use transform=\"translate(207.124023 0.765625)\" xlink:href=\"#DejaVuSans-115\"/>\n    </g>\n   </g>\n   <g id=\"text_18\">\n    <!-- $^{134}$Cs -->\n    <g transform=\"translate(297.826754 167.367899)scale(0.1 -0.1)\">\n     <use transform=\"translate(0.957031 39.046875)scale(0.7)\" xlink:href=\"#DejaVuSans-49\"/>\n     <use transform=\"translate(45.493164 39.046875)scale(0.7)\" xlink:href=\"#DejaVuSans-51\"/>\n     <use transform=\"translate(90.029297 39.046875)scale(0.7)\" xlink:href=\"#DejaVuSans-52\"/>\n     <use transform=\"translate(137.299805 0.765625)\" xlink:href=\"#DejaVuSans-67\"/>\n     <use transform=\"translate(207.124023 0.765625)\" xlink:href=\"#DejaVuSans-115\"/>\n    </g>\n   </g>\n   <g id=\"text_19\">\n    <!-- $^{137}$Cs -->\n    <g transform=\"translate(326.209383 159.39013)scale(0.1 -0.1)\">\n     <use transform=\"translate(0.957031 39.046875)scale(0.7)\" xlink:href=\"#DejaVuSans-49\"/>\n     <use transform=\"translate(45.493164 39.046875)scale(0.7)\" xlink:href=\"#DejaVuSans-51\"/>\n     <use transform=\"translate(90.029297 39.046875)scale(0.7)\" xlink:href=\"#DejaVuSans-55\"/>\n     <use transform=\"translate(137.299805 0.765625)\" xlink:href=\"#DejaVuSans-67\"/>\n     <use transform=\"translate(207.124023 0.765625)\" xlink:href=\"#DejaVuSans-115\"/>\n    </g>\n   </g>\n   <g id=\"text_20\">\n    <!-- $^{134}$Cs -->\n    <g transform=\"translate(323.413654 193.680767)scale(0.1 -0.1)\">\n     <use transform=\"translate(0.957031 39.046875)scale(0.7)\" xlink:href=\"#DejaVuSans-49\"/>\n     <use transform=\"translate(45.493164 39.046875)scale(0.7)\" xlink:href=\"#DejaVuSans-51\"/>\n     <use transform=\"translate(90.029297 39.046875)scale(0.7)\" xlink:href=\"#DejaVuSans-52\"/>\n     <use transform=\"translate(137.299805 0.765625)\" xlink:href=\"#DejaVuSans-67\"/>\n     <use transform=\"translate(207.124023 0.765625)\" xlink:href=\"#DejaVuSans-115\"/>\n    </g>\n   </g>\n   <g id=\"text_21\">\n    <!-- $^{54}$Mn -->\n    <defs>\n     <path d=\"M 9.8125 72.90625 \nL 24.515625 72.90625 \nL 43.109375 23.296875 \nL 61.8125 72.90625 \nL 76.515625 72.90625 \nL 76.515625 0 \nL 66.890625 0 \nL 66.890625 64.015625 \nL 48.09375 14.015625 \nL 38.1875 14.015625 \nL 19.390625 64.015625 \nL 19.390625 0 \nL 9.8125 0 \nz\n\" id=\"DejaVuSans-77\"/>\n    </defs>\n    <g transform=\"translate(347.869122 176.428538)scale(0.1 -0.1)\">\n     <use transform=\"translate(0.957031 38.965625)scale(0.7)\" xlink:href=\"#DejaVuSans-53\"/>\n     <use transform=\"translate(45.493164 38.965625)scale(0.7)\" xlink:href=\"#DejaVuSans-52\"/>\n     <use transform=\"translate(92.763672 0.684375)\" xlink:href=\"#DejaVuSans-77\"/>\n     <use transform=\"translate(179.042969 0.684375)\" xlink:href=\"#DejaVuSans-110\"/>\n    </g>\n   </g>\n   <g id=\"text_22\">\n    <!-- $^{60}$Co -->\n    <defs>\n     <path d=\"M 33.015625 40.375 \nQ 26.375 40.375 22.484375 35.828125 \nQ 18.609375 31.296875 18.609375 23.390625 \nQ 18.609375 15.53125 22.484375 10.953125 \nQ 26.375 6.390625 33.015625 6.390625 \nQ 39.65625 6.390625 43.53125 10.953125 \nQ 47.40625 15.53125 47.40625 23.390625 \nQ 47.40625 31.296875 43.53125 35.828125 \nQ 39.65625 40.375 33.015625 40.375 \nz\nM 52.59375 71.296875 \nL 52.59375 62.3125 \nQ 48.875 64.0625 45.09375 64.984375 \nQ 41.3125 65.921875 37.59375 65.921875 \nQ 27.828125 65.921875 22.671875 59.328125 \nQ 17.53125 52.734375 16.796875 39.40625 \nQ 19.671875 43.65625 24.015625 45.921875 \nQ 28.375 48.1875 33.59375 48.1875 \nQ 44.578125 48.1875 50.953125 41.515625 \nQ 57.328125 34.859375 57.328125 23.390625 \nQ 57.328125 12.15625 50.6875 5.359375 \nQ 44.046875 -1.421875 33.015625 -1.421875 \nQ 20.359375 -1.421875 13.671875 8.265625 \nQ 6.984375 17.96875 6.984375 36.375 \nQ 6.984375 53.65625 15.1875 63.9375 \nQ 23.390625 74.21875 37.203125 74.21875 \nQ 40.921875 74.21875 44.703125 73.484375 \nQ 48.484375 72.75 52.59375 71.296875 \nz\n\" id=\"DejaVuSans-54\"/>\n    </defs>\n    <g transform=\"translate(379.568057 211.460198)scale(0.1 -0.1)\">\n     <use transform=\"translate(0.957031 39.046875)scale(0.7)\" xlink:href=\"#DejaVuSans-54\"/>\n     <use transform=\"translate(45.493164 39.046875)scale(0.7)\" xlink:href=\"#DejaVuSans-48\"/>\n     <use transform=\"translate(92.763672 0.765625)\" xlink:href=\"#DejaVuSans-67\"/>\n     <use transform=\"translate(162.587891 0.765625)\" xlink:href=\"#DejaVuSans-111\"/>\n    </g>\n   </g>\n   <g id=\"text_23\">\n    <!-- $^{60}$Co -->\n    <g transform=\"translate(391.426176 224.770134)scale(0.1 -0.1)\">\n     <use transform=\"translate(0.957031 39.046875)scale(0.7)\" xlink:href=\"#DejaVuSans-54\"/>\n     <use transform=\"translate(45.493164 39.046875)scale(0.7)\" xlink:href=\"#DejaVuSans-48\"/>\n     <use transform=\"translate(92.763672 0.765625)\" xlink:href=\"#DejaVuSans-67\"/>\n     <use transform=\"translate(162.587891 0.765625)\" xlink:href=\"#DejaVuSans-111\"/>\n    </g>\n   </g>\n   <g id=\"legend_1\">\n    <g id=\"patch_8\">\n     <path d=\"M 339.570369 46.792171 \nL 399.717244 46.792171 \nQ 401.717244 46.792171 401.717244 44.792171 \nL 401.717244 16.435921 \nQ 401.717244 14.435921 399.717244 14.435921 \nL 339.570369 14.435921 \nQ 337.570369 14.435921 337.570369 16.435921 \nL 337.570369 44.792171 \nQ 337.570369 46.792171 339.570369 46.792171 \nz\n\" style=\"fill:#e5e5e5;opacity:0.8;stroke:#cccccc;stroke-linejoin:miter;stroke-width:0.5;\"/>\n    </g>\n    <g id=\"line2d_29\">\n     <path d=\"M 341.570369 22.534359 \nL 361.570369 22.534359 \n\" style=\"fill:none;stroke:#0000cd;stroke-linecap:square;stroke-width:0.75;\"/>\n    </g>\n    <g id=\"line2d_30\"/>\n    <g id=\"text_24\">\n     <!-- Fitted -->\n     <defs>\n      <path d=\"M 9.8125 72.90625 \nL 51.703125 72.90625 \nL 51.703125 64.59375 \nL 19.671875 64.59375 \nL 19.671875 43.109375 \nL 48.578125 43.109375 \nL 48.578125 34.8125 \nL 19.671875 34.8125 \nL 19.671875 0 \nL 9.8125 0 \nz\n\" id=\"DejaVuSans-70\"/>\n      <path d=\"M 45.40625 46.390625 \nL 45.40625 75.984375 \nL 54.390625 75.984375 \nL 54.390625 0 \nL 45.40625 0 \nL 45.40625 8.203125 \nQ 42.578125 3.328125 38.25 0.953125 \nQ 33.9375 -1.421875 27.875 -1.421875 \nQ 17.96875 -1.421875 11.734375 6.484375 \nQ 5.515625 14.40625 5.515625 27.296875 \nQ 5.515625 40.1875 11.734375 48.09375 \nQ 17.96875 56 27.875 56 \nQ 33.9375 56 38.25 53.625 \nQ 42.578125 51.265625 45.40625 46.390625 \nz\nM 14.796875 27.296875 \nQ 14.796875 17.390625 18.875 11.75 \nQ 22.953125 6.109375 30.078125 6.109375 \nQ 37.203125 6.109375 41.296875 11.75 \nQ 45.40625 17.390625 45.40625 27.296875 \nQ 45.40625 37.203125 41.296875 42.84375 \nQ 37.203125 48.484375 30.078125 48.484375 \nQ 22.953125 48.484375 18.875 42.84375 \nQ 14.796875 37.203125 14.796875 27.296875 \nz\n\" id=\"DejaVuSans-100\"/>\n     </defs>\n     <g transform=\"translate(369.570369 26.034359)scale(0.1 -0.1)\">\n      <use xlink:href=\"#DejaVuSans-70\"/>\n      <use x=\"50.269531\" xlink:href=\"#DejaVuSans-105\"/>\n      <use x=\"78.052734\" xlink:href=\"#DejaVuSans-116\"/>\n      <use x=\"117.261719\" xlink:href=\"#DejaVuSans-116\"/>\n      <use x=\"156.470703\" xlink:href=\"#DejaVuSans-101\"/>\n      <use x=\"217.994141\" xlink:href=\"#DejaVuSans-100\"/>\n     </g>\n    </g>\n    <g id=\"line2d_31\"/>\n    <g id=\"line2d_32\">\n     <g>\n      <use style=\"fill:#ff0000;fill-opacity:0.75;stroke:#ff0000;stroke-opacity:0.75;\" x=\"351.570369\" xlink:href=\"#m0117ddc493\" y=\"37.212484\"/>\n     </g>\n    </g>\n    <g id=\"text_25\">\n     <!-- Data -->\n     <defs>\n      <path d=\"M 19.671875 64.796875 \nL 19.671875 8.109375 \nL 31.59375 8.109375 \nQ 46.6875 8.109375 53.6875 14.9375 \nQ 60.6875 21.78125 60.6875 36.53125 \nQ 60.6875 51.171875 53.6875 57.984375 \nQ 46.6875 64.796875 31.59375 64.796875 \nz\nM 9.8125 72.90625 \nL 30.078125 72.90625 \nQ 51.265625 72.90625 61.171875 64.09375 \nQ 71.09375 55.28125 71.09375 36.53125 \nQ 71.09375 17.671875 61.125 8.828125 \nQ 51.171875 0 30.078125 0 \nL 9.8125 0 \nz\n\" id=\"DejaVuSans-68\"/>\n     </defs>\n     <g transform=\"translate(369.570369 40.712484)scale(0.1 -0.1)\">\n      <use xlink:href=\"#DejaVuSans-68\"/>\n      <use x=\"77.001953\" xlink:href=\"#DejaVuSans-97\"/>\n      <use x=\"138.28125\" xlink:href=\"#DejaVuSans-116\"/>\n      <use x=\"177.490234\" xlink:href=\"#DejaVuSans-97\"/>\n     </g>\n    </g>\n   </g>\n  </g>\n </g>\n <defs>\n  <clipPath id=\"p42aad80218\">\n   <rect height=\"225.588223\" width=\"336.403494\" x=\"70.31375\" y=\"9.435921\"/>\n  </clipPath>\n </defs>\n</svg>\n"
          },
          "metadata": {
            "tags": []
          }
        }
      ]
    },
    {
      "cell_type": "markdown",
      "metadata": {
        "id": "ZUZOxum6r9Q1"
      },
      "source": [
        "## おわりに\n",
        "\n",
        "- 本資料では、プログラミング言語「Python」を用い、いくつかの放射線科学の概念について説明した。\n",
        "- 本資料を通して、放射線、Python、IT技術に興味を持っていただけたら嬉しく思います。"
      ]
    }
  ]
}